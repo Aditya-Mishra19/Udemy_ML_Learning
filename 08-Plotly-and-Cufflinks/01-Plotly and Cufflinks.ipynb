{
 "cells": [
  {
   "cell_type": "markdown",
   "metadata": {},
   "source": [
    "___\n",
    "\n",
    "<a href='http://www.pieriandata.com'> <img src='../Pierian_Data_Logo.png' /></a>\n",
    "___\n",
    "# Plotly and Cufflinks"
   ]
  },
  {
   "cell_type": "markdown",
   "metadata": {},
   "source": [
    "Plotly is a library that allows you to create interactive plots that you can use in dashboards or websites (you can save them as html files or static images).\n",
    "\n",
    "## Installation\n",
    "\n",
    "In order for this all to work, you'll need to install plotly and cufflinks to call plots directly off of a pandas dataframe. These libraries are not currently available through **conda** but are available through **pip**. Install the libraries at your command line/terminal using:\n",
    "\n",
    "    pip install plotly\n",
    "    pip install cufflinks\n",
    "\n",
    "** NOTE: Make sure you only have one installation of Python on your computer when you do this, otherwise the installation may not work. **\n",
    "\n",
    "## Imports and Set-up"
   ]
  },
  {
   "cell_type": "code",
   "execution_count": 1,
   "metadata": {},
   "outputs": [],
   "source": [
    "import pandas as pd\n",
    "import numpy as np\n",
    "%matplotlib inline"
   ]
  },
  {
   "cell_type": "code",
   "execution_count": 2,
   "metadata": {},
   "outputs": [
    {
     "name": "stdout",
     "output_type": "stream",
     "text": [
      "4.11.0\n"
     ]
    }
   ],
   "source": [
    "from plotly import __version__\n",
    "from plotly.offline import download_plotlyjs, init_notebook_mode, plot, iplot\n",
    "\n",
    "print(__version__) # requires version >= 1.9.0"
   ]
  },
  {
   "cell_type": "code",
   "execution_count": 3,
   "metadata": {},
   "outputs": [],
   "source": [
    "import cufflinks as cf"
   ]
  },
  {
   "cell_type": "code",
   "execution_count": 4,
   "metadata": {},
   "outputs": [
    {
     "data": {
      "text/html": [
       "        <script type=\"text/javascript\">\n",
       "        window.PlotlyConfig = {MathJaxConfig: 'local'};\n",
       "        if (window.MathJax) {MathJax.Hub.Config({SVG: {font: \"STIX-Web\"}});}\n",
       "        if (typeof require !== 'undefined') {\n",
       "        require.undef(\"plotly\");\n",
       "        requirejs.config({\n",
       "            paths: {\n",
       "                'plotly': ['https://cdn.plot.ly/plotly-latest.min']\n",
       "            }\n",
       "        });\n",
       "        require(['plotly'], function(Plotly) {\n",
       "            window._Plotly = Plotly;\n",
       "        });\n",
       "        }\n",
       "        </script>\n",
       "        "
      ]
     },
     "metadata": {},
     "output_type": "display_data"
    }
   ],
   "source": [
    "# For Notebooks\n",
    "init_notebook_mode(connected=True)"
   ]
  },
  {
   "cell_type": "code",
   "execution_count": 5,
   "metadata": {},
   "outputs": [
    {
     "data": {
      "text/html": [
       "        <script type=\"text/javascript\">\n",
       "        window.PlotlyConfig = {MathJaxConfig: 'local'};\n",
       "        if (window.MathJax) {MathJax.Hub.Config({SVG: {font: \"STIX-Web\"}});}\n",
       "        if (typeof require !== 'undefined') {\n",
       "        require.undef(\"plotly\");\n",
       "        requirejs.config({\n",
       "            paths: {\n",
       "                'plotly': ['https://cdn.plot.ly/plotly-latest.min']\n",
       "            }\n",
       "        });\n",
       "        require(['plotly'], function(Plotly) {\n",
       "            window._Plotly = Plotly;\n",
       "        });\n",
       "        }\n",
       "        </script>\n",
       "        "
      ]
     },
     "metadata": {},
     "output_type": "display_data"
    }
   ],
   "source": [
    "# For offline use\n",
    "cf.go_offline()"
   ]
  },
  {
   "cell_type": "markdown",
   "metadata": {},
   "source": [
    "### Fake Data"
   ]
  },
  {
   "cell_type": "code",
   "execution_count": 6,
   "metadata": {},
   "outputs": [],
   "source": [
    "df = pd.DataFrame(np.random.randn(100,4),columns='A B C D'.split())"
   ]
  },
  {
   "cell_type": "code",
   "execution_count": 7,
   "metadata": {},
   "outputs": [
    {
     "data": {
      "text/html": [
       "<div>\n",
       "<style scoped>\n",
       "    .dataframe tbody tr th:only-of-type {\n",
       "        vertical-align: middle;\n",
       "    }\n",
       "\n",
       "    .dataframe tbody tr th {\n",
       "        vertical-align: top;\n",
       "    }\n",
       "\n",
       "    .dataframe thead th {\n",
       "        text-align: right;\n",
       "    }\n",
       "</style>\n",
       "<table border=\"1\" class=\"dataframe\">\n",
       "  <thead>\n",
       "    <tr style=\"text-align: right;\">\n",
       "      <th></th>\n",
       "      <th>A</th>\n",
       "      <th>B</th>\n",
       "      <th>C</th>\n",
       "      <th>D</th>\n",
       "    </tr>\n",
       "  </thead>\n",
       "  <tbody>\n",
       "    <tr>\n",
       "      <th>0</th>\n",
       "      <td>-1.535535</td>\n",
       "      <td>0.447354</td>\n",
       "      <td>-1.373813</td>\n",
       "      <td>-1.027473</td>\n",
       "    </tr>\n",
       "    <tr>\n",
       "      <th>1</th>\n",
       "      <td>-1.052753</td>\n",
       "      <td>-0.750868</td>\n",
       "      <td>-0.331548</td>\n",
       "      <td>0.023637</td>\n",
       "    </tr>\n",
       "    <tr>\n",
       "      <th>2</th>\n",
       "      <td>1.065192</td>\n",
       "      <td>0.184804</td>\n",
       "      <td>0.533815</td>\n",
       "      <td>-0.682454</td>\n",
       "    </tr>\n",
       "    <tr>\n",
       "      <th>3</th>\n",
       "      <td>-0.356939</td>\n",
       "      <td>1.036858</td>\n",
       "      <td>0.460899</td>\n",
       "      <td>0.783734</td>\n",
       "    </tr>\n",
       "    <tr>\n",
       "      <th>4</th>\n",
       "      <td>-1.298014</td>\n",
       "      <td>-1.043242</td>\n",
       "      <td>-0.213790</td>\n",
       "      <td>-0.075150</td>\n",
       "    </tr>\n",
       "  </tbody>\n",
       "</table>\n",
       "</div>"
      ],
      "text/plain": [
       "          A         B         C         D\n",
       "0 -1.535535  0.447354 -1.373813 -1.027473\n",
       "1 -1.052753 -0.750868 -0.331548  0.023637\n",
       "2  1.065192  0.184804  0.533815 -0.682454\n",
       "3 -0.356939  1.036858  0.460899  0.783734\n",
       "4 -1.298014 -1.043242 -0.213790 -0.075150"
      ]
     },
     "execution_count": 7,
     "metadata": {},
     "output_type": "execute_result"
    }
   ],
   "source": [
    "df.head()"
   ]
  },
  {
   "cell_type": "code",
   "execution_count": 8,
   "metadata": {},
   "outputs": [],
   "source": [
    "df2 = pd.DataFrame({'Category':['A','B','C'],'Values':[32,43,50]})"
   ]
  },
  {
   "cell_type": "code",
   "execution_count": 9,
   "metadata": {},
   "outputs": [
    {
     "data": {
      "text/html": [
       "<div>\n",
       "<style scoped>\n",
       "    .dataframe tbody tr th:only-of-type {\n",
       "        vertical-align: middle;\n",
       "    }\n",
       "\n",
       "    .dataframe tbody tr th {\n",
       "        vertical-align: top;\n",
       "    }\n",
       "\n",
       "    .dataframe thead th {\n",
       "        text-align: right;\n",
       "    }\n",
       "</style>\n",
       "<table border=\"1\" class=\"dataframe\">\n",
       "  <thead>\n",
       "    <tr style=\"text-align: right;\">\n",
       "      <th></th>\n",
       "      <th>Category</th>\n",
       "      <th>Values</th>\n",
       "    </tr>\n",
       "  </thead>\n",
       "  <tbody>\n",
       "    <tr>\n",
       "      <th>0</th>\n",
       "      <td>A</td>\n",
       "      <td>32</td>\n",
       "    </tr>\n",
       "    <tr>\n",
       "      <th>1</th>\n",
       "      <td>B</td>\n",
       "      <td>43</td>\n",
       "    </tr>\n",
       "    <tr>\n",
       "      <th>2</th>\n",
       "      <td>C</td>\n",
       "      <td>50</td>\n",
       "    </tr>\n",
       "  </tbody>\n",
       "</table>\n",
       "</div>"
      ],
      "text/plain": [
       "  Category  Values\n",
       "0        A      32\n",
       "1        B      43\n",
       "2        C      50"
      ]
     },
     "execution_count": 9,
     "metadata": {},
     "output_type": "execute_result"
    }
   ],
   "source": [
    "df2.head()"
   ]
  },
  {
   "cell_type": "markdown",
   "metadata": {},
   "source": [
    "## Using Cufflinks and iplot()\n",
    "\n",
    "* scatter\n",
    "* bar\n",
    "* box\n",
    "* spread\n",
    "* ratio\n",
    "* heatmap\n",
    "* surface\n",
    "* histogram\n",
    "* bubble"
   ]
  },
  {
   "cell_type": "markdown",
   "metadata": {},
   "source": [
    "## Scatter"
   ]
  },
  {
   "cell_type": "code",
   "execution_count": 10,
   "metadata": {},
   "outputs": [
    {
     "data": {
      "application/vnd.plotly.v1+json": {
       "config": {
        "linkText": "Export to plot.ly",
        "plotlyServerURL": "https://plot.ly",
        "showLink": true
       },
       "data": [
        {
         "line": {
          "color": "rgba(255, 153, 51, 1.0)",
          "dash": "solid",
          "shape": "linear",
          "width": 1.3
         },
         "marker": {
          "size": 10,
          "symbol": "circle"
         },
         "mode": "markers",
         "name": "B",
         "text": "",
         "type": "scatter",
         "x": [
          -1.5355354192230586,
          -1.0527533192824858,
          1.0651922435485306,
          -0.3569392648813912,
          -1.2980144850988753,
          0.4979310577149322,
          0.5901952780313333,
          2.2774192822713237,
          -0.21876345827157676,
          -1.3349125647531113,
          -0.22055827664732808,
          0.7293643918751058,
          1.3259697709398004,
          -1.3720675861464693,
          1.7686765997019345,
          -0.21278705743547888,
          0.5621565488693779,
          -0.3792433474006059,
          -0.6750765094602391,
          -1.1845114394252805,
          -0.04649534177230828,
          1.1495256182501377,
          -0.41816004179319194,
          -1.0239481102629837,
          0.9946927964952956,
          0.6052416074897078,
          -1.9151632304247237,
          -0.3403894901650628,
          -0.4537997371869349,
          -0.7397293859495888,
          -0.9253789977904611,
          1.601930601973586,
          -1.4650826388661842,
          0.5270957520989601,
          -1.180253879455318,
          0.6850387941860184,
          -0.3678223463530502,
          -0.30500706501587305,
          -0.5542070516960862,
          -1.4312224043373811,
          -0.1848981571335127,
          0.6206299218949423,
          -1.0367501124402183,
          -1.0595095262876875,
          1.2105069014091077,
          0.5051738136010172,
          0.47177060342443633,
          -0.8144767662360516,
          0.11560223236678412,
          -1.8004185138809787,
          1.1576067690845295,
          0.5870612302887921,
          -1.2727449517938831,
          -0.3406361971233455,
          1.0983528236620699,
          0.49739189471308093,
          0.7647466281588152,
          2.1408660174962026,
          0.5061816115949632,
          0.120177007037446,
          -0.2712416900133294,
          -0.40368260942789297,
          -0.21235062677455707,
          0.9566608507041349,
          -0.592846919794081,
          0.9416099029137102,
          -0.13030336454300231,
          -0.4912598770441894,
          -0.0556549547985368,
          0.9901139892278719,
          -0.14111330498012714,
          -0.5733355116267539,
          -0.9446232149514938,
          1.4042766106007183,
          -0.7046212552212995,
          -0.3206051538056349,
          -0.4756918981281842,
          -1.2681053547018966,
          -0.47397096250784604,
          0.34213108483355736,
          -1.1842372349810686,
          -1.1458192389317712,
          -1.2557624556630214,
          1.5501458563898547,
          -0.08616993227352977,
          -0.06300453186192329,
          0.003078698431574541,
          0.35152717580520365,
          0.4241210560491202,
          -2.9474968859825985,
          -0.019618922077270073,
          1.7521003147708671,
          1.4658803481569689,
          0.7900509900134237,
          0.2829821582586573,
          -0.05612046663179397,
          0.10448201357335772,
          0.10872292715876054,
          -1.9192126781078032,
          -1.7708965409979374
         ],
         "y": [
          0.44735427314727433,
          -0.7508676450145815,
          0.18480434357317638,
          1.036858322212885,
          -1.043241632500722,
          -0.8413278507817418,
          0.6558618794274739,
          0.5547624862355806,
          0.6951192553620779,
          1.2726390156513538,
          -1.0680701829108734,
          1.2342808921384112,
          -1.1770818873863,
          -0.05976217213720838,
          0.9628980396633287,
          -0.8901404178495665,
          -1.1149508423060148,
          -2.019268938013942,
          0.4045080210400765,
          0.9774315118014983,
          0.8823158393243271,
          -0.043892028650077755,
          -2.316995693382531,
          0.4824470912200743,
          0.6564093759271757,
          -0.3101323506764711,
          0.629675064442062,
          -0.01929264505742492,
          -0.5956332881663199,
          -0.37341864927398605,
          -0.3955603284516065,
          -0.43505004152181065,
          0.5351401117646758,
          -0.1026937541843101,
          1.4395671391316562,
          -0.8599186484811995,
          0.6694451179627202,
          1.1286626566501965,
          2.063900225407397,
          -0.9295699324300545,
          0.17986704216835986,
          -0.5912237439296492,
          0.10630993675686522,
          -0.812945654755612,
          -0.34896555934775925,
          -0.553821590107099,
          0.6948002006257248,
          0.24073423241409353,
          0.3534901314589533,
          0.4686033082769145,
          -0.31373165877423215,
          -0.7114395884089332,
          -0.6409387157834656,
          0.4500016803540507,
          0.21711326404288983,
          -0.018069262949005942,
          0.6533802428552622,
          2.7828377337588623,
          1.5427776839709029,
          -0.1368525036344999,
          1.157314574619203,
          0.08968142121865062,
          1.0250856504271342,
          -1.9498605017780728,
          0.14600612105419417,
          1.3459243558586542,
          2.06593462275695,
          0.42818100775719403,
          1.3838953490438173,
          0.4734834155141974,
          -1.011243590326672,
          0.11941076540907923,
          0.4210363473429892,
          -1.480006232120809,
          1.8917742903441508,
          0.6887241945908786,
          1.5305407582805401,
          1.8528719094913844,
          2.0161692177771444,
          -0.49914963074557095,
          0.006967052436891432,
          -0.6449582167389107,
          -0.012249603523494667,
          0.5460881067575699,
          -0.10795163655635079,
          -2.37755617157348,
          -0.684219199300508,
          -1.242862178273611,
          2.153969226489427,
          -0.24502072610151426,
          0.8046263790364315,
          0.5406306107809049,
          -0.033216951156400706,
          -0.43847955592322213,
          -0.7124046913765233,
          -2.0170961431160714,
          0.6618154709573927,
          1.2054316613067024,
          -1.7938465004014814,
          -0.23658857048597437
         ]
        }
       ],
       "layout": {
        "legend": {
         "bgcolor": "#F5F6F9",
         "font": {
          "color": "#4D5663"
         }
        },
        "paper_bgcolor": "#F5F6F9",
        "plot_bgcolor": "#F5F6F9",
        "template": {
         "data": {
          "bar": [
           {
            "error_x": {
             "color": "#2a3f5f"
            },
            "error_y": {
             "color": "#2a3f5f"
            },
            "marker": {
             "line": {
              "color": "#E5ECF6",
              "width": 0.5
             }
            },
            "type": "bar"
           }
          ],
          "barpolar": [
           {
            "marker": {
             "line": {
              "color": "#E5ECF6",
              "width": 0.5
             }
            },
            "type": "barpolar"
           }
          ],
          "carpet": [
           {
            "aaxis": {
             "endlinecolor": "#2a3f5f",
             "gridcolor": "white",
             "linecolor": "white",
             "minorgridcolor": "white",
             "startlinecolor": "#2a3f5f"
            },
            "baxis": {
             "endlinecolor": "#2a3f5f",
             "gridcolor": "white",
             "linecolor": "white",
             "minorgridcolor": "white",
             "startlinecolor": "#2a3f5f"
            },
            "type": "carpet"
           }
          ],
          "choropleth": [
           {
            "colorbar": {
             "outlinewidth": 0,
             "ticks": ""
            },
            "type": "choropleth"
           }
          ],
          "contour": [
           {
            "colorbar": {
             "outlinewidth": 0,
             "ticks": ""
            },
            "colorscale": [
             [
              0,
              "#0d0887"
             ],
             [
              0.1111111111111111,
              "#46039f"
             ],
             [
              0.2222222222222222,
              "#7201a8"
             ],
             [
              0.3333333333333333,
              "#9c179e"
             ],
             [
              0.4444444444444444,
              "#bd3786"
             ],
             [
              0.5555555555555556,
              "#d8576b"
             ],
             [
              0.6666666666666666,
              "#ed7953"
             ],
             [
              0.7777777777777778,
              "#fb9f3a"
             ],
             [
              0.8888888888888888,
              "#fdca26"
             ],
             [
              1,
              "#f0f921"
             ]
            ],
            "type": "contour"
           }
          ],
          "contourcarpet": [
           {
            "colorbar": {
             "outlinewidth": 0,
             "ticks": ""
            },
            "type": "contourcarpet"
           }
          ],
          "heatmap": [
           {
            "colorbar": {
             "outlinewidth": 0,
             "ticks": ""
            },
            "colorscale": [
             [
              0,
              "#0d0887"
             ],
             [
              0.1111111111111111,
              "#46039f"
             ],
             [
              0.2222222222222222,
              "#7201a8"
             ],
             [
              0.3333333333333333,
              "#9c179e"
             ],
             [
              0.4444444444444444,
              "#bd3786"
             ],
             [
              0.5555555555555556,
              "#d8576b"
             ],
             [
              0.6666666666666666,
              "#ed7953"
             ],
             [
              0.7777777777777778,
              "#fb9f3a"
             ],
             [
              0.8888888888888888,
              "#fdca26"
             ],
             [
              1,
              "#f0f921"
             ]
            ],
            "type": "heatmap"
           }
          ],
          "heatmapgl": [
           {
            "colorbar": {
             "outlinewidth": 0,
             "ticks": ""
            },
            "colorscale": [
             [
              0,
              "#0d0887"
             ],
             [
              0.1111111111111111,
              "#46039f"
             ],
             [
              0.2222222222222222,
              "#7201a8"
             ],
             [
              0.3333333333333333,
              "#9c179e"
             ],
             [
              0.4444444444444444,
              "#bd3786"
             ],
             [
              0.5555555555555556,
              "#d8576b"
             ],
             [
              0.6666666666666666,
              "#ed7953"
             ],
             [
              0.7777777777777778,
              "#fb9f3a"
             ],
             [
              0.8888888888888888,
              "#fdca26"
             ],
             [
              1,
              "#f0f921"
             ]
            ],
            "type": "heatmapgl"
           }
          ],
          "histogram": [
           {
            "marker": {
             "colorbar": {
              "outlinewidth": 0,
              "ticks": ""
             }
            },
            "type": "histogram"
           }
          ],
          "histogram2d": [
           {
            "colorbar": {
             "outlinewidth": 0,
             "ticks": ""
            },
            "colorscale": [
             [
              0,
              "#0d0887"
             ],
             [
              0.1111111111111111,
              "#46039f"
             ],
             [
              0.2222222222222222,
              "#7201a8"
             ],
             [
              0.3333333333333333,
              "#9c179e"
             ],
             [
              0.4444444444444444,
              "#bd3786"
             ],
             [
              0.5555555555555556,
              "#d8576b"
             ],
             [
              0.6666666666666666,
              "#ed7953"
             ],
             [
              0.7777777777777778,
              "#fb9f3a"
             ],
             [
              0.8888888888888888,
              "#fdca26"
             ],
             [
              1,
              "#f0f921"
             ]
            ],
            "type": "histogram2d"
           }
          ],
          "histogram2dcontour": [
           {
            "colorbar": {
             "outlinewidth": 0,
             "ticks": ""
            },
            "colorscale": [
             [
              0,
              "#0d0887"
             ],
             [
              0.1111111111111111,
              "#46039f"
             ],
             [
              0.2222222222222222,
              "#7201a8"
             ],
             [
              0.3333333333333333,
              "#9c179e"
             ],
             [
              0.4444444444444444,
              "#bd3786"
             ],
             [
              0.5555555555555556,
              "#d8576b"
             ],
             [
              0.6666666666666666,
              "#ed7953"
             ],
             [
              0.7777777777777778,
              "#fb9f3a"
             ],
             [
              0.8888888888888888,
              "#fdca26"
             ],
             [
              1,
              "#f0f921"
             ]
            ],
            "type": "histogram2dcontour"
           }
          ],
          "mesh3d": [
           {
            "colorbar": {
             "outlinewidth": 0,
             "ticks": ""
            },
            "type": "mesh3d"
           }
          ],
          "parcoords": [
           {
            "line": {
             "colorbar": {
              "outlinewidth": 0,
              "ticks": ""
             }
            },
            "type": "parcoords"
           }
          ],
          "pie": [
           {
            "automargin": true,
            "type": "pie"
           }
          ],
          "scatter": [
           {
            "marker": {
             "colorbar": {
              "outlinewidth": 0,
              "ticks": ""
             }
            },
            "type": "scatter"
           }
          ],
          "scatter3d": [
           {
            "line": {
             "colorbar": {
              "outlinewidth": 0,
              "ticks": ""
             }
            },
            "marker": {
             "colorbar": {
              "outlinewidth": 0,
              "ticks": ""
             }
            },
            "type": "scatter3d"
           }
          ],
          "scattercarpet": [
           {
            "marker": {
             "colorbar": {
              "outlinewidth": 0,
              "ticks": ""
             }
            },
            "type": "scattercarpet"
           }
          ],
          "scattergeo": [
           {
            "marker": {
             "colorbar": {
              "outlinewidth": 0,
              "ticks": ""
             }
            },
            "type": "scattergeo"
           }
          ],
          "scattergl": [
           {
            "marker": {
             "colorbar": {
              "outlinewidth": 0,
              "ticks": ""
             }
            },
            "type": "scattergl"
           }
          ],
          "scattermapbox": [
           {
            "marker": {
             "colorbar": {
              "outlinewidth": 0,
              "ticks": ""
             }
            },
            "type": "scattermapbox"
           }
          ],
          "scatterpolar": [
           {
            "marker": {
             "colorbar": {
              "outlinewidth": 0,
              "ticks": ""
             }
            },
            "type": "scatterpolar"
           }
          ],
          "scatterpolargl": [
           {
            "marker": {
             "colorbar": {
              "outlinewidth": 0,
              "ticks": ""
             }
            },
            "type": "scatterpolargl"
           }
          ],
          "scatterternary": [
           {
            "marker": {
             "colorbar": {
              "outlinewidth": 0,
              "ticks": ""
             }
            },
            "type": "scatterternary"
           }
          ],
          "surface": [
           {
            "colorbar": {
             "outlinewidth": 0,
             "ticks": ""
            },
            "colorscale": [
             [
              0,
              "#0d0887"
             ],
             [
              0.1111111111111111,
              "#46039f"
             ],
             [
              0.2222222222222222,
              "#7201a8"
             ],
             [
              0.3333333333333333,
              "#9c179e"
             ],
             [
              0.4444444444444444,
              "#bd3786"
             ],
             [
              0.5555555555555556,
              "#d8576b"
             ],
             [
              0.6666666666666666,
              "#ed7953"
             ],
             [
              0.7777777777777778,
              "#fb9f3a"
             ],
             [
              0.8888888888888888,
              "#fdca26"
             ],
             [
              1,
              "#f0f921"
             ]
            ],
            "type": "surface"
           }
          ],
          "table": [
           {
            "cells": {
             "fill": {
              "color": "#EBF0F8"
             },
             "line": {
              "color": "white"
             }
            },
            "header": {
             "fill": {
              "color": "#C8D4E3"
             },
             "line": {
              "color": "white"
             }
            },
            "type": "table"
           }
          ]
         },
         "layout": {
          "annotationdefaults": {
           "arrowcolor": "#2a3f5f",
           "arrowhead": 0,
           "arrowwidth": 1
          },
          "coloraxis": {
           "colorbar": {
            "outlinewidth": 0,
            "ticks": ""
           }
          },
          "colorscale": {
           "diverging": [
            [
             0,
             "#8e0152"
            ],
            [
             0.1,
             "#c51b7d"
            ],
            [
             0.2,
             "#de77ae"
            ],
            [
             0.3,
             "#f1b6da"
            ],
            [
             0.4,
             "#fde0ef"
            ],
            [
             0.5,
             "#f7f7f7"
            ],
            [
             0.6,
             "#e6f5d0"
            ],
            [
             0.7,
             "#b8e186"
            ],
            [
             0.8,
             "#7fbc41"
            ],
            [
             0.9,
             "#4d9221"
            ],
            [
             1,
             "#276419"
            ]
           ],
           "sequential": [
            [
             0,
             "#0d0887"
            ],
            [
             0.1111111111111111,
             "#46039f"
            ],
            [
             0.2222222222222222,
             "#7201a8"
            ],
            [
             0.3333333333333333,
             "#9c179e"
            ],
            [
             0.4444444444444444,
             "#bd3786"
            ],
            [
             0.5555555555555556,
             "#d8576b"
            ],
            [
             0.6666666666666666,
             "#ed7953"
            ],
            [
             0.7777777777777778,
             "#fb9f3a"
            ],
            [
             0.8888888888888888,
             "#fdca26"
            ],
            [
             1,
             "#f0f921"
            ]
           ],
           "sequentialminus": [
            [
             0,
             "#0d0887"
            ],
            [
             0.1111111111111111,
             "#46039f"
            ],
            [
             0.2222222222222222,
             "#7201a8"
            ],
            [
             0.3333333333333333,
             "#9c179e"
            ],
            [
             0.4444444444444444,
             "#bd3786"
            ],
            [
             0.5555555555555556,
             "#d8576b"
            ],
            [
             0.6666666666666666,
             "#ed7953"
            ],
            [
             0.7777777777777778,
             "#fb9f3a"
            ],
            [
             0.8888888888888888,
             "#fdca26"
            ],
            [
             1,
             "#f0f921"
            ]
           ]
          },
          "colorway": [
           "#636efa",
           "#EF553B",
           "#00cc96",
           "#ab63fa",
           "#FFA15A",
           "#19d3f3",
           "#FF6692",
           "#B6E880",
           "#FF97FF",
           "#FECB52"
          ],
          "font": {
           "color": "#2a3f5f"
          },
          "geo": {
           "bgcolor": "white",
           "lakecolor": "white",
           "landcolor": "#E5ECF6",
           "showlakes": true,
           "showland": true,
           "subunitcolor": "white"
          },
          "hoverlabel": {
           "align": "left"
          },
          "hovermode": "closest",
          "mapbox": {
           "style": "light"
          },
          "paper_bgcolor": "white",
          "plot_bgcolor": "#E5ECF6",
          "polar": {
           "angularaxis": {
            "gridcolor": "white",
            "linecolor": "white",
            "ticks": ""
           },
           "bgcolor": "#E5ECF6",
           "radialaxis": {
            "gridcolor": "white",
            "linecolor": "white",
            "ticks": ""
           }
          },
          "scene": {
           "xaxis": {
            "backgroundcolor": "#E5ECF6",
            "gridcolor": "white",
            "gridwidth": 2,
            "linecolor": "white",
            "showbackground": true,
            "ticks": "",
            "zerolinecolor": "white"
           },
           "yaxis": {
            "backgroundcolor": "#E5ECF6",
            "gridcolor": "white",
            "gridwidth": 2,
            "linecolor": "white",
            "showbackground": true,
            "ticks": "",
            "zerolinecolor": "white"
           },
           "zaxis": {
            "backgroundcolor": "#E5ECF6",
            "gridcolor": "white",
            "gridwidth": 2,
            "linecolor": "white",
            "showbackground": true,
            "ticks": "",
            "zerolinecolor": "white"
           }
          },
          "shapedefaults": {
           "line": {
            "color": "#2a3f5f"
           }
          },
          "ternary": {
           "aaxis": {
            "gridcolor": "white",
            "linecolor": "white",
            "ticks": ""
           },
           "baxis": {
            "gridcolor": "white",
            "linecolor": "white",
            "ticks": ""
           },
           "bgcolor": "#E5ECF6",
           "caxis": {
            "gridcolor": "white",
            "linecolor": "white",
            "ticks": ""
           }
          },
          "title": {
           "x": 0.05
          },
          "xaxis": {
           "automargin": true,
           "gridcolor": "white",
           "linecolor": "white",
           "ticks": "",
           "title": {
            "standoff": 15
           },
           "zerolinecolor": "white",
           "zerolinewidth": 2
          },
          "yaxis": {
           "automargin": true,
           "gridcolor": "white",
           "linecolor": "white",
           "ticks": "",
           "title": {
            "standoff": 15
           },
           "zerolinecolor": "white",
           "zerolinewidth": 2
          }
         }
        },
        "title": {
         "font": {
          "color": "#4D5663"
         }
        },
        "xaxis": {
         "gridcolor": "#E1E5ED",
         "showgrid": true,
         "tickfont": {
          "color": "#4D5663"
         },
         "title": {
          "font": {
           "color": "#4D5663"
          },
          "text": ""
         },
         "zerolinecolor": "#E1E5ED"
        },
        "yaxis": {
         "gridcolor": "#E1E5ED",
         "showgrid": true,
         "tickfont": {
          "color": "#4D5663"
         },
         "title": {
          "font": {
           "color": "#4D5663"
          },
          "text": ""
         },
         "zerolinecolor": "#E1E5ED"
        }
       }
      },
      "text/html": [
       "<div>                            <div id=\"c1a9d48c-5998-422f-98a4-8fff1d659445\" class=\"plotly-graph-div\" style=\"height:525px; width:100%;\"></div>            <script type=\"text/javascript\">                require([\"plotly\"], function(Plotly) {                    window.PLOTLYENV=window.PLOTLYENV || {};\n",
       "                    window.PLOTLYENV.BASE_URL='https://plot.ly';                                    if (document.getElementById(\"c1a9d48c-5998-422f-98a4-8fff1d659445\")) {                    Plotly.newPlot(                        \"c1a9d48c-5998-422f-98a4-8fff1d659445\",                        [{\"line\": {\"color\": \"rgba(255, 153, 51, 1.0)\", \"dash\": \"solid\", \"shape\": \"linear\", \"width\": 1.3}, \"marker\": {\"size\": 10, \"symbol\": \"circle\"}, \"mode\": \"markers\", \"name\": \"B\", \"text\": \"\", \"type\": \"scatter\", \"x\": [-1.5355354192230586, -1.0527533192824858, 1.0651922435485306, -0.3569392648813912, -1.2980144850988753, 0.4979310577149322, 0.5901952780313333, 2.2774192822713237, -0.21876345827157676, -1.3349125647531113, -0.22055827664732808, 0.7293643918751058, 1.3259697709398004, -1.3720675861464693, 1.7686765997019345, -0.21278705743547888, 0.5621565488693779, -0.3792433474006059, -0.6750765094602391, -1.1845114394252805, -0.04649534177230828, 1.1495256182501377, -0.41816004179319194, -1.0239481102629837, 0.9946927964952956, 0.6052416074897078, -1.9151632304247237, -0.3403894901650628, -0.4537997371869349, -0.7397293859495888, -0.9253789977904611, 1.601930601973586, -1.4650826388661842, 0.5270957520989601, -1.180253879455318, 0.6850387941860184, -0.3678223463530502, -0.30500706501587305, -0.5542070516960862, -1.4312224043373811, -0.1848981571335127, 0.6206299218949423, -1.0367501124402183, -1.0595095262876875, 1.2105069014091077, 0.5051738136010172, 0.47177060342443633, -0.8144767662360516, 0.11560223236678412, -1.8004185138809787, 1.1576067690845295, 0.5870612302887921, -1.2727449517938831, -0.3406361971233455, 1.0983528236620699, 0.49739189471308093, 0.7647466281588152, 2.1408660174962026, 0.5061816115949632, 0.120177007037446, -0.2712416900133294, -0.40368260942789297, -0.21235062677455707, 0.9566608507041349, -0.592846919794081, 0.9416099029137102, -0.13030336454300231, -0.4912598770441894, -0.0556549547985368, 0.9901139892278719, -0.14111330498012714, -0.5733355116267539, -0.9446232149514938, 1.4042766106007183, -0.7046212552212995, -0.3206051538056349, -0.4756918981281842, -1.2681053547018966, -0.47397096250784604, 0.34213108483355736, -1.1842372349810686, -1.1458192389317712, -1.2557624556630214, 1.5501458563898547, -0.08616993227352977, -0.06300453186192329, 0.003078698431574541, 0.35152717580520365, 0.4241210560491202, -2.9474968859825985, -0.019618922077270073, 1.7521003147708671, 1.4658803481569689, 0.7900509900134237, 0.2829821582586573, -0.05612046663179397, 0.10448201357335772, 0.10872292715876054, -1.9192126781078032, -1.7708965409979374], \"y\": [0.44735427314727433, -0.7508676450145815, 0.18480434357317638, 1.036858322212885, -1.043241632500722, -0.8413278507817418, 0.6558618794274739, 0.5547624862355806, 0.6951192553620779, 1.2726390156513538, -1.0680701829108734, 1.2342808921384112, -1.1770818873863, -0.05976217213720838, 0.9628980396633287, -0.8901404178495665, -1.1149508423060148, -2.019268938013942, 0.4045080210400765, 0.9774315118014983, 0.8823158393243271, -0.043892028650077755, -2.316995693382531, 0.4824470912200743, 0.6564093759271757, -0.3101323506764711, 0.629675064442062, -0.01929264505742492, -0.5956332881663199, -0.37341864927398605, -0.3955603284516065, -0.43505004152181065, 0.5351401117646758, -0.1026937541843101, 1.4395671391316562, -0.8599186484811995, 0.6694451179627202, 1.1286626566501965, 2.063900225407397, -0.9295699324300545, 0.17986704216835986, -0.5912237439296492, 0.10630993675686522, -0.812945654755612, -0.34896555934775925, -0.553821590107099, 0.6948002006257248, 0.24073423241409353, 0.3534901314589533, 0.4686033082769145, -0.31373165877423215, -0.7114395884089332, -0.6409387157834656, 0.4500016803540507, 0.21711326404288983, -0.018069262949005942, 0.6533802428552622, 2.7828377337588623, 1.5427776839709029, -0.1368525036344999, 1.157314574619203, 0.08968142121865062, 1.0250856504271342, -1.9498605017780728, 0.14600612105419417, 1.3459243558586542, 2.06593462275695, 0.42818100775719403, 1.3838953490438173, 0.4734834155141974, -1.011243590326672, 0.11941076540907923, 0.4210363473429892, -1.480006232120809, 1.8917742903441508, 0.6887241945908786, 1.5305407582805401, 1.8528719094913844, 2.0161692177771444, -0.49914963074557095, 0.006967052436891432, -0.6449582167389107, -0.012249603523494667, 0.5460881067575699, -0.10795163655635079, -2.37755617157348, -0.684219199300508, -1.242862178273611, 2.153969226489427, -0.24502072610151426, 0.8046263790364315, 0.5406306107809049, -0.033216951156400706, -0.43847955592322213, -0.7124046913765233, -2.0170961431160714, 0.6618154709573927, 1.2054316613067024, -1.7938465004014814, -0.23658857048597437]}],                        {\"legend\": {\"bgcolor\": \"#F5F6F9\", \"font\": {\"color\": \"#4D5663\"}}, \"paper_bgcolor\": \"#F5F6F9\", \"plot_bgcolor\": \"#F5F6F9\", \"template\": {\"data\": {\"bar\": [{\"error_x\": {\"color\": \"#2a3f5f\"}, \"error_y\": {\"color\": \"#2a3f5f\"}, \"marker\": {\"line\": {\"color\": \"#E5ECF6\", \"width\": 0.5}}, \"type\": \"bar\"}], \"barpolar\": [{\"marker\": {\"line\": {\"color\": \"#E5ECF6\", \"width\": 0.5}}, \"type\": \"barpolar\"}], \"carpet\": [{\"aaxis\": {\"endlinecolor\": \"#2a3f5f\", \"gridcolor\": \"white\", \"linecolor\": \"white\", \"minorgridcolor\": \"white\", \"startlinecolor\": \"#2a3f5f\"}, \"baxis\": {\"endlinecolor\": \"#2a3f5f\", \"gridcolor\": \"white\", \"linecolor\": \"white\", \"minorgridcolor\": \"white\", \"startlinecolor\": \"#2a3f5f\"}, \"type\": \"carpet\"}], \"choropleth\": [{\"colorbar\": {\"outlinewidth\": 0, \"ticks\": \"\"}, \"type\": \"choropleth\"}], \"contour\": [{\"colorbar\": {\"outlinewidth\": 0, \"ticks\": \"\"}, \"colorscale\": [[0.0, \"#0d0887\"], [0.1111111111111111, \"#46039f\"], [0.2222222222222222, \"#7201a8\"], [0.3333333333333333, \"#9c179e\"], [0.4444444444444444, \"#bd3786\"], [0.5555555555555556, \"#d8576b\"], [0.6666666666666666, \"#ed7953\"], [0.7777777777777778, \"#fb9f3a\"], [0.8888888888888888, \"#fdca26\"], [1.0, \"#f0f921\"]], \"type\": \"contour\"}], \"contourcarpet\": [{\"colorbar\": {\"outlinewidth\": 0, \"ticks\": \"\"}, \"type\": \"contourcarpet\"}], \"heatmap\": [{\"colorbar\": {\"outlinewidth\": 0, \"ticks\": \"\"}, \"colorscale\": [[0.0, \"#0d0887\"], [0.1111111111111111, \"#46039f\"], [0.2222222222222222, \"#7201a8\"], [0.3333333333333333, \"#9c179e\"], [0.4444444444444444, \"#bd3786\"], [0.5555555555555556, \"#d8576b\"], [0.6666666666666666, \"#ed7953\"], [0.7777777777777778, \"#fb9f3a\"], [0.8888888888888888, \"#fdca26\"], [1.0, \"#f0f921\"]], \"type\": \"heatmap\"}], \"heatmapgl\": [{\"colorbar\": {\"outlinewidth\": 0, \"ticks\": \"\"}, \"colorscale\": [[0.0, \"#0d0887\"], [0.1111111111111111, \"#46039f\"], [0.2222222222222222, \"#7201a8\"], [0.3333333333333333, \"#9c179e\"], [0.4444444444444444, \"#bd3786\"], [0.5555555555555556, \"#d8576b\"], [0.6666666666666666, \"#ed7953\"], [0.7777777777777778, \"#fb9f3a\"], [0.8888888888888888, \"#fdca26\"], [1.0, \"#f0f921\"]], \"type\": \"heatmapgl\"}], \"histogram\": [{\"marker\": {\"colorbar\": {\"outlinewidth\": 0, \"ticks\": \"\"}}, \"type\": \"histogram\"}], \"histogram2d\": [{\"colorbar\": {\"outlinewidth\": 0, \"ticks\": \"\"}, \"colorscale\": [[0.0, \"#0d0887\"], [0.1111111111111111, \"#46039f\"], [0.2222222222222222, \"#7201a8\"], [0.3333333333333333, \"#9c179e\"], [0.4444444444444444, \"#bd3786\"], [0.5555555555555556, \"#d8576b\"], [0.6666666666666666, \"#ed7953\"], [0.7777777777777778, \"#fb9f3a\"], [0.8888888888888888, \"#fdca26\"], [1.0, \"#f0f921\"]], \"type\": \"histogram2d\"}], \"histogram2dcontour\": [{\"colorbar\": {\"outlinewidth\": 0, \"ticks\": \"\"}, \"colorscale\": [[0.0, \"#0d0887\"], [0.1111111111111111, \"#46039f\"], [0.2222222222222222, \"#7201a8\"], [0.3333333333333333, \"#9c179e\"], [0.4444444444444444, \"#bd3786\"], [0.5555555555555556, \"#d8576b\"], [0.6666666666666666, \"#ed7953\"], [0.7777777777777778, \"#fb9f3a\"], [0.8888888888888888, \"#fdca26\"], [1.0, \"#f0f921\"]], \"type\": \"histogram2dcontour\"}], \"mesh3d\": [{\"colorbar\": {\"outlinewidth\": 0, \"ticks\": \"\"}, \"type\": \"mesh3d\"}], \"parcoords\": [{\"line\": {\"colorbar\": {\"outlinewidth\": 0, \"ticks\": \"\"}}, \"type\": \"parcoords\"}], \"pie\": [{\"automargin\": true, \"type\": \"pie\"}], \"scatter\": [{\"marker\": {\"colorbar\": {\"outlinewidth\": 0, \"ticks\": \"\"}}, \"type\": \"scatter\"}], \"scatter3d\": [{\"line\": {\"colorbar\": {\"outlinewidth\": 0, \"ticks\": \"\"}}, \"marker\": {\"colorbar\": {\"outlinewidth\": 0, \"ticks\": \"\"}}, \"type\": \"scatter3d\"}], \"scattercarpet\": [{\"marker\": {\"colorbar\": {\"outlinewidth\": 0, \"ticks\": \"\"}}, \"type\": \"scattercarpet\"}], \"scattergeo\": [{\"marker\": {\"colorbar\": {\"outlinewidth\": 0, \"ticks\": \"\"}}, \"type\": \"scattergeo\"}], \"scattergl\": [{\"marker\": {\"colorbar\": {\"outlinewidth\": 0, \"ticks\": \"\"}}, \"type\": \"scattergl\"}], \"scattermapbox\": [{\"marker\": {\"colorbar\": {\"outlinewidth\": 0, \"ticks\": \"\"}}, \"type\": \"scattermapbox\"}], \"scatterpolar\": [{\"marker\": {\"colorbar\": {\"outlinewidth\": 0, \"ticks\": \"\"}}, \"type\": \"scatterpolar\"}], \"scatterpolargl\": [{\"marker\": {\"colorbar\": {\"outlinewidth\": 0, \"ticks\": \"\"}}, \"type\": \"scatterpolargl\"}], \"scatterternary\": [{\"marker\": {\"colorbar\": {\"outlinewidth\": 0, \"ticks\": \"\"}}, \"type\": \"scatterternary\"}], \"surface\": [{\"colorbar\": {\"outlinewidth\": 0, \"ticks\": \"\"}, \"colorscale\": [[0.0, \"#0d0887\"], [0.1111111111111111, \"#46039f\"], [0.2222222222222222, \"#7201a8\"], [0.3333333333333333, \"#9c179e\"], [0.4444444444444444, \"#bd3786\"], [0.5555555555555556, \"#d8576b\"], [0.6666666666666666, \"#ed7953\"], [0.7777777777777778, \"#fb9f3a\"], [0.8888888888888888, \"#fdca26\"], [1.0, \"#f0f921\"]], \"type\": \"surface\"}], \"table\": [{\"cells\": {\"fill\": {\"color\": \"#EBF0F8\"}, \"line\": {\"color\": \"white\"}}, \"header\": {\"fill\": {\"color\": \"#C8D4E3\"}, \"line\": {\"color\": \"white\"}}, \"type\": \"table\"}]}, \"layout\": {\"annotationdefaults\": {\"arrowcolor\": \"#2a3f5f\", \"arrowhead\": 0, \"arrowwidth\": 1}, \"coloraxis\": {\"colorbar\": {\"outlinewidth\": 0, \"ticks\": \"\"}}, \"colorscale\": {\"diverging\": [[0, \"#8e0152\"], [0.1, \"#c51b7d\"], [0.2, \"#de77ae\"], [0.3, \"#f1b6da\"], [0.4, \"#fde0ef\"], [0.5, \"#f7f7f7\"], [0.6, \"#e6f5d0\"], [0.7, \"#b8e186\"], [0.8, \"#7fbc41\"], [0.9, \"#4d9221\"], [1, \"#276419\"]], \"sequential\": [[0.0, \"#0d0887\"], [0.1111111111111111, \"#46039f\"], [0.2222222222222222, \"#7201a8\"], [0.3333333333333333, \"#9c179e\"], [0.4444444444444444, \"#bd3786\"], [0.5555555555555556, \"#d8576b\"], [0.6666666666666666, \"#ed7953\"], [0.7777777777777778, \"#fb9f3a\"], [0.8888888888888888, \"#fdca26\"], [1.0, \"#f0f921\"]], \"sequentialminus\": [[0.0, \"#0d0887\"], [0.1111111111111111, \"#46039f\"], [0.2222222222222222, \"#7201a8\"], [0.3333333333333333, \"#9c179e\"], [0.4444444444444444, \"#bd3786\"], [0.5555555555555556, \"#d8576b\"], [0.6666666666666666, \"#ed7953\"], [0.7777777777777778, \"#fb9f3a\"], [0.8888888888888888, \"#fdca26\"], [1.0, \"#f0f921\"]]}, \"colorway\": [\"#636efa\", \"#EF553B\", \"#00cc96\", \"#ab63fa\", \"#FFA15A\", \"#19d3f3\", \"#FF6692\", \"#B6E880\", \"#FF97FF\", \"#FECB52\"], \"font\": {\"color\": \"#2a3f5f\"}, \"geo\": {\"bgcolor\": \"white\", \"lakecolor\": \"white\", \"landcolor\": \"#E5ECF6\", \"showlakes\": true, \"showland\": true, \"subunitcolor\": \"white\"}, \"hoverlabel\": {\"align\": \"left\"}, \"hovermode\": \"closest\", \"mapbox\": {\"style\": \"light\"}, \"paper_bgcolor\": \"white\", \"plot_bgcolor\": \"#E5ECF6\", \"polar\": {\"angularaxis\": {\"gridcolor\": \"white\", \"linecolor\": \"white\", \"ticks\": \"\"}, \"bgcolor\": \"#E5ECF6\", \"radialaxis\": {\"gridcolor\": \"white\", \"linecolor\": \"white\", \"ticks\": \"\"}}, \"scene\": {\"xaxis\": {\"backgroundcolor\": \"#E5ECF6\", \"gridcolor\": \"white\", \"gridwidth\": 2, \"linecolor\": \"white\", \"showbackground\": true, \"ticks\": \"\", \"zerolinecolor\": \"white\"}, \"yaxis\": {\"backgroundcolor\": \"#E5ECF6\", \"gridcolor\": \"white\", \"gridwidth\": 2, \"linecolor\": \"white\", \"showbackground\": true, \"ticks\": \"\", \"zerolinecolor\": \"white\"}, \"zaxis\": {\"backgroundcolor\": \"#E5ECF6\", \"gridcolor\": \"white\", \"gridwidth\": 2, \"linecolor\": \"white\", \"showbackground\": true, \"ticks\": \"\", \"zerolinecolor\": \"white\"}}, \"shapedefaults\": {\"line\": {\"color\": \"#2a3f5f\"}}, \"ternary\": {\"aaxis\": {\"gridcolor\": \"white\", \"linecolor\": \"white\", \"ticks\": \"\"}, \"baxis\": {\"gridcolor\": \"white\", \"linecolor\": \"white\", \"ticks\": \"\"}, \"bgcolor\": \"#E5ECF6\", \"caxis\": {\"gridcolor\": \"white\", \"linecolor\": \"white\", \"ticks\": \"\"}}, \"title\": {\"x\": 0.05}, \"xaxis\": {\"automargin\": true, \"gridcolor\": \"white\", \"linecolor\": \"white\", \"ticks\": \"\", \"title\": {\"standoff\": 15}, \"zerolinecolor\": \"white\", \"zerolinewidth\": 2}, \"yaxis\": {\"automargin\": true, \"gridcolor\": \"white\", \"linecolor\": \"white\", \"ticks\": \"\", \"title\": {\"standoff\": 15}, \"zerolinecolor\": \"white\", \"zerolinewidth\": 2}}}, \"title\": {\"font\": {\"color\": \"#4D5663\"}}, \"xaxis\": {\"gridcolor\": \"#E1E5ED\", \"showgrid\": true, \"tickfont\": {\"color\": \"#4D5663\"}, \"title\": {\"font\": {\"color\": \"#4D5663\"}, \"text\": \"\"}, \"zerolinecolor\": \"#E1E5ED\"}, \"yaxis\": {\"gridcolor\": \"#E1E5ED\", \"showgrid\": true, \"tickfont\": {\"color\": \"#4D5663\"}, \"title\": {\"font\": {\"color\": \"#4D5663\"}, \"text\": \"\"}, \"zerolinecolor\": \"#E1E5ED\"}},                        {\"showLink\": true, \"linkText\": \"Export to plot.ly\", \"plotlyServerURL\": \"https://plot.ly\", \"responsive\": true}                    ).then(function(){\n",
       "                            \n",
       "var gd = document.getElementById('c1a9d48c-5998-422f-98a4-8fff1d659445');\n",
       "var x = new MutationObserver(function (mutations, observer) {{\n",
       "        var display = window.getComputedStyle(gd).display;\n",
       "        if (!display || display === 'none') {{\n",
       "            console.log([gd, 'removed!']);\n",
       "            Plotly.purge(gd);\n",
       "            observer.disconnect();\n",
       "        }}\n",
       "}});\n",
       "\n",
       "// Listen for the removal of the full notebook cells\n",
       "var notebookContainer = gd.closest('#notebook-container');\n",
       "if (notebookContainer) {{\n",
       "    x.observe(notebookContainer, {childList: true});\n",
       "}}\n",
       "\n",
       "// Listen for the clearing of the current output cell\n",
       "var outputEl = gd.closest('.output');\n",
       "if (outputEl) {{\n",
       "    x.observe(outputEl, {childList: true});\n",
       "}}\n",
       "\n",
       "                        })                };                });            </script>        </div>"
      ]
     },
     "metadata": {},
     "output_type": "display_data"
    }
   ],
   "source": [
    "df.iplot(kind='scatter',x='A',y='B',mode='markers',size=10)"
   ]
  },
  {
   "cell_type": "markdown",
   "metadata": {},
   "source": [
    "## Bar Plots"
   ]
  },
  {
   "cell_type": "code",
   "execution_count": 11,
   "metadata": {},
   "outputs": [
    {
     "data": {
      "application/vnd.plotly.v1+json": {
       "config": {
        "linkText": "Export to plot.ly",
        "plotlyServerURL": "https://plot.ly",
        "showLink": true
       },
       "data": [
        {
         "marker": {
          "color": "rgba(255, 153, 51, 0.6)",
          "line": {
           "color": "rgba(255, 153, 51, 1.0)",
           "width": 1
          }
         },
         "name": "Values",
         "orientation": "v",
         "text": "",
         "type": "bar",
         "x": [
          "A",
          "B",
          "C"
         ],
         "y": [
          32,
          43,
          50
         ]
        }
       ],
       "layout": {
        "legend": {
         "bgcolor": "#F5F6F9",
         "font": {
          "color": "#4D5663"
         }
        },
        "paper_bgcolor": "#F5F6F9",
        "plot_bgcolor": "#F5F6F9",
        "template": {
         "data": {
          "bar": [
           {
            "error_x": {
             "color": "#2a3f5f"
            },
            "error_y": {
             "color": "#2a3f5f"
            },
            "marker": {
             "line": {
              "color": "#E5ECF6",
              "width": 0.5
             }
            },
            "type": "bar"
           }
          ],
          "barpolar": [
           {
            "marker": {
             "line": {
              "color": "#E5ECF6",
              "width": 0.5
             }
            },
            "type": "barpolar"
           }
          ],
          "carpet": [
           {
            "aaxis": {
             "endlinecolor": "#2a3f5f",
             "gridcolor": "white",
             "linecolor": "white",
             "minorgridcolor": "white",
             "startlinecolor": "#2a3f5f"
            },
            "baxis": {
             "endlinecolor": "#2a3f5f",
             "gridcolor": "white",
             "linecolor": "white",
             "minorgridcolor": "white",
             "startlinecolor": "#2a3f5f"
            },
            "type": "carpet"
           }
          ],
          "choropleth": [
           {
            "colorbar": {
             "outlinewidth": 0,
             "ticks": ""
            },
            "type": "choropleth"
           }
          ],
          "contour": [
           {
            "colorbar": {
             "outlinewidth": 0,
             "ticks": ""
            },
            "colorscale": [
             [
              0,
              "#0d0887"
             ],
             [
              0.1111111111111111,
              "#46039f"
             ],
             [
              0.2222222222222222,
              "#7201a8"
             ],
             [
              0.3333333333333333,
              "#9c179e"
             ],
             [
              0.4444444444444444,
              "#bd3786"
             ],
             [
              0.5555555555555556,
              "#d8576b"
             ],
             [
              0.6666666666666666,
              "#ed7953"
             ],
             [
              0.7777777777777778,
              "#fb9f3a"
             ],
             [
              0.8888888888888888,
              "#fdca26"
             ],
             [
              1,
              "#f0f921"
             ]
            ],
            "type": "contour"
           }
          ],
          "contourcarpet": [
           {
            "colorbar": {
             "outlinewidth": 0,
             "ticks": ""
            },
            "type": "contourcarpet"
           }
          ],
          "heatmap": [
           {
            "colorbar": {
             "outlinewidth": 0,
             "ticks": ""
            },
            "colorscale": [
             [
              0,
              "#0d0887"
             ],
             [
              0.1111111111111111,
              "#46039f"
             ],
             [
              0.2222222222222222,
              "#7201a8"
             ],
             [
              0.3333333333333333,
              "#9c179e"
             ],
             [
              0.4444444444444444,
              "#bd3786"
             ],
             [
              0.5555555555555556,
              "#d8576b"
             ],
             [
              0.6666666666666666,
              "#ed7953"
             ],
             [
              0.7777777777777778,
              "#fb9f3a"
             ],
             [
              0.8888888888888888,
              "#fdca26"
             ],
             [
              1,
              "#f0f921"
             ]
            ],
            "type": "heatmap"
           }
          ],
          "heatmapgl": [
           {
            "colorbar": {
             "outlinewidth": 0,
             "ticks": ""
            },
            "colorscale": [
             [
              0,
              "#0d0887"
             ],
             [
              0.1111111111111111,
              "#46039f"
             ],
             [
              0.2222222222222222,
              "#7201a8"
             ],
             [
              0.3333333333333333,
              "#9c179e"
             ],
             [
              0.4444444444444444,
              "#bd3786"
             ],
             [
              0.5555555555555556,
              "#d8576b"
             ],
             [
              0.6666666666666666,
              "#ed7953"
             ],
             [
              0.7777777777777778,
              "#fb9f3a"
             ],
             [
              0.8888888888888888,
              "#fdca26"
             ],
             [
              1,
              "#f0f921"
             ]
            ],
            "type": "heatmapgl"
           }
          ],
          "histogram": [
           {
            "marker": {
             "colorbar": {
              "outlinewidth": 0,
              "ticks": ""
             }
            },
            "type": "histogram"
           }
          ],
          "histogram2d": [
           {
            "colorbar": {
             "outlinewidth": 0,
             "ticks": ""
            },
            "colorscale": [
             [
              0,
              "#0d0887"
             ],
             [
              0.1111111111111111,
              "#46039f"
             ],
             [
              0.2222222222222222,
              "#7201a8"
             ],
             [
              0.3333333333333333,
              "#9c179e"
             ],
             [
              0.4444444444444444,
              "#bd3786"
             ],
             [
              0.5555555555555556,
              "#d8576b"
             ],
             [
              0.6666666666666666,
              "#ed7953"
             ],
             [
              0.7777777777777778,
              "#fb9f3a"
             ],
             [
              0.8888888888888888,
              "#fdca26"
             ],
             [
              1,
              "#f0f921"
             ]
            ],
            "type": "histogram2d"
           }
          ],
          "histogram2dcontour": [
           {
            "colorbar": {
             "outlinewidth": 0,
             "ticks": ""
            },
            "colorscale": [
             [
              0,
              "#0d0887"
             ],
             [
              0.1111111111111111,
              "#46039f"
             ],
             [
              0.2222222222222222,
              "#7201a8"
             ],
             [
              0.3333333333333333,
              "#9c179e"
             ],
             [
              0.4444444444444444,
              "#bd3786"
             ],
             [
              0.5555555555555556,
              "#d8576b"
             ],
             [
              0.6666666666666666,
              "#ed7953"
             ],
             [
              0.7777777777777778,
              "#fb9f3a"
             ],
             [
              0.8888888888888888,
              "#fdca26"
             ],
             [
              1,
              "#f0f921"
             ]
            ],
            "type": "histogram2dcontour"
           }
          ],
          "mesh3d": [
           {
            "colorbar": {
             "outlinewidth": 0,
             "ticks": ""
            },
            "type": "mesh3d"
           }
          ],
          "parcoords": [
           {
            "line": {
             "colorbar": {
              "outlinewidth": 0,
              "ticks": ""
             }
            },
            "type": "parcoords"
           }
          ],
          "pie": [
           {
            "automargin": true,
            "type": "pie"
           }
          ],
          "scatter": [
           {
            "marker": {
             "colorbar": {
              "outlinewidth": 0,
              "ticks": ""
             }
            },
            "type": "scatter"
           }
          ],
          "scatter3d": [
           {
            "line": {
             "colorbar": {
              "outlinewidth": 0,
              "ticks": ""
             }
            },
            "marker": {
             "colorbar": {
              "outlinewidth": 0,
              "ticks": ""
             }
            },
            "type": "scatter3d"
           }
          ],
          "scattercarpet": [
           {
            "marker": {
             "colorbar": {
              "outlinewidth": 0,
              "ticks": ""
             }
            },
            "type": "scattercarpet"
           }
          ],
          "scattergeo": [
           {
            "marker": {
             "colorbar": {
              "outlinewidth": 0,
              "ticks": ""
             }
            },
            "type": "scattergeo"
           }
          ],
          "scattergl": [
           {
            "marker": {
             "colorbar": {
              "outlinewidth": 0,
              "ticks": ""
             }
            },
            "type": "scattergl"
           }
          ],
          "scattermapbox": [
           {
            "marker": {
             "colorbar": {
              "outlinewidth": 0,
              "ticks": ""
             }
            },
            "type": "scattermapbox"
           }
          ],
          "scatterpolar": [
           {
            "marker": {
             "colorbar": {
              "outlinewidth": 0,
              "ticks": ""
             }
            },
            "type": "scatterpolar"
           }
          ],
          "scatterpolargl": [
           {
            "marker": {
             "colorbar": {
              "outlinewidth": 0,
              "ticks": ""
             }
            },
            "type": "scatterpolargl"
           }
          ],
          "scatterternary": [
           {
            "marker": {
             "colorbar": {
              "outlinewidth": 0,
              "ticks": ""
             }
            },
            "type": "scatterternary"
           }
          ],
          "surface": [
           {
            "colorbar": {
             "outlinewidth": 0,
             "ticks": ""
            },
            "colorscale": [
             [
              0,
              "#0d0887"
             ],
             [
              0.1111111111111111,
              "#46039f"
             ],
             [
              0.2222222222222222,
              "#7201a8"
             ],
             [
              0.3333333333333333,
              "#9c179e"
             ],
             [
              0.4444444444444444,
              "#bd3786"
             ],
             [
              0.5555555555555556,
              "#d8576b"
             ],
             [
              0.6666666666666666,
              "#ed7953"
             ],
             [
              0.7777777777777778,
              "#fb9f3a"
             ],
             [
              0.8888888888888888,
              "#fdca26"
             ],
             [
              1,
              "#f0f921"
             ]
            ],
            "type": "surface"
           }
          ],
          "table": [
           {
            "cells": {
             "fill": {
              "color": "#EBF0F8"
             },
             "line": {
              "color": "white"
             }
            },
            "header": {
             "fill": {
              "color": "#C8D4E3"
             },
             "line": {
              "color": "white"
             }
            },
            "type": "table"
           }
          ]
         },
         "layout": {
          "annotationdefaults": {
           "arrowcolor": "#2a3f5f",
           "arrowhead": 0,
           "arrowwidth": 1
          },
          "coloraxis": {
           "colorbar": {
            "outlinewidth": 0,
            "ticks": ""
           }
          },
          "colorscale": {
           "diverging": [
            [
             0,
             "#8e0152"
            ],
            [
             0.1,
             "#c51b7d"
            ],
            [
             0.2,
             "#de77ae"
            ],
            [
             0.3,
             "#f1b6da"
            ],
            [
             0.4,
             "#fde0ef"
            ],
            [
             0.5,
             "#f7f7f7"
            ],
            [
             0.6,
             "#e6f5d0"
            ],
            [
             0.7,
             "#b8e186"
            ],
            [
             0.8,
             "#7fbc41"
            ],
            [
             0.9,
             "#4d9221"
            ],
            [
             1,
             "#276419"
            ]
           ],
           "sequential": [
            [
             0,
             "#0d0887"
            ],
            [
             0.1111111111111111,
             "#46039f"
            ],
            [
             0.2222222222222222,
             "#7201a8"
            ],
            [
             0.3333333333333333,
             "#9c179e"
            ],
            [
             0.4444444444444444,
             "#bd3786"
            ],
            [
             0.5555555555555556,
             "#d8576b"
            ],
            [
             0.6666666666666666,
             "#ed7953"
            ],
            [
             0.7777777777777778,
             "#fb9f3a"
            ],
            [
             0.8888888888888888,
             "#fdca26"
            ],
            [
             1,
             "#f0f921"
            ]
           ],
           "sequentialminus": [
            [
             0,
             "#0d0887"
            ],
            [
             0.1111111111111111,
             "#46039f"
            ],
            [
             0.2222222222222222,
             "#7201a8"
            ],
            [
             0.3333333333333333,
             "#9c179e"
            ],
            [
             0.4444444444444444,
             "#bd3786"
            ],
            [
             0.5555555555555556,
             "#d8576b"
            ],
            [
             0.6666666666666666,
             "#ed7953"
            ],
            [
             0.7777777777777778,
             "#fb9f3a"
            ],
            [
             0.8888888888888888,
             "#fdca26"
            ],
            [
             1,
             "#f0f921"
            ]
           ]
          },
          "colorway": [
           "#636efa",
           "#EF553B",
           "#00cc96",
           "#ab63fa",
           "#FFA15A",
           "#19d3f3",
           "#FF6692",
           "#B6E880",
           "#FF97FF",
           "#FECB52"
          ],
          "font": {
           "color": "#2a3f5f"
          },
          "geo": {
           "bgcolor": "white",
           "lakecolor": "white",
           "landcolor": "#E5ECF6",
           "showlakes": true,
           "showland": true,
           "subunitcolor": "white"
          },
          "hoverlabel": {
           "align": "left"
          },
          "hovermode": "closest",
          "mapbox": {
           "style": "light"
          },
          "paper_bgcolor": "white",
          "plot_bgcolor": "#E5ECF6",
          "polar": {
           "angularaxis": {
            "gridcolor": "white",
            "linecolor": "white",
            "ticks": ""
           },
           "bgcolor": "#E5ECF6",
           "radialaxis": {
            "gridcolor": "white",
            "linecolor": "white",
            "ticks": ""
           }
          },
          "scene": {
           "xaxis": {
            "backgroundcolor": "#E5ECF6",
            "gridcolor": "white",
            "gridwidth": 2,
            "linecolor": "white",
            "showbackground": true,
            "ticks": "",
            "zerolinecolor": "white"
           },
           "yaxis": {
            "backgroundcolor": "#E5ECF6",
            "gridcolor": "white",
            "gridwidth": 2,
            "linecolor": "white",
            "showbackground": true,
            "ticks": "",
            "zerolinecolor": "white"
           },
           "zaxis": {
            "backgroundcolor": "#E5ECF6",
            "gridcolor": "white",
            "gridwidth": 2,
            "linecolor": "white",
            "showbackground": true,
            "ticks": "",
            "zerolinecolor": "white"
           }
          },
          "shapedefaults": {
           "line": {
            "color": "#2a3f5f"
           }
          },
          "ternary": {
           "aaxis": {
            "gridcolor": "white",
            "linecolor": "white",
            "ticks": ""
           },
           "baxis": {
            "gridcolor": "white",
            "linecolor": "white",
            "ticks": ""
           },
           "bgcolor": "#E5ECF6",
           "caxis": {
            "gridcolor": "white",
            "linecolor": "white",
            "ticks": ""
           }
          },
          "title": {
           "x": 0.05
          },
          "xaxis": {
           "automargin": true,
           "gridcolor": "white",
           "linecolor": "white",
           "ticks": "",
           "title": {
            "standoff": 15
           },
           "zerolinecolor": "white",
           "zerolinewidth": 2
          },
          "yaxis": {
           "automargin": true,
           "gridcolor": "white",
           "linecolor": "white",
           "ticks": "",
           "title": {
            "standoff": 15
           },
           "zerolinecolor": "white",
           "zerolinewidth": 2
          }
         }
        },
        "title": {
         "font": {
          "color": "#4D5663"
         }
        },
        "xaxis": {
         "gridcolor": "#E1E5ED",
         "showgrid": true,
         "tickfont": {
          "color": "#4D5663"
         },
         "title": {
          "font": {
           "color": "#4D5663"
          },
          "text": ""
         },
         "zerolinecolor": "#E1E5ED"
        },
        "yaxis": {
         "gridcolor": "#E1E5ED",
         "showgrid": true,
         "tickfont": {
          "color": "#4D5663"
         },
         "title": {
          "font": {
           "color": "#4D5663"
          },
          "text": ""
         },
         "zerolinecolor": "#E1E5ED"
        }
       }
      },
      "text/html": [
       "<div>                            <div id=\"4e0fe00f-b7b5-48a9-a27f-72eca70df31b\" class=\"plotly-graph-div\" style=\"height:525px; width:100%;\"></div>            <script type=\"text/javascript\">                require([\"plotly\"], function(Plotly) {                    window.PLOTLYENV=window.PLOTLYENV || {};\n",
       "                    window.PLOTLYENV.BASE_URL='https://plot.ly';                                    if (document.getElementById(\"4e0fe00f-b7b5-48a9-a27f-72eca70df31b\")) {                    Plotly.newPlot(                        \"4e0fe00f-b7b5-48a9-a27f-72eca70df31b\",                        [{\"marker\": {\"color\": \"rgba(255, 153, 51, 0.6)\", \"line\": {\"color\": \"rgba(255, 153, 51, 1.0)\", \"width\": 1}}, \"name\": \"Values\", \"orientation\": \"v\", \"text\": \"\", \"type\": \"bar\", \"x\": [\"A\", \"B\", \"C\"], \"y\": [32, 43, 50]}],                        {\"legend\": {\"bgcolor\": \"#F5F6F9\", \"font\": {\"color\": \"#4D5663\"}}, \"paper_bgcolor\": \"#F5F6F9\", \"plot_bgcolor\": \"#F5F6F9\", \"template\": {\"data\": {\"bar\": [{\"error_x\": {\"color\": \"#2a3f5f\"}, \"error_y\": {\"color\": \"#2a3f5f\"}, \"marker\": {\"line\": {\"color\": \"#E5ECF6\", \"width\": 0.5}}, \"type\": \"bar\"}], \"barpolar\": [{\"marker\": {\"line\": {\"color\": \"#E5ECF6\", \"width\": 0.5}}, \"type\": \"barpolar\"}], \"carpet\": [{\"aaxis\": {\"endlinecolor\": \"#2a3f5f\", \"gridcolor\": \"white\", \"linecolor\": \"white\", \"minorgridcolor\": \"white\", \"startlinecolor\": \"#2a3f5f\"}, \"baxis\": {\"endlinecolor\": \"#2a3f5f\", \"gridcolor\": \"white\", \"linecolor\": \"white\", \"minorgridcolor\": \"white\", \"startlinecolor\": \"#2a3f5f\"}, \"type\": \"carpet\"}], \"choropleth\": [{\"colorbar\": {\"outlinewidth\": 0, \"ticks\": \"\"}, \"type\": \"choropleth\"}], \"contour\": [{\"colorbar\": {\"outlinewidth\": 0, \"ticks\": \"\"}, \"colorscale\": [[0.0, \"#0d0887\"], [0.1111111111111111, \"#46039f\"], [0.2222222222222222, \"#7201a8\"], [0.3333333333333333, \"#9c179e\"], [0.4444444444444444, \"#bd3786\"], [0.5555555555555556, \"#d8576b\"], [0.6666666666666666, \"#ed7953\"], [0.7777777777777778, \"#fb9f3a\"], [0.8888888888888888, \"#fdca26\"], [1.0, \"#f0f921\"]], \"type\": \"contour\"}], \"contourcarpet\": [{\"colorbar\": {\"outlinewidth\": 0, \"ticks\": \"\"}, \"type\": \"contourcarpet\"}], \"heatmap\": [{\"colorbar\": {\"outlinewidth\": 0, \"ticks\": \"\"}, \"colorscale\": [[0.0, \"#0d0887\"], [0.1111111111111111, \"#46039f\"], [0.2222222222222222, \"#7201a8\"], [0.3333333333333333, \"#9c179e\"], [0.4444444444444444, \"#bd3786\"], [0.5555555555555556, \"#d8576b\"], [0.6666666666666666, \"#ed7953\"], [0.7777777777777778, \"#fb9f3a\"], [0.8888888888888888, \"#fdca26\"], [1.0, \"#f0f921\"]], \"type\": \"heatmap\"}], \"heatmapgl\": [{\"colorbar\": {\"outlinewidth\": 0, \"ticks\": \"\"}, \"colorscale\": [[0.0, \"#0d0887\"], [0.1111111111111111, \"#46039f\"], [0.2222222222222222, \"#7201a8\"], [0.3333333333333333, \"#9c179e\"], [0.4444444444444444, \"#bd3786\"], [0.5555555555555556, \"#d8576b\"], [0.6666666666666666, \"#ed7953\"], [0.7777777777777778, \"#fb9f3a\"], [0.8888888888888888, \"#fdca26\"], [1.0, \"#f0f921\"]], \"type\": \"heatmapgl\"}], \"histogram\": [{\"marker\": {\"colorbar\": {\"outlinewidth\": 0, \"ticks\": \"\"}}, \"type\": \"histogram\"}], \"histogram2d\": [{\"colorbar\": {\"outlinewidth\": 0, \"ticks\": \"\"}, \"colorscale\": [[0.0, \"#0d0887\"], [0.1111111111111111, \"#46039f\"], [0.2222222222222222, \"#7201a8\"], [0.3333333333333333, \"#9c179e\"], [0.4444444444444444, \"#bd3786\"], [0.5555555555555556, \"#d8576b\"], [0.6666666666666666, \"#ed7953\"], [0.7777777777777778, \"#fb9f3a\"], [0.8888888888888888, \"#fdca26\"], [1.0, \"#f0f921\"]], \"type\": \"histogram2d\"}], \"histogram2dcontour\": [{\"colorbar\": {\"outlinewidth\": 0, \"ticks\": \"\"}, \"colorscale\": [[0.0, \"#0d0887\"], [0.1111111111111111, \"#46039f\"], [0.2222222222222222, \"#7201a8\"], [0.3333333333333333, \"#9c179e\"], [0.4444444444444444, \"#bd3786\"], [0.5555555555555556, \"#d8576b\"], [0.6666666666666666, \"#ed7953\"], [0.7777777777777778, \"#fb9f3a\"], [0.8888888888888888, \"#fdca26\"], [1.0, \"#f0f921\"]], \"type\": \"histogram2dcontour\"}], \"mesh3d\": [{\"colorbar\": {\"outlinewidth\": 0, \"ticks\": \"\"}, \"type\": \"mesh3d\"}], \"parcoords\": [{\"line\": {\"colorbar\": {\"outlinewidth\": 0, \"ticks\": \"\"}}, \"type\": \"parcoords\"}], \"pie\": [{\"automargin\": true, \"type\": \"pie\"}], \"scatter\": [{\"marker\": {\"colorbar\": {\"outlinewidth\": 0, \"ticks\": \"\"}}, \"type\": \"scatter\"}], \"scatter3d\": [{\"line\": {\"colorbar\": {\"outlinewidth\": 0, \"ticks\": \"\"}}, \"marker\": {\"colorbar\": {\"outlinewidth\": 0, \"ticks\": \"\"}}, \"type\": \"scatter3d\"}], \"scattercarpet\": [{\"marker\": {\"colorbar\": {\"outlinewidth\": 0, \"ticks\": \"\"}}, \"type\": \"scattercarpet\"}], \"scattergeo\": [{\"marker\": {\"colorbar\": {\"outlinewidth\": 0, \"ticks\": \"\"}}, \"type\": \"scattergeo\"}], \"scattergl\": [{\"marker\": {\"colorbar\": {\"outlinewidth\": 0, \"ticks\": \"\"}}, \"type\": \"scattergl\"}], \"scattermapbox\": [{\"marker\": {\"colorbar\": {\"outlinewidth\": 0, \"ticks\": \"\"}}, \"type\": \"scattermapbox\"}], \"scatterpolar\": [{\"marker\": {\"colorbar\": {\"outlinewidth\": 0, \"ticks\": \"\"}}, \"type\": \"scatterpolar\"}], \"scatterpolargl\": [{\"marker\": {\"colorbar\": {\"outlinewidth\": 0, \"ticks\": \"\"}}, \"type\": \"scatterpolargl\"}], \"scatterternary\": [{\"marker\": {\"colorbar\": {\"outlinewidth\": 0, \"ticks\": \"\"}}, \"type\": \"scatterternary\"}], \"surface\": [{\"colorbar\": {\"outlinewidth\": 0, \"ticks\": \"\"}, \"colorscale\": [[0.0, \"#0d0887\"], [0.1111111111111111, \"#46039f\"], [0.2222222222222222, \"#7201a8\"], [0.3333333333333333, \"#9c179e\"], [0.4444444444444444, \"#bd3786\"], [0.5555555555555556, \"#d8576b\"], [0.6666666666666666, \"#ed7953\"], [0.7777777777777778, \"#fb9f3a\"], [0.8888888888888888, \"#fdca26\"], [1.0, \"#f0f921\"]], \"type\": \"surface\"}], \"table\": [{\"cells\": {\"fill\": {\"color\": \"#EBF0F8\"}, \"line\": {\"color\": \"white\"}}, \"header\": {\"fill\": {\"color\": \"#C8D4E3\"}, \"line\": {\"color\": \"white\"}}, \"type\": \"table\"}]}, \"layout\": {\"annotationdefaults\": {\"arrowcolor\": \"#2a3f5f\", \"arrowhead\": 0, \"arrowwidth\": 1}, \"coloraxis\": {\"colorbar\": {\"outlinewidth\": 0, \"ticks\": \"\"}}, \"colorscale\": {\"diverging\": [[0, \"#8e0152\"], [0.1, \"#c51b7d\"], [0.2, \"#de77ae\"], [0.3, \"#f1b6da\"], [0.4, \"#fde0ef\"], [0.5, \"#f7f7f7\"], [0.6, \"#e6f5d0\"], [0.7, \"#b8e186\"], [0.8, \"#7fbc41\"], [0.9, \"#4d9221\"], [1, \"#276419\"]], \"sequential\": [[0.0, \"#0d0887\"], [0.1111111111111111, \"#46039f\"], [0.2222222222222222, \"#7201a8\"], [0.3333333333333333, \"#9c179e\"], [0.4444444444444444, \"#bd3786\"], [0.5555555555555556, \"#d8576b\"], [0.6666666666666666, \"#ed7953\"], [0.7777777777777778, \"#fb9f3a\"], [0.8888888888888888, \"#fdca26\"], [1.0, \"#f0f921\"]], \"sequentialminus\": [[0.0, \"#0d0887\"], [0.1111111111111111, \"#46039f\"], [0.2222222222222222, \"#7201a8\"], [0.3333333333333333, \"#9c179e\"], [0.4444444444444444, \"#bd3786\"], [0.5555555555555556, \"#d8576b\"], [0.6666666666666666, \"#ed7953\"], [0.7777777777777778, \"#fb9f3a\"], [0.8888888888888888, \"#fdca26\"], [1.0, \"#f0f921\"]]}, \"colorway\": [\"#636efa\", \"#EF553B\", \"#00cc96\", \"#ab63fa\", \"#FFA15A\", \"#19d3f3\", \"#FF6692\", \"#B6E880\", \"#FF97FF\", \"#FECB52\"], \"font\": {\"color\": \"#2a3f5f\"}, \"geo\": {\"bgcolor\": \"white\", \"lakecolor\": \"white\", \"landcolor\": \"#E5ECF6\", \"showlakes\": true, \"showland\": true, \"subunitcolor\": \"white\"}, \"hoverlabel\": {\"align\": \"left\"}, \"hovermode\": \"closest\", \"mapbox\": {\"style\": \"light\"}, \"paper_bgcolor\": \"white\", \"plot_bgcolor\": \"#E5ECF6\", \"polar\": {\"angularaxis\": {\"gridcolor\": \"white\", \"linecolor\": \"white\", \"ticks\": \"\"}, \"bgcolor\": \"#E5ECF6\", \"radialaxis\": {\"gridcolor\": \"white\", \"linecolor\": \"white\", \"ticks\": \"\"}}, \"scene\": {\"xaxis\": {\"backgroundcolor\": \"#E5ECF6\", \"gridcolor\": \"white\", \"gridwidth\": 2, \"linecolor\": \"white\", \"showbackground\": true, \"ticks\": \"\", \"zerolinecolor\": \"white\"}, \"yaxis\": {\"backgroundcolor\": \"#E5ECF6\", \"gridcolor\": \"white\", \"gridwidth\": 2, \"linecolor\": \"white\", \"showbackground\": true, \"ticks\": \"\", \"zerolinecolor\": \"white\"}, \"zaxis\": {\"backgroundcolor\": \"#E5ECF6\", \"gridcolor\": \"white\", \"gridwidth\": 2, \"linecolor\": \"white\", \"showbackground\": true, \"ticks\": \"\", \"zerolinecolor\": \"white\"}}, \"shapedefaults\": {\"line\": {\"color\": \"#2a3f5f\"}}, \"ternary\": {\"aaxis\": {\"gridcolor\": \"white\", \"linecolor\": \"white\", \"ticks\": \"\"}, \"baxis\": {\"gridcolor\": \"white\", \"linecolor\": \"white\", \"ticks\": \"\"}, \"bgcolor\": \"#E5ECF6\", \"caxis\": {\"gridcolor\": \"white\", \"linecolor\": \"white\", \"ticks\": \"\"}}, \"title\": {\"x\": 0.05}, \"xaxis\": {\"automargin\": true, \"gridcolor\": \"white\", \"linecolor\": \"white\", \"ticks\": \"\", \"title\": {\"standoff\": 15}, \"zerolinecolor\": \"white\", \"zerolinewidth\": 2}, \"yaxis\": {\"automargin\": true, \"gridcolor\": \"white\", \"linecolor\": \"white\", \"ticks\": \"\", \"title\": {\"standoff\": 15}, \"zerolinecolor\": \"white\", \"zerolinewidth\": 2}}}, \"title\": {\"font\": {\"color\": \"#4D5663\"}}, \"xaxis\": {\"gridcolor\": \"#E1E5ED\", \"showgrid\": true, \"tickfont\": {\"color\": \"#4D5663\"}, \"title\": {\"font\": {\"color\": \"#4D5663\"}, \"text\": \"\"}, \"zerolinecolor\": \"#E1E5ED\"}, \"yaxis\": {\"gridcolor\": \"#E1E5ED\", \"showgrid\": true, \"tickfont\": {\"color\": \"#4D5663\"}, \"title\": {\"font\": {\"color\": \"#4D5663\"}, \"text\": \"\"}, \"zerolinecolor\": \"#E1E5ED\"}},                        {\"showLink\": true, \"linkText\": \"Export to plot.ly\", \"plotlyServerURL\": \"https://plot.ly\", \"responsive\": true}                    ).then(function(){\n",
       "                            \n",
       "var gd = document.getElementById('4e0fe00f-b7b5-48a9-a27f-72eca70df31b');\n",
       "var x = new MutationObserver(function (mutations, observer) {{\n",
       "        var display = window.getComputedStyle(gd).display;\n",
       "        if (!display || display === 'none') {{\n",
       "            console.log([gd, 'removed!']);\n",
       "            Plotly.purge(gd);\n",
       "            observer.disconnect();\n",
       "        }}\n",
       "}});\n",
       "\n",
       "// Listen for the removal of the full notebook cells\n",
       "var notebookContainer = gd.closest('#notebook-container');\n",
       "if (notebookContainer) {{\n",
       "    x.observe(notebookContainer, {childList: true});\n",
       "}}\n",
       "\n",
       "// Listen for the clearing of the current output cell\n",
       "var outputEl = gd.closest('.output');\n",
       "if (outputEl) {{\n",
       "    x.observe(outputEl, {childList: true});\n",
       "}}\n",
       "\n",
       "                        })                };                });            </script>        </div>"
      ]
     },
     "metadata": {},
     "output_type": "display_data"
    }
   ],
   "source": [
    "df2.iplot(kind='bar',x='Category',y='Values')"
   ]
  },
  {
   "cell_type": "code",
   "execution_count": 12,
   "metadata": {},
   "outputs": [
    {
     "data": {
      "application/vnd.plotly.v1+json": {
       "config": {
        "linkText": "Export to plot.ly",
        "plotlyServerURL": "https://plot.ly",
        "showLink": true
       },
       "data": [
        {
         "marker": {
          "color": "rgba(255, 153, 51, 0.6)",
          "line": {
           "color": "rgba(255, 153, 51, 1.0)",
           "width": 1
          }
         },
         "name": "None",
         "orientation": "v",
         "text": "",
         "type": "bar",
         "x": [
          "A",
          "B",
          "C",
          "D"
         ],
         "y": [
          100,
          100,
          100,
          100
         ]
        }
       ],
       "layout": {
        "legend": {
         "bgcolor": "#F5F6F9",
         "font": {
          "color": "#4D5663"
         }
        },
        "paper_bgcolor": "#F5F6F9",
        "plot_bgcolor": "#F5F6F9",
        "template": {
         "data": {
          "bar": [
           {
            "error_x": {
             "color": "#2a3f5f"
            },
            "error_y": {
             "color": "#2a3f5f"
            },
            "marker": {
             "line": {
              "color": "#E5ECF6",
              "width": 0.5
             }
            },
            "type": "bar"
           }
          ],
          "barpolar": [
           {
            "marker": {
             "line": {
              "color": "#E5ECF6",
              "width": 0.5
             }
            },
            "type": "barpolar"
           }
          ],
          "carpet": [
           {
            "aaxis": {
             "endlinecolor": "#2a3f5f",
             "gridcolor": "white",
             "linecolor": "white",
             "minorgridcolor": "white",
             "startlinecolor": "#2a3f5f"
            },
            "baxis": {
             "endlinecolor": "#2a3f5f",
             "gridcolor": "white",
             "linecolor": "white",
             "minorgridcolor": "white",
             "startlinecolor": "#2a3f5f"
            },
            "type": "carpet"
           }
          ],
          "choropleth": [
           {
            "colorbar": {
             "outlinewidth": 0,
             "ticks": ""
            },
            "type": "choropleth"
           }
          ],
          "contour": [
           {
            "colorbar": {
             "outlinewidth": 0,
             "ticks": ""
            },
            "colorscale": [
             [
              0,
              "#0d0887"
             ],
             [
              0.1111111111111111,
              "#46039f"
             ],
             [
              0.2222222222222222,
              "#7201a8"
             ],
             [
              0.3333333333333333,
              "#9c179e"
             ],
             [
              0.4444444444444444,
              "#bd3786"
             ],
             [
              0.5555555555555556,
              "#d8576b"
             ],
             [
              0.6666666666666666,
              "#ed7953"
             ],
             [
              0.7777777777777778,
              "#fb9f3a"
             ],
             [
              0.8888888888888888,
              "#fdca26"
             ],
             [
              1,
              "#f0f921"
             ]
            ],
            "type": "contour"
           }
          ],
          "contourcarpet": [
           {
            "colorbar": {
             "outlinewidth": 0,
             "ticks": ""
            },
            "type": "contourcarpet"
           }
          ],
          "heatmap": [
           {
            "colorbar": {
             "outlinewidth": 0,
             "ticks": ""
            },
            "colorscale": [
             [
              0,
              "#0d0887"
             ],
             [
              0.1111111111111111,
              "#46039f"
             ],
             [
              0.2222222222222222,
              "#7201a8"
             ],
             [
              0.3333333333333333,
              "#9c179e"
             ],
             [
              0.4444444444444444,
              "#bd3786"
             ],
             [
              0.5555555555555556,
              "#d8576b"
             ],
             [
              0.6666666666666666,
              "#ed7953"
             ],
             [
              0.7777777777777778,
              "#fb9f3a"
             ],
             [
              0.8888888888888888,
              "#fdca26"
             ],
             [
              1,
              "#f0f921"
             ]
            ],
            "type": "heatmap"
           }
          ],
          "heatmapgl": [
           {
            "colorbar": {
             "outlinewidth": 0,
             "ticks": ""
            },
            "colorscale": [
             [
              0,
              "#0d0887"
             ],
             [
              0.1111111111111111,
              "#46039f"
             ],
             [
              0.2222222222222222,
              "#7201a8"
             ],
             [
              0.3333333333333333,
              "#9c179e"
             ],
             [
              0.4444444444444444,
              "#bd3786"
             ],
             [
              0.5555555555555556,
              "#d8576b"
             ],
             [
              0.6666666666666666,
              "#ed7953"
             ],
             [
              0.7777777777777778,
              "#fb9f3a"
             ],
             [
              0.8888888888888888,
              "#fdca26"
             ],
             [
              1,
              "#f0f921"
             ]
            ],
            "type": "heatmapgl"
           }
          ],
          "histogram": [
           {
            "marker": {
             "colorbar": {
              "outlinewidth": 0,
              "ticks": ""
             }
            },
            "type": "histogram"
           }
          ],
          "histogram2d": [
           {
            "colorbar": {
             "outlinewidth": 0,
             "ticks": ""
            },
            "colorscale": [
             [
              0,
              "#0d0887"
             ],
             [
              0.1111111111111111,
              "#46039f"
             ],
             [
              0.2222222222222222,
              "#7201a8"
             ],
             [
              0.3333333333333333,
              "#9c179e"
             ],
             [
              0.4444444444444444,
              "#bd3786"
             ],
             [
              0.5555555555555556,
              "#d8576b"
             ],
             [
              0.6666666666666666,
              "#ed7953"
             ],
             [
              0.7777777777777778,
              "#fb9f3a"
             ],
             [
              0.8888888888888888,
              "#fdca26"
             ],
             [
              1,
              "#f0f921"
             ]
            ],
            "type": "histogram2d"
           }
          ],
          "histogram2dcontour": [
           {
            "colorbar": {
             "outlinewidth": 0,
             "ticks": ""
            },
            "colorscale": [
             [
              0,
              "#0d0887"
             ],
             [
              0.1111111111111111,
              "#46039f"
             ],
             [
              0.2222222222222222,
              "#7201a8"
             ],
             [
              0.3333333333333333,
              "#9c179e"
             ],
             [
              0.4444444444444444,
              "#bd3786"
             ],
             [
              0.5555555555555556,
              "#d8576b"
             ],
             [
              0.6666666666666666,
              "#ed7953"
             ],
             [
              0.7777777777777778,
              "#fb9f3a"
             ],
             [
              0.8888888888888888,
              "#fdca26"
             ],
             [
              1,
              "#f0f921"
             ]
            ],
            "type": "histogram2dcontour"
           }
          ],
          "mesh3d": [
           {
            "colorbar": {
             "outlinewidth": 0,
             "ticks": ""
            },
            "type": "mesh3d"
           }
          ],
          "parcoords": [
           {
            "line": {
             "colorbar": {
              "outlinewidth": 0,
              "ticks": ""
             }
            },
            "type": "parcoords"
           }
          ],
          "pie": [
           {
            "automargin": true,
            "type": "pie"
           }
          ],
          "scatter": [
           {
            "marker": {
             "colorbar": {
              "outlinewidth": 0,
              "ticks": ""
             }
            },
            "type": "scatter"
           }
          ],
          "scatter3d": [
           {
            "line": {
             "colorbar": {
              "outlinewidth": 0,
              "ticks": ""
             }
            },
            "marker": {
             "colorbar": {
              "outlinewidth": 0,
              "ticks": ""
             }
            },
            "type": "scatter3d"
           }
          ],
          "scattercarpet": [
           {
            "marker": {
             "colorbar": {
              "outlinewidth": 0,
              "ticks": ""
             }
            },
            "type": "scattercarpet"
           }
          ],
          "scattergeo": [
           {
            "marker": {
             "colorbar": {
              "outlinewidth": 0,
              "ticks": ""
             }
            },
            "type": "scattergeo"
           }
          ],
          "scattergl": [
           {
            "marker": {
             "colorbar": {
              "outlinewidth": 0,
              "ticks": ""
             }
            },
            "type": "scattergl"
           }
          ],
          "scattermapbox": [
           {
            "marker": {
             "colorbar": {
              "outlinewidth": 0,
              "ticks": ""
             }
            },
            "type": "scattermapbox"
           }
          ],
          "scatterpolar": [
           {
            "marker": {
             "colorbar": {
              "outlinewidth": 0,
              "ticks": ""
             }
            },
            "type": "scatterpolar"
           }
          ],
          "scatterpolargl": [
           {
            "marker": {
             "colorbar": {
              "outlinewidth": 0,
              "ticks": ""
             }
            },
            "type": "scatterpolargl"
           }
          ],
          "scatterternary": [
           {
            "marker": {
             "colorbar": {
              "outlinewidth": 0,
              "ticks": ""
             }
            },
            "type": "scatterternary"
           }
          ],
          "surface": [
           {
            "colorbar": {
             "outlinewidth": 0,
             "ticks": ""
            },
            "colorscale": [
             [
              0,
              "#0d0887"
             ],
             [
              0.1111111111111111,
              "#46039f"
             ],
             [
              0.2222222222222222,
              "#7201a8"
             ],
             [
              0.3333333333333333,
              "#9c179e"
             ],
             [
              0.4444444444444444,
              "#bd3786"
             ],
             [
              0.5555555555555556,
              "#d8576b"
             ],
             [
              0.6666666666666666,
              "#ed7953"
             ],
             [
              0.7777777777777778,
              "#fb9f3a"
             ],
             [
              0.8888888888888888,
              "#fdca26"
             ],
             [
              1,
              "#f0f921"
             ]
            ],
            "type": "surface"
           }
          ],
          "table": [
           {
            "cells": {
             "fill": {
              "color": "#EBF0F8"
             },
             "line": {
              "color": "white"
             }
            },
            "header": {
             "fill": {
              "color": "#C8D4E3"
             },
             "line": {
              "color": "white"
             }
            },
            "type": "table"
           }
          ]
         },
         "layout": {
          "annotationdefaults": {
           "arrowcolor": "#2a3f5f",
           "arrowhead": 0,
           "arrowwidth": 1
          },
          "coloraxis": {
           "colorbar": {
            "outlinewidth": 0,
            "ticks": ""
           }
          },
          "colorscale": {
           "diverging": [
            [
             0,
             "#8e0152"
            ],
            [
             0.1,
             "#c51b7d"
            ],
            [
             0.2,
             "#de77ae"
            ],
            [
             0.3,
             "#f1b6da"
            ],
            [
             0.4,
             "#fde0ef"
            ],
            [
             0.5,
             "#f7f7f7"
            ],
            [
             0.6,
             "#e6f5d0"
            ],
            [
             0.7,
             "#b8e186"
            ],
            [
             0.8,
             "#7fbc41"
            ],
            [
             0.9,
             "#4d9221"
            ],
            [
             1,
             "#276419"
            ]
           ],
           "sequential": [
            [
             0,
             "#0d0887"
            ],
            [
             0.1111111111111111,
             "#46039f"
            ],
            [
             0.2222222222222222,
             "#7201a8"
            ],
            [
             0.3333333333333333,
             "#9c179e"
            ],
            [
             0.4444444444444444,
             "#bd3786"
            ],
            [
             0.5555555555555556,
             "#d8576b"
            ],
            [
             0.6666666666666666,
             "#ed7953"
            ],
            [
             0.7777777777777778,
             "#fb9f3a"
            ],
            [
             0.8888888888888888,
             "#fdca26"
            ],
            [
             1,
             "#f0f921"
            ]
           ],
           "sequentialminus": [
            [
             0,
             "#0d0887"
            ],
            [
             0.1111111111111111,
             "#46039f"
            ],
            [
             0.2222222222222222,
             "#7201a8"
            ],
            [
             0.3333333333333333,
             "#9c179e"
            ],
            [
             0.4444444444444444,
             "#bd3786"
            ],
            [
             0.5555555555555556,
             "#d8576b"
            ],
            [
             0.6666666666666666,
             "#ed7953"
            ],
            [
             0.7777777777777778,
             "#fb9f3a"
            ],
            [
             0.8888888888888888,
             "#fdca26"
            ],
            [
             1,
             "#f0f921"
            ]
           ]
          },
          "colorway": [
           "#636efa",
           "#EF553B",
           "#00cc96",
           "#ab63fa",
           "#FFA15A",
           "#19d3f3",
           "#FF6692",
           "#B6E880",
           "#FF97FF",
           "#FECB52"
          ],
          "font": {
           "color": "#2a3f5f"
          },
          "geo": {
           "bgcolor": "white",
           "lakecolor": "white",
           "landcolor": "#E5ECF6",
           "showlakes": true,
           "showland": true,
           "subunitcolor": "white"
          },
          "hoverlabel": {
           "align": "left"
          },
          "hovermode": "closest",
          "mapbox": {
           "style": "light"
          },
          "paper_bgcolor": "white",
          "plot_bgcolor": "#E5ECF6",
          "polar": {
           "angularaxis": {
            "gridcolor": "white",
            "linecolor": "white",
            "ticks": ""
           },
           "bgcolor": "#E5ECF6",
           "radialaxis": {
            "gridcolor": "white",
            "linecolor": "white",
            "ticks": ""
           }
          },
          "scene": {
           "xaxis": {
            "backgroundcolor": "#E5ECF6",
            "gridcolor": "white",
            "gridwidth": 2,
            "linecolor": "white",
            "showbackground": true,
            "ticks": "",
            "zerolinecolor": "white"
           },
           "yaxis": {
            "backgroundcolor": "#E5ECF6",
            "gridcolor": "white",
            "gridwidth": 2,
            "linecolor": "white",
            "showbackground": true,
            "ticks": "",
            "zerolinecolor": "white"
           },
           "zaxis": {
            "backgroundcolor": "#E5ECF6",
            "gridcolor": "white",
            "gridwidth": 2,
            "linecolor": "white",
            "showbackground": true,
            "ticks": "",
            "zerolinecolor": "white"
           }
          },
          "shapedefaults": {
           "line": {
            "color": "#2a3f5f"
           }
          },
          "ternary": {
           "aaxis": {
            "gridcolor": "white",
            "linecolor": "white",
            "ticks": ""
           },
           "baxis": {
            "gridcolor": "white",
            "linecolor": "white",
            "ticks": ""
           },
           "bgcolor": "#E5ECF6",
           "caxis": {
            "gridcolor": "white",
            "linecolor": "white",
            "ticks": ""
           }
          },
          "title": {
           "x": 0.05
          },
          "xaxis": {
           "automargin": true,
           "gridcolor": "white",
           "linecolor": "white",
           "ticks": "",
           "title": {
            "standoff": 15
           },
           "zerolinecolor": "white",
           "zerolinewidth": 2
          },
          "yaxis": {
           "automargin": true,
           "gridcolor": "white",
           "linecolor": "white",
           "ticks": "",
           "title": {
            "standoff": 15
           },
           "zerolinecolor": "white",
           "zerolinewidth": 2
          }
         }
        },
        "title": {
         "font": {
          "color": "#4D5663"
         }
        },
        "xaxis": {
         "gridcolor": "#E1E5ED",
         "showgrid": true,
         "tickfont": {
          "color": "#4D5663"
         },
         "title": {
          "font": {
           "color": "#4D5663"
          },
          "text": ""
         },
         "zerolinecolor": "#E1E5ED"
        },
        "yaxis": {
         "gridcolor": "#E1E5ED",
         "showgrid": true,
         "tickfont": {
          "color": "#4D5663"
         },
         "title": {
          "font": {
           "color": "#4D5663"
          },
          "text": ""
         },
         "zerolinecolor": "#E1E5ED"
        }
       }
      },
      "text/html": [
       "<div>                            <div id=\"0e0b1c67-2a01-4a34-8026-09f198363472\" class=\"plotly-graph-div\" style=\"height:525px; width:100%;\"></div>            <script type=\"text/javascript\">                require([\"plotly\"], function(Plotly) {                    window.PLOTLYENV=window.PLOTLYENV || {};\n",
       "                    window.PLOTLYENV.BASE_URL='https://plot.ly';                                    if (document.getElementById(\"0e0b1c67-2a01-4a34-8026-09f198363472\")) {                    Plotly.newPlot(                        \"0e0b1c67-2a01-4a34-8026-09f198363472\",                        [{\"marker\": {\"color\": \"rgba(255, 153, 51, 0.6)\", \"line\": {\"color\": \"rgba(255, 153, 51, 1.0)\", \"width\": 1}}, \"name\": \"None\", \"orientation\": \"v\", \"text\": \"\", \"type\": \"bar\", \"x\": [\"A\", \"B\", \"C\", \"D\"], \"y\": [100, 100, 100, 100]}],                        {\"legend\": {\"bgcolor\": \"#F5F6F9\", \"font\": {\"color\": \"#4D5663\"}}, \"paper_bgcolor\": \"#F5F6F9\", \"plot_bgcolor\": \"#F5F6F9\", \"template\": {\"data\": {\"bar\": [{\"error_x\": {\"color\": \"#2a3f5f\"}, \"error_y\": {\"color\": \"#2a3f5f\"}, \"marker\": {\"line\": {\"color\": \"#E5ECF6\", \"width\": 0.5}}, \"type\": \"bar\"}], \"barpolar\": [{\"marker\": {\"line\": {\"color\": \"#E5ECF6\", \"width\": 0.5}}, \"type\": \"barpolar\"}], \"carpet\": [{\"aaxis\": {\"endlinecolor\": \"#2a3f5f\", \"gridcolor\": \"white\", \"linecolor\": \"white\", \"minorgridcolor\": \"white\", \"startlinecolor\": \"#2a3f5f\"}, \"baxis\": {\"endlinecolor\": \"#2a3f5f\", \"gridcolor\": \"white\", \"linecolor\": \"white\", \"minorgridcolor\": \"white\", \"startlinecolor\": \"#2a3f5f\"}, \"type\": \"carpet\"}], \"choropleth\": [{\"colorbar\": {\"outlinewidth\": 0, \"ticks\": \"\"}, \"type\": \"choropleth\"}], \"contour\": [{\"colorbar\": {\"outlinewidth\": 0, \"ticks\": \"\"}, \"colorscale\": [[0.0, \"#0d0887\"], [0.1111111111111111, \"#46039f\"], [0.2222222222222222, \"#7201a8\"], [0.3333333333333333, \"#9c179e\"], [0.4444444444444444, \"#bd3786\"], [0.5555555555555556, \"#d8576b\"], [0.6666666666666666, \"#ed7953\"], [0.7777777777777778, \"#fb9f3a\"], [0.8888888888888888, \"#fdca26\"], [1.0, \"#f0f921\"]], \"type\": \"contour\"}], \"contourcarpet\": [{\"colorbar\": {\"outlinewidth\": 0, \"ticks\": \"\"}, \"type\": \"contourcarpet\"}], \"heatmap\": [{\"colorbar\": {\"outlinewidth\": 0, \"ticks\": \"\"}, \"colorscale\": [[0.0, \"#0d0887\"], [0.1111111111111111, \"#46039f\"], [0.2222222222222222, \"#7201a8\"], [0.3333333333333333, \"#9c179e\"], [0.4444444444444444, \"#bd3786\"], [0.5555555555555556, \"#d8576b\"], [0.6666666666666666, \"#ed7953\"], [0.7777777777777778, \"#fb9f3a\"], [0.8888888888888888, \"#fdca26\"], [1.0, \"#f0f921\"]], \"type\": \"heatmap\"}], \"heatmapgl\": [{\"colorbar\": {\"outlinewidth\": 0, \"ticks\": \"\"}, \"colorscale\": [[0.0, \"#0d0887\"], [0.1111111111111111, \"#46039f\"], [0.2222222222222222, \"#7201a8\"], [0.3333333333333333, \"#9c179e\"], [0.4444444444444444, \"#bd3786\"], [0.5555555555555556, \"#d8576b\"], [0.6666666666666666, \"#ed7953\"], [0.7777777777777778, \"#fb9f3a\"], [0.8888888888888888, \"#fdca26\"], [1.0, \"#f0f921\"]], \"type\": \"heatmapgl\"}], \"histogram\": [{\"marker\": {\"colorbar\": {\"outlinewidth\": 0, \"ticks\": \"\"}}, \"type\": \"histogram\"}], \"histogram2d\": [{\"colorbar\": {\"outlinewidth\": 0, \"ticks\": \"\"}, \"colorscale\": [[0.0, \"#0d0887\"], [0.1111111111111111, \"#46039f\"], [0.2222222222222222, \"#7201a8\"], [0.3333333333333333, \"#9c179e\"], [0.4444444444444444, \"#bd3786\"], [0.5555555555555556, \"#d8576b\"], [0.6666666666666666, \"#ed7953\"], [0.7777777777777778, \"#fb9f3a\"], [0.8888888888888888, \"#fdca26\"], [1.0, \"#f0f921\"]], \"type\": \"histogram2d\"}], \"histogram2dcontour\": [{\"colorbar\": {\"outlinewidth\": 0, \"ticks\": \"\"}, \"colorscale\": [[0.0, \"#0d0887\"], [0.1111111111111111, \"#46039f\"], [0.2222222222222222, \"#7201a8\"], [0.3333333333333333, \"#9c179e\"], [0.4444444444444444, \"#bd3786\"], [0.5555555555555556, \"#d8576b\"], [0.6666666666666666, \"#ed7953\"], [0.7777777777777778, \"#fb9f3a\"], [0.8888888888888888, \"#fdca26\"], [1.0, \"#f0f921\"]], \"type\": \"histogram2dcontour\"}], \"mesh3d\": [{\"colorbar\": {\"outlinewidth\": 0, \"ticks\": \"\"}, \"type\": \"mesh3d\"}], \"parcoords\": [{\"line\": {\"colorbar\": {\"outlinewidth\": 0, \"ticks\": \"\"}}, \"type\": \"parcoords\"}], \"pie\": [{\"automargin\": true, \"type\": \"pie\"}], \"scatter\": [{\"marker\": {\"colorbar\": {\"outlinewidth\": 0, \"ticks\": \"\"}}, \"type\": \"scatter\"}], \"scatter3d\": [{\"line\": {\"colorbar\": {\"outlinewidth\": 0, \"ticks\": \"\"}}, \"marker\": {\"colorbar\": {\"outlinewidth\": 0, \"ticks\": \"\"}}, \"type\": \"scatter3d\"}], \"scattercarpet\": [{\"marker\": {\"colorbar\": {\"outlinewidth\": 0, \"ticks\": \"\"}}, \"type\": \"scattercarpet\"}], \"scattergeo\": [{\"marker\": {\"colorbar\": {\"outlinewidth\": 0, \"ticks\": \"\"}}, \"type\": \"scattergeo\"}], \"scattergl\": [{\"marker\": {\"colorbar\": {\"outlinewidth\": 0, \"ticks\": \"\"}}, \"type\": \"scattergl\"}], \"scattermapbox\": [{\"marker\": {\"colorbar\": {\"outlinewidth\": 0, \"ticks\": \"\"}}, \"type\": \"scattermapbox\"}], \"scatterpolar\": [{\"marker\": {\"colorbar\": {\"outlinewidth\": 0, \"ticks\": \"\"}}, \"type\": \"scatterpolar\"}], \"scatterpolargl\": [{\"marker\": {\"colorbar\": {\"outlinewidth\": 0, \"ticks\": \"\"}}, \"type\": \"scatterpolargl\"}], \"scatterternary\": [{\"marker\": {\"colorbar\": {\"outlinewidth\": 0, \"ticks\": \"\"}}, \"type\": \"scatterternary\"}], \"surface\": [{\"colorbar\": {\"outlinewidth\": 0, \"ticks\": \"\"}, \"colorscale\": [[0.0, \"#0d0887\"], [0.1111111111111111, \"#46039f\"], [0.2222222222222222, \"#7201a8\"], [0.3333333333333333, \"#9c179e\"], [0.4444444444444444, \"#bd3786\"], [0.5555555555555556, \"#d8576b\"], [0.6666666666666666, \"#ed7953\"], [0.7777777777777778, \"#fb9f3a\"], [0.8888888888888888, \"#fdca26\"], [1.0, \"#f0f921\"]], \"type\": \"surface\"}], \"table\": [{\"cells\": {\"fill\": {\"color\": \"#EBF0F8\"}, \"line\": {\"color\": \"white\"}}, \"header\": {\"fill\": {\"color\": \"#C8D4E3\"}, \"line\": {\"color\": \"white\"}}, \"type\": \"table\"}]}, \"layout\": {\"annotationdefaults\": {\"arrowcolor\": \"#2a3f5f\", \"arrowhead\": 0, \"arrowwidth\": 1}, \"coloraxis\": {\"colorbar\": {\"outlinewidth\": 0, \"ticks\": \"\"}}, \"colorscale\": {\"diverging\": [[0, \"#8e0152\"], [0.1, \"#c51b7d\"], [0.2, \"#de77ae\"], [0.3, \"#f1b6da\"], [0.4, \"#fde0ef\"], [0.5, \"#f7f7f7\"], [0.6, \"#e6f5d0\"], [0.7, \"#b8e186\"], [0.8, \"#7fbc41\"], [0.9, \"#4d9221\"], [1, \"#276419\"]], \"sequential\": [[0.0, \"#0d0887\"], [0.1111111111111111, \"#46039f\"], [0.2222222222222222, \"#7201a8\"], [0.3333333333333333, \"#9c179e\"], [0.4444444444444444, \"#bd3786\"], [0.5555555555555556, \"#d8576b\"], [0.6666666666666666, \"#ed7953\"], [0.7777777777777778, \"#fb9f3a\"], [0.8888888888888888, \"#fdca26\"], [1.0, \"#f0f921\"]], \"sequentialminus\": [[0.0, \"#0d0887\"], [0.1111111111111111, \"#46039f\"], [0.2222222222222222, \"#7201a8\"], [0.3333333333333333, \"#9c179e\"], [0.4444444444444444, \"#bd3786\"], [0.5555555555555556, \"#d8576b\"], [0.6666666666666666, \"#ed7953\"], [0.7777777777777778, \"#fb9f3a\"], [0.8888888888888888, \"#fdca26\"], [1.0, \"#f0f921\"]]}, \"colorway\": [\"#636efa\", \"#EF553B\", \"#00cc96\", \"#ab63fa\", \"#FFA15A\", \"#19d3f3\", \"#FF6692\", \"#B6E880\", \"#FF97FF\", \"#FECB52\"], \"font\": {\"color\": \"#2a3f5f\"}, \"geo\": {\"bgcolor\": \"white\", \"lakecolor\": \"white\", \"landcolor\": \"#E5ECF6\", \"showlakes\": true, \"showland\": true, \"subunitcolor\": \"white\"}, \"hoverlabel\": {\"align\": \"left\"}, \"hovermode\": \"closest\", \"mapbox\": {\"style\": \"light\"}, \"paper_bgcolor\": \"white\", \"plot_bgcolor\": \"#E5ECF6\", \"polar\": {\"angularaxis\": {\"gridcolor\": \"white\", \"linecolor\": \"white\", \"ticks\": \"\"}, \"bgcolor\": \"#E5ECF6\", \"radialaxis\": {\"gridcolor\": \"white\", \"linecolor\": \"white\", \"ticks\": \"\"}}, \"scene\": {\"xaxis\": {\"backgroundcolor\": \"#E5ECF6\", \"gridcolor\": \"white\", \"gridwidth\": 2, \"linecolor\": \"white\", \"showbackground\": true, \"ticks\": \"\", \"zerolinecolor\": \"white\"}, \"yaxis\": {\"backgroundcolor\": \"#E5ECF6\", \"gridcolor\": \"white\", \"gridwidth\": 2, \"linecolor\": \"white\", \"showbackground\": true, \"ticks\": \"\", \"zerolinecolor\": \"white\"}, \"zaxis\": {\"backgroundcolor\": \"#E5ECF6\", \"gridcolor\": \"white\", \"gridwidth\": 2, \"linecolor\": \"white\", \"showbackground\": true, \"ticks\": \"\", \"zerolinecolor\": \"white\"}}, \"shapedefaults\": {\"line\": {\"color\": \"#2a3f5f\"}}, \"ternary\": {\"aaxis\": {\"gridcolor\": \"white\", \"linecolor\": \"white\", \"ticks\": \"\"}, \"baxis\": {\"gridcolor\": \"white\", \"linecolor\": \"white\", \"ticks\": \"\"}, \"bgcolor\": \"#E5ECF6\", \"caxis\": {\"gridcolor\": \"white\", \"linecolor\": \"white\", \"ticks\": \"\"}}, \"title\": {\"x\": 0.05}, \"xaxis\": {\"automargin\": true, \"gridcolor\": \"white\", \"linecolor\": \"white\", \"ticks\": \"\", \"title\": {\"standoff\": 15}, \"zerolinecolor\": \"white\", \"zerolinewidth\": 2}, \"yaxis\": {\"automargin\": true, \"gridcolor\": \"white\", \"linecolor\": \"white\", \"ticks\": \"\", \"title\": {\"standoff\": 15}, \"zerolinecolor\": \"white\", \"zerolinewidth\": 2}}}, \"title\": {\"font\": {\"color\": \"#4D5663\"}}, \"xaxis\": {\"gridcolor\": \"#E1E5ED\", \"showgrid\": true, \"tickfont\": {\"color\": \"#4D5663\"}, \"title\": {\"font\": {\"color\": \"#4D5663\"}, \"text\": \"\"}, \"zerolinecolor\": \"#E1E5ED\"}, \"yaxis\": {\"gridcolor\": \"#E1E5ED\", \"showgrid\": true, \"tickfont\": {\"color\": \"#4D5663\"}, \"title\": {\"font\": {\"color\": \"#4D5663\"}, \"text\": \"\"}, \"zerolinecolor\": \"#E1E5ED\"}},                        {\"showLink\": true, \"linkText\": \"Export to plot.ly\", \"plotlyServerURL\": \"https://plot.ly\", \"responsive\": true}                    ).then(function(){\n",
       "                            \n",
       "var gd = document.getElementById('0e0b1c67-2a01-4a34-8026-09f198363472');\n",
       "var x = new MutationObserver(function (mutations, observer) {{\n",
       "        var display = window.getComputedStyle(gd).display;\n",
       "        if (!display || display === 'none') {{\n",
       "            console.log([gd, 'removed!']);\n",
       "            Plotly.purge(gd);\n",
       "            observer.disconnect();\n",
       "        }}\n",
       "}});\n",
       "\n",
       "// Listen for the removal of the full notebook cells\n",
       "var notebookContainer = gd.closest('#notebook-container');\n",
       "if (notebookContainer) {{\n",
       "    x.observe(notebookContainer, {childList: true});\n",
       "}}\n",
       "\n",
       "// Listen for the clearing of the current output cell\n",
       "var outputEl = gd.closest('.output');\n",
       "if (outputEl) {{\n",
       "    x.observe(outputEl, {childList: true});\n",
       "}}\n",
       "\n",
       "                        })                };                });            </script>        </div>"
      ]
     },
     "metadata": {},
     "output_type": "display_data"
    }
   ],
   "source": [
    "df.count().iplot(kind='bar')"
   ]
  },
  {
   "cell_type": "markdown",
   "metadata": {},
   "source": [
    "## Boxplots"
   ]
  },
  {
   "cell_type": "code",
   "execution_count": 13,
   "metadata": {},
   "outputs": [
    {
     "data": {
      "application/vnd.plotly.v1+json": {
       "config": {
        "linkText": "Export to plot.ly",
        "plotlyServerURL": "https://plot.ly",
        "showLink": true
       },
       "data": [
        {
         "boxpoints": false,
         "line": {
          "width": 1.3
         },
         "marker": {
          "color": "rgba(255, 153, 51, 1.0)"
         },
         "name": "A",
         "orientation": "v",
         "type": "box",
         "y": [
          -1.5355354192230586,
          -1.0527533192824858,
          1.0651922435485306,
          -0.3569392648813912,
          -1.2980144850988753,
          0.4979310577149322,
          0.5901952780313333,
          2.2774192822713237,
          -0.21876345827157676,
          -1.3349125647531113,
          -0.22055827664732808,
          0.7293643918751058,
          1.3259697709398004,
          -1.3720675861464693,
          1.7686765997019345,
          -0.21278705743547888,
          0.5621565488693779,
          -0.3792433474006059,
          -0.6750765094602391,
          -1.1845114394252805,
          -0.04649534177230828,
          1.1495256182501377,
          -0.41816004179319194,
          -1.0239481102629837,
          0.9946927964952956,
          0.6052416074897078,
          -1.9151632304247237,
          -0.3403894901650628,
          -0.4537997371869349,
          -0.7397293859495888,
          -0.9253789977904611,
          1.601930601973586,
          -1.4650826388661842,
          0.5270957520989601,
          -1.180253879455318,
          0.6850387941860184,
          -0.3678223463530502,
          -0.30500706501587305,
          -0.5542070516960862,
          -1.4312224043373811,
          -0.1848981571335127,
          0.6206299218949423,
          -1.0367501124402183,
          -1.0595095262876875,
          1.2105069014091077,
          0.5051738136010172,
          0.47177060342443633,
          -0.8144767662360516,
          0.11560223236678412,
          -1.8004185138809787,
          1.1576067690845295,
          0.5870612302887921,
          -1.2727449517938831,
          -0.3406361971233455,
          1.0983528236620699,
          0.49739189471308093,
          0.7647466281588152,
          2.1408660174962026,
          0.5061816115949632,
          0.120177007037446,
          -0.2712416900133294,
          -0.40368260942789297,
          -0.21235062677455707,
          0.9566608507041349,
          -0.592846919794081,
          0.9416099029137102,
          -0.13030336454300231,
          -0.4912598770441894,
          -0.0556549547985368,
          0.9901139892278719,
          -0.14111330498012714,
          -0.5733355116267539,
          -0.9446232149514938,
          1.4042766106007183,
          -0.7046212552212995,
          -0.3206051538056349,
          -0.4756918981281842,
          -1.2681053547018966,
          -0.47397096250784604,
          0.34213108483355736,
          -1.1842372349810686,
          -1.1458192389317712,
          -1.2557624556630214,
          1.5501458563898547,
          -0.08616993227352977,
          -0.06300453186192329,
          0.003078698431574541,
          0.35152717580520365,
          0.4241210560491202,
          -2.9474968859825985,
          -0.019618922077270073,
          1.7521003147708671,
          1.4658803481569689,
          0.7900509900134237,
          0.2829821582586573,
          -0.05612046663179397,
          0.10448201357335772,
          0.10872292715876054,
          -1.9192126781078032,
          -1.7708965409979374
         ]
        },
        {
         "boxpoints": false,
         "line": {
          "width": 1.3
         },
         "marker": {
          "color": "rgba(55, 128, 191, 1.0)"
         },
         "name": "B",
         "orientation": "v",
         "type": "box",
         "y": [
          0.44735427314727433,
          -0.7508676450145815,
          0.18480434357317638,
          1.036858322212885,
          -1.043241632500722,
          -0.8413278507817418,
          0.6558618794274739,
          0.5547624862355806,
          0.6951192553620779,
          1.2726390156513538,
          -1.0680701829108734,
          1.2342808921384112,
          -1.1770818873863,
          -0.05976217213720838,
          0.9628980396633287,
          -0.8901404178495665,
          -1.1149508423060148,
          -2.019268938013942,
          0.4045080210400765,
          0.9774315118014983,
          0.8823158393243271,
          -0.043892028650077755,
          -2.316995693382531,
          0.4824470912200743,
          0.6564093759271757,
          -0.3101323506764711,
          0.629675064442062,
          -0.01929264505742492,
          -0.5956332881663199,
          -0.37341864927398605,
          -0.3955603284516065,
          -0.43505004152181065,
          0.5351401117646758,
          -0.1026937541843101,
          1.4395671391316562,
          -0.8599186484811995,
          0.6694451179627202,
          1.1286626566501965,
          2.063900225407397,
          -0.9295699324300545,
          0.17986704216835986,
          -0.5912237439296492,
          0.10630993675686522,
          -0.812945654755612,
          -0.34896555934775925,
          -0.553821590107099,
          0.6948002006257248,
          0.24073423241409353,
          0.3534901314589533,
          0.4686033082769145,
          -0.31373165877423215,
          -0.7114395884089332,
          -0.6409387157834656,
          0.4500016803540507,
          0.21711326404288983,
          -0.018069262949005942,
          0.6533802428552622,
          2.7828377337588623,
          1.5427776839709029,
          -0.1368525036344999,
          1.157314574619203,
          0.08968142121865062,
          1.0250856504271342,
          -1.9498605017780728,
          0.14600612105419417,
          1.3459243558586542,
          2.06593462275695,
          0.42818100775719403,
          1.3838953490438173,
          0.4734834155141974,
          -1.011243590326672,
          0.11941076540907923,
          0.4210363473429892,
          -1.480006232120809,
          1.8917742903441508,
          0.6887241945908786,
          1.5305407582805401,
          1.8528719094913844,
          2.0161692177771444,
          -0.49914963074557095,
          0.006967052436891432,
          -0.6449582167389107,
          -0.012249603523494667,
          0.5460881067575699,
          -0.10795163655635079,
          -2.37755617157348,
          -0.684219199300508,
          -1.242862178273611,
          2.153969226489427,
          -0.24502072610151426,
          0.8046263790364315,
          0.5406306107809049,
          -0.033216951156400706,
          -0.43847955592322213,
          -0.7124046913765233,
          -2.0170961431160714,
          0.6618154709573927,
          1.2054316613067024,
          -1.7938465004014814,
          -0.23658857048597437
         ]
        },
        {
         "boxpoints": false,
         "line": {
          "width": 1.3
         },
         "marker": {
          "color": "rgba(50, 171, 96, 1.0)"
         },
         "name": "C",
         "orientation": "v",
         "type": "box",
         "y": [
          -1.3738134386537695,
          -0.33154760866755245,
          0.5338145248192406,
          0.4608987226336679,
          -0.21379000029761472,
          0.9448939277523196,
          0.4707011571665421,
          0.04628699959826728,
          -0.7163093779094806,
          0.4931210474463861,
          1.3362590091556465,
          -0.07860391616473675,
          0.5597020938143775,
          -0.48180653488188785,
          -0.1313413311789289,
          -0.43681966271399725,
          -0.7163545344053858,
          -1.0161897607735326,
          -0.36162337846116493,
          2.1192219161583767,
          -1.6059299241357936,
          -0.1381797103031496,
          -0.49744272418647034,
          -0.7984874437044165,
          -0.947126401096751,
          1.0125591611126339,
          0.4358837709106574,
          -0.8508993990932405,
          1.7601510638739442,
          1.5750351009734351,
          -1.3256104510414441,
          0.36507549523854027,
          -0.7231408229663161,
          0.22093610131137742,
          0.2777049752403186,
          1.6241433617832146,
          0.9919500748761527,
          -0.3436788175157517,
          -1.720185888425874,
          -0.3921982028156328,
          0.6503583066579238,
          -0.9522043501268864,
          -1.8894452797345227,
          1.875277101018438,
          0.5265831171179596,
          -0.7463697207022431,
          1.039800466247709,
          0.19685289998248875,
          1.2021709373969434,
          -0.8893629192696274,
          0.870141257912497,
          -0.9728221610318893,
          0.7306351420566899,
          1.1459599080744383,
          -0.4226578328354158,
          1.3734464473889625,
          -0.7624814463266807,
          0.04640772065513277,
          0.23090422686206544,
          0.7968718817474381,
          -0.3662810497855493,
          0.21266163663539278,
          -1.8416163883777148,
          -0.12319179592369105,
          0.774480973468789,
          0.8976609477531223,
          0.6949526224472554,
          1.7691805296285532,
          0.9196866646631141,
          -0.3023417351943868,
          0.29056767981216897,
          0.6012753066978929,
          0.4038649027424802,
          -0.8293653861413336,
          -0.019476033600365285,
          -0.727816231370272,
          -0.6742090976475391,
          0.18123835775841923,
          -0.79688415077298,
          1.1080406440536665,
          0.2989728996556223,
          1.3845570961714635,
          0.37729845513466287,
          1.1514234360584108,
          0.25109306633948025,
          -0.614434993250707,
          -0.5337002394709033,
          -0.15753474171281567,
          0.5611646743278362,
          -1.0343647157520817,
          -0.05712065783687775,
          1.23259078830519,
          -1.2667562285738472,
          2.361820754515749,
          0.49084852254653355,
          -1.8198029703126448,
          -0.4680149660077137,
          -0.2329414521079991,
          -0.7030555174837161,
          0.20610328583979282
         ]
        },
        {
         "boxpoints": false,
         "line": {
          "width": 1.3
         },
         "marker": {
          "color": "rgba(128, 0, 128, 1.0)"
         },
         "name": "D",
         "orientation": "v",
         "type": "box",
         "y": [
          -1.0274725670201772,
          0.023637141630294022,
          -0.6824539224652907,
          0.7837338968082365,
          -0.07515011823509951,
          -0.42474109547851946,
          0.36004344442679403,
          1.446332455349724,
          0.6984597804936339,
          -2.0397312351302626,
          -0.5852530197811215,
          -1.0824311933745308,
          -0.8892300716428412,
          -1.0347485391478328,
          0.08543080419684033,
          0.8233700926431783,
          -1.0562961518267304,
          0.8847165716521627,
          -1.4637554896680398,
          0.9837764941941648,
          -0.32506446058696786,
          -0.02042130674687286,
          0.19343827263995,
          0.6461387633945138,
          -1.388152425492673,
          -0.08302922794426768,
          -0.45260774938521403,
          -0.8643671748461371,
          0.11424733358234256,
          -0.9455713376127116,
          -0.4352320549495443,
          0.7402206090676967,
          -0.48327956282045426,
          -0.5052575721088608,
          -0.20299667963793916,
          -0.13868543659460902,
          0.947326634845561,
          -0.7647926431579081,
          0.5341058963908148,
          -1.0966526684306195,
          -1.3155046341681338,
          -1.6347877142513192,
          -0.6937473975894909,
          0.5308353491396521,
          0.22264325742784116,
          0.10762454278672558,
          -0.688089943495127,
          -0.6065239634776818,
          -1.52824722128094,
          1.2139420909104432,
          0.9665746839926376,
          -1.0876825710988056,
          1.1413802684777257,
          -0.8703918231086764,
          -1.7349297900937353,
          0.3712947088189332,
          -1.2758418349147609,
          -0.4931837358389391,
          -1.4100411439951597,
          -0.6848003520436998,
          -0.3059002269384813,
          0.4800427341027472,
          1.1731034925493258,
          -0.7782996342054381,
          0.38739853337616287,
          2.0024104123558946,
          0.42452404447982145,
          -0.23580793721112825,
          -1.4189983096220247,
          1.503825532336096,
          0.08606308255635453,
          0.13433282682706227,
          0.949110531919716,
          0.08909210895203123,
          -1.2154525066932849,
          -1.4522185560314114,
          -1.0018860152920797,
          2.0842344317741905,
          -0.849378054914496,
          0.0864244289884118,
          0.8822279908934498,
          0.4798270429641617,
          -0.839707415562348,
          1.5247859482529769,
          -1.6874032013441629,
          1.2449608163932362,
          -1.5782129308410158,
          0.8243621385608745,
          0.6180744947085115,
          -2.2229879540096045,
          -0.20277325856162157,
          -0.6892018729673994,
          -0.2353742304574779,
          1.014157729834675,
          0.6174554421452568,
          1.0540182742349078,
          -0.03767696275890132,
          0.25736092215867534,
          0.768449742273149,
          -0.48516684072979976
         ]
        }
       ],
       "layout": {
        "legend": {
         "bgcolor": "#F5F6F9",
         "font": {
          "color": "#4D5663"
         }
        },
        "paper_bgcolor": "#F5F6F9",
        "plot_bgcolor": "#F5F6F9",
        "template": {
         "data": {
          "bar": [
           {
            "error_x": {
             "color": "#2a3f5f"
            },
            "error_y": {
             "color": "#2a3f5f"
            },
            "marker": {
             "line": {
              "color": "#E5ECF6",
              "width": 0.5
             }
            },
            "type": "bar"
           }
          ],
          "barpolar": [
           {
            "marker": {
             "line": {
              "color": "#E5ECF6",
              "width": 0.5
             }
            },
            "type": "barpolar"
           }
          ],
          "carpet": [
           {
            "aaxis": {
             "endlinecolor": "#2a3f5f",
             "gridcolor": "white",
             "linecolor": "white",
             "minorgridcolor": "white",
             "startlinecolor": "#2a3f5f"
            },
            "baxis": {
             "endlinecolor": "#2a3f5f",
             "gridcolor": "white",
             "linecolor": "white",
             "minorgridcolor": "white",
             "startlinecolor": "#2a3f5f"
            },
            "type": "carpet"
           }
          ],
          "choropleth": [
           {
            "colorbar": {
             "outlinewidth": 0,
             "ticks": ""
            },
            "type": "choropleth"
           }
          ],
          "contour": [
           {
            "colorbar": {
             "outlinewidth": 0,
             "ticks": ""
            },
            "colorscale": [
             [
              0,
              "#0d0887"
             ],
             [
              0.1111111111111111,
              "#46039f"
             ],
             [
              0.2222222222222222,
              "#7201a8"
             ],
             [
              0.3333333333333333,
              "#9c179e"
             ],
             [
              0.4444444444444444,
              "#bd3786"
             ],
             [
              0.5555555555555556,
              "#d8576b"
             ],
             [
              0.6666666666666666,
              "#ed7953"
             ],
             [
              0.7777777777777778,
              "#fb9f3a"
             ],
             [
              0.8888888888888888,
              "#fdca26"
             ],
             [
              1,
              "#f0f921"
             ]
            ],
            "type": "contour"
           }
          ],
          "contourcarpet": [
           {
            "colorbar": {
             "outlinewidth": 0,
             "ticks": ""
            },
            "type": "contourcarpet"
           }
          ],
          "heatmap": [
           {
            "colorbar": {
             "outlinewidth": 0,
             "ticks": ""
            },
            "colorscale": [
             [
              0,
              "#0d0887"
             ],
             [
              0.1111111111111111,
              "#46039f"
             ],
             [
              0.2222222222222222,
              "#7201a8"
             ],
             [
              0.3333333333333333,
              "#9c179e"
             ],
             [
              0.4444444444444444,
              "#bd3786"
             ],
             [
              0.5555555555555556,
              "#d8576b"
             ],
             [
              0.6666666666666666,
              "#ed7953"
             ],
             [
              0.7777777777777778,
              "#fb9f3a"
             ],
             [
              0.8888888888888888,
              "#fdca26"
             ],
             [
              1,
              "#f0f921"
             ]
            ],
            "type": "heatmap"
           }
          ],
          "heatmapgl": [
           {
            "colorbar": {
             "outlinewidth": 0,
             "ticks": ""
            },
            "colorscale": [
             [
              0,
              "#0d0887"
             ],
             [
              0.1111111111111111,
              "#46039f"
             ],
             [
              0.2222222222222222,
              "#7201a8"
             ],
             [
              0.3333333333333333,
              "#9c179e"
             ],
             [
              0.4444444444444444,
              "#bd3786"
             ],
             [
              0.5555555555555556,
              "#d8576b"
             ],
             [
              0.6666666666666666,
              "#ed7953"
             ],
             [
              0.7777777777777778,
              "#fb9f3a"
             ],
             [
              0.8888888888888888,
              "#fdca26"
             ],
             [
              1,
              "#f0f921"
             ]
            ],
            "type": "heatmapgl"
           }
          ],
          "histogram": [
           {
            "marker": {
             "colorbar": {
              "outlinewidth": 0,
              "ticks": ""
             }
            },
            "type": "histogram"
           }
          ],
          "histogram2d": [
           {
            "colorbar": {
             "outlinewidth": 0,
             "ticks": ""
            },
            "colorscale": [
             [
              0,
              "#0d0887"
             ],
             [
              0.1111111111111111,
              "#46039f"
             ],
             [
              0.2222222222222222,
              "#7201a8"
             ],
             [
              0.3333333333333333,
              "#9c179e"
             ],
             [
              0.4444444444444444,
              "#bd3786"
             ],
             [
              0.5555555555555556,
              "#d8576b"
             ],
             [
              0.6666666666666666,
              "#ed7953"
             ],
             [
              0.7777777777777778,
              "#fb9f3a"
             ],
             [
              0.8888888888888888,
              "#fdca26"
             ],
             [
              1,
              "#f0f921"
             ]
            ],
            "type": "histogram2d"
           }
          ],
          "histogram2dcontour": [
           {
            "colorbar": {
             "outlinewidth": 0,
             "ticks": ""
            },
            "colorscale": [
             [
              0,
              "#0d0887"
             ],
             [
              0.1111111111111111,
              "#46039f"
             ],
             [
              0.2222222222222222,
              "#7201a8"
             ],
             [
              0.3333333333333333,
              "#9c179e"
             ],
             [
              0.4444444444444444,
              "#bd3786"
             ],
             [
              0.5555555555555556,
              "#d8576b"
             ],
             [
              0.6666666666666666,
              "#ed7953"
             ],
             [
              0.7777777777777778,
              "#fb9f3a"
             ],
             [
              0.8888888888888888,
              "#fdca26"
             ],
             [
              1,
              "#f0f921"
             ]
            ],
            "type": "histogram2dcontour"
           }
          ],
          "mesh3d": [
           {
            "colorbar": {
             "outlinewidth": 0,
             "ticks": ""
            },
            "type": "mesh3d"
           }
          ],
          "parcoords": [
           {
            "line": {
             "colorbar": {
              "outlinewidth": 0,
              "ticks": ""
             }
            },
            "type": "parcoords"
           }
          ],
          "pie": [
           {
            "automargin": true,
            "type": "pie"
           }
          ],
          "scatter": [
           {
            "marker": {
             "colorbar": {
              "outlinewidth": 0,
              "ticks": ""
             }
            },
            "type": "scatter"
           }
          ],
          "scatter3d": [
           {
            "line": {
             "colorbar": {
              "outlinewidth": 0,
              "ticks": ""
             }
            },
            "marker": {
             "colorbar": {
              "outlinewidth": 0,
              "ticks": ""
             }
            },
            "type": "scatter3d"
           }
          ],
          "scattercarpet": [
           {
            "marker": {
             "colorbar": {
              "outlinewidth": 0,
              "ticks": ""
             }
            },
            "type": "scattercarpet"
           }
          ],
          "scattergeo": [
           {
            "marker": {
             "colorbar": {
              "outlinewidth": 0,
              "ticks": ""
             }
            },
            "type": "scattergeo"
           }
          ],
          "scattergl": [
           {
            "marker": {
             "colorbar": {
              "outlinewidth": 0,
              "ticks": ""
             }
            },
            "type": "scattergl"
           }
          ],
          "scattermapbox": [
           {
            "marker": {
             "colorbar": {
              "outlinewidth": 0,
              "ticks": ""
             }
            },
            "type": "scattermapbox"
           }
          ],
          "scatterpolar": [
           {
            "marker": {
             "colorbar": {
              "outlinewidth": 0,
              "ticks": ""
             }
            },
            "type": "scatterpolar"
           }
          ],
          "scatterpolargl": [
           {
            "marker": {
             "colorbar": {
              "outlinewidth": 0,
              "ticks": ""
             }
            },
            "type": "scatterpolargl"
           }
          ],
          "scatterternary": [
           {
            "marker": {
             "colorbar": {
              "outlinewidth": 0,
              "ticks": ""
             }
            },
            "type": "scatterternary"
           }
          ],
          "surface": [
           {
            "colorbar": {
             "outlinewidth": 0,
             "ticks": ""
            },
            "colorscale": [
             [
              0,
              "#0d0887"
             ],
             [
              0.1111111111111111,
              "#46039f"
             ],
             [
              0.2222222222222222,
              "#7201a8"
             ],
             [
              0.3333333333333333,
              "#9c179e"
             ],
             [
              0.4444444444444444,
              "#bd3786"
             ],
             [
              0.5555555555555556,
              "#d8576b"
             ],
             [
              0.6666666666666666,
              "#ed7953"
             ],
             [
              0.7777777777777778,
              "#fb9f3a"
             ],
             [
              0.8888888888888888,
              "#fdca26"
             ],
             [
              1,
              "#f0f921"
             ]
            ],
            "type": "surface"
           }
          ],
          "table": [
           {
            "cells": {
             "fill": {
              "color": "#EBF0F8"
             },
             "line": {
              "color": "white"
             }
            },
            "header": {
             "fill": {
              "color": "#C8D4E3"
             },
             "line": {
              "color": "white"
             }
            },
            "type": "table"
           }
          ]
         },
         "layout": {
          "annotationdefaults": {
           "arrowcolor": "#2a3f5f",
           "arrowhead": 0,
           "arrowwidth": 1
          },
          "coloraxis": {
           "colorbar": {
            "outlinewidth": 0,
            "ticks": ""
           }
          },
          "colorscale": {
           "diverging": [
            [
             0,
             "#8e0152"
            ],
            [
             0.1,
             "#c51b7d"
            ],
            [
             0.2,
             "#de77ae"
            ],
            [
             0.3,
             "#f1b6da"
            ],
            [
             0.4,
             "#fde0ef"
            ],
            [
             0.5,
             "#f7f7f7"
            ],
            [
             0.6,
             "#e6f5d0"
            ],
            [
             0.7,
             "#b8e186"
            ],
            [
             0.8,
             "#7fbc41"
            ],
            [
             0.9,
             "#4d9221"
            ],
            [
             1,
             "#276419"
            ]
           ],
           "sequential": [
            [
             0,
             "#0d0887"
            ],
            [
             0.1111111111111111,
             "#46039f"
            ],
            [
             0.2222222222222222,
             "#7201a8"
            ],
            [
             0.3333333333333333,
             "#9c179e"
            ],
            [
             0.4444444444444444,
             "#bd3786"
            ],
            [
             0.5555555555555556,
             "#d8576b"
            ],
            [
             0.6666666666666666,
             "#ed7953"
            ],
            [
             0.7777777777777778,
             "#fb9f3a"
            ],
            [
             0.8888888888888888,
             "#fdca26"
            ],
            [
             1,
             "#f0f921"
            ]
           ],
           "sequentialminus": [
            [
             0,
             "#0d0887"
            ],
            [
             0.1111111111111111,
             "#46039f"
            ],
            [
             0.2222222222222222,
             "#7201a8"
            ],
            [
             0.3333333333333333,
             "#9c179e"
            ],
            [
             0.4444444444444444,
             "#bd3786"
            ],
            [
             0.5555555555555556,
             "#d8576b"
            ],
            [
             0.6666666666666666,
             "#ed7953"
            ],
            [
             0.7777777777777778,
             "#fb9f3a"
            ],
            [
             0.8888888888888888,
             "#fdca26"
            ],
            [
             1,
             "#f0f921"
            ]
           ]
          },
          "colorway": [
           "#636efa",
           "#EF553B",
           "#00cc96",
           "#ab63fa",
           "#FFA15A",
           "#19d3f3",
           "#FF6692",
           "#B6E880",
           "#FF97FF",
           "#FECB52"
          ],
          "font": {
           "color": "#2a3f5f"
          },
          "geo": {
           "bgcolor": "white",
           "lakecolor": "white",
           "landcolor": "#E5ECF6",
           "showlakes": true,
           "showland": true,
           "subunitcolor": "white"
          },
          "hoverlabel": {
           "align": "left"
          },
          "hovermode": "closest",
          "mapbox": {
           "style": "light"
          },
          "paper_bgcolor": "white",
          "plot_bgcolor": "#E5ECF6",
          "polar": {
           "angularaxis": {
            "gridcolor": "white",
            "linecolor": "white",
            "ticks": ""
           },
           "bgcolor": "#E5ECF6",
           "radialaxis": {
            "gridcolor": "white",
            "linecolor": "white",
            "ticks": ""
           }
          },
          "scene": {
           "xaxis": {
            "backgroundcolor": "#E5ECF6",
            "gridcolor": "white",
            "gridwidth": 2,
            "linecolor": "white",
            "showbackground": true,
            "ticks": "",
            "zerolinecolor": "white"
           },
           "yaxis": {
            "backgroundcolor": "#E5ECF6",
            "gridcolor": "white",
            "gridwidth": 2,
            "linecolor": "white",
            "showbackground": true,
            "ticks": "",
            "zerolinecolor": "white"
           },
           "zaxis": {
            "backgroundcolor": "#E5ECF6",
            "gridcolor": "white",
            "gridwidth": 2,
            "linecolor": "white",
            "showbackground": true,
            "ticks": "",
            "zerolinecolor": "white"
           }
          },
          "shapedefaults": {
           "line": {
            "color": "#2a3f5f"
           }
          },
          "ternary": {
           "aaxis": {
            "gridcolor": "white",
            "linecolor": "white",
            "ticks": ""
           },
           "baxis": {
            "gridcolor": "white",
            "linecolor": "white",
            "ticks": ""
           },
           "bgcolor": "#E5ECF6",
           "caxis": {
            "gridcolor": "white",
            "linecolor": "white",
            "ticks": ""
           }
          },
          "title": {
           "x": 0.05
          },
          "xaxis": {
           "automargin": true,
           "gridcolor": "white",
           "linecolor": "white",
           "ticks": "",
           "title": {
            "standoff": 15
           },
           "zerolinecolor": "white",
           "zerolinewidth": 2
          },
          "yaxis": {
           "automargin": true,
           "gridcolor": "white",
           "linecolor": "white",
           "ticks": "",
           "title": {
            "standoff": 15
           },
           "zerolinecolor": "white",
           "zerolinewidth": 2
          }
         }
        },
        "title": {
         "font": {
          "color": "#4D5663"
         }
        },
        "xaxis": {
         "gridcolor": "#E1E5ED",
         "showgrid": true,
         "tickfont": {
          "color": "#4D5663"
         },
         "title": {
          "font": {
           "color": "#4D5663"
          },
          "text": ""
         },
         "zerolinecolor": "#E1E5ED"
        },
        "yaxis": {
         "gridcolor": "#E1E5ED",
         "showgrid": true,
         "tickfont": {
          "color": "#4D5663"
         },
         "title": {
          "font": {
           "color": "#4D5663"
          },
          "text": ""
         },
         "zerolinecolor": "#E1E5ED"
        }
       }
      },
      "text/html": [
       "<div>                            <div id=\"3ff2425b-e4aa-41f1-b73e-2309ea5690e0\" class=\"plotly-graph-div\" style=\"height:525px; width:100%;\"></div>            <script type=\"text/javascript\">                require([\"plotly\"], function(Plotly) {                    window.PLOTLYENV=window.PLOTLYENV || {};\n",
       "                    window.PLOTLYENV.BASE_URL='https://plot.ly';                                    if (document.getElementById(\"3ff2425b-e4aa-41f1-b73e-2309ea5690e0\")) {                    Plotly.newPlot(                        \"3ff2425b-e4aa-41f1-b73e-2309ea5690e0\",                        [{\"boxpoints\": false, \"line\": {\"width\": 1.3}, \"marker\": {\"color\": \"rgba(255, 153, 51, 1.0)\"}, \"name\": \"A\", \"orientation\": \"v\", \"type\": \"box\", \"y\": [-1.5355354192230586, -1.0527533192824858, 1.0651922435485306, -0.3569392648813912, -1.2980144850988753, 0.4979310577149322, 0.5901952780313333, 2.2774192822713237, -0.21876345827157676, -1.3349125647531113, -0.22055827664732808, 0.7293643918751058, 1.3259697709398004, -1.3720675861464693, 1.7686765997019345, -0.21278705743547888, 0.5621565488693779, -0.3792433474006059, -0.6750765094602391, -1.1845114394252805, -0.04649534177230828, 1.1495256182501377, -0.41816004179319194, -1.0239481102629837, 0.9946927964952956, 0.6052416074897078, -1.9151632304247237, -0.3403894901650628, -0.4537997371869349, -0.7397293859495888, -0.9253789977904611, 1.601930601973586, -1.4650826388661842, 0.5270957520989601, -1.180253879455318, 0.6850387941860184, -0.3678223463530502, -0.30500706501587305, -0.5542070516960862, -1.4312224043373811, -0.1848981571335127, 0.6206299218949423, -1.0367501124402183, -1.0595095262876875, 1.2105069014091077, 0.5051738136010172, 0.47177060342443633, -0.8144767662360516, 0.11560223236678412, -1.8004185138809787, 1.1576067690845295, 0.5870612302887921, -1.2727449517938831, -0.3406361971233455, 1.0983528236620699, 0.49739189471308093, 0.7647466281588152, 2.1408660174962026, 0.5061816115949632, 0.120177007037446, -0.2712416900133294, -0.40368260942789297, -0.21235062677455707, 0.9566608507041349, -0.592846919794081, 0.9416099029137102, -0.13030336454300231, -0.4912598770441894, -0.0556549547985368, 0.9901139892278719, -0.14111330498012714, -0.5733355116267539, -0.9446232149514938, 1.4042766106007183, -0.7046212552212995, -0.3206051538056349, -0.4756918981281842, -1.2681053547018966, -0.47397096250784604, 0.34213108483355736, -1.1842372349810686, -1.1458192389317712, -1.2557624556630214, 1.5501458563898547, -0.08616993227352977, -0.06300453186192329, 0.003078698431574541, 0.35152717580520365, 0.4241210560491202, -2.9474968859825985, -0.019618922077270073, 1.7521003147708671, 1.4658803481569689, 0.7900509900134237, 0.2829821582586573, -0.05612046663179397, 0.10448201357335772, 0.10872292715876054, -1.9192126781078032, -1.7708965409979374]}, {\"boxpoints\": false, \"line\": {\"width\": 1.3}, \"marker\": {\"color\": \"rgba(55, 128, 191, 1.0)\"}, \"name\": \"B\", \"orientation\": \"v\", \"type\": \"box\", \"y\": [0.44735427314727433, -0.7508676450145815, 0.18480434357317638, 1.036858322212885, -1.043241632500722, -0.8413278507817418, 0.6558618794274739, 0.5547624862355806, 0.6951192553620779, 1.2726390156513538, -1.0680701829108734, 1.2342808921384112, -1.1770818873863, -0.05976217213720838, 0.9628980396633287, -0.8901404178495665, -1.1149508423060148, -2.019268938013942, 0.4045080210400765, 0.9774315118014983, 0.8823158393243271, -0.043892028650077755, -2.316995693382531, 0.4824470912200743, 0.6564093759271757, -0.3101323506764711, 0.629675064442062, -0.01929264505742492, -0.5956332881663199, -0.37341864927398605, -0.3955603284516065, -0.43505004152181065, 0.5351401117646758, -0.1026937541843101, 1.4395671391316562, -0.8599186484811995, 0.6694451179627202, 1.1286626566501965, 2.063900225407397, -0.9295699324300545, 0.17986704216835986, -0.5912237439296492, 0.10630993675686522, -0.812945654755612, -0.34896555934775925, -0.553821590107099, 0.6948002006257248, 0.24073423241409353, 0.3534901314589533, 0.4686033082769145, -0.31373165877423215, -0.7114395884089332, -0.6409387157834656, 0.4500016803540507, 0.21711326404288983, -0.018069262949005942, 0.6533802428552622, 2.7828377337588623, 1.5427776839709029, -0.1368525036344999, 1.157314574619203, 0.08968142121865062, 1.0250856504271342, -1.9498605017780728, 0.14600612105419417, 1.3459243558586542, 2.06593462275695, 0.42818100775719403, 1.3838953490438173, 0.4734834155141974, -1.011243590326672, 0.11941076540907923, 0.4210363473429892, -1.480006232120809, 1.8917742903441508, 0.6887241945908786, 1.5305407582805401, 1.8528719094913844, 2.0161692177771444, -0.49914963074557095, 0.006967052436891432, -0.6449582167389107, -0.012249603523494667, 0.5460881067575699, -0.10795163655635079, -2.37755617157348, -0.684219199300508, -1.242862178273611, 2.153969226489427, -0.24502072610151426, 0.8046263790364315, 0.5406306107809049, -0.033216951156400706, -0.43847955592322213, -0.7124046913765233, -2.0170961431160714, 0.6618154709573927, 1.2054316613067024, -1.7938465004014814, -0.23658857048597437]}, {\"boxpoints\": false, \"line\": {\"width\": 1.3}, \"marker\": {\"color\": \"rgba(50, 171, 96, 1.0)\"}, \"name\": \"C\", \"orientation\": \"v\", \"type\": \"box\", \"y\": [-1.3738134386537695, -0.33154760866755245, 0.5338145248192406, 0.4608987226336679, -0.21379000029761472, 0.9448939277523196, 0.4707011571665421, 0.04628699959826728, -0.7163093779094806, 0.4931210474463861, 1.3362590091556465, -0.07860391616473675, 0.5597020938143775, -0.48180653488188785, -0.1313413311789289, -0.43681966271399725, -0.7163545344053858, -1.0161897607735326, -0.36162337846116493, 2.1192219161583767, -1.6059299241357936, -0.1381797103031496, -0.49744272418647034, -0.7984874437044165, -0.947126401096751, 1.0125591611126339, 0.4358837709106574, -0.8508993990932405, 1.7601510638739442, 1.5750351009734351, -1.3256104510414441, 0.36507549523854027, -0.7231408229663161, 0.22093610131137742, 0.2777049752403186, 1.6241433617832146, 0.9919500748761527, -0.3436788175157517, -1.720185888425874, -0.3921982028156328, 0.6503583066579238, -0.9522043501268864, -1.8894452797345227, 1.875277101018438, 0.5265831171179596, -0.7463697207022431, 1.039800466247709, 0.19685289998248875, 1.2021709373969434, -0.8893629192696274, 0.870141257912497, -0.9728221610318893, 0.7306351420566899, 1.1459599080744383, -0.4226578328354158, 1.3734464473889625, -0.7624814463266807, 0.04640772065513277, 0.23090422686206544, 0.7968718817474381, -0.3662810497855493, 0.21266163663539278, -1.8416163883777148, -0.12319179592369105, 0.774480973468789, 0.8976609477531223, 0.6949526224472554, 1.7691805296285532, 0.9196866646631141, -0.3023417351943868, 0.29056767981216897, 0.6012753066978929, 0.4038649027424802, -0.8293653861413336, -0.019476033600365285, -0.727816231370272, -0.6742090976475391, 0.18123835775841923, -0.79688415077298, 1.1080406440536665, 0.2989728996556223, 1.3845570961714635, 0.37729845513466287, 1.1514234360584108, 0.25109306633948025, -0.614434993250707, -0.5337002394709033, -0.15753474171281567, 0.5611646743278362, -1.0343647157520817, -0.05712065783687775, 1.23259078830519, -1.2667562285738472, 2.361820754515749, 0.49084852254653355, -1.8198029703126448, -0.4680149660077137, -0.2329414521079991, -0.7030555174837161, 0.20610328583979282]}, {\"boxpoints\": false, \"line\": {\"width\": 1.3}, \"marker\": {\"color\": \"rgba(128, 0, 128, 1.0)\"}, \"name\": \"D\", \"orientation\": \"v\", \"type\": \"box\", \"y\": [-1.0274725670201772, 0.023637141630294022, -0.6824539224652907, 0.7837338968082365, -0.07515011823509951, -0.42474109547851946, 0.36004344442679403, 1.446332455349724, 0.6984597804936339, -2.0397312351302626, -0.5852530197811215, -1.0824311933745308, -0.8892300716428412, -1.0347485391478328, 0.08543080419684033, 0.8233700926431783, -1.0562961518267304, 0.8847165716521627, -1.4637554896680398, 0.9837764941941648, -0.32506446058696786, -0.02042130674687286, 0.19343827263995, 0.6461387633945138, -1.388152425492673, -0.08302922794426768, -0.45260774938521403, -0.8643671748461371, 0.11424733358234256, -0.9455713376127116, -0.4352320549495443, 0.7402206090676967, -0.48327956282045426, -0.5052575721088608, -0.20299667963793916, -0.13868543659460902, 0.947326634845561, -0.7647926431579081, 0.5341058963908148, -1.0966526684306195, -1.3155046341681338, -1.6347877142513192, -0.6937473975894909, 0.5308353491396521, 0.22264325742784116, 0.10762454278672558, -0.688089943495127, -0.6065239634776818, -1.52824722128094, 1.2139420909104432, 0.9665746839926376, -1.0876825710988056, 1.1413802684777257, -0.8703918231086764, -1.7349297900937353, 0.3712947088189332, -1.2758418349147609, -0.4931837358389391, -1.4100411439951597, -0.6848003520436998, -0.3059002269384813, 0.4800427341027472, 1.1731034925493258, -0.7782996342054381, 0.38739853337616287, 2.0024104123558946, 0.42452404447982145, -0.23580793721112825, -1.4189983096220247, 1.503825532336096, 0.08606308255635453, 0.13433282682706227, 0.949110531919716, 0.08909210895203123, -1.2154525066932849, -1.4522185560314114, -1.0018860152920797, 2.0842344317741905, -0.849378054914496, 0.0864244289884118, 0.8822279908934498, 0.4798270429641617, -0.839707415562348, 1.5247859482529769, -1.6874032013441629, 1.2449608163932362, -1.5782129308410158, 0.8243621385608745, 0.6180744947085115, -2.2229879540096045, -0.20277325856162157, -0.6892018729673994, -0.2353742304574779, 1.014157729834675, 0.6174554421452568, 1.0540182742349078, -0.03767696275890132, 0.25736092215867534, 0.768449742273149, -0.48516684072979976]}],                        {\"legend\": {\"bgcolor\": \"#F5F6F9\", \"font\": {\"color\": \"#4D5663\"}}, \"paper_bgcolor\": \"#F5F6F9\", \"plot_bgcolor\": \"#F5F6F9\", \"template\": {\"data\": {\"bar\": [{\"error_x\": {\"color\": \"#2a3f5f\"}, \"error_y\": {\"color\": \"#2a3f5f\"}, \"marker\": {\"line\": {\"color\": \"#E5ECF6\", \"width\": 0.5}}, \"type\": \"bar\"}], \"barpolar\": [{\"marker\": {\"line\": {\"color\": \"#E5ECF6\", \"width\": 0.5}}, \"type\": \"barpolar\"}], \"carpet\": [{\"aaxis\": {\"endlinecolor\": \"#2a3f5f\", \"gridcolor\": \"white\", \"linecolor\": \"white\", \"minorgridcolor\": \"white\", \"startlinecolor\": \"#2a3f5f\"}, \"baxis\": {\"endlinecolor\": \"#2a3f5f\", \"gridcolor\": \"white\", \"linecolor\": \"white\", \"minorgridcolor\": \"white\", \"startlinecolor\": \"#2a3f5f\"}, \"type\": \"carpet\"}], \"choropleth\": [{\"colorbar\": {\"outlinewidth\": 0, \"ticks\": \"\"}, \"type\": \"choropleth\"}], \"contour\": [{\"colorbar\": {\"outlinewidth\": 0, \"ticks\": \"\"}, \"colorscale\": [[0.0, \"#0d0887\"], [0.1111111111111111, \"#46039f\"], [0.2222222222222222, \"#7201a8\"], [0.3333333333333333, \"#9c179e\"], [0.4444444444444444, \"#bd3786\"], [0.5555555555555556, \"#d8576b\"], [0.6666666666666666, \"#ed7953\"], [0.7777777777777778, \"#fb9f3a\"], [0.8888888888888888, \"#fdca26\"], [1.0, \"#f0f921\"]], \"type\": \"contour\"}], \"contourcarpet\": [{\"colorbar\": {\"outlinewidth\": 0, \"ticks\": \"\"}, \"type\": \"contourcarpet\"}], \"heatmap\": [{\"colorbar\": {\"outlinewidth\": 0, \"ticks\": \"\"}, \"colorscale\": [[0.0, \"#0d0887\"], [0.1111111111111111, \"#46039f\"], [0.2222222222222222, \"#7201a8\"], [0.3333333333333333, \"#9c179e\"], [0.4444444444444444, \"#bd3786\"], [0.5555555555555556, \"#d8576b\"], [0.6666666666666666, \"#ed7953\"], [0.7777777777777778, \"#fb9f3a\"], [0.8888888888888888, \"#fdca26\"], [1.0, \"#f0f921\"]], \"type\": \"heatmap\"}], \"heatmapgl\": [{\"colorbar\": {\"outlinewidth\": 0, \"ticks\": \"\"}, \"colorscale\": [[0.0, \"#0d0887\"], [0.1111111111111111, \"#46039f\"], [0.2222222222222222, \"#7201a8\"], [0.3333333333333333, \"#9c179e\"], [0.4444444444444444, \"#bd3786\"], [0.5555555555555556, \"#d8576b\"], [0.6666666666666666, \"#ed7953\"], [0.7777777777777778, \"#fb9f3a\"], [0.8888888888888888, \"#fdca26\"], [1.0, \"#f0f921\"]], \"type\": \"heatmapgl\"}], \"histogram\": [{\"marker\": {\"colorbar\": {\"outlinewidth\": 0, \"ticks\": \"\"}}, \"type\": \"histogram\"}], \"histogram2d\": [{\"colorbar\": {\"outlinewidth\": 0, \"ticks\": \"\"}, \"colorscale\": [[0.0, \"#0d0887\"], [0.1111111111111111, \"#46039f\"], [0.2222222222222222, \"#7201a8\"], [0.3333333333333333, \"#9c179e\"], [0.4444444444444444, \"#bd3786\"], [0.5555555555555556, \"#d8576b\"], [0.6666666666666666, \"#ed7953\"], [0.7777777777777778, \"#fb9f3a\"], [0.8888888888888888, \"#fdca26\"], [1.0, \"#f0f921\"]], \"type\": \"histogram2d\"}], \"histogram2dcontour\": [{\"colorbar\": {\"outlinewidth\": 0, \"ticks\": \"\"}, \"colorscale\": [[0.0, \"#0d0887\"], [0.1111111111111111, \"#46039f\"], [0.2222222222222222, \"#7201a8\"], [0.3333333333333333, \"#9c179e\"], [0.4444444444444444, \"#bd3786\"], [0.5555555555555556, \"#d8576b\"], [0.6666666666666666, \"#ed7953\"], [0.7777777777777778, \"#fb9f3a\"], [0.8888888888888888, \"#fdca26\"], [1.0, \"#f0f921\"]], \"type\": \"histogram2dcontour\"}], \"mesh3d\": [{\"colorbar\": {\"outlinewidth\": 0, \"ticks\": \"\"}, \"type\": \"mesh3d\"}], \"parcoords\": [{\"line\": {\"colorbar\": {\"outlinewidth\": 0, \"ticks\": \"\"}}, \"type\": \"parcoords\"}], \"pie\": [{\"automargin\": true, \"type\": \"pie\"}], \"scatter\": [{\"marker\": {\"colorbar\": {\"outlinewidth\": 0, \"ticks\": \"\"}}, \"type\": \"scatter\"}], \"scatter3d\": [{\"line\": {\"colorbar\": {\"outlinewidth\": 0, \"ticks\": \"\"}}, \"marker\": {\"colorbar\": {\"outlinewidth\": 0, \"ticks\": \"\"}}, \"type\": \"scatter3d\"}], \"scattercarpet\": [{\"marker\": {\"colorbar\": {\"outlinewidth\": 0, \"ticks\": \"\"}}, \"type\": \"scattercarpet\"}], \"scattergeo\": [{\"marker\": {\"colorbar\": {\"outlinewidth\": 0, \"ticks\": \"\"}}, \"type\": \"scattergeo\"}], \"scattergl\": [{\"marker\": {\"colorbar\": {\"outlinewidth\": 0, \"ticks\": \"\"}}, \"type\": \"scattergl\"}], \"scattermapbox\": [{\"marker\": {\"colorbar\": {\"outlinewidth\": 0, \"ticks\": \"\"}}, \"type\": \"scattermapbox\"}], \"scatterpolar\": [{\"marker\": {\"colorbar\": {\"outlinewidth\": 0, \"ticks\": \"\"}}, \"type\": \"scatterpolar\"}], \"scatterpolargl\": [{\"marker\": {\"colorbar\": {\"outlinewidth\": 0, \"ticks\": \"\"}}, \"type\": \"scatterpolargl\"}], \"scatterternary\": [{\"marker\": {\"colorbar\": {\"outlinewidth\": 0, \"ticks\": \"\"}}, \"type\": \"scatterternary\"}], \"surface\": [{\"colorbar\": {\"outlinewidth\": 0, \"ticks\": \"\"}, \"colorscale\": [[0.0, \"#0d0887\"], [0.1111111111111111, \"#46039f\"], [0.2222222222222222, \"#7201a8\"], [0.3333333333333333, \"#9c179e\"], [0.4444444444444444, \"#bd3786\"], [0.5555555555555556, \"#d8576b\"], [0.6666666666666666, \"#ed7953\"], [0.7777777777777778, \"#fb9f3a\"], [0.8888888888888888, \"#fdca26\"], [1.0, \"#f0f921\"]], \"type\": \"surface\"}], \"table\": [{\"cells\": {\"fill\": {\"color\": \"#EBF0F8\"}, \"line\": {\"color\": \"white\"}}, \"header\": {\"fill\": {\"color\": \"#C8D4E3\"}, \"line\": {\"color\": \"white\"}}, \"type\": \"table\"}]}, \"layout\": {\"annotationdefaults\": {\"arrowcolor\": \"#2a3f5f\", \"arrowhead\": 0, \"arrowwidth\": 1}, \"coloraxis\": {\"colorbar\": {\"outlinewidth\": 0, \"ticks\": \"\"}}, \"colorscale\": {\"diverging\": [[0, \"#8e0152\"], [0.1, \"#c51b7d\"], [0.2, \"#de77ae\"], [0.3, \"#f1b6da\"], [0.4, \"#fde0ef\"], [0.5, \"#f7f7f7\"], [0.6, \"#e6f5d0\"], [0.7, \"#b8e186\"], [0.8, \"#7fbc41\"], [0.9, \"#4d9221\"], [1, \"#276419\"]], \"sequential\": [[0.0, \"#0d0887\"], [0.1111111111111111, \"#46039f\"], [0.2222222222222222, \"#7201a8\"], [0.3333333333333333, \"#9c179e\"], [0.4444444444444444, \"#bd3786\"], [0.5555555555555556, \"#d8576b\"], [0.6666666666666666, \"#ed7953\"], [0.7777777777777778, \"#fb9f3a\"], [0.8888888888888888, \"#fdca26\"], [1.0, \"#f0f921\"]], \"sequentialminus\": [[0.0, \"#0d0887\"], [0.1111111111111111, \"#46039f\"], [0.2222222222222222, \"#7201a8\"], [0.3333333333333333, \"#9c179e\"], [0.4444444444444444, \"#bd3786\"], [0.5555555555555556, \"#d8576b\"], [0.6666666666666666, \"#ed7953\"], [0.7777777777777778, \"#fb9f3a\"], [0.8888888888888888, \"#fdca26\"], [1.0, \"#f0f921\"]]}, \"colorway\": [\"#636efa\", \"#EF553B\", \"#00cc96\", \"#ab63fa\", \"#FFA15A\", \"#19d3f3\", \"#FF6692\", \"#B6E880\", \"#FF97FF\", \"#FECB52\"], \"font\": {\"color\": \"#2a3f5f\"}, \"geo\": {\"bgcolor\": \"white\", \"lakecolor\": \"white\", \"landcolor\": \"#E5ECF6\", \"showlakes\": true, \"showland\": true, \"subunitcolor\": \"white\"}, \"hoverlabel\": {\"align\": \"left\"}, \"hovermode\": \"closest\", \"mapbox\": {\"style\": \"light\"}, \"paper_bgcolor\": \"white\", \"plot_bgcolor\": \"#E5ECF6\", \"polar\": {\"angularaxis\": {\"gridcolor\": \"white\", \"linecolor\": \"white\", \"ticks\": \"\"}, \"bgcolor\": \"#E5ECF6\", \"radialaxis\": {\"gridcolor\": \"white\", \"linecolor\": \"white\", \"ticks\": \"\"}}, \"scene\": {\"xaxis\": {\"backgroundcolor\": \"#E5ECF6\", \"gridcolor\": \"white\", \"gridwidth\": 2, \"linecolor\": \"white\", \"showbackground\": true, \"ticks\": \"\", \"zerolinecolor\": \"white\"}, \"yaxis\": {\"backgroundcolor\": \"#E5ECF6\", \"gridcolor\": \"white\", \"gridwidth\": 2, \"linecolor\": \"white\", \"showbackground\": true, \"ticks\": \"\", \"zerolinecolor\": \"white\"}, \"zaxis\": {\"backgroundcolor\": \"#E5ECF6\", \"gridcolor\": \"white\", \"gridwidth\": 2, \"linecolor\": \"white\", \"showbackground\": true, \"ticks\": \"\", \"zerolinecolor\": \"white\"}}, \"shapedefaults\": {\"line\": {\"color\": \"#2a3f5f\"}}, \"ternary\": {\"aaxis\": {\"gridcolor\": \"white\", \"linecolor\": \"white\", \"ticks\": \"\"}, \"baxis\": {\"gridcolor\": \"white\", \"linecolor\": \"white\", \"ticks\": \"\"}, \"bgcolor\": \"#E5ECF6\", \"caxis\": {\"gridcolor\": \"white\", \"linecolor\": \"white\", \"ticks\": \"\"}}, \"title\": {\"x\": 0.05}, \"xaxis\": {\"automargin\": true, \"gridcolor\": \"white\", \"linecolor\": \"white\", \"ticks\": \"\", \"title\": {\"standoff\": 15}, \"zerolinecolor\": \"white\", \"zerolinewidth\": 2}, \"yaxis\": {\"automargin\": true, \"gridcolor\": \"white\", \"linecolor\": \"white\", \"ticks\": \"\", \"title\": {\"standoff\": 15}, \"zerolinecolor\": \"white\", \"zerolinewidth\": 2}}}, \"title\": {\"font\": {\"color\": \"#4D5663\"}}, \"xaxis\": {\"gridcolor\": \"#E1E5ED\", \"showgrid\": true, \"tickfont\": {\"color\": \"#4D5663\"}, \"title\": {\"font\": {\"color\": \"#4D5663\"}, \"text\": \"\"}, \"zerolinecolor\": \"#E1E5ED\"}, \"yaxis\": {\"gridcolor\": \"#E1E5ED\", \"showgrid\": true, \"tickfont\": {\"color\": \"#4D5663\"}, \"title\": {\"font\": {\"color\": \"#4D5663\"}, \"text\": \"\"}, \"zerolinecolor\": \"#E1E5ED\"}},                        {\"showLink\": true, \"linkText\": \"Export to plot.ly\", \"plotlyServerURL\": \"https://plot.ly\", \"responsive\": true}                    ).then(function(){\n",
       "                            \n",
       "var gd = document.getElementById('3ff2425b-e4aa-41f1-b73e-2309ea5690e0');\n",
       "var x = new MutationObserver(function (mutations, observer) {{\n",
       "        var display = window.getComputedStyle(gd).display;\n",
       "        if (!display || display === 'none') {{\n",
       "            console.log([gd, 'removed!']);\n",
       "            Plotly.purge(gd);\n",
       "            observer.disconnect();\n",
       "        }}\n",
       "}});\n",
       "\n",
       "// Listen for the removal of the full notebook cells\n",
       "var notebookContainer = gd.closest('#notebook-container');\n",
       "if (notebookContainer) {{\n",
       "    x.observe(notebookContainer, {childList: true});\n",
       "}}\n",
       "\n",
       "// Listen for the clearing of the current output cell\n",
       "var outputEl = gd.closest('.output');\n",
       "if (outputEl) {{\n",
       "    x.observe(outputEl, {childList: true});\n",
       "}}\n",
       "\n",
       "                        })                };                });            </script>        </div>"
      ]
     },
     "metadata": {},
     "output_type": "display_data"
    }
   ],
   "source": [
    "df.iplot(kind='box')"
   ]
  },
  {
   "cell_type": "markdown",
   "metadata": {},
   "source": [
    "## 3d Surface"
   ]
  },
  {
   "cell_type": "code",
   "execution_count": 14,
   "metadata": {},
   "outputs": [
    {
     "data": {
      "application/vnd.plotly.v1+json": {
       "config": {
        "linkText": "Export to plot.ly",
        "plotlyServerURL": "https://plot.ly",
        "showLink": true
       },
       "data": [
        {
         "colorscale": [
          [
           0,
           "rgb(165,0,38)"
          ],
          [
           0.1,
           "rgb(215,48,39)"
          ],
          [
           0.2,
           "rgb(244,109,67)"
          ],
          [
           0.3,
           "rgb(253,174,97)"
          ],
          [
           0.4,
           "rgb(254,224,144)"
          ],
          [
           0.5,
           "rgb(255,255,191)"
          ],
          [
           0.6,
           "rgb(224,243,248)"
          ],
          [
           0.7,
           "rgb(171,217,233)"
          ],
          [
           0.8,
           "rgb(116,173,209)"
          ],
          [
           0.9,
           "rgb(69,117,180)"
          ],
          [
           1,
           "rgb(49,54,149)"
          ]
         ],
         "type": "surface",
         "x": [
          0,
          1,
          2,
          3,
          4
         ],
         "y": [
          "x",
          "y",
          "z"
         ],
         "z": [
          [
           1,
           2,
           3,
           4,
           5
          ],
          [
           10,
           20,
           30,
           20,
           10
          ],
          [
           5,
           4,
           3,
           2,
           1
          ]
         ]
        }
       ],
       "layout": {
        "legend": {
         "bgcolor": "#F5F6F9",
         "font": {
          "color": "#4D5663"
         }
        },
        "paper_bgcolor": "#F5F6F9",
        "plot_bgcolor": "#F5F6F9",
        "template": {
         "data": {
          "bar": [
           {
            "error_x": {
             "color": "#2a3f5f"
            },
            "error_y": {
             "color": "#2a3f5f"
            },
            "marker": {
             "line": {
              "color": "#E5ECF6",
              "width": 0.5
             }
            },
            "type": "bar"
           }
          ],
          "barpolar": [
           {
            "marker": {
             "line": {
              "color": "#E5ECF6",
              "width": 0.5
             }
            },
            "type": "barpolar"
           }
          ],
          "carpet": [
           {
            "aaxis": {
             "endlinecolor": "#2a3f5f",
             "gridcolor": "white",
             "linecolor": "white",
             "minorgridcolor": "white",
             "startlinecolor": "#2a3f5f"
            },
            "baxis": {
             "endlinecolor": "#2a3f5f",
             "gridcolor": "white",
             "linecolor": "white",
             "minorgridcolor": "white",
             "startlinecolor": "#2a3f5f"
            },
            "type": "carpet"
           }
          ],
          "choropleth": [
           {
            "colorbar": {
             "outlinewidth": 0,
             "ticks": ""
            },
            "type": "choropleth"
           }
          ],
          "contour": [
           {
            "colorbar": {
             "outlinewidth": 0,
             "ticks": ""
            },
            "colorscale": [
             [
              0,
              "#0d0887"
             ],
             [
              0.1111111111111111,
              "#46039f"
             ],
             [
              0.2222222222222222,
              "#7201a8"
             ],
             [
              0.3333333333333333,
              "#9c179e"
             ],
             [
              0.4444444444444444,
              "#bd3786"
             ],
             [
              0.5555555555555556,
              "#d8576b"
             ],
             [
              0.6666666666666666,
              "#ed7953"
             ],
             [
              0.7777777777777778,
              "#fb9f3a"
             ],
             [
              0.8888888888888888,
              "#fdca26"
             ],
             [
              1,
              "#f0f921"
             ]
            ],
            "type": "contour"
           }
          ],
          "contourcarpet": [
           {
            "colorbar": {
             "outlinewidth": 0,
             "ticks": ""
            },
            "type": "contourcarpet"
           }
          ],
          "heatmap": [
           {
            "colorbar": {
             "outlinewidth": 0,
             "ticks": ""
            },
            "colorscale": [
             [
              0,
              "#0d0887"
             ],
             [
              0.1111111111111111,
              "#46039f"
             ],
             [
              0.2222222222222222,
              "#7201a8"
             ],
             [
              0.3333333333333333,
              "#9c179e"
             ],
             [
              0.4444444444444444,
              "#bd3786"
             ],
             [
              0.5555555555555556,
              "#d8576b"
             ],
             [
              0.6666666666666666,
              "#ed7953"
             ],
             [
              0.7777777777777778,
              "#fb9f3a"
             ],
             [
              0.8888888888888888,
              "#fdca26"
             ],
             [
              1,
              "#f0f921"
             ]
            ],
            "type": "heatmap"
           }
          ],
          "heatmapgl": [
           {
            "colorbar": {
             "outlinewidth": 0,
             "ticks": ""
            },
            "colorscale": [
             [
              0,
              "#0d0887"
             ],
             [
              0.1111111111111111,
              "#46039f"
             ],
             [
              0.2222222222222222,
              "#7201a8"
             ],
             [
              0.3333333333333333,
              "#9c179e"
             ],
             [
              0.4444444444444444,
              "#bd3786"
             ],
             [
              0.5555555555555556,
              "#d8576b"
             ],
             [
              0.6666666666666666,
              "#ed7953"
             ],
             [
              0.7777777777777778,
              "#fb9f3a"
             ],
             [
              0.8888888888888888,
              "#fdca26"
             ],
             [
              1,
              "#f0f921"
             ]
            ],
            "type": "heatmapgl"
           }
          ],
          "histogram": [
           {
            "marker": {
             "colorbar": {
              "outlinewidth": 0,
              "ticks": ""
             }
            },
            "type": "histogram"
           }
          ],
          "histogram2d": [
           {
            "colorbar": {
             "outlinewidth": 0,
             "ticks": ""
            },
            "colorscale": [
             [
              0,
              "#0d0887"
             ],
             [
              0.1111111111111111,
              "#46039f"
             ],
             [
              0.2222222222222222,
              "#7201a8"
             ],
             [
              0.3333333333333333,
              "#9c179e"
             ],
             [
              0.4444444444444444,
              "#bd3786"
             ],
             [
              0.5555555555555556,
              "#d8576b"
             ],
             [
              0.6666666666666666,
              "#ed7953"
             ],
             [
              0.7777777777777778,
              "#fb9f3a"
             ],
             [
              0.8888888888888888,
              "#fdca26"
             ],
             [
              1,
              "#f0f921"
             ]
            ],
            "type": "histogram2d"
           }
          ],
          "histogram2dcontour": [
           {
            "colorbar": {
             "outlinewidth": 0,
             "ticks": ""
            },
            "colorscale": [
             [
              0,
              "#0d0887"
             ],
             [
              0.1111111111111111,
              "#46039f"
             ],
             [
              0.2222222222222222,
              "#7201a8"
             ],
             [
              0.3333333333333333,
              "#9c179e"
             ],
             [
              0.4444444444444444,
              "#bd3786"
             ],
             [
              0.5555555555555556,
              "#d8576b"
             ],
             [
              0.6666666666666666,
              "#ed7953"
             ],
             [
              0.7777777777777778,
              "#fb9f3a"
             ],
             [
              0.8888888888888888,
              "#fdca26"
             ],
             [
              1,
              "#f0f921"
             ]
            ],
            "type": "histogram2dcontour"
           }
          ],
          "mesh3d": [
           {
            "colorbar": {
             "outlinewidth": 0,
             "ticks": ""
            },
            "type": "mesh3d"
           }
          ],
          "parcoords": [
           {
            "line": {
             "colorbar": {
              "outlinewidth": 0,
              "ticks": ""
             }
            },
            "type": "parcoords"
           }
          ],
          "pie": [
           {
            "automargin": true,
            "type": "pie"
           }
          ],
          "scatter": [
           {
            "marker": {
             "colorbar": {
              "outlinewidth": 0,
              "ticks": ""
             }
            },
            "type": "scatter"
           }
          ],
          "scatter3d": [
           {
            "line": {
             "colorbar": {
              "outlinewidth": 0,
              "ticks": ""
             }
            },
            "marker": {
             "colorbar": {
              "outlinewidth": 0,
              "ticks": ""
             }
            },
            "type": "scatter3d"
           }
          ],
          "scattercarpet": [
           {
            "marker": {
             "colorbar": {
              "outlinewidth": 0,
              "ticks": ""
             }
            },
            "type": "scattercarpet"
           }
          ],
          "scattergeo": [
           {
            "marker": {
             "colorbar": {
              "outlinewidth": 0,
              "ticks": ""
             }
            },
            "type": "scattergeo"
           }
          ],
          "scattergl": [
           {
            "marker": {
             "colorbar": {
              "outlinewidth": 0,
              "ticks": ""
             }
            },
            "type": "scattergl"
           }
          ],
          "scattermapbox": [
           {
            "marker": {
             "colorbar": {
              "outlinewidth": 0,
              "ticks": ""
             }
            },
            "type": "scattermapbox"
           }
          ],
          "scatterpolar": [
           {
            "marker": {
             "colorbar": {
              "outlinewidth": 0,
              "ticks": ""
             }
            },
            "type": "scatterpolar"
           }
          ],
          "scatterpolargl": [
           {
            "marker": {
             "colorbar": {
              "outlinewidth": 0,
              "ticks": ""
             }
            },
            "type": "scatterpolargl"
           }
          ],
          "scatterternary": [
           {
            "marker": {
             "colorbar": {
              "outlinewidth": 0,
              "ticks": ""
             }
            },
            "type": "scatterternary"
           }
          ],
          "surface": [
           {
            "colorbar": {
             "outlinewidth": 0,
             "ticks": ""
            },
            "colorscale": [
             [
              0,
              "#0d0887"
             ],
             [
              0.1111111111111111,
              "#46039f"
             ],
             [
              0.2222222222222222,
              "#7201a8"
             ],
             [
              0.3333333333333333,
              "#9c179e"
             ],
             [
              0.4444444444444444,
              "#bd3786"
             ],
             [
              0.5555555555555556,
              "#d8576b"
             ],
             [
              0.6666666666666666,
              "#ed7953"
             ],
             [
              0.7777777777777778,
              "#fb9f3a"
             ],
             [
              0.8888888888888888,
              "#fdca26"
             ],
             [
              1,
              "#f0f921"
             ]
            ],
            "type": "surface"
           }
          ],
          "table": [
           {
            "cells": {
             "fill": {
              "color": "#EBF0F8"
             },
             "line": {
              "color": "white"
             }
            },
            "header": {
             "fill": {
              "color": "#C8D4E3"
             },
             "line": {
              "color": "white"
             }
            },
            "type": "table"
           }
          ]
         },
         "layout": {
          "annotationdefaults": {
           "arrowcolor": "#2a3f5f",
           "arrowhead": 0,
           "arrowwidth": 1
          },
          "coloraxis": {
           "colorbar": {
            "outlinewidth": 0,
            "ticks": ""
           }
          },
          "colorscale": {
           "diverging": [
            [
             0,
             "#8e0152"
            ],
            [
             0.1,
             "#c51b7d"
            ],
            [
             0.2,
             "#de77ae"
            ],
            [
             0.3,
             "#f1b6da"
            ],
            [
             0.4,
             "#fde0ef"
            ],
            [
             0.5,
             "#f7f7f7"
            ],
            [
             0.6,
             "#e6f5d0"
            ],
            [
             0.7,
             "#b8e186"
            ],
            [
             0.8,
             "#7fbc41"
            ],
            [
             0.9,
             "#4d9221"
            ],
            [
             1,
             "#276419"
            ]
           ],
           "sequential": [
            [
             0,
             "#0d0887"
            ],
            [
             0.1111111111111111,
             "#46039f"
            ],
            [
             0.2222222222222222,
             "#7201a8"
            ],
            [
             0.3333333333333333,
             "#9c179e"
            ],
            [
             0.4444444444444444,
             "#bd3786"
            ],
            [
             0.5555555555555556,
             "#d8576b"
            ],
            [
             0.6666666666666666,
             "#ed7953"
            ],
            [
             0.7777777777777778,
             "#fb9f3a"
            ],
            [
             0.8888888888888888,
             "#fdca26"
            ],
            [
             1,
             "#f0f921"
            ]
           ],
           "sequentialminus": [
            [
             0,
             "#0d0887"
            ],
            [
             0.1111111111111111,
             "#46039f"
            ],
            [
             0.2222222222222222,
             "#7201a8"
            ],
            [
             0.3333333333333333,
             "#9c179e"
            ],
            [
             0.4444444444444444,
             "#bd3786"
            ],
            [
             0.5555555555555556,
             "#d8576b"
            ],
            [
             0.6666666666666666,
             "#ed7953"
            ],
            [
             0.7777777777777778,
             "#fb9f3a"
            ],
            [
             0.8888888888888888,
             "#fdca26"
            ],
            [
             1,
             "#f0f921"
            ]
           ]
          },
          "colorway": [
           "#636efa",
           "#EF553B",
           "#00cc96",
           "#ab63fa",
           "#FFA15A",
           "#19d3f3",
           "#FF6692",
           "#B6E880",
           "#FF97FF",
           "#FECB52"
          ],
          "font": {
           "color": "#2a3f5f"
          },
          "geo": {
           "bgcolor": "white",
           "lakecolor": "white",
           "landcolor": "#E5ECF6",
           "showlakes": true,
           "showland": true,
           "subunitcolor": "white"
          },
          "hoverlabel": {
           "align": "left"
          },
          "hovermode": "closest",
          "mapbox": {
           "style": "light"
          },
          "paper_bgcolor": "white",
          "plot_bgcolor": "#E5ECF6",
          "polar": {
           "angularaxis": {
            "gridcolor": "white",
            "linecolor": "white",
            "ticks": ""
           },
           "bgcolor": "#E5ECF6",
           "radialaxis": {
            "gridcolor": "white",
            "linecolor": "white",
            "ticks": ""
           }
          },
          "scene": {
           "xaxis": {
            "backgroundcolor": "#E5ECF6",
            "gridcolor": "white",
            "gridwidth": 2,
            "linecolor": "white",
            "showbackground": true,
            "ticks": "",
            "zerolinecolor": "white"
           },
           "yaxis": {
            "backgroundcolor": "#E5ECF6",
            "gridcolor": "white",
            "gridwidth": 2,
            "linecolor": "white",
            "showbackground": true,
            "ticks": "",
            "zerolinecolor": "white"
           },
           "zaxis": {
            "backgroundcolor": "#E5ECF6",
            "gridcolor": "white",
            "gridwidth": 2,
            "linecolor": "white",
            "showbackground": true,
            "ticks": "",
            "zerolinecolor": "white"
           }
          },
          "shapedefaults": {
           "line": {
            "color": "#2a3f5f"
           }
          },
          "ternary": {
           "aaxis": {
            "gridcolor": "white",
            "linecolor": "white",
            "ticks": ""
           },
           "baxis": {
            "gridcolor": "white",
            "linecolor": "white",
            "ticks": ""
           },
           "bgcolor": "#E5ECF6",
           "caxis": {
            "gridcolor": "white",
            "linecolor": "white",
            "ticks": ""
           }
          },
          "title": {
           "x": 0.05
          },
          "xaxis": {
           "automargin": true,
           "gridcolor": "white",
           "linecolor": "white",
           "ticks": "",
           "title": {
            "standoff": 15
           },
           "zerolinecolor": "white",
           "zerolinewidth": 2
          },
          "yaxis": {
           "automargin": true,
           "gridcolor": "white",
           "linecolor": "white",
           "ticks": "",
           "title": {
            "standoff": 15
           },
           "zerolinecolor": "white",
           "zerolinewidth": 2
          }
         }
        },
        "title": {
         "font": {
          "color": "#4D5663"
         }
        },
        "xaxis": {
         "gridcolor": "#E1E5ED",
         "showgrid": true,
         "tickfont": {
          "color": "#4D5663"
         },
         "title": {
          "font": {
           "color": "#4D5663"
          },
          "text": ""
         },
         "zerolinecolor": "#E1E5ED"
        },
        "yaxis": {
         "gridcolor": "#E1E5ED",
         "showgrid": true,
         "tickfont": {
          "color": "#4D5663"
         },
         "title": {
          "font": {
           "color": "#4D5663"
          },
          "text": ""
         },
         "zerolinecolor": "#E1E5ED"
        }
       }
      },
      "text/html": [
       "<div>                            <div id=\"16213f0d-8777-454e-9d12-961113d05f1b\" class=\"plotly-graph-div\" style=\"height:525px; width:100%;\"></div>            <script type=\"text/javascript\">                require([\"plotly\"], function(Plotly) {                    window.PLOTLYENV=window.PLOTLYENV || {};\n",
       "                    window.PLOTLYENV.BASE_URL='https://plot.ly';                                    if (document.getElementById(\"16213f0d-8777-454e-9d12-961113d05f1b\")) {                    Plotly.newPlot(                        \"16213f0d-8777-454e-9d12-961113d05f1b\",                        [{\"colorscale\": [[0.0, \"rgb(165,0,38)\"], [0.1, \"rgb(215,48,39)\"], [0.2, \"rgb(244,109,67)\"], [0.3, \"rgb(253,174,97)\"], [0.4, \"rgb(254,224,144)\"], [0.5, \"rgb(255,255,191)\"], [0.6, \"rgb(224,243,248)\"], [0.7, \"rgb(171,217,233)\"], [0.8, \"rgb(116,173,209)\"], [0.9, \"rgb(69,117,180)\"], [1.0, \"rgb(49,54,149)\"]], \"type\": \"surface\", \"x\": [0, 1, 2, 3, 4], \"y\": [\"x\", \"y\", \"z\"], \"z\": [[1, 2, 3, 4, 5], [10, 20, 30, 20, 10], [5, 4, 3, 2, 1]]}],                        {\"legend\": {\"bgcolor\": \"#F5F6F9\", \"font\": {\"color\": \"#4D5663\"}}, \"paper_bgcolor\": \"#F5F6F9\", \"plot_bgcolor\": \"#F5F6F9\", \"template\": {\"data\": {\"bar\": [{\"error_x\": {\"color\": \"#2a3f5f\"}, \"error_y\": {\"color\": \"#2a3f5f\"}, \"marker\": {\"line\": {\"color\": \"#E5ECF6\", \"width\": 0.5}}, \"type\": \"bar\"}], \"barpolar\": [{\"marker\": {\"line\": {\"color\": \"#E5ECF6\", \"width\": 0.5}}, \"type\": \"barpolar\"}], \"carpet\": [{\"aaxis\": {\"endlinecolor\": \"#2a3f5f\", \"gridcolor\": \"white\", \"linecolor\": \"white\", \"minorgridcolor\": \"white\", \"startlinecolor\": \"#2a3f5f\"}, \"baxis\": {\"endlinecolor\": \"#2a3f5f\", \"gridcolor\": \"white\", \"linecolor\": \"white\", \"minorgridcolor\": \"white\", \"startlinecolor\": \"#2a3f5f\"}, \"type\": \"carpet\"}], \"choropleth\": [{\"colorbar\": {\"outlinewidth\": 0, \"ticks\": \"\"}, \"type\": \"choropleth\"}], \"contour\": [{\"colorbar\": {\"outlinewidth\": 0, \"ticks\": \"\"}, \"colorscale\": [[0.0, \"#0d0887\"], [0.1111111111111111, \"#46039f\"], [0.2222222222222222, \"#7201a8\"], [0.3333333333333333, \"#9c179e\"], [0.4444444444444444, \"#bd3786\"], [0.5555555555555556, \"#d8576b\"], [0.6666666666666666, \"#ed7953\"], [0.7777777777777778, \"#fb9f3a\"], [0.8888888888888888, \"#fdca26\"], [1.0, \"#f0f921\"]], \"type\": \"contour\"}], \"contourcarpet\": [{\"colorbar\": {\"outlinewidth\": 0, \"ticks\": \"\"}, \"type\": \"contourcarpet\"}], \"heatmap\": [{\"colorbar\": {\"outlinewidth\": 0, \"ticks\": \"\"}, \"colorscale\": [[0.0, \"#0d0887\"], [0.1111111111111111, \"#46039f\"], [0.2222222222222222, \"#7201a8\"], [0.3333333333333333, \"#9c179e\"], [0.4444444444444444, \"#bd3786\"], [0.5555555555555556, \"#d8576b\"], [0.6666666666666666, \"#ed7953\"], [0.7777777777777778, \"#fb9f3a\"], [0.8888888888888888, \"#fdca26\"], [1.0, \"#f0f921\"]], \"type\": \"heatmap\"}], \"heatmapgl\": [{\"colorbar\": {\"outlinewidth\": 0, \"ticks\": \"\"}, \"colorscale\": [[0.0, \"#0d0887\"], [0.1111111111111111, \"#46039f\"], [0.2222222222222222, \"#7201a8\"], [0.3333333333333333, \"#9c179e\"], [0.4444444444444444, \"#bd3786\"], [0.5555555555555556, \"#d8576b\"], [0.6666666666666666, \"#ed7953\"], [0.7777777777777778, \"#fb9f3a\"], [0.8888888888888888, \"#fdca26\"], [1.0, \"#f0f921\"]], \"type\": \"heatmapgl\"}], \"histogram\": [{\"marker\": {\"colorbar\": {\"outlinewidth\": 0, \"ticks\": \"\"}}, \"type\": \"histogram\"}], \"histogram2d\": [{\"colorbar\": {\"outlinewidth\": 0, \"ticks\": \"\"}, \"colorscale\": [[0.0, \"#0d0887\"], [0.1111111111111111, \"#46039f\"], [0.2222222222222222, \"#7201a8\"], [0.3333333333333333, \"#9c179e\"], [0.4444444444444444, \"#bd3786\"], [0.5555555555555556, \"#d8576b\"], [0.6666666666666666, \"#ed7953\"], [0.7777777777777778, \"#fb9f3a\"], [0.8888888888888888, \"#fdca26\"], [1.0, \"#f0f921\"]], \"type\": \"histogram2d\"}], \"histogram2dcontour\": [{\"colorbar\": {\"outlinewidth\": 0, \"ticks\": \"\"}, \"colorscale\": [[0.0, \"#0d0887\"], [0.1111111111111111, \"#46039f\"], [0.2222222222222222, \"#7201a8\"], [0.3333333333333333, \"#9c179e\"], [0.4444444444444444, \"#bd3786\"], [0.5555555555555556, \"#d8576b\"], [0.6666666666666666, \"#ed7953\"], [0.7777777777777778, \"#fb9f3a\"], [0.8888888888888888, \"#fdca26\"], [1.0, \"#f0f921\"]], \"type\": \"histogram2dcontour\"}], \"mesh3d\": [{\"colorbar\": {\"outlinewidth\": 0, \"ticks\": \"\"}, \"type\": \"mesh3d\"}], \"parcoords\": [{\"line\": {\"colorbar\": {\"outlinewidth\": 0, \"ticks\": \"\"}}, \"type\": \"parcoords\"}], \"pie\": [{\"automargin\": true, \"type\": \"pie\"}], \"scatter\": [{\"marker\": {\"colorbar\": {\"outlinewidth\": 0, \"ticks\": \"\"}}, \"type\": \"scatter\"}], \"scatter3d\": [{\"line\": {\"colorbar\": {\"outlinewidth\": 0, \"ticks\": \"\"}}, \"marker\": {\"colorbar\": {\"outlinewidth\": 0, \"ticks\": \"\"}}, \"type\": \"scatter3d\"}], \"scattercarpet\": [{\"marker\": {\"colorbar\": {\"outlinewidth\": 0, \"ticks\": \"\"}}, \"type\": \"scattercarpet\"}], \"scattergeo\": [{\"marker\": {\"colorbar\": {\"outlinewidth\": 0, \"ticks\": \"\"}}, \"type\": \"scattergeo\"}], \"scattergl\": [{\"marker\": {\"colorbar\": {\"outlinewidth\": 0, \"ticks\": \"\"}}, \"type\": \"scattergl\"}], \"scattermapbox\": [{\"marker\": {\"colorbar\": {\"outlinewidth\": 0, \"ticks\": \"\"}}, \"type\": \"scattermapbox\"}], \"scatterpolar\": [{\"marker\": {\"colorbar\": {\"outlinewidth\": 0, \"ticks\": \"\"}}, \"type\": \"scatterpolar\"}], \"scatterpolargl\": [{\"marker\": {\"colorbar\": {\"outlinewidth\": 0, \"ticks\": \"\"}}, \"type\": \"scatterpolargl\"}], \"scatterternary\": [{\"marker\": {\"colorbar\": {\"outlinewidth\": 0, \"ticks\": \"\"}}, \"type\": \"scatterternary\"}], \"surface\": [{\"colorbar\": {\"outlinewidth\": 0, \"ticks\": \"\"}, \"colorscale\": [[0.0, \"#0d0887\"], [0.1111111111111111, \"#46039f\"], [0.2222222222222222, \"#7201a8\"], [0.3333333333333333, \"#9c179e\"], [0.4444444444444444, \"#bd3786\"], [0.5555555555555556, \"#d8576b\"], [0.6666666666666666, \"#ed7953\"], [0.7777777777777778, \"#fb9f3a\"], [0.8888888888888888, \"#fdca26\"], [1.0, \"#f0f921\"]], \"type\": \"surface\"}], \"table\": [{\"cells\": {\"fill\": {\"color\": \"#EBF0F8\"}, \"line\": {\"color\": \"white\"}}, \"header\": {\"fill\": {\"color\": \"#C8D4E3\"}, \"line\": {\"color\": \"white\"}}, \"type\": \"table\"}]}, \"layout\": {\"annotationdefaults\": {\"arrowcolor\": \"#2a3f5f\", \"arrowhead\": 0, \"arrowwidth\": 1}, \"coloraxis\": {\"colorbar\": {\"outlinewidth\": 0, \"ticks\": \"\"}}, \"colorscale\": {\"diverging\": [[0, \"#8e0152\"], [0.1, \"#c51b7d\"], [0.2, \"#de77ae\"], [0.3, \"#f1b6da\"], [0.4, \"#fde0ef\"], [0.5, \"#f7f7f7\"], [0.6, \"#e6f5d0\"], [0.7, \"#b8e186\"], [0.8, \"#7fbc41\"], [0.9, \"#4d9221\"], [1, \"#276419\"]], \"sequential\": [[0.0, \"#0d0887\"], [0.1111111111111111, \"#46039f\"], [0.2222222222222222, \"#7201a8\"], [0.3333333333333333, \"#9c179e\"], [0.4444444444444444, \"#bd3786\"], [0.5555555555555556, \"#d8576b\"], [0.6666666666666666, \"#ed7953\"], [0.7777777777777778, \"#fb9f3a\"], [0.8888888888888888, \"#fdca26\"], [1.0, \"#f0f921\"]], \"sequentialminus\": [[0.0, \"#0d0887\"], [0.1111111111111111, \"#46039f\"], [0.2222222222222222, \"#7201a8\"], [0.3333333333333333, \"#9c179e\"], [0.4444444444444444, \"#bd3786\"], [0.5555555555555556, \"#d8576b\"], [0.6666666666666666, \"#ed7953\"], [0.7777777777777778, \"#fb9f3a\"], [0.8888888888888888, \"#fdca26\"], [1.0, \"#f0f921\"]]}, \"colorway\": [\"#636efa\", \"#EF553B\", \"#00cc96\", \"#ab63fa\", \"#FFA15A\", \"#19d3f3\", \"#FF6692\", \"#B6E880\", \"#FF97FF\", \"#FECB52\"], \"font\": {\"color\": \"#2a3f5f\"}, \"geo\": {\"bgcolor\": \"white\", \"lakecolor\": \"white\", \"landcolor\": \"#E5ECF6\", \"showlakes\": true, \"showland\": true, \"subunitcolor\": \"white\"}, \"hoverlabel\": {\"align\": \"left\"}, \"hovermode\": \"closest\", \"mapbox\": {\"style\": \"light\"}, \"paper_bgcolor\": \"white\", \"plot_bgcolor\": \"#E5ECF6\", \"polar\": {\"angularaxis\": {\"gridcolor\": \"white\", \"linecolor\": \"white\", \"ticks\": \"\"}, \"bgcolor\": \"#E5ECF6\", \"radialaxis\": {\"gridcolor\": \"white\", \"linecolor\": \"white\", \"ticks\": \"\"}}, \"scene\": {\"xaxis\": {\"backgroundcolor\": \"#E5ECF6\", \"gridcolor\": \"white\", \"gridwidth\": 2, \"linecolor\": \"white\", \"showbackground\": true, \"ticks\": \"\", \"zerolinecolor\": \"white\"}, \"yaxis\": {\"backgroundcolor\": \"#E5ECF6\", \"gridcolor\": \"white\", \"gridwidth\": 2, \"linecolor\": \"white\", \"showbackground\": true, \"ticks\": \"\", \"zerolinecolor\": \"white\"}, \"zaxis\": {\"backgroundcolor\": \"#E5ECF6\", \"gridcolor\": \"white\", \"gridwidth\": 2, \"linecolor\": \"white\", \"showbackground\": true, \"ticks\": \"\", \"zerolinecolor\": \"white\"}}, \"shapedefaults\": {\"line\": {\"color\": \"#2a3f5f\"}}, \"ternary\": {\"aaxis\": {\"gridcolor\": \"white\", \"linecolor\": \"white\", \"ticks\": \"\"}, \"baxis\": {\"gridcolor\": \"white\", \"linecolor\": \"white\", \"ticks\": \"\"}, \"bgcolor\": \"#E5ECF6\", \"caxis\": {\"gridcolor\": \"white\", \"linecolor\": \"white\", \"ticks\": \"\"}}, \"title\": {\"x\": 0.05}, \"xaxis\": {\"automargin\": true, \"gridcolor\": \"white\", \"linecolor\": \"white\", \"ticks\": \"\", \"title\": {\"standoff\": 15}, \"zerolinecolor\": \"white\", \"zerolinewidth\": 2}, \"yaxis\": {\"automargin\": true, \"gridcolor\": \"white\", \"linecolor\": \"white\", \"ticks\": \"\", \"title\": {\"standoff\": 15}, \"zerolinecolor\": \"white\", \"zerolinewidth\": 2}}}, \"title\": {\"font\": {\"color\": \"#4D5663\"}}, \"xaxis\": {\"gridcolor\": \"#E1E5ED\", \"showgrid\": true, \"tickfont\": {\"color\": \"#4D5663\"}, \"title\": {\"font\": {\"color\": \"#4D5663\"}, \"text\": \"\"}, \"zerolinecolor\": \"#E1E5ED\"}, \"yaxis\": {\"gridcolor\": \"#E1E5ED\", \"showgrid\": true, \"tickfont\": {\"color\": \"#4D5663\"}, \"title\": {\"font\": {\"color\": \"#4D5663\"}, \"text\": \"\"}, \"zerolinecolor\": \"#E1E5ED\"}},                        {\"showLink\": true, \"linkText\": \"Export to plot.ly\", \"plotlyServerURL\": \"https://plot.ly\", \"responsive\": true}                    ).then(function(){\n",
       "                            \n",
       "var gd = document.getElementById('16213f0d-8777-454e-9d12-961113d05f1b');\n",
       "var x = new MutationObserver(function (mutations, observer) {{\n",
       "        var display = window.getComputedStyle(gd).display;\n",
       "        if (!display || display === 'none') {{\n",
       "            console.log([gd, 'removed!']);\n",
       "            Plotly.purge(gd);\n",
       "            observer.disconnect();\n",
       "        }}\n",
       "}});\n",
       "\n",
       "// Listen for the removal of the full notebook cells\n",
       "var notebookContainer = gd.closest('#notebook-container');\n",
       "if (notebookContainer) {{\n",
       "    x.observe(notebookContainer, {childList: true});\n",
       "}}\n",
       "\n",
       "// Listen for the clearing of the current output cell\n",
       "var outputEl = gd.closest('.output');\n",
       "if (outputEl) {{\n",
       "    x.observe(outputEl, {childList: true});\n",
       "}}\n",
       "\n",
       "                        })                };                });            </script>        </div>"
      ]
     },
     "metadata": {},
     "output_type": "display_data"
    }
   ],
   "source": [
    "df3 = pd.DataFrame({'x':[1,2,3,4,5],'y':[10,20,30,20,10],'z':[5,4,3,2,1]})\n",
    "df3.iplot(kind='surface',colorscale='rdylbu')"
   ]
  },
  {
   "cell_type": "markdown",
   "metadata": {},
   "source": [
    "## Spread"
   ]
  },
  {
   "cell_type": "code",
   "execution_count": 15,
   "metadata": {},
   "outputs": [
    {
     "name": "stderr",
     "output_type": "stream",
     "text": [
      "C:\\ProgramData\\Anaconda3\\lib\\site-packages\\cufflinks\\plotlytools.py:849: FutureWarning:\n",
      "\n",
      "The pandas.np module is deprecated and will be removed from pandas in a future version. Import numpy directly instead\n",
      "\n",
      "C:\\ProgramData\\Anaconda3\\lib\\site-packages\\cufflinks\\plotlytools.py:850: FutureWarning:\n",
      "\n",
      "The pandas.np module is deprecated and will be removed from pandas in a future version. Import numpy directly instead\n",
      "\n"
     ]
    },
    {
     "data": {
      "application/vnd.plotly.v1+json": {
       "config": {
        "linkText": "Export to plot.ly",
        "plotlyServerURL": "https://plot.ly",
        "showLink": true
       },
       "data": [
        {
         "line": {
          "color": "rgba(255, 153, 51, 1.0)",
          "dash": "solid",
          "shape": "linear",
          "width": 1.3
         },
         "mode": "lines",
         "name": "A",
         "text": "",
         "type": "scatter",
         "x": [
          0,
          1,
          2,
          3,
          4,
          5,
          6,
          7,
          8,
          9,
          10,
          11,
          12,
          13,
          14,
          15,
          16,
          17,
          18,
          19,
          20,
          21,
          22,
          23,
          24,
          25,
          26,
          27,
          28,
          29,
          30,
          31,
          32,
          33,
          34,
          35,
          36,
          37,
          38,
          39,
          40,
          41,
          42,
          43,
          44,
          45,
          46,
          47,
          48,
          49,
          50,
          51,
          52,
          53,
          54,
          55,
          56,
          57,
          58,
          59,
          60,
          61,
          62,
          63,
          64,
          65,
          66,
          67,
          68,
          69,
          70,
          71,
          72,
          73,
          74,
          75,
          76,
          77,
          78,
          79,
          80,
          81,
          82,
          83,
          84,
          85,
          86,
          87,
          88,
          89,
          90,
          91,
          92,
          93,
          94,
          95,
          96,
          97,
          98,
          99
         ],
         "y": [
          -1.5355354192230586,
          -1.0527533192824858,
          1.0651922435485306,
          -0.3569392648813912,
          -1.2980144850988753,
          0.4979310577149322,
          0.5901952780313333,
          2.2774192822713237,
          -0.21876345827157676,
          -1.3349125647531113,
          -0.22055827664732808,
          0.7293643918751058,
          1.3259697709398004,
          -1.3720675861464693,
          1.7686765997019345,
          -0.21278705743547888,
          0.5621565488693779,
          -0.3792433474006059,
          -0.6750765094602391,
          -1.1845114394252805,
          -0.04649534177230828,
          1.1495256182501377,
          -0.41816004179319194,
          -1.0239481102629837,
          0.9946927964952956,
          0.6052416074897078,
          -1.9151632304247237,
          -0.3403894901650628,
          -0.4537997371869349,
          -0.7397293859495888,
          -0.9253789977904611,
          1.601930601973586,
          -1.4650826388661842,
          0.5270957520989601,
          -1.180253879455318,
          0.6850387941860184,
          -0.3678223463530502,
          -0.30500706501587305,
          -0.5542070516960862,
          -1.4312224043373811,
          -0.1848981571335127,
          0.6206299218949423,
          -1.0367501124402183,
          -1.0595095262876875,
          1.2105069014091077,
          0.5051738136010172,
          0.47177060342443633,
          -0.8144767662360516,
          0.11560223236678412,
          -1.8004185138809787,
          1.1576067690845295,
          0.5870612302887921,
          -1.2727449517938831,
          -0.3406361971233455,
          1.0983528236620699,
          0.49739189471308093,
          0.7647466281588152,
          2.1408660174962026,
          0.5061816115949632,
          0.120177007037446,
          -0.2712416900133294,
          -0.40368260942789297,
          -0.21235062677455707,
          0.9566608507041349,
          -0.592846919794081,
          0.9416099029137102,
          -0.13030336454300231,
          -0.4912598770441894,
          -0.0556549547985368,
          0.9901139892278719,
          -0.14111330498012714,
          -0.5733355116267539,
          -0.9446232149514938,
          1.4042766106007183,
          -0.7046212552212995,
          -0.3206051538056349,
          -0.4756918981281842,
          -1.2681053547018966,
          -0.47397096250784604,
          0.34213108483355736,
          -1.1842372349810686,
          -1.1458192389317712,
          -1.2557624556630214,
          1.5501458563898547,
          -0.08616993227352977,
          -0.06300453186192329,
          0.003078698431574541,
          0.35152717580520365,
          0.4241210560491202,
          -2.9474968859825985,
          -0.019618922077270073,
          1.7521003147708671,
          1.4658803481569689,
          0.7900509900134237,
          0.2829821582586573,
          -0.05612046663179397,
          0.10448201357335772,
          0.10872292715876054,
          -1.9192126781078032,
          -1.7708965409979374
         ]
        },
        {
         "line": {
          "color": "rgba(55, 128, 191, 1.0)",
          "dash": "solid",
          "shape": "linear",
          "width": 1.3
         },
         "mode": "lines",
         "name": "B",
         "text": "",
         "type": "scatter",
         "x": [
          0,
          1,
          2,
          3,
          4,
          5,
          6,
          7,
          8,
          9,
          10,
          11,
          12,
          13,
          14,
          15,
          16,
          17,
          18,
          19,
          20,
          21,
          22,
          23,
          24,
          25,
          26,
          27,
          28,
          29,
          30,
          31,
          32,
          33,
          34,
          35,
          36,
          37,
          38,
          39,
          40,
          41,
          42,
          43,
          44,
          45,
          46,
          47,
          48,
          49,
          50,
          51,
          52,
          53,
          54,
          55,
          56,
          57,
          58,
          59,
          60,
          61,
          62,
          63,
          64,
          65,
          66,
          67,
          68,
          69,
          70,
          71,
          72,
          73,
          74,
          75,
          76,
          77,
          78,
          79,
          80,
          81,
          82,
          83,
          84,
          85,
          86,
          87,
          88,
          89,
          90,
          91,
          92,
          93,
          94,
          95,
          96,
          97,
          98,
          99
         ],
         "y": [
          0.44735427314727433,
          -0.7508676450145815,
          0.18480434357317638,
          1.036858322212885,
          -1.043241632500722,
          -0.8413278507817418,
          0.6558618794274739,
          0.5547624862355806,
          0.6951192553620779,
          1.2726390156513538,
          -1.0680701829108734,
          1.2342808921384112,
          -1.1770818873863,
          -0.05976217213720838,
          0.9628980396633287,
          -0.8901404178495665,
          -1.1149508423060148,
          -2.019268938013942,
          0.4045080210400765,
          0.9774315118014983,
          0.8823158393243271,
          -0.043892028650077755,
          -2.316995693382531,
          0.4824470912200743,
          0.6564093759271757,
          -0.3101323506764711,
          0.629675064442062,
          -0.01929264505742492,
          -0.5956332881663199,
          -0.37341864927398605,
          -0.3955603284516065,
          -0.43505004152181065,
          0.5351401117646758,
          -0.1026937541843101,
          1.4395671391316562,
          -0.8599186484811995,
          0.6694451179627202,
          1.1286626566501965,
          2.063900225407397,
          -0.9295699324300545,
          0.17986704216835986,
          -0.5912237439296492,
          0.10630993675686522,
          -0.812945654755612,
          -0.34896555934775925,
          -0.553821590107099,
          0.6948002006257248,
          0.24073423241409353,
          0.3534901314589533,
          0.4686033082769145,
          -0.31373165877423215,
          -0.7114395884089332,
          -0.6409387157834656,
          0.4500016803540507,
          0.21711326404288983,
          -0.018069262949005942,
          0.6533802428552622,
          2.7828377337588623,
          1.5427776839709029,
          -0.1368525036344999,
          1.157314574619203,
          0.08968142121865062,
          1.0250856504271342,
          -1.9498605017780728,
          0.14600612105419417,
          1.3459243558586542,
          2.06593462275695,
          0.42818100775719403,
          1.3838953490438173,
          0.4734834155141974,
          -1.011243590326672,
          0.11941076540907923,
          0.4210363473429892,
          -1.480006232120809,
          1.8917742903441508,
          0.6887241945908786,
          1.5305407582805401,
          1.8528719094913844,
          2.0161692177771444,
          -0.49914963074557095,
          0.006967052436891432,
          -0.6449582167389107,
          -0.012249603523494667,
          0.5460881067575699,
          -0.10795163655635079,
          -2.37755617157348,
          -0.684219199300508,
          -1.242862178273611,
          2.153969226489427,
          -0.24502072610151426,
          0.8046263790364315,
          0.5406306107809049,
          -0.033216951156400706,
          -0.43847955592322213,
          -0.7124046913765233,
          -2.0170961431160714,
          0.6618154709573927,
          1.2054316613067024,
          -1.7938465004014814,
          -0.23658857048597437
         ]
        },
        {
         "connectgaps": false,
         "fill": "tozeroy",
         "line": {
          "color": "green",
          "dash": "solid",
          "shape": "linear",
          "width": 0.5
         },
         "mode": "lines",
         "name": "Spread",
         "showlegend": false,
         "type": "scatter",
         "x": [
          0,
          1,
          2,
          3,
          4,
          5,
          6,
          7,
          8,
          9,
          10,
          11,
          12,
          13,
          14,
          15,
          16,
          17,
          18,
          19,
          20,
          21,
          22,
          23,
          24,
          25,
          26,
          27,
          28,
          29,
          30,
          31,
          32,
          33,
          34,
          35,
          36,
          37,
          38,
          39,
          40,
          41,
          42,
          43,
          44,
          45,
          46,
          47,
          48,
          49,
          50,
          51,
          52,
          53,
          54,
          55,
          56,
          57,
          58,
          59,
          60,
          61,
          62,
          63,
          64,
          65,
          66,
          67,
          68,
          69,
          70,
          71,
          72,
          73,
          74,
          75,
          76,
          77,
          78,
          79,
          80,
          81,
          82,
          83,
          84,
          85,
          86,
          87,
          88,
          89,
          90,
          91,
          92,
          93,
          94,
          95,
          96,
          97,
          98,
          99
         ],
         "xaxis": "x2",
         "y": [
          "",
          "",
          0.8803878999753543,
          "",
          "",
          1.339258908496674,
          "",
          1.7226567960357433,
          "",
          "",
          0.8475119062635453,
          "",
          2.5030516583261004,
          "",
          0.8057785600386058,
          0.6773533604140877,
          1.6771073911753929,
          1.640025590613336,
          "",
          "",
          "",
          1.1934176469002153,
          1.898835651589339,
          "",
          0.3382834205681199,
          0.9153739581661788,
          "",
          "",
          0.141833550979385,
          "",
          "",
          2.0369806434953968,
          "",
          0.6297895062832701,
          "",
          1.544957442667218,
          "",
          "",
          "",
          "",
          "",
          1.2118536658245915,
          "",
          "",
          1.5594724607568669,
          1.0589954037081162,
          "",
          "",
          "",
          "",
          1.4713384278587616,
          1.2985008186977254,
          "",
          "",
          0.88123955961918,
          0.5154611576620869,
          0.11136638530355303,
          "",
          "",
          0.2570295106719459,
          "",
          "",
          "",
          2.9065213524822076,
          "",
          "",
          "",
          "",
          "",
          0.5166305737136745,
          0.8701302853465449,
          "",
          "",
          2.884282842721527,
          "",
          "",
          "",
          "",
          "",
          0.8412807155791283,
          "",
          "",
          "",
          1.0040577496322847,
          0.021781704282821016,
          2.314551639711557,
          0.6872978977320825,
          1.5943893540788145,
          "",
          "",
          "",
          1.2114697039899622,
          1.4990972993133695,
          1.2285305459366458,
          0.9953868496351805,
          1.9609756764842774,
          "",
          "",
          "",
          ""
         ],
         "yaxis": "y2"
        },
        {
         "connectgaps": false,
         "fill": "tozeroy",
         "line": {
          "color": "red",
          "dash": "solid",
          "shape": "linear",
          "width": 0.5
         },
         "mode": "lines",
         "name": "Spread",
         "showlegend": false,
         "type": "scatter",
         "x": [
          0,
          1,
          2,
          3,
          4,
          5,
          6,
          7,
          8,
          9,
          10,
          11,
          12,
          13,
          14,
          15,
          16,
          17,
          18,
          19,
          20,
          21,
          22,
          23,
          24,
          25,
          26,
          27,
          28,
          29,
          30,
          31,
          32,
          33,
          34,
          35,
          36,
          37,
          38,
          39,
          40,
          41,
          42,
          43,
          44,
          45,
          46,
          47,
          48,
          49,
          50,
          51,
          52,
          53,
          54,
          55,
          56,
          57,
          58,
          59,
          60,
          61,
          62,
          63,
          64,
          65,
          66,
          67,
          68,
          69,
          70,
          71,
          72,
          73,
          74,
          75,
          76,
          77,
          78,
          79,
          80,
          81,
          82,
          83,
          84,
          85,
          86,
          87,
          88,
          89,
          90,
          91,
          92,
          93,
          94,
          95,
          96,
          97,
          98,
          99
         ],
         "xaxis": "x2",
         "y": [
          -1.982889692370333,
          -0.30188567426790436,
          "",
          -1.3937975870942763,
          -0.2547728525981532,
          "",
          -0.06566660139614056,
          "",
          -0.9138827136336546,
          -2.607551580404465,
          "",
          -0.5049165002633054,
          "",
          -1.312305414009261,
          "",
          "",
          "",
          "",
          -1.0795845305003156,
          -2.161942951226779,
          -0.9288111810966354,
          "",
          "",
          -1.506395201483058,
          "",
          "",
          -2.5448382948667856,
          -0.3210968451076379,
          "",
          -0.36631073667560277,
          -0.5298186693388546,
          "",
          -2.00022275063086,
          "",
          -2.619821018586974,
          "",
          -1.0372674643157704,
          -1.4336697216660697,
          -2.6181072771034835,
          -0.5016524719073266,
          -0.36476519930187257,
          "",
          -1.1430600491970835,
          -0.24656387153207548,
          "",
          "",
          -0.22302959720128845,
          -1.055210998650145,
          -0.23788789909216917,
          -2.2690218221578933,
          "",
          "",
          -0.6318062360104175,
          -0.7906378774773961,
          "",
          "",
          "",
          -0.6419717162626597,
          -1.0365960723759398,
          "",
          -1.4285562646325325,
          -0.4933640306465436,
          -1.2374362772016911,
          "",
          -0.7388530408482752,
          -0.40431445294494406,
          -2.1962379872999525,
          -0.9194408848013834,
          -1.439550303842354,
          "",
          "",
          -0.6927462770358331,
          -1.365659562294483,
          "",
          -2.5963955455654504,
          -1.0093293483965136,
          -2.0062326564087245,
          -3.120977264193281,
          -2.4901401802849903,
          "",
          -1.19120428741796,
          -0.5008610221928604,
          -1.2435128521395267,
          "",
          "",
          "",
          "",
          "",
          -1.7298481704403066,
          -2.7024761598810843,
          -0.8242453011137016,
          "",
          "",
          "",
          "",
          "",
          -0.557333457384035,
          -1.0967087341479418,
          -0.12536617770632175,
          -1.5343079705119629
         ],
         "yaxis": "y2"
        }
       ],
       "layout": {
        "hovermode": "x",
        "legend": {
         "bgcolor": "#F5F6F9",
         "font": {
          "color": "#4D5663"
         }
        },
        "paper_bgcolor": "#F5F6F9",
        "plot_bgcolor": "#F5F6F9",
        "template": {
         "data": {
          "bar": [
           {
            "error_x": {
             "color": "#2a3f5f"
            },
            "error_y": {
             "color": "#2a3f5f"
            },
            "marker": {
             "line": {
              "color": "#E5ECF6",
              "width": 0.5
             }
            },
            "type": "bar"
           }
          ],
          "barpolar": [
           {
            "marker": {
             "line": {
              "color": "#E5ECF6",
              "width": 0.5
             }
            },
            "type": "barpolar"
           }
          ],
          "carpet": [
           {
            "aaxis": {
             "endlinecolor": "#2a3f5f",
             "gridcolor": "white",
             "linecolor": "white",
             "minorgridcolor": "white",
             "startlinecolor": "#2a3f5f"
            },
            "baxis": {
             "endlinecolor": "#2a3f5f",
             "gridcolor": "white",
             "linecolor": "white",
             "minorgridcolor": "white",
             "startlinecolor": "#2a3f5f"
            },
            "type": "carpet"
           }
          ],
          "choropleth": [
           {
            "colorbar": {
             "outlinewidth": 0,
             "ticks": ""
            },
            "type": "choropleth"
           }
          ],
          "contour": [
           {
            "colorbar": {
             "outlinewidth": 0,
             "ticks": ""
            },
            "colorscale": [
             [
              0,
              "#0d0887"
             ],
             [
              0.1111111111111111,
              "#46039f"
             ],
             [
              0.2222222222222222,
              "#7201a8"
             ],
             [
              0.3333333333333333,
              "#9c179e"
             ],
             [
              0.4444444444444444,
              "#bd3786"
             ],
             [
              0.5555555555555556,
              "#d8576b"
             ],
             [
              0.6666666666666666,
              "#ed7953"
             ],
             [
              0.7777777777777778,
              "#fb9f3a"
             ],
             [
              0.8888888888888888,
              "#fdca26"
             ],
             [
              1,
              "#f0f921"
             ]
            ],
            "type": "contour"
           }
          ],
          "contourcarpet": [
           {
            "colorbar": {
             "outlinewidth": 0,
             "ticks": ""
            },
            "type": "contourcarpet"
           }
          ],
          "heatmap": [
           {
            "colorbar": {
             "outlinewidth": 0,
             "ticks": ""
            },
            "colorscale": [
             [
              0,
              "#0d0887"
             ],
             [
              0.1111111111111111,
              "#46039f"
             ],
             [
              0.2222222222222222,
              "#7201a8"
             ],
             [
              0.3333333333333333,
              "#9c179e"
             ],
             [
              0.4444444444444444,
              "#bd3786"
             ],
             [
              0.5555555555555556,
              "#d8576b"
             ],
             [
              0.6666666666666666,
              "#ed7953"
             ],
             [
              0.7777777777777778,
              "#fb9f3a"
             ],
             [
              0.8888888888888888,
              "#fdca26"
             ],
             [
              1,
              "#f0f921"
             ]
            ],
            "type": "heatmap"
           }
          ],
          "heatmapgl": [
           {
            "colorbar": {
             "outlinewidth": 0,
             "ticks": ""
            },
            "colorscale": [
             [
              0,
              "#0d0887"
             ],
             [
              0.1111111111111111,
              "#46039f"
             ],
             [
              0.2222222222222222,
              "#7201a8"
             ],
             [
              0.3333333333333333,
              "#9c179e"
             ],
             [
              0.4444444444444444,
              "#bd3786"
             ],
             [
              0.5555555555555556,
              "#d8576b"
             ],
             [
              0.6666666666666666,
              "#ed7953"
             ],
             [
              0.7777777777777778,
              "#fb9f3a"
             ],
             [
              0.8888888888888888,
              "#fdca26"
             ],
             [
              1,
              "#f0f921"
             ]
            ],
            "type": "heatmapgl"
           }
          ],
          "histogram": [
           {
            "marker": {
             "colorbar": {
              "outlinewidth": 0,
              "ticks": ""
             }
            },
            "type": "histogram"
           }
          ],
          "histogram2d": [
           {
            "colorbar": {
             "outlinewidth": 0,
             "ticks": ""
            },
            "colorscale": [
             [
              0,
              "#0d0887"
             ],
             [
              0.1111111111111111,
              "#46039f"
             ],
             [
              0.2222222222222222,
              "#7201a8"
             ],
             [
              0.3333333333333333,
              "#9c179e"
             ],
             [
              0.4444444444444444,
              "#bd3786"
             ],
             [
              0.5555555555555556,
              "#d8576b"
             ],
             [
              0.6666666666666666,
              "#ed7953"
             ],
             [
              0.7777777777777778,
              "#fb9f3a"
             ],
             [
              0.8888888888888888,
              "#fdca26"
             ],
             [
              1,
              "#f0f921"
             ]
            ],
            "type": "histogram2d"
           }
          ],
          "histogram2dcontour": [
           {
            "colorbar": {
             "outlinewidth": 0,
             "ticks": ""
            },
            "colorscale": [
             [
              0,
              "#0d0887"
             ],
             [
              0.1111111111111111,
              "#46039f"
             ],
             [
              0.2222222222222222,
              "#7201a8"
             ],
             [
              0.3333333333333333,
              "#9c179e"
             ],
             [
              0.4444444444444444,
              "#bd3786"
             ],
             [
              0.5555555555555556,
              "#d8576b"
             ],
             [
              0.6666666666666666,
              "#ed7953"
             ],
             [
              0.7777777777777778,
              "#fb9f3a"
             ],
             [
              0.8888888888888888,
              "#fdca26"
             ],
             [
              1,
              "#f0f921"
             ]
            ],
            "type": "histogram2dcontour"
           }
          ],
          "mesh3d": [
           {
            "colorbar": {
             "outlinewidth": 0,
             "ticks": ""
            },
            "type": "mesh3d"
           }
          ],
          "parcoords": [
           {
            "line": {
             "colorbar": {
              "outlinewidth": 0,
              "ticks": ""
             }
            },
            "type": "parcoords"
           }
          ],
          "pie": [
           {
            "automargin": true,
            "type": "pie"
           }
          ],
          "scatter": [
           {
            "marker": {
             "colorbar": {
              "outlinewidth": 0,
              "ticks": ""
             }
            },
            "type": "scatter"
           }
          ],
          "scatter3d": [
           {
            "line": {
             "colorbar": {
              "outlinewidth": 0,
              "ticks": ""
             }
            },
            "marker": {
             "colorbar": {
              "outlinewidth": 0,
              "ticks": ""
             }
            },
            "type": "scatter3d"
           }
          ],
          "scattercarpet": [
           {
            "marker": {
             "colorbar": {
              "outlinewidth": 0,
              "ticks": ""
             }
            },
            "type": "scattercarpet"
           }
          ],
          "scattergeo": [
           {
            "marker": {
             "colorbar": {
              "outlinewidth": 0,
              "ticks": ""
             }
            },
            "type": "scattergeo"
           }
          ],
          "scattergl": [
           {
            "marker": {
             "colorbar": {
              "outlinewidth": 0,
              "ticks": ""
             }
            },
            "type": "scattergl"
           }
          ],
          "scattermapbox": [
           {
            "marker": {
             "colorbar": {
              "outlinewidth": 0,
              "ticks": ""
             }
            },
            "type": "scattermapbox"
           }
          ],
          "scatterpolar": [
           {
            "marker": {
             "colorbar": {
              "outlinewidth": 0,
              "ticks": ""
             }
            },
            "type": "scatterpolar"
           }
          ],
          "scatterpolargl": [
           {
            "marker": {
             "colorbar": {
              "outlinewidth": 0,
              "ticks": ""
             }
            },
            "type": "scatterpolargl"
           }
          ],
          "scatterternary": [
           {
            "marker": {
             "colorbar": {
              "outlinewidth": 0,
              "ticks": ""
             }
            },
            "type": "scatterternary"
           }
          ],
          "surface": [
           {
            "colorbar": {
             "outlinewidth": 0,
             "ticks": ""
            },
            "colorscale": [
             [
              0,
              "#0d0887"
             ],
             [
              0.1111111111111111,
              "#46039f"
             ],
             [
              0.2222222222222222,
              "#7201a8"
             ],
             [
              0.3333333333333333,
              "#9c179e"
             ],
             [
              0.4444444444444444,
              "#bd3786"
             ],
             [
              0.5555555555555556,
              "#d8576b"
             ],
             [
              0.6666666666666666,
              "#ed7953"
             ],
             [
              0.7777777777777778,
              "#fb9f3a"
             ],
             [
              0.8888888888888888,
              "#fdca26"
             ],
             [
              1,
              "#f0f921"
             ]
            ],
            "type": "surface"
           }
          ],
          "table": [
           {
            "cells": {
             "fill": {
              "color": "#EBF0F8"
             },
             "line": {
              "color": "white"
             }
            },
            "header": {
             "fill": {
              "color": "#C8D4E3"
             },
             "line": {
              "color": "white"
             }
            },
            "type": "table"
           }
          ]
         },
         "layout": {
          "annotationdefaults": {
           "arrowcolor": "#2a3f5f",
           "arrowhead": 0,
           "arrowwidth": 1
          },
          "coloraxis": {
           "colorbar": {
            "outlinewidth": 0,
            "ticks": ""
           }
          },
          "colorscale": {
           "diverging": [
            [
             0,
             "#8e0152"
            ],
            [
             0.1,
             "#c51b7d"
            ],
            [
             0.2,
             "#de77ae"
            ],
            [
             0.3,
             "#f1b6da"
            ],
            [
             0.4,
             "#fde0ef"
            ],
            [
             0.5,
             "#f7f7f7"
            ],
            [
             0.6,
             "#e6f5d0"
            ],
            [
             0.7,
             "#b8e186"
            ],
            [
             0.8,
             "#7fbc41"
            ],
            [
             0.9,
             "#4d9221"
            ],
            [
             1,
             "#276419"
            ]
           ],
           "sequential": [
            [
             0,
             "#0d0887"
            ],
            [
             0.1111111111111111,
             "#46039f"
            ],
            [
             0.2222222222222222,
             "#7201a8"
            ],
            [
             0.3333333333333333,
             "#9c179e"
            ],
            [
             0.4444444444444444,
             "#bd3786"
            ],
            [
             0.5555555555555556,
             "#d8576b"
            ],
            [
             0.6666666666666666,
             "#ed7953"
            ],
            [
             0.7777777777777778,
             "#fb9f3a"
            ],
            [
             0.8888888888888888,
             "#fdca26"
            ],
            [
             1,
             "#f0f921"
            ]
           ],
           "sequentialminus": [
            [
             0,
             "#0d0887"
            ],
            [
             0.1111111111111111,
             "#46039f"
            ],
            [
             0.2222222222222222,
             "#7201a8"
            ],
            [
             0.3333333333333333,
             "#9c179e"
            ],
            [
             0.4444444444444444,
             "#bd3786"
            ],
            [
             0.5555555555555556,
             "#d8576b"
            ],
            [
             0.6666666666666666,
             "#ed7953"
            ],
            [
             0.7777777777777778,
             "#fb9f3a"
            ],
            [
             0.8888888888888888,
             "#fdca26"
            ],
            [
             1,
             "#f0f921"
            ]
           ]
          },
          "colorway": [
           "#636efa",
           "#EF553B",
           "#00cc96",
           "#ab63fa",
           "#FFA15A",
           "#19d3f3",
           "#FF6692",
           "#B6E880",
           "#FF97FF",
           "#FECB52"
          ],
          "font": {
           "color": "#2a3f5f"
          },
          "geo": {
           "bgcolor": "white",
           "lakecolor": "white",
           "landcolor": "#E5ECF6",
           "showlakes": true,
           "showland": true,
           "subunitcolor": "white"
          },
          "hoverlabel": {
           "align": "left"
          },
          "hovermode": "closest",
          "mapbox": {
           "style": "light"
          },
          "paper_bgcolor": "white",
          "plot_bgcolor": "#E5ECF6",
          "polar": {
           "angularaxis": {
            "gridcolor": "white",
            "linecolor": "white",
            "ticks": ""
           },
           "bgcolor": "#E5ECF6",
           "radialaxis": {
            "gridcolor": "white",
            "linecolor": "white",
            "ticks": ""
           }
          },
          "scene": {
           "xaxis": {
            "backgroundcolor": "#E5ECF6",
            "gridcolor": "white",
            "gridwidth": 2,
            "linecolor": "white",
            "showbackground": true,
            "ticks": "",
            "zerolinecolor": "white"
           },
           "yaxis": {
            "backgroundcolor": "#E5ECF6",
            "gridcolor": "white",
            "gridwidth": 2,
            "linecolor": "white",
            "showbackground": true,
            "ticks": "",
            "zerolinecolor": "white"
           },
           "zaxis": {
            "backgroundcolor": "#E5ECF6",
            "gridcolor": "white",
            "gridwidth": 2,
            "linecolor": "white",
            "showbackground": true,
            "ticks": "",
            "zerolinecolor": "white"
           }
          },
          "shapedefaults": {
           "line": {
            "color": "#2a3f5f"
           }
          },
          "ternary": {
           "aaxis": {
            "gridcolor": "white",
            "linecolor": "white",
            "ticks": ""
           },
           "baxis": {
            "gridcolor": "white",
            "linecolor": "white",
            "ticks": ""
           },
           "bgcolor": "#E5ECF6",
           "caxis": {
            "gridcolor": "white",
            "linecolor": "white",
            "ticks": ""
           }
          },
          "title": {
           "x": 0.05
          },
          "xaxis": {
           "automargin": true,
           "gridcolor": "white",
           "linecolor": "white",
           "ticks": "",
           "title": {
            "standoff": 15
           },
           "zerolinecolor": "white",
           "zerolinewidth": 2
          },
          "yaxis": {
           "automargin": true,
           "gridcolor": "white",
           "linecolor": "white",
           "ticks": "",
           "title": {
            "standoff": 15
           },
           "zerolinecolor": "white",
           "zerolinewidth": 2
          }
         }
        },
        "title": {
         "font": {
          "color": "#4D5663"
         }
        },
        "xaxis": {
         "gridcolor": "#E1E5ED",
         "showgrid": true,
         "tickfont": {
          "color": "#4D5663"
         },
         "title": {
          "font": {
           "color": "#4D5663"
          },
          "text": ""
         },
         "zerolinecolor": "#E1E5ED"
        },
        "xaxis2": {
         "anchor": "y2",
         "gridcolor": "#E1E5ED",
         "showgrid": true,
         "showticklabels": false,
         "tickfont": {
          "color": "#4D5663"
         },
         "title": {
          "font": {
           "color": "#4D5663"
          },
          "text": ""
         },
         "zerolinecolor": "#E1E5ED"
        },
        "yaxis": {
         "domain": [
          0.3,
          1
         ],
         "gridcolor": "#E1E5ED",
         "showgrid": true,
         "tickfont": {
          "color": "#4D5663"
         },
         "title": {
          "font": {
           "color": "#4D5663"
          },
          "text": ""
         },
         "zerolinecolor": "#E1E5ED"
        },
        "yaxis2": {
         "domain": [
          0,
          0.25
         ],
         "gridcolor": "#E1E5ED",
         "showgrid": true,
         "tickfont": {
          "color": "#4D5663"
         },
         "title": {
          "font": {
           "color": "#4D5663"
          },
          "text": "Spread"
         },
         "zerolinecolor": "#E1E5ED"
        }
       }
      },
      "text/html": [
       "<div>                            <div id=\"bf4f8e6d-83ed-40e2-b5a1-5cd34ed0b250\" class=\"plotly-graph-div\" style=\"height:525px; width:100%;\"></div>            <script type=\"text/javascript\">                require([\"plotly\"], function(Plotly) {                    window.PLOTLYENV=window.PLOTLYENV || {};\n",
       "                    window.PLOTLYENV.BASE_URL='https://plot.ly';                                    if (document.getElementById(\"bf4f8e6d-83ed-40e2-b5a1-5cd34ed0b250\")) {                    Plotly.newPlot(                        \"bf4f8e6d-83ed-40e2-b5a1-5cd34ed0b250\",                        [{\"line\": {\"color\": \"rgba(255, 153, 51, 1.0)\", \"dash\": \"solid\", \"shape\": \"linear\", \"width\": 1.3}, \"mode\": \"lines\", \"name\": \"A\", \"text\": \"\", \"type\": \"scatter\", \"x\": [0, 1, 2, 3, 4, 5, 6, 7, 8, 9, 10, 11, 12, 13, 14, 15, 16, 17, 18, 19, 20, 21, 22, 23, 24, 25, 26, 27, 28, 29, 30, 31, 32, 33, 34, 35, 36, 37, 38, 39, 40, 41, 42, 43, 44, 45, 46, 47, 48, 49, 50, 51, 52, 53, 54, 55, 56, 57, 58, 59, 60, 61, 62, 63, 64, 65, 66, 67, 68, 69, 70, 71, 72, 73, 74, 75, 76, 77, 78, 79, 80, 81, 82, 83, 84, 85, 86, 87, 88, 89, 90, 91, 92, 93, 94, 95, 96, 97, 98, 99], \"y\": [-1.5355354192230586, -1.0527533192824858, 1.0651922435485306, -0.3569392648813912, -1.2980144850988753, 0.4979310577149322, 0.5901952780313333, 2.2774192822713237, -0.21876345827157676, -1.3349125647531113, -0.22055827664732808, 0.7293643918751058, 1.3259697709398004, -1.3720675861464693, 1.7686765997019345, -0.21278705743547888, 0.5621565488693779, -0.3792433474006059, -0.6750765094602391, -1.1845114394252805, -0.04649534177230828, 1.1495256182501377, -0.41816004179319194, -1.0239481102629837, 0.9946927964952956, 0.6052416074897078, -1.9151632304247237, -0.3403894901650628, -0.4537997371869349, -0.7397293859495888, -0.9253789977904611, 1.601930601973586, -1.4650826388661842, 0.5270957520989601, -1.180253879455318, 0.6850387941860184, -0.3678223463530502, -0.30500706501587305, -0.5542070516960862, -1.4312224043373811, -0.1848981571335127, 0.6206299218949423, -1.0367501124402183, -1.0595095262876875, 1.2105069014091077, 0.5051738136010172, 0.47177060342443633, -0.8144767662360516, 0.11560223236678412, -1.8004185138809787, 1.1576067690845295, 0.5870612302887921, -1.2727449517938831, -0.3406361971233455, 1.0983528236620699, 0.49739189471308093, 0.7647466281588152, 2.1408660174962026, 0.5061816115949632, 0.120177007037446, -0.2712416900133294, -0.40368260942789297, -0.21235062677455707, 0.9566608507041349, -0.592846919794081, 0.9416099029137102, -0.13030336454300231, -0.4912598770441894, -0.0556549547985368, 0.9901139892278719, -0.14111330498012714, -0.5733355116267539, -0.9446232149514938, 1.4042766106007183, -0.7046212552212995, -0.3206051538056349, -0.4756918981281842, -1.2681053547018966, -0.47397096250784604, 0.34213108483355736, -1.1842372349810686, -1.1458192389317712, -1.2557624556630214, 1.5501458563898547, -0.08616993227352977, -0.06300453186192329, 0.003078698431574541, 0.35152717580520365, 0.4241210560491202, -2.9474968859825985, -0.019618922077270073, 1.7521003147708671, 1.4658803481569689, 0.7900509900134237, 0.2829821582586573, -0.05612046663179397, 0.10448201357335772, 0.10872292715876054, -1.9192126781078032, -1.7708965409979374]}, {\"line\": {\"color\": \"rgba(55, 128, 191, 1.0)\", \"dash\": \"solid\", \"shape\": \"linear\", \"width\": 1.3}, \"mode\": \"lines\", \"name\": \"B\", \"text\": \"\", \"type\": \"scatter\", \"x\": [0, 1, 2, 3, 4, 5, 6, 7, 8, 9, 10, 11, 12, 13, 14, 15, 16, 17, 18, 19, 20, 21, 22, 23, 24, 25, 26, 27, 28, 29, 30, 31, 32, 33, 34, 35, 36, 37, 38, 39, 40, 41, 42, 43, 44, 45, 46, 47, 48, 49, 50, 51, 52, 53, 54, 55, 56, 57, 58, 59, 60, 61, 62, 63, 64, 65, 66, 67, 68, 69, 70, 71, 72, 73, 74, 75, 76, 77, 78, 79, 80, 81, 82, 83, 84, 85, 86, 87, 88, 89, 90, 91, 92, 93, 94, 95, 96, 97, 98, 99], \"y\": [0.44735427314727433, -0.7508676450145815, 0.18480434357317638, 1.036858322212885, -1.043241632500722, -0.8413278507817418, 0.6558618794274739, 0.5547624862355806, 0.6951192553620779, 1.2726390156513538, -1.0680701829108734, 1.2342808921384112, -1.1770818873863, -0.05976217213720838, 0.9628980396633287, -0.8901404178495665, -1.1149508423060148, -2.019268938013942, 0.4045080210400765, 0.9774315118014983, 0.8823158393243271, -0.043892028650077755, -2.316995693382531, 0.4824470912200743, 0.6564093759271757, -0.3101323506764711, 0.629675064442062, -0.01929264505742492, -0.5956332881663199, -0.37341864927398605, -0.3955603284516065, -0.43505004152181065, 0.5351401117646758, -0.1026937541843101, 1.4395671391316562, -0.8599186484811995, 0.6694451179627202, 1.1286626566501965, 2.063900225407397, -0.9295699324300545, 0.17986704216835986, -0.5912237439296492, 0.10630993675686522, -0.812945654755612, -0.34896555934775925, -0.553821590107099, 0.6948002006257248, 0.24073423241409353, 0.3534901314589533, 0.4686033082769145, -0.31373165877423215, -0.7114395884089332, -0.6409387157834656, 0.4500016803540507, 0.21711326404288983, -0.018069262949005942, 0.6533802428552622, 2.7828377337588623, 1.5427776839709029, -0.1368525036344999, 1.157314574619203, 0.08968142121865062, 1.0250856504271342, -1.9498605017780728, 0.14600612105419417, 1.3459243558586542, 2.06593462275695, 0.42818100775719403, 1.3838953490438173, 0.4734834155141974, -1.011243590326672, 0.11941076540907923, 0.4210363473429892, -1.480006232120809, 1.8917742903441508, 0.6887241945908786, 1.5305407582805401, 1.8528719094913844, 2.0161692177771444, -0.49914963074557095, 0.006967052436891432, -0.6449582167389107, -0.012249603523494667, 0.5460881067575699, -0.10795163655635079, -2.37755617157348, -0.684219199300508, -1.242862178273611, 2.153969226489427, -0.24502072610151426, 0.8046263790364315, 0.5406306107809049, -0.033216951156400706, -0.43847955592322213, -0.7124046913765233, -2.0170961431160714, 0.6618154709573927, 1.2054316613067024, -1.7938465004014814, -0.23658857048597437]}, {\"connectgaps\": false, \"fill\": \"tozeroy\", \"line\": {\"color\": \"green\", \"dash\": \"solid\", \"shape\": \"linear\", \"width\": 0.5}, \"mode\": \"lines\", \"name\": \"Spread\", \"showlegend\": false, \"type\": \"scatter\", \"x\": [0, 1, 2, 3, 4, 5, 6, 7, 8, 9, 10, 11, 12, 13, 14, 15, 16, 17, 18, 19, 20, 21, 22, 23, 24, 25, 26, 27, 28, 29, 30, 31, 32, 33, 34, 35, 36, 37, 38, 39, 40, 41, 42, 43, 44, 45, 46, 47, 48, 49, 50, 51, 52, 53, 54, 55, 56, 57, 58, 59, 60, 61, 62, 63, 64, 65, 66, 67, 68, 69, 70, 71, 72, 73, 74, 75, 76, 77, 78, 79, 80, 81, 82, 83, 84, 85, 86, 87, 88, 89, 90, 91, 92, 93, 94, 95, 96, 97, 98, 99], \"xaxis\": \"x2\", \"y\": [\"\", \"\", 0.8803878999753543, \"\", \"\", 1.339258908496674, \"\", 1.7226567960357433, \"\", \"\", 0.8475119062635453, \"\", 2.5030516583261004, \"\", 0.8057785600386058, 0.6773533604140877, 1.6771073911753929, 1.640025590613336, \"\", \"\", \"\", 1.1934176469002153, 1.898835651589339, \"\", 0.3382834205681199, 0.9153739581661788, \"\", \"\", 0.141833550979385, \"\", \"\", 2.0369806434953968, \"\", 0.6297895062832701, \"\", 1.544957442667218, \"\", \"\", \"\", \"\", \"\", 1.2118536658245915, \"\", \"\", 1.5594724607568669, 1.0589954037081162, \"\", \"\", \"\", \"\", 1.4713384278587616, 1.2985008186977254, \"\", \"\", 0.88123955961918, 0.5154611576620869, 0.11136638530355303, \"\", \"\", 0.2570295106719459, \"\", \"\", \"\", 2.9065213524822076, \"\", \"\", \"\", \"\", \"\", 0.5166305737136745, 0.8701302853465449, \"\", \"\", 2.884282842721527, \"\", \"\", \"\", \"\", \"\", 0.8412807155791283, \"\", \"\", \"\", 1.0040577496322847, 0.021781704282821016, 2.314551639711557, 0.6872978977320825, 1.5943893540788145, \"\", \"\", \"\", 1.2114697039899622, 1.4990972993133695, 1.2285305459366458, 0.9953868496351805, 1.9609756764842774, \"\", \"\", \"\", \"\"], \"yaxis\": \"y2\"}, {\"connectgaps\": false, \"fill\": \"tozeroy\", \"line\": {\"color\": \"red\", \"dash\": \"solid\", \"shape\": \"linear\", \"width\": 0.5}, \"mode\": \"lines\", \"name\": \"Spread\", \"showlegend\": false, \"type\": \"scatter\", \"x\": [0, 1, 2, 3, 4, 5, 6, 7, 8, 9, 10, 11, 12, 13, 14, 15, 16, 17, 18, 19, 20, 21, 22, 23, 24, 25, 26, 27, 28, 29, 30, 31, 32, 33, 34, 35, 36, 37, 38, 39, 40, 41, 42, 43, 44, 45, 46, 47, 48, 49, 50, 51, 52, 53, 54, 55, 56, 57, 58, 59, 60, 61, 62, 63, 64, 65, 66, 67, 68, 69, 70, 71, 72, 73, 74, 75, 76, 77, 78, 79, 80, 81, 82, 83, 84, 85, 86, 87, 88, 89, 90, 91, 92, 93, 94, 95, 96, 97, 98, 99], \"xaxis\": \"x2\", \"y\": [-1.982889692370333, -0.30188567426790436, \"\", -1.3937975870942763, -0.2547728525981532, \"\", -0.06566660139614056, \"\", -0.9138827136336546, -2.607551580404465, \"\", -0.5049165002633054, \"\", -1.312305414009261, \"\", \"\", \"\", \"\", -1.0795845305003156, -2.161942951226779, -0.9288111810966354, \"\", \"\", -1.506395201483058, \"\", \"\", -2.5448382948667856, -0.3210968451076379, \"\", -0.36631073667560277, -0.5298186693388546, \"\", -2.00022275063086, \"\", -2.619821018586974, \"\", -1.0372674643157704, -1.4336697216660697, -2.6181072771034835, -0.5016524719073266, -0.36476519930187257, \"\", -1.1430600491970835, -0.24656387153207548, \"\", \"\", -0.22302959720128845, -1.055210998650145, -0.23788789909216917, -2.2690218221578933, \"\", \"\", -0.6318062360104175, -0.7906378774773961, \"\", \"\", \"\", -0.6419717162626597, -1.0365960723759398, \"\", -1.4285562646325325, -0.4933640306465436, -1.2374362772016911, \"\", -0.7388530408482752, -0.40431445294494406, -2.1962379872999525, -0.9194408848013834, -1.439550303842354, \"\", \"\", -0.6927462770358331, -1.365659562294483, \"\", -2.5963955455654504, -1.0093293483965136, -2.0062326564087245, -3.120977264193281, -2.4901401802849903, \"\", -1.19120428741796, -0.5008610221928604, -1.2435128521395267, \"\", \"\", \"\", \"\", \"\", -1.7298481704403066, -2.7024761598810843, -0.8242453011137016, \"\", \"\", \"\", \"\", \"\", -0.557333457384035, -1.0967087341479418, -0.12536617770632175, -1.5343079705119629], \"yaxis\": \"y2\"}],                        {\"hovermode\": \"x\", \"legend\": {\"bgcolor\": \"#F5F6F9\", \"font\": {\"color\": \"#4D5663\"}}, \"paper_bgcolor\": \"#F5F6F9\", \"plot_bgcolor\": \"#F5F6F9\", \"template\": {\"data\": {\"bar\": [{\"error_x\": {\"color\": \"#2a3f5f\"}, \"error_y\": {\"color\": \"#2a3f5f\"}, \"marker\": {\"line\": {\"color\": \"#E5ECF6\", \"width\": 0.5}}, \"type\": \"bar\"}], \"barpolar\": [{\"marker\": {\"line\": {\"color\": \"#E5ECF6\", \"width\": 0.5}}, \"type\": \"barpolar\"}], \"carpet\": [{\"aaxis\": {\"endlinecolor\": \"#2a3f5f\", \"gridcolor\": \"white\", \"linecolor\": \"white\", \"minorgridcolor\": \"white\", \"startlinecolor\": \"#2a3f5f\"}, \"baxis\": {\"endlinecolor\": \"#2a3f5f\", \"gridcolor\": \"white\", \"linecolor\": \"white\", \"minorgridcolor\": \"white\", \"startlinecolor\": \"#2a3f5f\"}, \"type\": \"carpet\"}], \"choropleth\": [{\"colorbar\": {\"outlinewidth\": 0, \"ticks\": \"\"}, \"type\": \"choropleth\"}], \"contour\": [{\"colorbar\": {\"outlinewidth\": 0, \"ticks\": \"\"}, \"colorscale\": [[0.0, \"#0d0887\"], [0.1111111111111111, \"#46039f\"], [0.2222222222222222, \"#7201a8\"], [0.3333333333333333, \"#9c179e\"], [0.4444444444444444, \"#bd3786\"], [0.5555555555555556, \"#d8576b\"], [0.6666666666666666, \"#ed7953\"], [0.7777777777777778, \"#fb9f3a\"], [0.8888888888888888, \"#fdca26\"], [1.0, \"#f0f921\"]], \"type\": \"contour\"}], \"contourcarpet\": [{\"colorbar\": {\"outlinewidth\": 0, \"ticks\": \"\"}, \"type\": \"contourcarpet\"}], \"heatmap\": [{\"colorbar\": {\"outlinewidth\": 0, \"ticks\": \"\"}, \"colorscale\": [[0.0, \"#0d0887\"], [0.1111111111111111, \"#46039f\"], [0.2222222222222222, \"#7201a8\"], [0.3333333333333333, \"#9c179e\"], [0.4444444444444444, \"#bd3786\"], [0.5555555555555556, \"#d8576b\"], [0.6666666666666666, \"#ed7953\"], [0.7777777777777778, \"#fb9f3a\"], [0.8888888888888888, \"#fdca26\"], [1.0, \"#f0f921\"]], \"type\": \"heatmap\"}], \"heatmapgl\": [{\"colorbar\": {\"outlinewidth\": 0, \"ticks\": \"\"}, \"colorscale\": [[0.0, \"#0d0887\"], [0.1111111111111111, \"#46039f\"], [0.2222222222222222, \"#7201a8\"], [0.3333333333333333, \"#9c179e\"], [0.4444444444444444, \"#bd3786\"], [0.5555555555555556, \"#d8576b\"], [0.6666666666666666, \"#ed7953\"], [0.7777777777777778, \"#fb9f3a\"], [0.8888888888888888, \"#fdca26\"], [1.0, \"#f0f921\"]], \"type\": \"heatmapgl\"}], \"histogram\": [{\"marker\": {\"colorbar\": {\"outlinewidth\": 0, \"ticks\": \"\"}}, \"type\": \"histogram\"}], \"histogram2d\": [{\"colorbar\": {\"outlinewidth\": 0, \"ticks\": \"\"}, \"colorscale\": [[0.0, \"#0d0887\"], [0.1111111111111111, \"#46039f\"], [0.2222222222222222, \"#7201a8\"], [0.3333333333333333, \"#9c179e\"], [0.4444444444444444, \"#bd3786\"], [0.5555555555555556, \"#d8576b\"], [0.6666666666666666, \"#ed7953\"], [0.7777777777777778, \"#fb9f3a\"], [0.8888888888888888, \"#fdca26\"], [1.0, \"#f0f921\"]], \"type\": \"histogram2d\"}], \"histogram2dcontour\": [{\"colorbar\": {\"outlinewidth\": 0, \"ticks\": \"\"}, \"colorscale\": [[0.0, \"#0d0887\"], [0.1111111111111111, \"#46039f\"], [0.2222222222222222, \"#7201a8\"], [0.3333333333333333, \"#9c179e\"], [0.4444444444444444, \"#bd3786\"], [0.5555555555555556, \"#d8576b\"], [0.6666666666666666, \"#ed7953\"], [0.7777777777777778, \"#fb9f3a\"], [0.8888888888888888, \"#fdca26\"], [1.0, \"#f0f921\"]], \"type\": \"histogram2dcontour\"}], \"mesh3d\": [{\"colorbar\": {\"outlinewidth\": 0, \"ticks\": \"\"}, \"type\": \"mesh3d\"}], \"parcoords\": [{\"line\": {\"colorbar\": {\"outlinewidth\": 0, \"ticks\": \"\"}}, \"type\": \"parcoords\"}], \"pie\": [{\"automargin\": true, \"type\": \"pie\"}], \"scatter\": [{\"marker\": {\"colorbar\": {\"outlinewidth\": 0, \"ticks\": \"\"}}, \"type\": \"scatter\"}], \"scatter3d\": [{\"line\": {\"colorbar\": {\"outlinewidth\": 0, \"ticks\": \"\"}}, \"marker\": {\"colorbar\": {\"outlinewidth\": 0, \"ticks\": \"\"}}, \"type\": \"scatter3d\"}], \"scattercarpet\": [{\"marker\": {\"colorbar\": {\"outlinewidth\": 0, \"ticks\": \"\"}}, \"type\": \"scattercarpet\"}], \"scattergeo\": [{\"marker\": {\"colorbar\": {\"outlinewidth\": 0, \"ticks\": \"\"}}, \"type\": \"scattergeo\"}], \"scattergl\": [{\"marker\": {\"colorbar\": {\"outlinewidth\": 0, \"ticks\": \"\"}}, \"type\": \"scattergl\"}], \"scattermapbox\": [{\"marker\": {\"colorbar\": {\"outlinewidth\": 0, \"ticks\": \"\"}}, \"type\": \"scattermapbox\"}], \"scatterpolar\": [{\"marker\": {\"colorbar\": {\"outlinewidth\": 0, \"ticks\": \"\"}}, \"type\": \"scatterpolar\"}], \"scatterpolargl\": [{\"marker\": {\"colorbar\": {\"outlinewidth\": 0, \"ticks\": \"\"}}, \"type\": \"scatterpolargl\"}], \"scatterternary\": [{\"marker\": {\"colorbar\": {\"outlinewidth\": 0, \"ticks\": \"\"}}, \"type\": \"scatterternary\"}], \"surface\": [{\"colorbar\": {\"outlinewidth\": 0, \"ticks\": \"\"}, \"colorscale\": [[0.0, \"#0d0887\"], [0.1111111111111111, \"#46039f\"], [0.2222222222222222, \"#7201a8\"], [0.3333333333333333, \"#9c179e\"], [0.4444444444444444, \"#bd3786\"], [0.5555555555555556, \"#d8576b\"], [0.6666666666666666, \"#ed7953\"], [0.7777777777777778, \"#fb9f3a\"], [0.8888888888888888, \"#fdca26\"], [1.0, \"#f0f921\"]], \"type\": \"surface\"}], \"table\": [{\"cells\": {\"fill\": {\"color\": \"#EBF0F8\"}, \"line\": {\"color\": \"white\"}}, \"header\": {\"fill\": {\"color\": \"#C8D4E3\"}, \"line\": {\"color\": \"white\"}}, \"type\": \"table\"}]}, \"layout\": {\"annotationdefaults\": {\"arrowcolor\": \"#2a3f5f\", \"arrowhead\": 0, \"arrowwidth\": 1}, \"coloraxis\": {\"colorbar\": {\"outlinewidth\": 0, \"ticks\": \"\"}}, \"colorscale\": {\"diverging\": [[0, \"#8e0152\"], [0.1, \"#c51b7d\"], [0.2, \"#de77ae\"], [0.3, \"#f1b6da\"], [0.4, \"#fde0ef\"], [0.5, \"#f7f7f7\"], [0.6, \"#e6f5d0\"], [0.7, \"#b8e186\"], [0.8, \"#7fbc41\"], [0.9, \"#4d9221\"], [1, \"#276419\"]], \"sequential\": [[0.0, \"#0d0887\"], [0.1111111111111111, \"#46039f\"], [0.2222222222222222, \"#7201a8\"], [0.3333333333333333, \"#9c179e\"], [0.4444444444444444, \"#bd3786\"], [0.5555555555555556, \"#d8576b\"], [0.6666666666666666, \"#ed7953\"], [0.7777777777777778, \"#fb9f3a\"], [0.8888888888888888, \"#fdca26\"], [1.0, \"#f0f921\"]], \"sequentialminus\": [[0.0, \"#0d0887\"], [0.1111111111111111, \"#46039f\"], [0.2222222222222222, \"#7201a8\"], [0.3333333333333333, \"#9c179e\"], [0.4444444444444444, \"#bd3786\"], [0.5555555555555556, \"#d8576b\"], [0.6666666666666666, \"#ed7953\"], [0.7777777777777778, \"#fb9f3a\"], [0.8888888888888888, \"#fdca26\"], [1.0, \"#f0f921\"]]}, \"colorway\": [\"#636efa\", \"#EF553B\", \"#00cc96\", \"#ab63fa\", \"#FFA15A\", \"#19d3f3\", \"#FF6692\", \"#B6E880\", \"#FF97FF\", \"#FECB52\"], \"font\": {\"color\": \"#2a3f5f\"}, \"geo\": {\"bgcolor\": \"white\", \"lakecolor\": \"white\", \"landcolor\": \"#E5ECF6\", \"showlakes\": true, \"showland\": true, \"subunitcolor\": \"white\"}, \"hoverlabel\": {\"align\": \"left\"}, \"hovermode\": \"closest\", \"mapbox\": {\"style\": \"light\"}, \"paper_bgcolor\": \"white\", \"plot_bgcolor\": \"#E5ECF6\", \"polar\": {\"angularaxis\": {\"gridcolor\": \"white\", \"linecolor\": \"white\", \"ticks\": \"\"}, \"bgcolor\": \"#E5ECF6\", \"radialaxis\": {\"gridcolor\": \"white\", \"linecolor\": \"white\", \"ticks\": \"\"}}, \"scene\": {\"xaxis\": {\"backgroundcolor\": \"#E5ECF6\", \"gridcolor\": \"white\", \"gridwidth\": 2, \"linecolor\": \"white\", \"showbackground\": true, \"ticks\": \"\", \"zerolinecolor\": \"white\"}, \"yaxis\": {\"backgroundcolor\": \"#E5ECF6\", \"gridcolor\": \"white\", \"gridwidth\": 2, \"linecolor\": \"white\", \"showbackground\": true, \"ticks\": \"\", \"zerolinecolor\": \"white\"}, \"zaxis\": {\"backgroundcolor\": \"#E5ECF6\", \"gridcolor\": \"white\", \"gridwidth\": 2, \"linecolor\": \"white\", \"showbackground\": true, \"ticks\": \"\", \"zerolinecolor\": \"white\"}}, \"shapedefaults\": {\"line\": {\"color\": \"#2a3f5f\"}}, \"ternary\": {\"aaxis\": {\"gridcolor\": \"white\", \"linecolor\": \"white\", \"ticks\": \"\"}, \"baxis\": {\"gridcolor\": \"white\", \"linecolor\": \"white\", \"ticks\": \"\"}, \"bgcolor\": \"#E5ECF6\", \"caxis\": {\"gridcolor\": \"white\", \"linecolor\": \"white\", \"ticks\": \"\"}}, \"title\": {\"x\": 0.05}, \"xaxis\": {\"automargin\": true, \"gridcolor\": \"white\", \"linecolor\": \"white\", \"ticks\": \"\", \"title\": {\"standoff\": 15}, \"zerolinecolor\": \"white\", \"zerolinewidth\": 2}, \"yaxis\": {\"automargin\": true, \"gridcolor\": \"white\", \"linecolor\": \"white\", \"ticks\": \"\", \"title\": {\"standoff\": 15}, \"zerolinecolor\": \"white\", \"zerolinewidth\": 2}}}, \"title\": {\"font\": {\"color\": \"#4D5663\"}}, \"xaxis\": {\"gridcolor\": \"#E1E5ED\", \"showgrid\": true, \"tickfont\": {\"color\": \"#4D5663\"}, \"title\": {\"font\": {\"color\": \"#4D5663\"}, \"text\": \"\"}, \"zerolinecolor\": \"#E1E5ED\"}, \"xaxis2\": {\"anchor\": \"y2\", \"gridcolor\": \"#E1E5ED\", \"showgrid\": true, \"showticklabels\": false, \"tickfont\": {\"color\": \"#4D5663\"}, \"title\": {\"font\": {\"color\": \"#4D5663\"}, \"text\": \"\"}, \"zerolinecolor\": \"#E1E5ED\"}, \"yaxis\": {\"domain\": [0.3, 1], \"gridcolor\": \"#E1E5ED\", \"showgrid\": true, \"tickfont\": {\"color\": \"#4D5663\"}, \"title\": {\"font\": {\"color\": \"#4D5663\"}, \"text\": \"\"}, \"zerolinecolor\": \"#E1E5ED\"}, \"yaxis2\": {\"domain\": [0, 0.25], \"gridcolor\": \"#E1E5ED\", \"showgrid\": true, \"tickfont\": {\"color\": \"#4D5663\"}, \"title\": {\"font\": {\"color\": \"#4D5663\"}, \"text\": \"Spread\"}, \"zerolinecolor\": \"#E1E5ED\"}},                        {\"showLink\": true, \"linkText\": \"Export to plot.ly\", \"plotlyServerURL\": \"https://plot.ly\", \"responsive\": true}                    ).then(function(){\n",
       "                            \n",
       "var gd = document.getElementById('bf4f8e6d-83ed-40e2-b5a1-5cd34ed0b250');\n",
       "var x = new MutationObserver(function (mutations, observer) {{\n",
       "        var display = window.getComputedStyle(gd).display;\n",
       "        if (!display || display === 'none') {{\n",
       "            console.log([gd, 'removed!']);\n",
       "            Plotly.purge(gd);\n",
       "            observer.disconnect();\n",
       "        }}\n",
       "}});\n",
       "\n",
       "// Listen for the removal of the full notebook cells\n",
       "var notebookContainer = gd.closest('#notebook-container');\n",
       "if (notebookContainer) {{\n",
       "    x.observe(notebookContainer, {childList: true});\n",
       "}}\n",
       "\n",
       "// Listen for the clearing of the current output cell\n",
       "var outputEl = gd.closest('.output');\n",
       "if (outputEl) {{\n",
       "    x.observe(outputEl, {childList: true});\n",
       "}}\n",
       "\n",
       "                        })                };                });            </script>        </div>"
      ]
     },
     "metadata": {},
     "output_type": "display_data"
    }
   ],
   "source": [
    "df[['A','B']].iplot(kind='spread')"
   ]
  },
  {
   "cell_type": "markdown",
   "metadata": {},
   "source": [
    "## histogram"
   ]
  },
  {
   "cell_type": "code",
   "execution_count": 16,
   "metadata": {},
   "outputs": [
    {
     "data": {
      "application/vnd.plotly.v1+json": {
       "config": {
        "linkText": "Export to plot.ly",
        "plotlyServerURL": "https://plot.ly",
        "showLink": true
       },
       "data": [
        {
         "histfunc": "count",
         "histnorm": "",
         "marker": {
          "color": "rgba(255, 153, 51, 1.0)",
          "line": {
           "color": "#4D5663",
           "width": 1.3
          }
         },
         "name": "A",
         "nbinsx": 25,
         "opacity": 0.8,
         "orientation": "v",
         "type": "histogram",
         "x": [
          -1.5355354192230586,
          -1.0527533192824858,
          1.0651922435485306,
          -0.3569392648813912,
          -1.2980144850988753,
          0.4979310577149322,
          0.5901952780313333,
          2.2774192822713237,
          -0.21876345827157676,
          -1.3349125647531113,
          -0.22055827664732808,
          0.7293643918751058,
          1.3259697709398004,
          -1.3720675861464693,
          1.7686765997019345,
          -0.21278705743547888,
          0.5621565488693779,
          -0.3792433474006059,
          -0.6750765094602391,
          -1.1845114394252805,
          -0.04649534177230828,
          1.1495256182501377,
          -0.41816004179319194,
          -1.0239481102629837,
          0.9946927964952956,
          0.6052416074897078,
          -1.9151632304247237,
          -0.3403894901650628,
          -0.4537997371869349,
          -0.7397293859495888,
          -0.9253789977904611,
          1.601930601973586,
          -1.4650826388661842,
          0.5270957520989601,
          -1.180253879455318,
          0.6850387941860184,
          -0.3678223463530502,
          -0.30500706501587305,
          -0.5542070516960862,
          -1.4312224043373811,
          -0.1848981571335127,
          0.6206299218949423,
          -1.0367501124402183,
          -1.0595095262876875,
          1.2105069014091077,
          0.5051738136010172,
          0.47177060342443633,
          -0.8144767662360516,
          0.11560223236678412,
          -1.8004185138809787,
          1.1576067690845295,
          0.5870612302887921,
          -1.2727449517938831,
          -0.3406361971233455,
          1.0983528236620699,
          0.49739189471308093,
          0.7647466281588152,
          2.1408660174962026,
          0.5061816115949632,
          0.120177007037446,
          -0.2712416900133294,
          -0.40368260942789297,
          -0.21235062677455707,
          0.9566608507041349,
          -0.592846919794081,
          0.9416099029137102,
          -0.13030336454300231,
          -0.4912598770441894,
          -0.0556549547985368,
          0.9901139892278719,
          -0.14111330498012714,
          -0.5733355116267539,
          -0.9446232149514938,
          1.4042766106007183,
          -0.7046212552212995,
          -0.3206051538056349,
          -0.4756918981281842,
          -1.2681053547018966,
          -0.47397096250784604,
          0.34213108483355736,
          -1.1842372349810686,
          -1.1458192389317712,
          -1.2557624556630214,
          1.5501458563898547,
          -0.08616993227352977,
          -0.06300453186192329,
          0.003078698431574541,
          0.35152717580520365,
          0.4241210560491202,
          -2.9474968859825985,
          -0.019618922077270073,
          1.7521003147708671,
          1.4658803481569689,
          0.7900509900134237,
          0.2829821582586573,
          -0.05612046663179397,
          0.10448201357335772,
          0.10872292715876054,
          -1.9192126781078032,
          -1.7708965409979374
         ]
        }
       ],
       "layout": {
        "barmode": "overlay",
        "legend": {
         "bgcolor": "#F5F6F9",
         "font": {
          "color": "#4D5663"
         }
        },
        "paper_bgcolor": "#F5F6F9",
        "plot_bgcolor": "#F5F6F9",
        "template": {
         "data": {
          "bar": [
           {
            "error_x": {
             "color": "#2a3f5f"
            },
            "error_y": {
             "color": "#2a3f5f"
            },
            "marker": {
             "line": {
              "color": "#E5ECF6",
              "width": 0.5
             }
            },
            "type": "bar"
           }
          ],
          "barpolar": [
           {
            "marker": {
             "line": {
              "color": "#E5ECF6",
              "width": 0.5
             }
            },
            "type": "barpolar"
           }
          ],
          "carpet": [
           {
            "aaxis": {
             "endlinecolor": "#2a3f5f",
             "gridcolor": "white",
             "linecolor": "white",
             "minorgridcolor": "white",
             "startlinecolor": "#2a3f5f"
            },
            "baxis": {
             "endlinecolor": "#2a3f5f",
             "gridcolor": "white",
             "linecolor": "white",
             "minorgridcolor": "white",
             "startlinecolor": "#2a3f5f"
            },
            "type": "carpet"
           }
          ],
          "choropleth": [
           {
            "colorbar": {
             "outlinewidth": 0,
             "ticks": ""
            },
            "type": "choropleth"
           }
          ],
          "contour": [
           {
            "colorbar": {
             "outlinewidth": 0,
             "ticks": ""
            },
            "colorscale": [
             [
              0,
              "#0d0887"
             ],
             [
              0.1111111111111111,
              "#46039f"
             ],
             [
              0.2222222222222222,
              "#7201a8"
             ],
             [
              0.3333333333333333,
              "#9c179e"
             ],
             [
              0.4444444444444444,
              "#bd3786"
             ],
             [
              0.5555555555555556,
              "#d8576b"
             ],
             [
              0.6666666666666666,
              "#ed7953"
             ],
             [
              0.7777777777777778,
              "#fb9f3a"
             ],
             [
              0.8888888888888888,
              "#fdca26"
             ],
             [
              1,
              "#f0f921"
             ]
            ],
            "type": "contour"
           }
          ],
          "contourcarpet": [
           {
            "colorbar": {
             "outlinewidth": 0,
             "ticks": ""
            },
            "type": "contourcarpet"
           }
          ],
          "heatmap": [
           {
            "colorbar": {
             "outlinewidth": 0,
             "ticks": ""
            },
            "colorscale": [
             [
              0,
              "#0d0887"
             ],
             [
              0.1111111111111111,
              "#46039f"
             ],
             [
              0.2222222222222222,
              "#7201a8"
             ],
             [
              0.3333333333333333,
              "#9c179e"
             ],
             [
              0.4444444444444444,
              "#bd3786"
             ],
             [
              0.5555555555555556,
              "#d8576b"
             ],
             [
              0.6666666666666666,
              "#ed7953"
             ],
             [
              0.7777777777777778,
              "#fb9f3a"
             ],
             [
              0.8888888888888888,
              "#fdca26"
             ],
             [
              1,
              "#f0f921"
             ]
            ],
            "type": "heatmap"
           }
          ],
          "heatmapgl": [
           {
            "colorbar": {
             "outlinewidth": 0,
             "ticks": ""
            },
            "colorscale": [
             [
              0,
              "#0d0887"
             ],
             [
              0.1111111111111111,
              "#46039f"
             ],
             [
              0.2222222222222222,
              "#7201a8"
             ],
             [
              0.3333333333333333,
              "#9c179e"
             ],
             [
              0.4444444444444444,
              "#bd3786"
             ],
             [
              0.5555555555555556,
              "#d8576b"
             ],
             [
              0.6666666666666666,
              "#ed7953"
             ],
             [
              0.7777777777777778,
              "#fb9f3a"
             ],
             [
              0.8888888888888888,
              "#fdca26"
             ],
             [
              1,
              "#f0f921"
             ]
            ],
            "type": "heatmapgl"
           }
          ],
          "histogram": [
           {
            "marker": {
             "colorbar": {
              "outlinewidth": 0,
              "ticks": ""
             }
            },
            "type": "histogram"
           }
          ],
          "histogram2d": [
           {
            "colorbar": {
             "outlinewidth": 0,
             "ticks": ""
            },
            "colorscale": [
             [
              0,
              "#0d0887"
             ],
             [
              0.1111111111111111,
              "#46039f"
             ],
             [
              0.2222222222222222,
              "#7201a8"
             ],
             [
              0.3333333333333333,
              "#9c179e"
             ],
             [
              0.4444444444444444,
              "#bd3786"
             ],
             [
              0.5555555555555556,
              "#d8576b"
             ],
             [
              0.6666666666666666,
              "#ed7953"
             ],
             [
              0.7777777777777778,
              "#fb9f3a"
             ],
             [
              0.8888888888888888,
              "#fdca26"
             ],
             [
              1,
              "#f0f921"
             ]
            ],
            "type": "histogram2d"
           }
          ],
          "histogram2dcontour": [
           {
            "colorbar": {
             "outlinewidth": 0,
             "ticks": ""
            },
            "colorscale": [
             [
              0,
              "#0d0887"
             ],
             [
              0.1111111111111111,
              "#46039f"
             ],
             [
              0.2222222222222222,
              "#7201a8"
             ],
             [
              0.3333333333333333,
              "#9c179e"
             ],
             [
              0.4444444444444444,
              "#bd3786"
             ],
             [
              0.5555555555555556,
              "#d8576b"
             ],
             [
              0.6666666666666666,
              "#ed7953"
             ],
             [
              0.7777777777777778,
              "#fb9f3a"
             ],
             [
              0.8888888888888888,
              "#fdca26"
             ],
             [
              1,
              "#f0f921"
             ]
            ],
            "type": "histogram2dcontour"
           }
          ],
          "mesh3d": [
           {
            "colorbar": {
             "outlinewidth": 0,
             "ticks": ""
            },
            "type": "mesh3d"
           }
          ],
          "parcoords": [
           {
            "line": {
             "colorbar": {
              "outlinewidth": 0,
              "ticks": ""
             }
            },
            "type": "parcoords"
           }
          ],
          "pie": [
           {
            "automargin": true,
            "type": "pie"
           }
          ],
          "scatter": [
           {
            "marker": {
             "colorbar": {
              "outlinewidth": 0,
              "ticks": ""
             }
            },
            "type": "scatter"
           }
          ],
          "scatter3d": [
           {
            "line": {
             "colorbar": {
              "outlinewidth": 0,
              "ticks": ""
             }
            },
            "marker": {
             "colorbar": {
              "outlinewidth": 0,
              "ticks": ""
             }
            },
            "type": "scatter3d"
           }
          ],
          "scattercarpet": [
           {
            "marker": {
             "colorbar": {
              "outlinewidth": 0,
              "ticks": ""
             }
            },
            "type": "scattercarpet"
           }
          ],
          "scattergeo": [
           {
            "marker": {
             "colorbar": {
              "outlinewidth": 0,
              "ticks": ""
             }
            },
            "type": "scattergeo"
           }
          ],
          "scattergl": [
           {
            "marker": {
             "colorbar": {
              "outlinewidth": 0,
              "ticks": ""
             }
            },
            "type": "scattergl"
           }
          ],
          "scattermapbox": [
           {
            "marker": {
             "colorbar": {
              "outlinewidth": 0,
              "ticks": ""
             }
            },
            "type": "scattermapbox"
           }
          ],
          "scatterpolar": [
           {
            "marker": {
             "colorbar": {
              "outlinewidth": 0,
              "ticks": ""
             }
            },
            "type": "scatterpolar"
           }
          ],
          "scatterpolargl": [
           {
            "marker": {
             "colorbar": {
              "outlinewidth": 0,
              "ticks": ""
             }
            },
            "type": "scatterpolargl"
           }
          ],
          "scatterternary": [
           {
            "marker": {
             "colorbar": {
              "outlinewidth": 0,
              "ticks": ""
             }
            },
            "type": "scatterternary"
           }
          ],
          "surface": [
           {
            "colorbar": {
             "outlinewidth": 0,
             "ticks": ""
            },
            "colorscale": [
             [
              0,
              "#0d0887"
             ],
             [
              0.1111111111111111,
              "#46039f"
             ],
             [
              0.2222222222222222,
              "#7201a8"
             ],
             [
              0.3333333333333333,
              "#9c179e"
             ],
             [
              0.4444444444444444,
              "#bd3786"
             ],
             [
              0.5555555555555556,
              "#d8576b"
             ],
             [
              0.6666666666666666,
              "#ed7953"
             ],
             [
              0.7777777777777778,
              "#fb9f3a"
             ],
             [
              0.8888888888888888,
              "#fdca26"
             ],
             [
              1,
              "#f0f921"
             ]
            ],
            "type": "surface"
           }
          ],
          "table": [
           {
            "cells": {
             "fill": {
              "color": "#EBF0F8"
             },
             "line": {
              "color": "white"
             }
            },
            "header": {
             "fill": {
              "color": "#C8D4E3"
             },
             "line": {
              "color": "white"
             }
            },
            "type": "table"
           }
          ]
         },
         "layout": {
          "annotationdefaults": {
           "arrowcolor": "#2a3f5f",
           "arrowhead": 0,
           "arrowwidth": 1
          },
          "coloraxis": {
           "colorbar": {
            "outlinewidth": 0,
            "ticks": ""
           }
          },
          "colorscale": {
           "diverging": [
            [
             0,
             "#8e0152"
            ],
            [
             0.1,
             "#c51b7d"
            ],
            [
             0.2,
             "#de77ae"
            ],
            [
             0.3,
             "#f1b6da"
            ],
            [
             0.4,
             "#fde0ef"
            ],
            [
             0.5,
             "#f7f7f7"
            ],
            [
             0.6,
             "#e6f5d0"
            ],
            [
             0.7,
             "#b8e186"
            ],
            [
             0.8,
             "#7fbc41"
            ],
            [
             0.9,
             "#4d9221"
            ],
            [
             1,
             "#276419"
            ]
           ],
           "sequential": [
            [
             0,
             "#0d0887"
            ],
            [
             0.1111111111111111,
             "#46039f"
            ],
            [
             0.2222222222222222,
             "#7201a8"
            ],
            [
             0.3333333333333333,
             "#9c179e"
            ],
            [
             0.4444444444444444,
             "#bd3786"
            ],
            [
             0.5555555555555556,
             "#d8576b"
            ],
            [
             0.6666666666666666,
             "#ed7953"
            ],
            [
             0.7777777777777778,
             "#fb9f3a"
            ],
            [
             0.8888888888888888,
             "#fdca26"
            ],
            [
             1,
             "#f0f921"
            ]
           ],
           "sequentialminus": [
            [
             0,
             "#0d0887"
            ],
            [
             0.1111111111111111,
             "#46039f"
            ],
            [
             0.2222222222222222,
             "#7201a8"
            ],
            [
             0.3333333333333333,
             "#9c179e"
            ],
            [
             0.4444444444444444,
             "#bd3786"
            ],
            [
             0.5555555555555556,
             "#d8576b"
            ],
            [
             0.6666666666666666,
             "#ed7953"
            ],
            [
             0.7777777777777778,
             "#fb9f3a"
            ],
            [
             0.8888888888888888,
             "#fdca26"
            ],
            [
             1,
             "#f0f921"
            ]
           ]
          },
          "colorway": [
           "#636efa",
           "#EF553B",
           "#00cc96",
           "#ab63fa",
           "#FFA15A",
           "#19d3f3",
           "#FF6692",
           "#B6E880",
           "#FF97FF",
           "#FECB52"
          ],
          "font": {
           "color": "#2a3f5f"
          },
          "geo": {
           "bgcolor": "white",
           "lakecolor": "white",
           "landcolor": "#E5ECF6",
           "showlakes": true,
           "showland": true,
           "subunitcolor": "white"
          },
          "hoverlabel": {
           "align": "left"
          },
          "hovermode": "closest",
          "mapbox": {
           "style": "light"
          },
          "paper_bgcolor": "white",
          "plot_bgcolor": "#E5ECF6",
          "polar": {
           "angularaxis": {
            "gridcolor": "white",
            "linecolor": "white",
            "ticks": ""
           },
           "bgcolor": "#E5ECF6",
           "radialaxis": {
            "gridcolor": "white",
            "linecolor": "white",
            "ticks": ""
           }
          },
          "scene": {
           "xaxis": {
            "backgroundcolor": "#E5ECF6",
            "gridcolor": "white",
            "gridwidth": 2,
            "linecolor": "white",
            "showbackground": true,
            "ticks": "",
            "zerolinecolor": "white"
           },
           "yaxis": {
            "backgroundcolor": "#E5ECF6",
            "gridcolor": "white",
            "gridwidth": 2,
            "linecolor": "white",
            "showbackground": true,
            "ticks": "",
            "zerolinecolor": "white"
           },
           "zaxis": {
            "backgroundcolor": "#E5ECF6",
            "gridcolor": "white",
            "gridwidth": 2,
            "linecolor": "white",
            "showbackground": true,
            "ticks": "",
            "zerolinecolor": "white"
           }
          },
          "shapedefaults": {
           "line": {
            "color": "#2a3f5f"
           }
          },
          "ternary": {
           "aaxis": {
            "gridcolor": "white",
            "linecolor": "white",
            "ticks": ""
           },
           "baxis": {
            "gridcolor": "white",
            "linecolor": "white",
            "ticks": ""
           },
           "bgcolor": "#E5ECF6",
           "caxis": {
            "gridcolor": "white",
            "linecolor": "white",
            "ticks": ""
           }
          },
          "title": {
           "x": 0.05
          },
          "xaxis": {
           "automargin": true,
           "gridcolor": "white",
           "linecolor": "white",
           "ticks": "",
           "title": {
            "standoff": 15
           },
           "zerolinecolor": "white",
           "zerolinewidth": 2
          },
          "yaxis": {
           "automargin": true,
           "gridcolor": "white",
           "linecolor": "white",
           "ticks": "",
           "title": {
            "standoff": 15
           },
           "zerolinecolor": "white",
           "zerolinewidth": 2
          }
         }
        },
        "title": {
         "font": {
          "color": "#4D5663"
         }
        },
        "xaxis": {
         "gridcolor": "#E1E5ED",
         "showgrid": true,
         "tickfont": {
          "color": "#4D5663"
         },
         "title": {
          "font": {
           "color": "#4D5663"
          },
          "text": ""
         },
         "zerolinecolor": "#E1E5ED"
        },
        "yaxis": {
         "gridcolor": "#E1E5ED",
         "showgrid": true,
         "tickfont": {
          "color": "#4D5663"
         },
         "title": {
          "font": {
           "color": "#4D5663"
          },
          "text": ""
         },
         "zerolinecolor": "#E1E5ED"
        }
       }
      },
      "text/html": [
       "<div>                            <div id=\"9655c901-ed78-4e76-9bcd-a2616eb3ac43\" class=\"plotly-graph-div\" style=\"height:525px; width:100%;\"></div>            <script type=\"text/javascript\">                require([\"plotly\"], function(Plotly) {                    window.PLOTLYENV=window.PLOTLYENV || {};\n",
       "                    window.PLOTLYENV.BASE_URL='https://plot.ly';                                    if (document.getElementById(\"9655c901-ed78-4e76-9bcd-a2616eb3ac43\")) {                    Plotly.newPlot(                        \"9655c901-ed78-4e76-9bcd-a2616eb3ac43\",                        [{\"histfunc\": \"count\", \"histnorm\": \"\", \"marker\": {\"color\": \"rgba(255, 153, 51, 1.0)\", \"line\": {\"color\": \"#4D5663\", \"width\": 1.3}}, \"name\": \"A\", \"nbinsx\": 25, \"opacity\": 0.8, \"orientation\": \"v\", \"type\": \"histogram\", \"x\": [-1.5355354192230586, -1.0527533192824858, 1.0651922435485306, -0.3569392648813912, -1.2980144850988753, 0.4979310577149322, 0.5901952780313333, 2.2774192822713237, -0.21876345827157676, -1.3349125647531113, -0.22055827664732808, 0.7293643918751058, 1.3259697709398004, -1.3720675861464693, 1.7686765997019345, -0.21278705743547888, 0.5621565488693779, -0.3792433474006059, -0.6750765094602391, -1.1845114394252805, -0.04649534177230828, 1.1495256182501377, -0.41816004179319194, -1.0239481102629837, 0.9946927964952956, 0.6052416074897078, -1.9151632304247237, -0.3403894901650628, -0.4537997371869349, -0.7397293859495888, -0.9253789977904611, 1.601930601973586, -1.4650826388661842, 0.5270957520989601, -1.180253879455318, 0.6850387941860184, -0.3678223463530502, -0.30500706501587305, -0.5542070516960862, -1.4312224043373811, -0.1848981571335127, 0.6206299218949423, -1.0367501124402183, -1.0595095262876875, 1.2105069014091077, 0.5051738136010172, 0.47177060342443633, -0.8144767662360516, 0.11560223236678412, -1.8004185138809787, 1.1576067690845295, 0.5870612302887921, -1.2727449517938831, -0.3406361971233455, 1.0983528236620699, 0.49739189471308093, 0.7647466281588152, 2.1408660174962026, 0.5061816115949632, 0.120177007037446, -0.2712416900133294, -0.40368260942789297, -0.21235062677455707, 0.9566608507041349, -0.592846919794081, 0.9416099029137102, -0.13030336454300231, -0.4912598770441894, -0.0556549547985368, 0.9901139892278719, -0.14111330498012714, -0.5733355116267539, -0.9446232149514938, 1.4042766106007183, -0.7046212552212995, -0.3206051538056349, -0.4756918981281842, -1.2681053547018966, -0.47397096250784604, 0.34213108483355736, -1.1842372349810686, -1.1458192389317712, -1.2557624556630214, 1.5501458563898547, -0.08616993227352977, -0.06300453186192329, 0.003078698431574541, 0.35152717580520365, 0.4241210560491202, -2.9474968859825985, -0.019618922077270073, 1.7521003147708671, 1.4658803481569689, 0.7900509900134237, 0.2829821582586573, -0.05612046663179397, 0.10448201357335772, 0.10872292715876054, -1.9192126781078032, -1.7708965409979374]}],                        {\"barmode\": \"overlay\", \"legend\": {\"bgcolor\": \"#F5F6F9\", \"font\": {\"color\": \"#4D5663\"}}, \"paper_bgcolor\": \"#F5F6F9\", \"plot_bgcolor\": \"#F5F6F9\", \"template\": {\"data\": {\"bar\": [{\"error_x\": {\"color\": \"#2a3f5f\"}, \"error_y\": {\"color\": \"#2a3f5f\"}, \"marker\": {\"line\": {\"color\": \"#E5ECF6\", \"width\": 0.5}}, \"type\": \"bar\"}], \"barpolar\": [{\"marker\": {\"line\": {\"color\": \"#E5ECF6\", \"width\": 0.5}}, \"type\": \"barpolar\"}], \"carpet\": [{\"aaxis\": {\"endlinecolor\": \"#2a3f5f\", \"gridcolor\": \"white\", \"linecolor\": \"white\", \"minorgridcolor\": \"white\", \"startlinecolor\": \"#2a3f5f\"}, \"baxis\": {\"endlinecolor\": \"#2a3f5f\", \"gridcolor\": \"white\", \"linecolor\": \"white\", \"minorgridcolor\": \"white\", \"startlinecolor\": \"#2a3f5f\"}, \"type\": \"carpet\"}], \"choropleth\": [{\"colorbar\": {\"outlinewidth\": 0, \"ticks\": \"\"}, \"type\": \"choropleth\"}], \"contour\": [{\"colorbar\": {\"outlinewidth\": 0, \"ticks\": \"\"}, \"colorscale\": [[0.0, \"#0d0887\"], [0.1111111111111111, \"#46039f\"], [0.2222222222222222, \"#7201a8\"], [0.3333333333333333, \"#9c179e\"], [0.4444444444444444, \"#bd3786\"], [0.5555555555555556, \"#d8576b\"], [0.6666666666666666, \"#ed7953\"], [0.7777777777777778, \"#fb9f3a\"], [0.8888888888888888, \"#fdca26\"], [1.0, \"#f0f921\"]], \"type\": \"contour\"}], \"contourcarpet\": [{\"colorbar\": {\"outlinewidth\": 0, \"ticks\": \"\"}, \"type\": \"contourcarpet\"}], \"heatmap\": [{\"colorbar\": {\"outlinewidth\": 0, \"ticks\": \"\"}, \"colorscale\": [[0.0, \"#0d0887\"], [0.1111111111111111, \"#46039f\"], [0.2222222222222222, \"#7201a8\"], [0.3333333333333333, \"#9c179e\"], [0.4444444444444444, \"#bd3786\"], [0.5555555555555556, \"#d8576b\"], [0.6666666666666666, \"#ed7953\"], [0.7777777777777778, \"#fb9f3a\"], [0.8888888888888888, \"#fdca26\"], [1.0, \"#f0f921\"]], \"type\": \"heatmap\"}], \"heatmapgl\": [{\"colorbar\": {\"outlinewidth\": 0, \"ticks\": \"\"}, \"colorscale\": [[0.0, \"#0d0887\"], [0.1111111111111111, \"#46039f\"], [0.2222222222222222, \"#7201a8\"], [0.3333333333333333, \"#9c179e\"], [0.4444444444444444, \"#bd3786\"], [0.5555555555555556, \"#d8576b\"], [0.6666666666666666, \"#ed7953\"], [0.7777777777777778, \"#fb9f3a\"], [0.8888888888888888, \"#fdca26\"], [1.0, \"#f0f921\"]], \"type\": \"heatmapgl\"}], \"histogram\": [{\"marker\": {\"colorbar\": {\"outlinewidth\": 0, \"ticks\": \"\"}}, \"type\": \"histogram\"}], \"histogram2d\": [{\"colorbar\": {\"outlinewidth\": 0, \"ticks\": \"\"}, \"colorscale\": [[0.0, \"#0d0887\"], [0.1111111111111111, \"#46039f\"], [0.2222222222222222, \"#7201a8\"], [0.3333333333333333, \"#9c179e\"], [0.4444444444444444, \"#bd3786\"], [0.5555555555555556, \"#d8576b\"], [0.6666666666666666, \"#ed7953\"], [0.7777777777777778, \"#fb9f3a\"], [0.8888888888888888, \"#fdca26\"], [1.0, \"#f0f921\"]], \"type\": \"histogram2d\"}], \"histogram2dcontour\": [{\"colorbar\": {\"outlinewidth\": 0, \"ticks\": \"\"}, \"colorscale\": [[0.0, \"#0d0887\"], [0.1111111111111111, \"#46039f\"], [0.2222222222222222, \"#7201a8\"], [0.3333333333333333, \"#9c179e\"], [0.4444444444444444, \"#bd3786\"], [0.5555555555555556, \"#d8576b\"], [0.6666666666666666, \"#ed7953\"], [0.7777777777777778, \"#fb9f3a\"], [0.8888888888888888, \"#fdca26\"], [1.0, \"#f0f921\"]], \"type\": \"histogram2dcontour\"}], \"mesh3d\": [{\"colorbar\": {\"outlinewidth\": 0, \"ticks\": \"\"}, \"type\": \"mesh3d\"}], \"parcoords\": [{\"line\": {\"colorbar\": {\"outlinewidth\": 0, \"ticks\": \"\"}}, \"type\": \"parcoords\"}], \"pie\": [{\"automargin\": true, \"type\": \"pie\"}], \"scatter\": [{\"marker\": {\"colorbar\": {\"outlinewidth\": 0, \"ticks\": \"\"}}, \"type\": \"scatter\"}], \"scatter3d\": [{\"line\": {\"colorbar\": {\"outlinewidth\": 0, \"ticks\": \"\"}}, \"marker\": {\"colorbar\": {\"outlinewidth\": 0, \"ticks\": \"\"}}, \"type\": \"scatter3d\"}], \"scattercarpet\": [{\"marker\": {\"colorbar\": {\"outlinewidth\": 0, \"ticks\": \"\"}}, \"type\": \"scattercarpet\"}], \"scattergeo\": [{\"marker\": {\"colorbar\": {\"outlinewidth\": 0, \"ticks\": \"\"}}, \"type\": \"scattergeo\"}], \"scattergl\": [{\"marker\": {\"colorbar\": {\"outlinewidth\": 0, \"ticks\": \"\"}}, \"type\": \"scattergl\"}], \"scattermapbox\": [{\"marker\": {\"colorbar\": {\"outlinewidth\": 0, \"ticks\": \"\"}}, \"type\": \"scattermapbox\"}], \"scatterpolar\": [{\"marker\": {\"colorbar\": {\"outlinewidth\": 0, \"ticks\": \"\"}}, \"type\": \"scatterpolar\"}], \"scatterpolargl\": [{\"marker\": {\"colorbar\": {\"outlinewidth\": 0, \"ticks\": \"\"}}, \"type\": \"scatterpolargl\"}], \"scatterternary\": [{\"marker\": {\"colorbar\": {\"outlinewidth\": 0, \"ticks\": \"\"}}, \"type\": \"scatterternary\"}], \"surface\": [{\"colorbar\": {\"outlinewidth\": 0, \"ticks\": \"\"}, \"colorscale\": [[0.0, \"#0d0887\"], [0.1111111111111111, \"#46039f\"], [0.2222222222222222, \"#7201a8\"], [0.3333333333333333, \"#9c179e\"], [0.4444444444444444, \"#bd3786\"], [0.5555555555555556, \"#d8576b\"], [0.6666666666666666, \"#ed7953\"], [0.7777777777777778, \"#fb9f3a\"], [0.8888888888888888, \"#fdca26\"], [1.0, \"#f0f921\"]], \"type\": \"surface\"}], \"table\": [{\"cells\": {\"fill\": {\"color\": \"#EBF0F8\"}, \"line\": {\"color\": \"white\"}}, \"header\": {\"fill\": {\"color\": \"#C8D4E3\"}, \"line\": {\"color\": \"white\"}}, \"type\": \"table\"}]}, \"layout\": {\"annotationdefaults\": {\"arrowcolor\": \"#2a3f5f\", \"arrowhead\": 0, \"arrowwidth\": 1}, \"coloraxis\": {\"colorbar\": {\"outlinewidth\": 0, \"ticks\": \"\"}}, \"colorscale\": {\"diverging\": [[0, \"#8e0152\"], [0.1, \"#c51b7d\"], [0.2, \"#de77ae\"], [0.3, \"#f1b6da\"], [0.4, \"#fde0ef\"], [0.5, \"#f7f7f7\"], [0.6, \"#e6f5d0\"], [0.7, \"#b8e186\"], [0.8, \"#7fbc41\"], [0.9, \"#4d9221\"], [1, \"#276419\"]], \"sequential\": [[0.0, \"#0d0887\"], [0.1111111111111111, \"#46039f\"], [0.2222222222222222, \"#7201a8\"], [0.3333333333333333, \"#9c179e\"], [0.4444444444444444, \"#bd3786\"], [0.5555555555555556, \"#d8576b\"], [0.6666666666666666, \"#ed7953\"], [0.7777777777777778, \"#fb9f3a\"], [0.8888888888888888, \"#fdca26\"], [1.0, \"#f0f921\"]], \"sequentialminus\": [[0.0, \"#0d0887\"], [0.1111111111111111, \"#46039f\"], [0.2222222222222222, \"#7201a8\"], [0.3333333333333333, \"#9c179e\"], [0.4444444444444444, \"#bd3786\"], [0.5555555555555556, \"#d8576b\"], [0.6666666666666666, \"#ed7953\"], [0.7777777777777778, \"#fb9f3a\"], [0.8888888888888888, \"#fdca26\"], [1.0, \"#f0f921\"]]}, \"colorway\": [\"#636efa\", \"#EF553B\", \"#00cc96\", \"#ab63fa\", \"#FFA15A\", \"#19d3f3\", \"#FF6692\", \"#B6E880\", \"#FF97FF\", \"#FECB52\"], \"font\": {\"color\": \"#2a3f5f\"}, \"geo\": {\"bgcolor\": \"white\", \"lakecolor\": \"white\", \"landcolor\": \"#E5ECF6\", \"showlakes\": true, \"showland\": true, \"subunitcolor\": \"white\"}, \"hoverlabel\": {\"align\": \"left\"}, \"hovermode\": \"closest\", \"mapbox\": {\"style\": \"light\"}, \"paper_bgcolor\": \"white\", \"plot_bgcolor\": \"#E5ECF6\", \"polar\": {\"angularaxis\": {\"gridcolor\": \"white\", \"linecolor\": \"white\", \"ticks\": \"\"}, \"bgcolor\": \"#E5ECF6\", \"radialaxis\": {\"gridcolor\": \"white\", \"linecolor\": \"white\", \"ticks\": \"\"}}, \"scene\": {\"xaxis\": {\"backgroundcolor\": \"#E5ECF6\", \"gridcolor\": \"white\", \"gridwidth\": 2, \"linecolor\": \"white\", \"showbackground\": true, \"ticks\": \"\", \"zerolinecolor\": \"white\"}, \"yaxis\": {\"backgroundcolor\": \"#E5ECF6\", \"gridcolor\": \"white\", \"gridwidth\": 2, \"linecolor\": \"white\", \"showbackground\": true, \"ticks\": \"\", \"zerolinecolor\": \"white\"}, \"zaxis\": {\"backgroundcolor\": \"#E5ECF6\", \"gridcolor\": \"white\", \"gridwidth\": 2, \"linecolor\": \"white\", \"showbackground\": true, \"ticks\": \"\", \"zerolinecolor\": \"white\"}}, \"shapedefaults\": {\"line\": {\"color\": \"#2a3f5f\"}}, \"ternary\": {\"aaxis\": {\"gridcolor\": \"white\", \"linecolor\": \"white\", \"ticks\": \"\"}, \"baxis\": {\"gridcolor\": \"white\", \"linecolor\": \"white\", \"ticks\": \"\"}, \"bgcolor\": \"#E5ECF6\", \"caxis\": {\"gridcolor\": \"white\", \"linecolor\": \"white\", \"ticks\": \"\"}}, \"title\": {\"x\": 0.05}, \"xaxis\": {\"automargin\": true, \"gridcolor\": \"white\", \"linecolor\": \"white\", \"ticks\": \"\", \"title\": {\"standoff\": 15}, \"zerolinecolor\": \"white\", \"zerolinewidth\": 2}, \"yaxis\": {\"automargin\": true, \"gridcolor\": \"white\", \"linecolor\": \"white\", \"ticks\": \"\", \"title\": {\"standoff\": 15}, \"zerolinecolor\": \"white\", \"zerolinewidth\": 2}}}, \"title\": {\"font\": {\"color\": \"#4D5663\"}}, \"xaxis\": {\"gridcolor\": \"#E1E5ED\", \"showgrid\": true, \"tickfont\": {\"color\": \"#4D5663\"}, \"title\": {\"font\": {\"color\": \"#4D5663\"}, \"text\": \"\"}, \"zerolinecolor\": \"#E1E5ED\"}, \"yaxis\": {\"gridcolor\": \"#E1E5ED\", \"showgrid\": true, \"tickfont\": {\"color\": \"#4D5663\"}, \"title\": {\"font\": {\"color\": \"#4D5663\"}, \"text\": \"\"}, \"zerolinecolor\": \"#E1E5ED\"}},                        {\"showLink\": true, \"linkText\": \"Export to plot.ly\", \"plotlyServerURL\": \"https://plot.ly\", \"responsive\": true}                    ).then(function(){\n",
       "                            \n",
       "var gd = document.getElementById('9655c901-ed78-4e76-9bcd-a2616eb3ac43');\n",
       "var x = new MutationObserver(function (mutations, observer) {{\n",
       "        var display = window.getComputedStyle(gd).display;\n",
       "        if (!display || display === 'none') {{\n",
       "            console.log([gd, 'removed!']);\n",
       "            Plotly.purge(gd);\n",
       "            observer.disconnect();\n",
       "        }}\n",
       "}});\n",
       "\n",
       "// Listen for the removal of the full notebook cells\n",
       "var notebookContainer = gd.closest('#notebook-container');\n",
       "if (notebookContainer) {{\n",
       "    x.observe(notebookContainer, {childList: true});\n",
       "}}\n",
       "\n",
       "// Listen for the clearing of the current output cell\n",
       "var outputEl = gd.closest('.output');\n",
       "if (outputEl) {{\n",
       "    x.observe(outputEl, {childList: true});\n",
       "}}\n",
       "\n",
       "                        })                };                });            </script>        </div>"
      ]
     },
     "metadata": {},
     "output_type": "display_data"
    }
   ],
   "source": [
    "df['A'].iplot(kind='hist',bins=25)"
   ]
  },
  {
   "cell_type": "code",
   "execution_count": 17,
   "metadata": {},
   "outputs": [
    {
     "data": {
      "application/vnd.plotly.v1+json": {
       "config": {
        "linkText": "Export to plot.ly",
        "plotlyServerURL": "https://plot.ly",
        "showLink": true
       },
       "data": [
        {
         "marker": {
          "color": [
           "rgb(255, 153, 51)",
           "rgb(55, 128, 191)",
           "rgb(50, 171, 96)",
           "rgb(128, 0, 128)",
           "rgb(219, 64, 82)",
           "rgb(0, 128, 128)",
           "rgb(255, 255, 51)",
           "rgb(128, 128, 0)",
           "rgb(251, 128, 114)",
           "rgb(128, 177, 211)"
          ],
          "line": {
           "width": 1.3
          },
          "size": [
           24,
           48,
           69,
           67,
           51,
           78,
           67,
           57,
           39,
           68,
           87,
           54,
           69,
           45,
           53,
           46,
           39,
           32,
           47,
           106,
           18,
           53,
           44,
           37,
           34,
           80,
           66,
           36,
           97,
           93,
           25,
           65,
           39,
           61,
           62,
           94,
           79,
           48,
           15,
           47,
           71,
           34,
           12,
           100,
           68,
           38,
           80,
           61,
           84,
           35,
           76,
           33,
           73,
           83,
           46,
           88,
           38,
           57,
           61,
           75,
           47,
           61,
           13,
           53,
           74,
           77,
           72,
           98,
           78,
           49,
           63,
           70,
           65,
           36,
           55,
           39,
           40,
           60,
           37,
           82,
           63,
           89,
           65,
           83,
           62,
           41,
           43,
           52,
           69,
           32,
           55,
           85,
           26,
           112,
           67,
           13,
           45,
           50,
           39,
           61
          ],
          "symbol": "circle"
         },
         "mode": "markers",
         "text": "",
         "type": "scatter",
         "x": [
          -1.5355354192230586,
          -1.0527533192824858,
          1.0651922435485306,
          -0.3569392648813912,
          -1.2980144850988753,
          0.4979310577149322,
          0.5901952780313333,
          2.2774192822713237,
          -0.21876345827157676,
          -1.3349125647531113,
          -0.22055827664732808,
          0.7293643918751058,
          1.3259697709398004,
          -1.3720675861464693,
          1.7686765997019345,
          -0.21278705743547888,
          0.5621565488693779,
          -0.3792433474006059,
          -0.6750765094602391,
          -1.1845114394252805,
          -0.04649534177230828,
          1.1495256182501377,
          -0.41816004179319194,
          -1.0239481102629837,
          0.9946927964952956,
          0.6052416074897078,
          -1.9151632304247237,
          -0.3403894901650628,
          -0.4537997371869349,
          -0.7397293859495888,
          -0.9253789977904611,
          1.601930601973586,
          -1.4650826388661842,
          0.5270957520989601,
          -1.180253879455318,
          0.6850387941860184,
          -0.3678223463530502,
          -0.30500706501587305,
          -0.5542070516960862,
          -1.4312224043373811,
          -0.1848981571335127,
          0.6206299218949423,
          -1.0367501124402183,
          -1.0595095262876875,
          1.2105069014091077,
          0.5051738136010172,
          0.47177060342443633,
          -0.8144767662360516,
          0.11560223236678412,
          -1.8004185138809787,
          1.1576067690845295,
          0.5870612302887921,
          -1.2727449517938831,
          -0.3406361971233455,
          1.0983528236620699,
          0.49739189471308093,
          0.7647466281588152,
          2.1408660174962026,
          0.5061816115949632,
          0.120177007037446,
          -0.2712416900133294,
          -0.40368260942789297,
          -0.21235062677455707,
          0.9566608507041349,
          -0.592846919794081,
          0.9416099029137102,
          -0.13030336454300231,
          -0.4912598770441894,
          -0.0556549547985368,
          0.9901139892278719,
          -0.14111330498012714,
          -0.5733355116267539,
          -0.9446232149514938,
          1.4042766106007183,
          -0.7046212552212995,
          -0.3206051538056349,
          -0.4756918981281842,
          -1.2681053547018966,
          -0.47397096250784604,
          0.34213108483355736,
          -1.1842372349810686,
          -1.1458192389317712,
          -1.2557624556630214,
          1.5501458563898547,
          -0.08616993227352977,
          -0.06300453186192329,
          0.003078698431574541,
          0.35152717580520365,
          0.4241210560491202,
          -2.9474968859825985,
          -0.019618922077270073,
          1.7521003147708671,
          1.4658803481569689,
          0.7900509900134237,
          0.2829821582586573,
          -0.05612046663179397,
          0.10448201357335772,
          0.10872292715876054,
          -1.9192126781078032,
          -1.7708965409979374
         ],
         "y": [
          0.44735427314727433,
          -0.7508676450145815,
          0.18480434357317638,
          1.036858322212885,
          -1.043241632500722,
          -0.8413278507817418,
          0.6558618794274739,
          0.5547624862355806,
          0.6951192553620779,
          1.2726390156513538,
          -1.0680701829108734,
          1.2342808921384112,
          -1.1770818873863,
          -0.05976217213720838,
          0.9628980396633287,
          -0.8901404178495665,
          -1.1149508423060148,
          -2.019268938013942,
          0.4045080210400765,
          0.9774315118014983,
          0.8823158393243271,
          -0.043892028650077755,
          -2.316995693382531,
          0.4824470912200743,
          0.6564093759271757,
          -0.3101323506764711,
          0.629675064442062,
          -0.01929264505742492,
          -0.5956332881663199,
          -0.37341864927398605,
          -0.3955603284516065,
          -0.43505004152181065,
          0.5351401117646758,
          -0.1026937541843101,
          1.4395671391316562,
          -0.8599186484811995,
          0.6694451179627202,
          1.1286626566501965,
          2.063900225407397,
          -0.9295699324300545,
          0.17986704216835986,
          -0.5912237439296492,
          0.10630993675686522,
          -0.812945654755612,
          -0.34896555934775925,
          -0.553821590107099,
          0.6948002006257248,
          0.24073423241409353,
          0.3534901314589533,
          0.4686033082769145,
          -0.31373165877423215,
          -0.7114395884089332,
          -0.6409387157834656,
          0.4500016803540507,
          0.21711326404288983,
          -0.018069262949005942,
          0.6533802428552622,
          2.7828377337588623,
          1.5427776839709029,
          -0.1368525036344999,
          1.157314574619203,
          0.08968142121865062,
          1.0250856504271342,
          -1.9498605017780728,
          0.14600612105419417,
          1.3459243558586542,
          2.06593462275695,
          0.42818100775719403,
          1.3838953490438173,
          0.4734834155141974,
          -1.011243590326672,
          0.11941076540907923,
          0.4210363473429892,
          -1.480006232120809,
          1.8917742903441508,
          0.6887241945908786,
          1.5305407582805401,
          1.8528719094913844,
          2.0161692177771444,
          -0.49914963074557095,
          0.006967052436891432,
          -0.6449582167389107,
          -0.012249603523494667,
          0.5460881067575699,
          -0.10795163655635079,
          -2.37755617157348,
          -0.684219199300508,
          -1.242862178273611,
          2.153969226489427,
          -0.24502072610151426,
          0.8046263790364315,
          0.5406306107809049,
          -0.033216951156400706,
          -0.43847955592322213,
          -0.7124046913765233,
          -2.0170961431160714,
          0.6618154709573927,
          1.2054316613067024,
          -1.7938465004014814,
          -0.23658857048597437
         ]
        }
       ],
       "layout": {
        "legend": {
         "bgcolor": "#F5F6F9",
         "font": {
          "color": "#4D5663"
         }
        },
        "paper_bgcolor": "#F5F6F9",
        "plot_bgcolor": "#F5F6F9",
        "template": {
         "data": {
          "bar": [
           {
            "error_x": {
             "color": "#2a3f5f"
            },
            "error_y": {
             "color": "#2a3f5f"
            },
            "marker": {
             "line": {
              "color": "#E5ECF6",
              "width": 0.5
             }
            },
            "type": "bar"
           }
          ],
          "barpolar": [
           {
            "marker": {
             "line": {
              "color": "#E5ECF6",
              "width": 0.5
             }
            },
            "type": "barpolar"
           }
          ],
          "carpet": [
           {
            "aaxis": {
             "endlinecolor": "#2a3f5f",
             "gridcolor": "white",
             "linecolor": "white",
             "minorgridcolor": "white",
             "startlinecolor": "#2a3f5f"
            },
            "baxis": {
             "endlinecolor": "#2a3f5f",
             "gridcolor": "white",
             "linecolor": "white",
             "minorgridcolor": "white",
             "startlinecolor": "#2a3f5f"
            },
            "type": "carpet"
           }
          ],
          "choropleth": [
           {
            "colorbar": {
             "outlinewidth": 0,
             "ticks": ""
            },
            "type": "choropleth"
           }
          ],
          "contour": [
           {
            "colorbar": {
             "outlinewidth": 0,
             "ticks": ""
            },
            "colorscale": [
             [
              0,
              "#0d0887"
             ],
             [
              0.1111111111111111,
              "#46039f"
             ],
             [
              0.2222222222222222,
              "#7201a8"
             ],
             [
              0.3333333333333333,
              "#9c179e"
             ],
             [
              0.4444444444444444,
              "#bd3786"
             ],
             [
              0.5555555555555556,
              "#d8576b"
             ],
             [
              0.6666666666666666,
              "#ed7953"
             ],
             [
              0.7777777777777778,
              "#fb9f3a"
             ],
             [
              0.8888888888888888,
              "#fdca26"
             ],
             [
              1,
              "#f0f921"
             ]
            ],
            "type": "contour"
           }
          ],
          "contourcarpet": [
           {
            "colorbar": {
             "outlinewidth": 0,
             "ticks": ""
            },
            "type": "contourcarpet"
           }
          ],
          "heatmap": [
           {
            "colorbar": {
             "outlinewidth": 0,
             "ticks": ""
            },
            "colorscale": [
             [
              0,
              "#0d0887"
             ],
             [
              0.1111111111111111,
              "#46039f"
             ],
             [
              0.2222222222222222,
              "#7201a8"
             ],
             [
              0.3333333333333333,
              "#9c179e"
             ],
             [
              0.4444444444444444,
              "#bd3786"
             ],
             [
              0.5555555555555556,
              "#d8576b"
             ],
             [
              0.6666666666666666,
              "#ed7953"
             ],
             [
              0.7777777777777778,
              "#fb9f3a"
             ],
             [
              0.8888888888888888,
              "#fdca26"
             ],
             [
              1,
              "#f0f921"
             ]
            ],
            "type": "heatmap"
           }
          ],
          "heatmapgl": [
           {
            "colorbar": {
             "outlinewidth": 0,
             "ticks": ""
            },
            "colorscale": [
             [
              0,
              "#0d0887"
             ],
             [
              0.1111111111111111,
              "#46039f"
             ],
             [
              0.2222222222222222,
              "#7201a8"
             ],
             [
              0.3333333333333333,
              "#9c179e"
             ],
             [
              0.4444444444444444,
              "#bd3786"
             ],
             [
              0.5555555555555556,
              "#d8576b"
             ],
             [
              0.6666666666666666,
              "#ed7953"
             ],
             [
              0.7777777777777778,
              "#fb9f3a"
             ],
             [
              0.8888888888888888,
              "#fdca26"
             ],
             [
              1,
              "#f0f921"
             ]
            ],
            "type": "heatmapgl"
           }
          ],
          "histogram": [
           {
            "marker": {
             "colorbar": {
              "outlinewidth": 0,
              "ticks": ""
             }
            },
            "type": "histogram"
           }
          ],
          "histogram2d": [
           {
            "colorbar": {
             "outlinewidth": 0,
             "ticks": ""
            },
            "colorscale": [
             [
              0,
              "#0d0887"
             ],
             [
              0.1111111111111111,
              "#46039f"
             ],
             [
              0.2222222222222222,
              "#7201a8"
             ],
             [
              0.3333333333333333,
              "#9c179e"
             ],
             [
              0.4444444444444444,
              "#bd3786"
             ],
             [
              0.5555555555555556,
              "#d8576b"
             ],
             [
              0.6666666666666666,
              "#ed7953"
             ],
             [
              0.7777777777777778,
              "#fb9f3a"
             ],
             [
              0.8888888888888888,
              "#fdca26"
             ],
             [
              1,
              "#f0f921"
             ]
            ],
            "type": "histogram2d"
           }
          ],
          "histogram2dcontour": [
           {
            "colorbar": {
             "outlinewidth": 0,
             "ticks": ""
            },
            "colorscale": [
             [
              0,
              "#0d0887"
             ],
             [
              0.1111111111111111,
              "#46039f"
             ],
             [
              0.2222222222222222,
              "#7201a8"
             ],
             [
              0.3333333333333333,
              "#9c179e"
             ],
             [
              0.4444444444444444,
              "#bd3786"
             ],
             [
              0.5555555555555556,
              "#d8576b"
             ],
             [
              0.6666666666666666,
              "#ed7953"
             ],
             [
              0.7777777777777778,
              "#fb9f3a"
             ],
             [
              0.8888888888888888,
              "#fdca26"
             ],
             [
              1,
              "#f0f921"
             ]
            ],
            "type": "histogram2dcontour"
           }
          ],
          "mesh3d": [
           {
            "colorbar": {
             "outlinewidth": 0,
             "ticks": ""
            },
            "type": "mesh3d"
           }
          ],
          "parcoords": [
           {
            "line": {
             "colorbar": {
              "outlinewidth": 0,
              "ticks": ""
             }
            },
            "type": "parcoords"
           }
          ],
          "pie": [
           {
            "automargin": true,
            "type": "pie"
           }
          ],
          "scatter": [
           {
            "marker": {
             "colorbar": {
              "outlinewidth": 0,
              "ticks": ""
             }
            },
            "type": "scatter"
           }
          ],
          "scatter3d": [
           {
            "line": {
             "colorbar": {
              "outlinewidth": 0,
              "ticks": ""
             }
            },
            "marker": {
             "colorbar": {
              "outlinewidth": 0,
              "ticks": ""
             }
            },
            "type": "scatter3d"
           }
          ],
          "scattercarpet": [
           {
            "marker": {
             "colorbar": {
              "outlinewidth": 0,
              "ticks": ""
             }
            },
            "type": "scattercarpet"
           }
          ],
          "scattergeo": [
           {
            "marker": {
             "colorbar": {
              "outlinewidth": 0,
              "ticks": ""
             }
            },
            "type": "scattergeo"
           }
          ],
          "scattergl": [
           {
            "marker": {
             "colorbar": {
              "outlinewidth": 0,
              "ticks": ""
             }
            },
            "type": "scattergl"
           }
          ],
          "scattermapbox": [
           {
            "marker": {
             "colorbar": {
              "outlinewidth": 0,
              "ticks": ""
             }
            },
            "type": "scattermapbox"
           }
          ],
          "scatterpolar": [
           {
            "marker": {
             "colorbar": {
              "outlinewidth": 0,
              "ticks": ""
             }
            },
            "type": "scatterpolar"
           }
          ],
          "scatterpolargl": [
           {
            "marker": {
             "colorbar": {
              "outlinewidth": 0,
              "ticks": ""
             }
            },
            "type": "scatterpolargl"
           }
          ],
          "scatterternary": [
           {
            "marker": {
             "colorbar": {
              "outlinewidth": 0,
              "ticks": ""
             }
            },
            "type": "scatterternary"
           }
          ],
          "surface": [
           {
            "colorbar": {
             "outlinewidth": 0,
             "ticks": ""
            },
            "colorscale": [
             [
              0,
              "#0d0887"
             ],
             [
              0.1111111111111111,
              "#46039f"
             ],
             [
              0.2222222222222222,
              "#7201a8"
             ],
             [
              0.3333333333333333,
              "#9c179e"
             ],
             [
              0.4444444444444444,
              "#bd3786"
             ],
             [
              0.5555555555555556,
              "#d8576b"
             ],
             [
              0.6666666666666666,
              "#ed7953"
             ],
             [
              0.7777777777777778,
              "#fb9f3a"
             ],
             [
              0.8888888888888888,
              "#fdca26"
             ],
             [
              1,
              "#f0f921"
             ]
            ],
            "type": "surface"
           }
          ],
          "table": [
           {
            "cells": {
             "fill": {
              "color": "#EBF0F8"
             },
             "line": {
              "color": "white"
             }
            },
            "header": {
             "fill": {
              "color": "#C8D4E3"
             },
             "line": {
              "color": "white"
             }
            },
            "type": "table"
           }
          ]
         },
         "layout": {
          "annotationdefaults": {
           "arrowcolor": "#2a3f5f",
           "arrowhead": 0,
           "arrowwidth": 1
          },
          "coloraxis": {
           "colorbar": {
            "outlinewidth": 0,
            "ticks": ""
           }
          },
          "colorscale": {
           "diverging": [
            [
             0,
             "#8e0152"
            ],
            [
             0.1,
             "#c51b7d"
            ],
            [
             0.2,
             "#de77ae"
            ],
            [
             0.3,
             "#f1b6da"
            ],
            [
             0.4,
             "#fde0ef"
            ],
            [
             0.5,
             "#f7f7f7"
            ],
            [
             0.6,
             "#e6f5d0"
            ],
            [
             0.7,
             "#b8e186"
            ],
            [
             0.8,
             "#7fbc41"
            ],
            [
             0.9,
             "#4d9221"
            ],
            [
             1,
             "#276419"
            ]
           ],
           "sequential": [
            [
             0,
             "#0d0887"
            ],
            [
             0.1111111111111111,
             "#46039f"
            ],
            [
             0.2222222222222222,
             "#7201a8"
            ],
            [
             0.3333333333333333,
             "#9c179e"
            ],
            [
             0.4444444444444444,
             "#bd3786"
            ],
            [
             0.5555555555555556,
             "#d8576b"
            ],
            [
             0.6666666666666666,
             "#ed7953"
            ],
            [
             0.7777777777777778,
             "#fb9f3a"
            ],
            [
             0.8888888888888888,
             "#fdca26"
            ],
            [
             1,
             "#f0f921"
            ]
           ],
           "sequentialminus": [
            [
             0,
             "#0d0887"
            ],
            [
             0.1111111111111111,
             "#46039f"
            ],
            [
             0.2222222222222222,
             "#7201a8"
            ],
            [
             0.3333333333333333,
             "#9c179e"
            ],
            [
             0.4444444444444444,
             "#bd3786"
            ],
            [
             0.5555555555555556,
             "#d8576b"
            ],
            [
             0.6666666666666666,
             "#ed7953"
            ],
            [
             0.7777777777777778,
             "#fb9f3a"
            ],
            [
             0.8888888888888888,
             "#fdca26"
            ],
            [
             1,
             "#f0f921"
            ]
           ]
          },
          "colorway": [
           "#636efa",
           "#EF553B",
           "#00cc96",
           "#ab63fa",
           "#FFA15A",
           "#19d3f3",
           "#FF6692",
           "#B6E880",
           "#FF97FF",
           "#FECB52"
          ],
          "font": {
           "color": "#2a3f5f"
          },
          "geo": {
           "bgcolor": "white",
           "lakecolor": "white",
           "landcolor": "#E5ECF6",
           "showlakes": true,
           "showland": true,
           "subunitcolor": "white"
          },
          "hoverlabel": {
           "align": "left"
          },
          "hovermode": "closest",
          "mapbox": {
           "style": "light"
          },
          "paper_bgcolor": "white",
          "plot_bgcolor": "#E5ECF6",
          "polar": {
           "angularaxis": {
            "gridcolor": "white",
            "linecolor": "white",
            "ticks": ""
           },
           "bgcolor": "#E5ECF6",
           "radialaxis": {
            "gridcolor": "white",
            "linecolor": "white",
            "ticks": ""
           }
          },
          "scene": {
           "xaxis": {
            "backgroundcolor": "#E5ECF6",
            "gridcolor": "white",
            "gridwidth": 2,
            "linecolor": "white",
            "showbackground": true,
            "ticks": "",
            "zerolinecolor": "white"
           },
           "yaxis": {
            "backgroundcolor": "#E5ECF6",
            "gridcolor": "white",
            "gridwidth": 2,
            "linecolor": "white",
            "showbackground": true,
            "ticks": "",
            "zerolinecolor": "white"
           },
           "zaxis": {
            "backgroundcolor": "#E5ECF6",
            "gridcolor": "white",
            "gridwidth": 2,
            "linecolor": "white",
            "showbackground": true,
            "ticks": "",
            "zerolinecolor": "white"
           }
          },
          "shapedefaults": {
           "line": {
            "color": "#2a3f5f"
           }
          },
          "ternary": {
           "aaxis": {
            "gridcolor": "white",
            "linecolor": "white",
            "ticks": ""
           },
           "baxis": {
            "gridcolor": "white",
            "linecolor": "white",
            "ticks": ""
           },
           "bgcolor": "#E5ECF6",
           "caxis": {
            "gridcolor": "white",
            "linecolor": "white",
            "ticks": ""
           }
          },
          "title": {
           "x": 0.05
          },
          "xaxis": {
           "automargin": true,
           "gridcolor": "white",
           "linecolor": "white",
           "ticks": "",
           "title": {
            "standoff": 15
           },
           "zerolinecolor": "white",
           "zerolinewidth": 2
          },
          "yaxis": {
           "automargin": true,
           "gridcolor": "white",
           "linecolor": "white",
           "ticks": "",
           "title": {
            "standoff": 15
           },
           "zerolinecolor": "white",
           "zerolinewidth": 2
          }
         }
        },
        "title": {
         "font": {
          "color": "#4D5663"
         }
        },
        "xaxis": {
         "gridcolor": "#E1E5ED",
         "showgrid": true,
         "tickfont": {
          "color": "#4D5663"
         },
         "title": {
          "font": {
           "color": "#4D5663"
          },
          "text": ""
         },
         "zerolinecolor": "#E1E5ED"
        },
        "yaxis": {
         "gridcolor": "#E1E5ED",
         "showgrid": true,
         "tickfont": {
          "color": "#4D5663"
         },
         "title": {
          "font": {
           "color": "#4D5663"
          },
          "text": ""
         },
         "zerolinecolor": "#E1E5ED"
        }
       }
      },
      "text/html": [
       "<div>                            <div id=\"621c39bd-83f8-4311-8e05-05a5131fe82b\" class=\"plotly-graph-div\" style=\"height:525px; width:100%;\"></div>            <script type=\"text/javascript\">                require([\"plotly\"], function(Plotly) {                    window.PLOTLYENV=window.PLOTLYENV || {};\n",
       "                    window.PLOTLYENV.BASE_URL='https://plot.ly';                                    if (document.getElementById(\"621c39bd-83f8-4311-8e05-05a5131fe82b\")) {                    Plotly.newPlot(                        \"621c39bd-83f8-4311-8e05-05a5131fe82b\",                        [{\"marker\": {\"color\": [\"rgb(255, 153, 51)\", \"rgb(55, 128, 191)\", \"rgb(50, 171, 96)\", \"rgb(128, 0, 128)\", \"rgb(219, 64, 82)\", \"rgb(0, 128, 128)\", \"rgb(255, 255, 51)\", \"rgb(128, 128, 0)\", \"rgb(251, 128, 114)\", \"rgb(128, 177, 211)\"], \"line\": {\"width\": 1.3}, \"size\": [24, 48, 69, 67, 51, 78, 67, 57, 39, 68, 87, 54, 69, 45, 53, 46, 39, 32, 47, 106, 18, 53, 44, 37, 34, 80, 66, 36, 97, 93, 25, 65, 39, 61, 62, 94, 79, 48, 15, 47, 71, 34, 12, 100, 68, 38, 80, 61, 84, 35, 76, 33, 73, 83, 46, 88, 38, 57, 61, 75, 47, 61, 13, 53, 74, 77, 72, 98, 78, 49, 63, 70, 65, 36, 55, 39, 40, 60, 37, 82, 63, 89, 65, 83, 62, 41, 43, 52, 69, 32, 55, 85, 26, 112, 67, 13, 45, 50, 39, 61], \"symbol\": \"circle\"}, \"mode\": \"markers\", \"text\": \"\", \"type\": \"scatter\", \"x\": [-1.5355354192230586, -1.0527533192824858, 1.0651922435485306, -0.3569392648813912, -1.2980144850988753, 0.4979310577149322, 0.5901952780313333, 2.2774192822713237, -0.21876345827157676, -1.3349125647531113, -0.22055827664732808, 0.7293643918751058, 1.3259697709398004, -1.3720675861464693, 1.7686765997019345, -0.21278705743547888, 0.5621565488693779, -0.3792433474006059, -0.6750765094602391, -1.1845114394252805, -0.04649534177230828, 1.1495256182501377, -0.41816004179319194, -1.0239481102629837, 0.9946927964952956, 0.6052416074897078, -1.9151632304247237, -0.3403894901650628, -0.4537997371869349, -0.7397293859495888, -0.9253789977904611, 1.601930601973586, -1.4650826388661842, 0.5270957520989601, -1.180253879455318, 0.6850387941860184, -0.3678223463530502, -0.30500706501587305, -0.5542070516960862, -1.4312224043373811, -0.1848981571335127, 0.6206299218949423, -1.0367501124402183, -1.0595095262876875, 1.2105069014091077, 0.5051738136010172, 0.47177060342443633, -0.8144767662360516, 0.11560223236678412, -1.8004185138809787, 1.1576067690845295, 0.5870612302887921, -1.2727449517938831, -0.3406361971233455, 1.0983528236620699, 0.49739189471308093, 0.7647466281588152, 2.1408660174962026, 0.5061816115949632, 0.120177007037446, -0.2712416900133294, -0.40368260942789297, -0.21235062677455707, 0.9566608507041349, -0.592846919794081, 0.9416099029137102, -0.13030336454300231, -0.4912598770441894, -0.0556549547985368, 0.9901139892278719, -0.14111330498012714, -0.5733355116267539, -0.9446232149514938, 1.4042766106007183, -0.7046212552212995, -0.3206051538056349, -0.4756918981281842, -1.2681053547018966, -0.47397096250784604, 0.34213108483355736, -1.1842372349810686, -1.1458192389317712, -1.2557624556630214, 1.5501458563898547, -0.08616993227352977, -0.06300453186192329, 0.003078698431574541, 0.35152717580520365, 0.4241210560491202, -2.9474968859825985, -0.019618922077270073, 1.7521003147708671, 1.4658803481569689, 0.7900509900134237, 0.2829821582586573, -0.05612046663179397, 0.10448201357335772, 0.10872292715876054, -1.9192126781078032, -1.7708965409979374], \"y\": [0.44735427314727433, -0.7508676450145815, 0.18480434357317638, 1.036858322212885, -1.043241632500722, -0.8413278507817418, 0.6558618794274739, 0.5547624862355806, 0.6951192553620779, 1.2726390156513538, -1.0680701829108734, 1.2342808921384112, -1.1770818873863, -0.05976217213720838, 0.9628980396633287, -0.8901404178495665, -1.1149508423060148, -2.019268938013942, 0.4045080210400765, 0.9774315118014983, 0.8823158393243271, -0.043892028650077755, -2.316995693382531, 0.4824470912200743, 0.6564093759271757, -0.3101323506764711, 0.629675064442062, -0.01929264505742492, -0.5956332881663199, -0.37341864927398605, -0.3955603284516065, -0.43505004152181065, 0.5351401117646758, -0.1026937541843101, 1.4395671391316562, -0.8599186484811995, 0.6694451179627202, 1.1286626566501965, 2.063900225407397, -0.9295699324300545, 0.17986704216835986, -0.5912237439296492, 0.10630993675686522, -0.812945654755612, -0.34896555934775925, -0.553821590107099, 0.6948002006257248, 0.24073423241409353, 0.3534901314589533, 0.4686033082769145, -0.31373165877423215, -0.7114395884089332, -0.6409387157834656, 0.4500016803540507, 0.21711326404288983, -0.018069262949005942, 0.6533802428552622, 2.7828377337588623, 1.5427776839709029, -0.1368525036344999, 1.157314574619203, 0.08968142121865062, 1.0250856504271342, -1.9498605017780728, 0.14600612105419417, 1.3459243558586542, 2.06593462275695, 0.42818100775719403, 1.3838953490438173, 0.4734834155141974, -1.011243590326672, 0.11941076540907923, 0.4210363473429892, -1.480006232120809, 1.8917742903441508, 0.6887241945908786, 1.5305407582805401, 1.8528719094913844, 2.0161692177771444, -0.49914963074557095, 0.006967052436891432, -0.6449582167389107, -0.012249603523494667, 0.5460881067575699, -0.10795163655635079, -2.37755617157348, -0.684219199300508, -1.242862178273611, 2.153969226489427, -0.24502072610151426, 0.8046263790364315, 0.5406306107809049, -0.033216951156400706, -0.43847955592322213, -0.7124046913765233, -2.0170961431160714, 0.6618154709573927, 1.2054316613067024, -1.7938465004014814, -0.23658857048597437]}],                        {\"legend\": {\"bgcolor\": \"#F5F6F9\", \"font\": {\"color\": \"#4D5663\"}}, \"paper_bgcolor\": \"#F5F6F9\", \"plot_bgcolor\": \"#F5F6F9\", \"template\": {\"data\": {\"bar\": [{\"error_x\": {\"color\": \"#2a3f5f\"}, \"error_y\": {\"color\": \"#2a3f5f\"}, \"marker\": {\"line\": {\"color\": \"#E5ECF6\", \"width\": 0.5}}, \"type\": \"bar\"}], \"barpolar\": [{\"marker\": {\"line\": {\"color\": \"#E5ECF6\", \"width\": 0.5}}, \"type\": \"barpolar\"}], \"carpet\": [{\"aaxis\": {\"endlinecolor\": \"#2a3f5f\", \"gridcolor\": \"white\", \"linecolor\": \"white\", \"minorgridcolor\": \"white\", \"startlinecolor\": \"#2a3f5f\"}, \"baxis\": {\"endlinecolor\": \"#2a3f5f\", \"gridcolor\": \"white\", \"linecolor\": \"white\", \"minorgridcolor\": \"white\", \"startlinecolor\": \"#2a3f5f\"}, \"type\": \"carpet\"}], \"choropleth\": [{\"colorbar\": {\"outlinewidth\": 0, \"ticks\": \"\"}, \"type\": \"choropleth\"}], \"contour\": [{\"colorbar\": {\"outlinewidth\": 0, \"ticks\": \"\"}, \"colorscale\": [[0.0, \"#0d0887\"], [0.1111111111111111, \"#46039f\"], [0.2222222222222222, \"#7201a8\"], [0.3333333333333333, \"#9c179e\"], [0.4444444444444444, \"#bd3786\"], [0.5555555555555556, \"#d8576b\"], [0.6666666666666666, \"#ed7953\"], [0.7777777777777778, \"#fb9f3a\"], [0.8888888888888888, \"#fdca26\"], [1.0, \"#f0f921\"]], \"type\": \"contour\"}], \"contourcarpet\": [{\"colorbar\": {\"outlinewidth\": 0, \"ticks\": \"\"}, \"type\": \"contourcarpet\"}], \"heatmap\": [{\"colorbar\": {\"outlinewidth\": 0, \"ticks\": \"\"}, \"colorscale\": [[0.0, \"#0d0887\"], [0.1111111111111111, \"#46039f\"], [0.2222222222222222, \"#7201a8\"], [0.3333333333333333, \"#9c179e\"], [0.4444444444444444, \"#bd3786\"], [0.5555555555555556, \"#d8576b\"], [0.6666666666666666, \"#ed7953\"], [0.7777777777777778, \"#fb9f3a\"], [0.8888888888888888, \"#fdca26\"], [1.0, \"#f0f921\"]], \"type\": \"heatmap\"}], \"heatmapgl\": [{\"colorbar\": {\"outlinewidth\": 0, \"ticks\": \"\"}, \"colorscale\": [[0.0, \"#0d0887\"], [0.1111111111111111, \"#46039f\"], [0.2222222222222222, \"#7201a8\"], [0.3333333333333333, \"#9c179e\"], [0.4444444444444444, \"#bd3786\"], [0.5555555555555556, \"#d8576b\"], [0.6666666666666666, \"#ed7953\"], [0.7777777777777778, \"#fb9f3a\"], [0.8888888888888888, \"#fdca26\"], [1.0, \"#f0f921\"]], \"type\": \"heatmapgl\"}], \"histogram\": [{\"marker\": {\"colorbar\": {\"outlinewidth\": 0, \"ticks\": \"\"}}, \"type\": \"histogram\"}], \"histogram2d\": [{\"colorbar\": {\"outlinewidth\": 0, \"ticks\": \"\"}, \"colorscale\": [[0.0, \"#0d0887\"], [0.1111111111111111, \"#46039f\"], [0.2222222222222222, \"#7201a8\"], [0.3333333333333333, \"#9c179e\"], [0.4444444444444444, \"#bd3786\"], [0.5555555555555556, \"#d8576b\"], [0.6666666666666666, \"#ed7953\"], [0.7777777777777778, \"#fb9f3a\"], [0.8888888888888888, \"#fdca26\"], [1.0, \"#f0f921\"]], \"type\": \"histogram2d\"}], \"histogram2dcontour\": [{\"colorbar\": {\"outlinewidth\": 0, \"ticks\": \"\"}, \"colorscale\": [[0.0, \"#0d0887\"], [0.1111111111111111, \"#46039f\"], [0.2222222222222222, \"#7201a8\"], [0.3333333333333333, \"#9c179e\"], [0.4444444444444444, \"#bd3786\"], [0.5555555555555556, \"#d8576b\"], [0.6666666666666666, \"#ed7953\"], [0.7777777777777778, \"#fb9f3a\"], [0.8888888888888888, \"#fdca26\"], [1.0, \"#f0f921\"]], \"type\": \"histogram2dcontour\"}], \"mesh3d\": [{\"colorbar\": {\"outlinewidth\": 0, \"ticks\": \"\"}, \"type\": \"mesh3d\"}], \"parcoords\": [{\"line\": {\"colorbar\": {\"outlinewidth\": 0, \"ticks\": \"\"}}, \"type\": \"parcoords\"}], \"pie\": [{\"automargin\": true, \"type\": \"pie\"}], \"scatter\": [{\"marker\": {\"colorbar\": {\"outlinewidth\": 0, \"ticks\": \"\"}}, \"type\": \"scatter\"}], \"scatter3d\": [{\"line\": {\"colorbar\": {\"outlinewidth\": 0, \"ticks\": \"\"}}, \"marker\": {\"colorbar\": {\"outlinewidth\": 0, \"ticks\": \"\"}}, \"type\": \"scatter3d\"}], \"scattercarpet\": [{\"marker\": {\"colorbar\": {\"outlinewidth\": 0, \"ticks\": \"\"}}, \"type\": \"scattercarpet\"}], \"scattergeo\": [{\"marker\": {\"colorbar\": {\"outlinewidth\": 0, \"ticks\": \"\"}}, \"type\": \"scattergeo\"}], \"scattergl\": [{\"marker\": {\"colorbar\": {\"outlinewidth\": 0, \"ticks\": \"\"}}, \"type\": \"scattergl\"}], \"scattermapbox\": [{\"marker\": {\"colorbar\": {\"outlinewidth\": 0, \"ticks\": \"\"}}, \"type\": \"scattermapbox\"}], \"scatterpolar\": [{\"marker\": {\"colorbar\": {\"outlinewidth\": 0, \"ticks\": \"\"}}, \"type\": \"scatterpolar\"}], \"scatterpolargl\": [{\"marker\": {\"colorbar\": {\"outlinewidth\": 0, \"ticks\": \"\"}}, \"type\": \"scatterpolargl\"}], \"scatterternary\": [{\"marker\": {\"colorbar\": {\"outlinewidth\": 0, \"ticks\": \"\"}}, \"type\": \"scatterternary\"}], \"surface\": [{\"colorbar\": {\"outlinewidth\": 0, \"ticks\": \"\"}, \"colorscale\": [[0.0, \"#0d0887\"], [0.1111111111111111, \"#46039f\"], [0.2222222222222222, \"#7201a8\"], [0.3333333333333333, \"#9c179e\"], [0.4444444444444444, \"#bd3786\"], [0.5555555555555556, \"#d8576b\"], [0.6666666666666666, \"#ed7953\"], [0.7777777777777778, \"#fb9f3a\"], [0.8888888888888888, \"#fdca26\"], [1.0, \"#f0f921\"]], \"type\": \"surface\"}], \"table\": [{\"cells\": {\"fill\": {\"color\": \"#EBF0F8\"}, \"line\": {\"color\": \"white\"}}, \"header\": {\"fill\": {\"color\": \"#C8D4E3\"}, \"line\": {\"color\": \"white\"}}, \"type\": \"table\"}]}, \"layout\": {\"annotationdefaults\": {\"arrowcolor\": \"#2a3f5f\", \"arrowhead\": 0, \"arrowwidth\": 1}, \"coloraxis\": {\"colorbar\": {\"outlinewidth\": 0, \"ticks\": \"\"}}, \"colorscale\": {\"diverging\": [[0, \"#8e0152\"], [0.1, \"#c51b7d\"], [0.2, \"#de77ae\"], [0.3, \"#f1b6da\"], [0.4, \"#fde0ef\"], [0.5, \"#f7f7f7\"], [0.6, \"#e6f5d0\"], [0.7, \"#b8e186\"], [0.8, \"#7fbc41\"], [0.9, \"#4d9221\"], [1, \"#276419\"]], \"sequential\": [[0.0, \"#0d0887\"], [0.1111111111111111, \"#46039f\"], [0.2222222222222222, \"#7201a8\"], [0.3333333333333333, \"#9c179e\"], [0.4444444444444444, \"#bd3786\"], [0.5555555555555556, \"#d8576b\"], [0.6666666666666666, \"#ed7953\"], [0.7777777777777778, \"#fb9f3a\"], [0.8888888888888888, \"#fdca26\"], [1.0, \"#f0f921\"]], \"sequentialminus\": [[0.0, \"#0d0887\"], [0.1111111111111111, \"#46039f\"], [0.2222222222222222, \"#7201a8\"], [0.3333333333333333, \"#9c179e\"], [0.4444444444444444, \"#bd3786\"], [0.5555555555555556, \"#d8576b\"], [0.6666666666666666, \"#ed7953\"], [0.7777777777777778, \"#fb9f3a\"], [0.8888888888888888, \"#fdca26\"], [1.0, \"#f0f921\"]]}, \"colorway\": [\"#636efa\", \"#EF553B\", \"#00cc96\", \"#ab63fa\", \"#FFA15A\", \"#19d3f3\", \"#FF6692\", \"#B6E880\", \"#FF97FF\", \"#FECB52\"], \"font\": {\"color\": \"#2a3f5f\"}, \"geo\": {\"bgcolor\": \"white\", \"lakecolor\": \"white\", \"landcolor\": \"#E5ECF6\", \"showlakes\": true, \"showland\": true, \"subunitcolor\": \"white\"}, \"hoverlabel\": {\"align\": \"left\"}, \"hovermode\": \"closest\", \"mapbox\": {\"style\": \"light\"}, \"paper_bgcolor\": \"white\", \"plot_bgcolor\": \"#E5ECF6\", \"polar\": {\"angularaxis\": {\"gridcolor\": \"white\", \"linecolor\": \"white\", \"ticks\": \"\"}, \"bgcolor\": \"#E5ECF6\", \"radialaxis\": {\"gridcolor\": \"white\", \"linecolor\": \"white\", \"ticks\": \"\"}}, \"scene\": {\"xaxis\": {\"backgroundcolor\": \"#E5ECF6\", \"gridcolor\": \"white\", \"gridwidth\": 2, \"linecolor\": \"white\", \"showbackground\": true, \"ticks\": \"\", \"zerolinecolor\": \"white\"}, \"yaxis\": {\"backgroundcolor\": \"#E5ECF6\", \"gridcolor\": \"white\", \"gridwidth\": 2, \"linecolor\": \"white\", \"showbackground\": true, \"ticks\": \"\", \"zerolinecolor\": \"white\"}, \"zaxis\": {\"backgroundcolor\": \"#E5ECF6\", \"gridcolor\": \"white\", \"gridwidth\": 2, \"linecolor\": \"white\", \"showbackground\": true, \"ticks\": \"\", \"zerolinecolor\": \"white\"}}, \"shapedefaults\": {\"line\": {\"color\": \"#2a3f5f\"}}, \"ternary\": {\"aaxis\": {\"gridcolor\": \"white\", \"linecolor\": \"white\", \"ticks\": \"\"}, \"baxis\": {\"gridcolor\": \"white\", \"linecolor\": \"white\", \"ticks\": \"\"}, \"bgcolor\": \"#E5ECF6\", \"caxis\": {\"gridcolor\": \"white\", \"linecolor\": \"white\", \"ticks\": \"\"}}, \"title\": {\"x\": 0.05}, \"xaxis\": {\"automargin\": true, \"gridcolor\": \"white\", \"linecolor\": \"white\", \"ticks\": \"\", \"title\": {\"standoff\": 15}, \"zerolinecolor\": \"white\", \"zerolinewidth\": 2}, \"yaxis\": {\"automargin\": true, \"gridcolor\": \"white\", \"linecolor\": \"white\", \"ticks\": \"\", \"title\": {\"standoff\": 15}, \"zerolinecolor\": \"white\", \"zerolinewidth\": 2}}}, \"title\": {\"font\": {\"color\": \"#4D5663\"}}, \"xaxis\": {\"gridcolor\": \"#E1E5ED\", \"showgrid\": true, \"tickfont\": {\"color\": \"#4D5663\"}, \"title\": {\"font\": {\"color\": \"#4D5663\"}, \"text\": \"\"}, \"zerolinecolor\": \"#E1E5ED\"}, \"yaxis\": {\"gridcolor\": \"#E1E5ED\", \"showgrid\": true, \"tickfont\": {\"color\": \"#4D5663\"}, \"title\": {\"font\": {\"color\": \"#4D5663\"}, \"text\": \"\"}, \"zerolinecolor\": \"#E1E5ED\"}},                        {\"showLink\": true, \"linkText\": \"Export to plot.ly\", \"plotlyServerURL\": \"https://plot.ly\", \"responsive\": true}                    ).then(function(){\n",
       "                            \n",
       "var gd = document.getElementById('621c39bd-83f8-4311-8e05-05a5131fe82b');\n",
       "var x = new MutationObserver(function (mutations, observer) {{\n",
       "        var display = window.getComputedStyle(gd).display;\n",
       "        if (!display || display === 'none') {{\n",
       "            console.log([gd, 'removed!']);\n",
       "            Plotly.purge(gd);\n",
       "            observer.disconnect();\n",
       "        }}\n",
       "}});\n",
       "\n",
       "// Listen for the removal of the full notebook cells\n",
       "var notebookContainer = gd.closest('#notebook-container');\n",
       "if (notebookContainer) {{\n",
       "    x.observe(notebookContainer, {childList: true});\n",
       "}}\n",
       "\n",
       "// Listen for the clearing of the current output cell\n",
       "var outputEl = gd.closest('.output');\n",
       "if (outputEl) {{\n",
       "    x.observe(outputEl, {childList: true});\n",
       "}}\n",
       "\n",
       "                        })                };                });            </script>        </div>"
      ]
     },
     "metadata": {},
     "output_type": "display_data"
    }
   ],
   "source": [
    "df.iplot(kind='bubble',x='A',y='B',size='C')"
   ]
  },
  {
   "cell_type": "markdown",
   "metadata": {},
   "source": [
    "## scatter_matrix()\n",
    "\n",
    "Similar to sns.pairplot()"
   ]
  },
  {
   "cell_type": "code",
   "execution_count": 18,
   "metadata": {},
   "outputs": [
    {
     "data": {
      "application/vnd.plotly.v1+json": {
       "config": {
        "linkText": "Export to plot.ly",
        "plotlyServerURL": "https://plot.ly",
        "showLink": true
       },
       "data": [
        {
         "histfunc": "count",
         "histnorm": "",
         "marker": {
          "color": "rgba(255, 153, 51, 1.0)",
          "line": {
           "color": "#4D5663",
           "width": 1.3
          }
         },
         "name": "A",
         "nbinsx": 10,
         "opacity": 0.8,
         "orientation": "v",
         "type": "histogram",
         "x": [
          -1.5355354192230586,
          -1.0527533192824858,
          1.0651922435485306,
          -0.3569392648813912,
          -1.2980144850988753,
          0.4979310577149322,
          0.5901952780313333,
          2.2774192822713237,
          -0.21876345827157676,
          -1.3349125647531113,
          -0.22055827664732808,
          0.7293643918751058,
          1.3259697709398004,
          -1.3720675861464693,
          1.7686765997019345,
          -0.21278705743547888,
          0.5621565488693779,
          -0.3792433474006059,
          -0.6750765094602391,
          -1.1845114394252805,
          -0.04649534177230828,
          1.1495256182501377,
          -0.41816004179319194,
          -1.0239481102629837,
          0.9946927964952956,
          0.6052416074897078,
          -1.9151632304247237,
          -0.3403894901650628,
          -0.4537997371869349,
          -0.7397293859495888,
          -0.9253789977904611,
          1.601930601973586,
          -1.4650826388661842,
          0.5270957520989601,
          -1.180253879455318,
          0.6850387941860184,
          -0.3678223463530502,
          -0.30500706501587305,
          -0.5542070516960862,
          -1.4312224043373811,
          -0.1848981571335127,
          0.6206299218949423,
          -1.0367501124402183,
          -1.0595095262876875,
          1.2105069014091077,
          0.5051738136010172,
          0.47177060342443633,
          -0.8144767662360516,
          0.11560223236678412,
          -1.8004185138809787,
          1.1576067690845295,
          0.5870612302887921,
          -1.2727449517938831,
          -0.3406361971233455,
          1.0983528236620699,
          0.49739189471308093,
          0.7647466281588152,
          2.1408660174962026,
          0.5061816115949632,
          0.120177007037446,
          -0.2712416900133294,
          -0.40368260942789297,
          -0.21235062677455707,
          0.9566608507041349,
          -0.592846919794081,
          0.9416099029137102,
          -0.13030336454300231,
          -0.4912598770441894,
          -0.0556549547985368,
          0.9901139892278719,
          -0.14111330498012714,
          -0.5733355116267539,
          -0.9446232149514938,
          1.4042766106007183,
          -0.7046212552212995,
          -0.3206051538056349,
          -0.4756918981281842,
          -1.2681053547018966,
          -0.47397096250784604,
          0.34213108483355736,
          -1.1842372349810686,
          -1.1458192389317712,
          -1.2557624556630214,
          1.5501458563898547,
          -0.08616993227352977,
          -0.06300453186192329,
          0.003078698431574541,
          0.35152717580520365,
          0.4241210560491202,
          -2.9474968859825985,
          -0.019618922077270073,
          1.7521003147708671,
          1.4658803481569689,
          0.7900509900134237,
          0.2829821582586573,
          -0.05612046663179397,
          0.10448201357335772,
          0.10872292715876054,
          -1.9192126781078032,
          -1.7708965409979374
         ],
         "xaxis": "x",
         "yaxis": "y"
        },
        {
         "line": {
          "color": "rgba(128, 128, 128, 1.0)",
          "dash": "solid",
          "shape": "linear",
          "width": 1.3
         },
         "marker": {
          "size": 2,
          "symbol": "circle"
         },
         "mode": "markers",
         "name": "A",
         "text": "",
         "type": "scatter",
         "x": [
          0.44735427314727433,
          -0.7508676450145815,
          0.18480434357317638,
          1.036858322212885,
          -1.043241632500722,
          -0.8413278507817418,
          0.6558618794274739,
          0.5547624862355806,
          0.6951192553620779,
          1.2726390156513538,
          -1.0680701829108734,
          1.2342808921384112,
          -1.1770818873863,
          -0.05976217213720838,
          0.9628980396633287,
          -0.8901404178495665,
          -1.1149508423060148,
          -2.019268938013942,
          0.4045080210400765,
          0.9774315118014983,
          0.8823158393243271,
          -0.043892028650077755,
          -2.316995693382531,
          0.4824470912200743,
          0.6564093759271757,
          -0.3101323506764711,
          0.629675064442062,
          -0.01929264505742492,
          -0.5956332881663199,
          -0.37341864927398605,
          -0.3955603284516065,
          -0.43505004152181065,
          0.5351401117646758,
          -0.1026937541843101,
          1.4395671391316562,
          -0.8599186484811995,
          0.6694451179627202,
          1.1286626566501965,
          2.063900225407397,
          -0.9295699324300545,
          0.17986704216835986,
          -0.5912237439296492,
          0.10630993675686522,
          -0.812945654755612,
          -0.34896555934775925,
          -0.553821590107099,
          0.6948002006257248,
          0.24073423241409353,
          0.3534901314589533,
          0.4686033082769145,
          -0.31373165877423215,
          -0.7114395884089332,
          -0.6409387157834656,
          0.4500016803540507,
          0.21711326404288983,
          -0.018069262949005942,
          0.6533802428552622,
          2.7828377337588623,
          1.5427776839709029,
          -0.1368525036344999,
          1.157314574619203,
          0.08968142121865062,
          1.0250856504271342,
          -1.9498605017780728,
          0.14600612105419417,
          1.3459243558586542,
          2.06593462275695,
          0.42818100775719403,
          1.3838953490438173,
          0.4734834155141974,
          -1.011243590326672,
          0.11941076540907923,
          0.4210363473429892,
          -1.480006232120809,
          1.8917742903441508,
          0.6887241945908786,
          1.5305407582805401,
          1.8528719094913844,
          2.0161692177771444,
          -0.49914963074557095,
          0.006967052436891432,
          -0.6449582167389107,
          -0.012249603523494667,
          0.5460881067575699,
          -0.10795163655635079,
          -2.37755617157348,
          -0.684219199300508,
          -1.242862178273611,
          2.153969226489427,
          -0.24502072610151426,
          0.8046263790364315,
          0.5406306107809049,
          -0.033216951156400706,
          -0.43847955592322213,
          -0.7124046913765233,
          -2.0170961431160714,
          0.6618154709573927,
          1.2054316613067024,
          -1.7938465004014814,
          -0.23658857048597437
         ],
         "xaxis": "x2",
         "y": [
          -1.5355354192230586,
          -1.0527533192824858,
          1.0651922435485306,
          -0.3569392648813912,
          -1.2980144850988753,
          0.4979310577149322,
          0.5901952780313333,
          2.2774192822713237,
          -0.21876345827157676,
          -1.3349125647531113,
          -0.22055827664732808,
          0.7293643918751058,
          1.3259697709398004,
          -1.3720675861464693,
          1.7686765997019345,
          -0.21278705743547888,
          0.5621565488693779,
          -0.3792433474006059,
          -0.6750765094602391,
          -1.1845114394252805,
          -0.04649534177230828,
          1.1495256182501377,
          -0.41816004179319194,
          -1.0239481102629837,
          0.9946927964952956,
          0.6052416074897078,
          -1.9151632304247237,
          -0.3403894901650628,
          -0.4537997371869349,
          -0.7397293859495888,
          -0.9253789977904611,
          1.601930601973586,
          -1.4650826388661842,
          0.5270957520989601,
          -1.180253879455318,
          0.6850387941860184,
          -0.3678223463530502,
          -0.30500706501587305,
          -0.5542070516960862,
          -1.4312224043373811,
          -0.1848981571335127,
          0.6206299218949423,
          -1.0367501124402183,
          -1.0595095262876875,
          1.2105069014091077,
          0.5051738136010172,
          0.47177060342443633,
          -0.8144767662360516,
          0.11560223236678412,
          -1.8004185138809787,
          1.1576067690845295,
          0.5870612302887921,
          -1.2727449517938831,
          -0.3406361971233455,
          1.0983528236620699,
          0.49739189471308093,
          0.7647466281588152,
          2.1408660174962026,
          0.5061816115949632,
          0.120177007037446,
          -0.2712416900133294,
          -0.40368260942789297,
          -0.21235062677455707,
          0.9566608507041349,
          -0.592846919794081,
          0.9416099029137102,
          -0.13030336454300231,
          -0.4912598770441894,
          -0.0556549547985368,
          0.9901139892278719,
          -0.14111330498012714,
          -0.5733355116267539,
          -0.9446232149514938,
          1.4042766106007183,
          -0.7046212552212995,
          -0.3206051538056349,
          -0.4756918981281842,
          -1.2681053547018966,
          -0.47397096250784604,
          0.34213108483355736,
          -1.1842372349810686,
          -1.1458192389317712,
          -1.2557624556630214,
          1.5501458563898547,
          -0.08616993227352977,
          -0.06300453186192329,
          0.003078698431574541,
          0.35152717580520365,
          0.4241210560491202,
          -2.9474968859825985,
          -0.019618922077270073,
          1.7521003147708671,
          1.4658803481569689,
          0.7900509900134237,
          0.2829821582586573,
          -0.05612046663179397,
          0.10448201357335772,
          0.10872292715876054,
          -1.9192126781078032,
          -1.7708965409979374
         ],
         "yaxis": "y2"
        },
        {
         "line": {
          "color": "rgba(128, 128, 128, 1.0)",
          "dash": "solid",
          "shape": "linear",
          "width": 1.3
         },
         "marker": {
          "size": 2,
          "symbol": "circle"
         },
         "mode": "markers",
         "name": "A",
         "text": "",
         "type": "scatter",
         "x": [
          -1.3738134386537695,
          -0.33154760866755245,
          0.5338145248192406,
          0.4608987226336679,
          -0.21379000029761472,
          0.9448939277523196,
          0.4707011571665421,
          0.04628699959826728,
          -0.7163093779094806,
          0.4931210474463861,
          1.3362590091556465,
          -0.07860391616473675,
          0.5597020938143775,
          -0.48180653488188785,
          -0.1313413311789289,
          -0.43681966271399725,
          -0.7163545344053858,
          -1.0161897607735326,
          -0.36162337846116493,
          2.1192219161583767,
          -1.6059299241357936,
          -0.1381797103031496,
          -0.49744272418647034,
          -0.7984874437044165,
          -0.947126401096751,
          1.0125591611126339,
          0.4358837709106574,
          -0.8508993990932405,
          1.7601510638739442,
          1.5750351009734351,
          -1.3256104510414441,
          0.36507549523854027,
          -0.7231408229663161,
          0.22093610131137742,
          0.2777049752403186,
          1.6241433617832146,
          0.9919500748761527,
          -0.3436788175157517,
          -1.720185888425874,
          -0.3921982028156328,
          0.6503583066579238,
          -0.9522043501268864,
          -1.8894452797345227,
          1.875277101018438,
          0.5265831171179596,
          -0.7463697207022431,
          1.039800466247709,
          0.19685289998248875,
          1.2021709373969434,
          -0.8893629192696274,
          0.870141257912497,
          -0.9728221610318893,
          0.7306351420566899,
          1.1459599080744383,
          -0.4226578328354158,
          1.3734464473889625,
          -0.7624814463266807,
          0.04640772065513277,
          0.23090422686206544,
          0.7968718817474381,
          -0.3662810497855493,
          0.21266163663539278,
          -1.8416163883777148,
          -0.12319179592369105,
          0.774480973468789,
          0.8976609477531223,
          0.6949526224472554,
          1.7691805296285532,
          0.9196866646631141,
          -0.3023417351943868,
          0.29056767981216897,
          0.6012753066978929,
          0.4038649027424802,
          -0.8293653861413336,
          -0.019476033600365285,
          -0.727816231370272,
          -0.6742090976475391,
          0.18123835775841923,
          -0.79688415077298,
          1.1080406440536665,
          0.2989728996556223,
          1.3845570961714635,
          0.37729845513466287,
          1.1514234360584108,
          0.25109306633948025,
          -0.614434993250707,
          -0.5337002394709033,
          -0.15753474171281567,
          0.5611646743278362,
          -1.0343647157520817,
          -0.05712065783687775,
          1.23259078830519,
          -1.2667562285738472,
          2.361820754515749,
          0.49084852254653355,
          -1.8198029703126448,
          -0.4680149660077137,
          -0.2329414521079991,
          -0.7030555174837161,
          0.20610328583979282
         ],
         "xaxis": "x3",
         "y": [
          -1.5355354192230586,
          -1.0527533192824858,
          1.0651922435485306,
          -0.3569392648813912,
          -1.2980144850988753,
          0.4979310577149322,
          0.5901952780313333,
          2.2774192822713237,
          -0.21876345827157676,
          -1.3349125647531113,
          -0.22055827664732808,
          0.7293643918751058,
          1.3259697709398004,
          -1.3720675861464693,
          1.7686765997019345,
          -0.21278705743547888,
          0.5621565488693779,
          -0.3792433474006059,
          -0.6750765094602391,
          -1.1845114394252805,
          -0.04649534177230828,
          1.1495256182501377,
          -0.41816004179319194,
          -1.0239481102629837,
          0.9946927964952956,
          0.6052416074897078,
          -1.9151632304247237,
          -0.3403894901650628,
          -0.4537997371869349,
          -0.7397293859495888,
          -0.9253789977904611,
          1.601930601973586,
          -1.4650826388661842,
          0.5270957520989601,
          -1.180253879455318,
          0.6850387941860184,
          -0.3678223463530502,
          -0.30500706501587305,
          -0.5542070516960862,
          -1.4312224043373811,
          -0.1848981571335127,
          0.6206299218949423,
          -1.0367501124402183,
          -1.0595095262876875,
          1.2105069014091077,
          0.5051738136010172,
          0.47177060342443633,
          -0.8144767662360516,
          0.11560223236678412,
          -1.8004185138809787,
          1.1576067690845295,
          0.5870612302887921,
          -1.2727449517938831,
          -0.3406361971233455,
          1.0983528236620699,
          0.49739189471308093,
          0.7647466281588152,
          2.1408660174962026,
          0.5061816115949632,
          0.120177007037446,
          -0.2712416900133294,
          -0.40368260942789297,
          -0.21235062677455707,
          0.9566608507041349,
          -0.592846919794081,
          0.9416099029137102,
          -0.13030336454300231,
          -0.4912598770441894,
          -0.0556549547985368,
          0.9901139892278719,
          -0.14111330498012714,
          -0.5733355116267539,
          -0.9446232149514938,
          1.4042766106007183,
          -0.7046212552212995,
          -0.3206051538056349,
          -0.4756918981281842,
          -1.2681053547018966,
          -0.47397096250784604,
          0.34213108483355736,
          -1.1842372349810686,
          -1.1458192389317712,
          -1.2557624556630214,
          1.5501458563898547,
          -0.08616993227352977,
          -0.06300453186192329,
          0.003078698431574541,
          0.35152717580520365,
          0.4241210560491202,
          -2.9474968859825985,
          -0.019618922077270073,
          1.7521003147708671,
          1.4658803481569689,
          0.7900509900134237,
          0.2829821582586573,
          -0.05612046663179397,
          0.10448201357335772,
          0.10872292715876054,
          -1.9192126781078032,
          -1.7708965409979374
         ],
         "yaxis": "y3"
        },
        {
         "line": {
          "color": "rgba(128, 128, 128, 1.0)",
          "dash": "solid",
          "shape": "linear",
          "width": 1.3
         },
         "marker": {
          "size": 2,
          "symbol": "circle"
         },
         "mode": "markers",
         "name": "A",
         "text": "",
         "type": "scatter",
         "x": [
          -1.0274725670201772,
          0.023637141630294022,
          -0.6824539224652907,
          0.7837338968082365,
          -0.07515011823509951,
          -0.42474109547851946,
          0.36004344442679403,
          1.446332455349724,
          0.6984597804936339,
          -2.0397312351302626,
          -0.5852530197811215,
          -1.0824311933745308,
          -0.8892300716428412,
          -1.0347485391478328,
          0.08543080419684033,
          0.8233700926431783,
          -1.0562961518267304,
          0.8847165716521627,
          -1.4637554896680398,
          0.9837764941941648,
          -0.32506446058696786,
          -0.02042130674687286,
          0.19343827263995,
          0.6461387633945138,
          -1.388152425492673,
          -0.08302922794426768,
          -0.45260774938521403,
          -0.8643671748461371,
          0.11424733358234256,
          -0.9455713376127116,
          -0.4352320549495443,
          0.7402206090676967,
          -0.48327956282045426,
          -0.5052575721088608,
          -0.20299667963793916,
          -0.13868543659460902,
          0.947326634845561,
          -0.7647926431579081,
          0.5341058963908148,
          -1.0966526684306195,
          -1.3155046341681338,
          -1.6347877142513192,
          -0.6937473975894909,
          0.5308353491396521,
          0.22264325742784116,
          0.10762454278672558,
          -0.688089943495127,
          -0.6065239634776818,
          -1.52824722128094,
          1.2139420909104432,
          0.9665746839926376,
          -1.0876825710988056,
          1.1413802684777257,
          -0.8703918231086764,
          -1.7349297900937353,
          0.3712947088189332,
          -1.2758418349147609,
          -0.4931837358389391,
          -1.4100411439951597,
          -0.6848003520436998,
          -0.3059002269384813,
          0.4800427341027472,
          1.1731034925493258,
          -0.7782996342054381,
          0.38739853337616287,
          2.0024104123558946,
          0.42452404447982145,
          -0.23580793721112825,
          -1.4189983096220247,
          1.503825532336096,
          0.08606308255635453,
          0.13433282682706227,
          0.949110531919716,
          0.08909210895203123,
          -1.2154525066932849,
          -1.4522185560314114,
          -1.0018860152920797,
          2.0842344317741905,
          -0.849378054914496,
          0.0864244289884118,
          0.8822279908934498,
          0.4798270429641617,
          -0.839707415562348,
          1.5247859482529769,
          -1.6874032013441629,
          1.2449608163932362,
          -1.5782129308410158,
          0.8243621385608745,
          0.6180744947085115,
          -2.2229879540096045,
          -0.20277325856162157,
          -0.6892018729673994,
          -0.2353742304574779,
          1.014157729834675,
          0.6174554421452568,
          1.0540182742349078,
          -0.03767696275890132,
          0.25736092215867534,
          0.768449742273149,
          -0.48516684072979976
         ],
         "xaxis": "x4",
         "y": [
          -1.5355354192230586,
          -1.0527533192824858,
          1.0651922435485306,
          -0.3569392648813912,
          -1.2980144850988753,
          0.4979310577149322,
          0.5901952780313333,
          2.2774192822713237,
          -0.21876345827157676,
          -1.3349125647531113,
          -0.22055827664732808,
          0.7293643918751058,
          1.3259697709398004,
          -1.3720675861464693,
          1.7686765997019345,
          -0.21278705743547888,
          0.5621565488693779,
          -0.3792433474006059,
          -0.6750765094602391,
          -1.1845114394252805,
          -0.04649534177230828,
          1.1495256182501377,
          -0.41816004179319194,
          -1.0239481102629837,
          0.9946927964952956,
          0.6052416074897078,
          -1.9151632304247237,
          -0.3403894901650628,
          -0.4537997371869349,
          -0.7397293859495888,
          -0.9253789977904611,
          1.601930601973586,
          -1.4650826388661842,
          0.5270957520989601,
          -1.180253879455318,
          0.6850387941860184,
          -0.3678223463530502,
          -0.30500706501587305,
          -0.5542070516960862,
          -1.4312224043373811,
          -0.1848981571335127,
          0.6206299218949423,
          -1.0367501124402183,
          -1.0595095262876875,
          1.2105069014091077,
          0.5051738136010172,
          0.47177060342443633,
          -0.8144767662360516,
          0.11560223236678412,
          -1.8004185138809787,
          1.1576067690845295,
          0.5870612302887921,
          -1.2727449517938831,
          -0.3406361971233455,
          1.0983528236620699,
          0.49739189471308093,
          0.7647466281588152,
          2.1408660174962026,
          0.5061816115949632,
          0.120177007037446,
          -0.2712416900133294,
          -0.40368260942789297,
          -0.21235062677455707,
          0.9566608507041349,
          -0.592846919794081,
          0.9416099029137102,
          -0.13030336454300231,
          -0.4912598770441894,
          -0.0556549547985368,
          0.9901139892278719,
          -0.14111330498012714,
          -0.5733355116267539,
          -0.9446232149514938,
          1.4042766106007183,
          -0.7046212552212995,
          -0.3206051538056349,
          -0.4756918981281842,
          -1.2681053547018966,
          -0.47397096250784604,
          0.34213108483355736,
          -1.1842372349810686,
          -1.1458192389317712,
          -1.2557624556630214,
          1.5501458563898547,
          -0.08616993227352977,
          -0.06300453186192329,
          0.003078698431574541,
          0.35152717580520365,
          0.4241210560491202,
          -2.9474968859825985,
          -0.019618922077270073,
          1.7521003147708671,
          1.4658803481569689,
          0.7900509900134237,
          0.2829821582586573,
          -0.05612046663179397,
          0.10448201357335772,
          0.10872292715876054,
          -1.9192126781078032,
          -1.7708965409979374
         ],
         "yaxis": "y4"
        },
        {
         "line": {
          "color": "rgba(128, 128, 128, 1.0)",
          "dash": "solid",
          "shape": "linear",
          "width": 1.3
         },
         "marker": {
          "size": 2,
          "symbol": "circle"
         },
         "mode": "markers",
         "name": "B",
         "text": "",
         "type": "scatter",
         "x": [
          -1.5355354192230586,
          -1.0527533192824858,
          1.0651922435485306,
          -0.3569392648813912,
          -1.2980144850988753,
          0.4979310577149322,
          0.5901952780313333,
          2.2774192822713237,
          -0.21876345827157676,
          -1.3349125647531113,
          -0.22055827664732808,
          0.7293643918751058,
          1.3259697709398004,
          -1.3720675861464693,
          1.7686765997019345,
          -0.21278705743547888,
          0.5621565488693779,
          -0.3792433474006059,
          -0.6750765094602391,
          -1.1845114394252805,
          -0.04649534177230828,
          1.1495256182501377,
          -0.41816004179319194,
          -1.0239481102629837,
          0.9946927964952956,
          0.6052416074897078,
          -1.9151632304247237,
          -0.3403894901650628,
          -0.4537997371869349,
          -0.7397293859495888,
          -0.9253789977904611,
          1.601930601973586,
          -1.4650826388661842,
          0.5270957520989601,
          -1.180253879455318,
          0.6850387941860184,
          -0.3678223463530502,
          -0.30500706501587305,
          -0.5542070516960862,
          -1.4312224043373811,
          -0.1848981571335127,
          0.6206299218949423,
          -1.0367501124402183,
          -1.0595095262876875,
          1.2105069014091077,
          0.5051738136010172,
          0.47177060342443633,
          -0.8144767662360516,
          0.11560223236678412,
          -1.8004185138809787,
          1.1576067690845295,
          0.5870612302887921,
          -1.2727449517938831,
          -0.3406361971233455,
          1.0983528236620699,
          0.49739189471308093,
          0.7647466281588152,
          2.1408660174962026,
          0.5061816115949632,
          0.120177007037446,
          -0.2712416900133294,
          -0.40368260942789297,
          -0.21235062677455707,
          0.9566608507041349,
          -0.592846919794081,
          0.9416099029137102,
          -0.13030336454300231,
          -0.4912598770441894,
          -0.0556549547985368,
          0.9901139892278719,
          -0.14111330498012714,
          -0.5733355116267539,
          -0.9446232149514938,
          1.4042766106007183,
          -0.7046212552212995,
          -0.3206051538056349,
          -0.4756918981281842,
          -1.2681053547018966,
          -0.47397096250784604,
          0.34213108483355736,
          -1.1842372349810686,
          -1.1458192389317712,
          -1.2557624556630214,
          1.5501458563898547,
          -0.08616993227352977,
          -0.06300453186192329,
          0.003078698431574541,
          0.35152717580520365,
          0.4241210560491202,
          -2.9474968859825985,
          -0.019618922077270073,
          1.7521003147708671,
          1.4658803481569689,
          0.7900509900134237,
          0.2829821582586573,
          -0.05612046663179397,
          0.10448201357335772,
          0.10872292715876054,
          -1.9192126781078032,
          -1.7708965409979374
         ],
         "xaxis": "x5",
         "y": [
          0.44735427314727433,
          -0.7508676450145815,
          0.18480434357317638,
          1.036858322212885,
          -1.043241632500722,
          -0.8413278507817418,
          0.6558618794274739,
          0.5547624862355806,
          0.6951192553620779,
          1.2726390156513538,
          -1.0680701829108734,
          1.2342808921384112,
          -1.1770818873863,
          -0.05976217213720838,
          0.9628980396633287,
          -0.8901404178495665,
          -1.1149508423060148,
          -2.019268938013942,
          0.4045080210400765,
          0.9774315118014983,
          0.8823158393243271,
          -0.043892028650077755,
          -2.316995693382531,
          0.4824470912200743,
          0.6564093759271757,
          -0.3101323506764711,
          0.629675064442062,
          -0.01929264505742492,
          -0.5956332881663199,
          -0.37341864927398605,
          -0.3955603284516065,
          -0.43505004152181065,
          0.5351401117646758,
          -0.1026937541843101,
          1.4395671391316562,
          -0.8599186484811995,
          0.6694451179627202,
          1.1286626566501965,
          2.063900225407397,
          -0.9295699324300545,
          0.17986704216835986,
          -0.5912237439296492,
          0.10630993675686522,
          -0.812945654755612,
          -0.34896555934775925,
          -0.553821590107099,
          0.6948002006257248,
          0.24073423241409353,
          0.3534901314589533,
          0.4686033082769145,
          -0.31373165877423215,
          -0.7114395884089332,
          -0.6409387157834656,
          0.4500016803540507,
          0.21711326404288983,
          -0.018069262949005942,
          0.6533802428552622,
          2.7828377337588623,
          1.5427776839709029,
          -0.1368525036344999,
          1.157314574619203,
          0.08968142121865062,
          1.0250856504271342,
          -1.9498605017780728,
          0.14600612105419417,
          1.3459243558586542,
          2.06593462275695,
          0.42818100775719403,
          1.3838953490438173,
          0.4734834155141974,
          -1.011243590326672,
          0.11941076540907923,
          0.4210363473429892,
          -1.480006232120809,
          1.8917742903441508,
          0.6887241945908786,
          1.5305407582805401,
          1.8528719094913844,
          2.0161692177771444,
          -0.49914963074557095,
          0.006967052436891432,
          -0.6449582167389107,
          -0.012249603523494667,
          0.5460881067575699,
          -0.10795163655635079,
          -2.37755617157348,
          -0.684219199300508,
          -1.242862178273611,
          2.153969226489427,
          -0.24502072610151426,
          0.8046263790364315,
          0.5406306107809049,
          -0.033216951156400706,
          -0.43847955592322213,
          -0.7124046913765233,
          -2.0170961431160714,
          0.6618154709573927,
          1.2054316613067024,
          -1.7938465004014814,
          -0.23658857048597437
         ],
         "yaxis": "y5"
        },
        {
         "histfunc": "count",
         "histnorm": "",
         "marker": {
          "color": "rgba(55, 128, 191, 1.0)",
          "line": {
           "color": "#4D5663",
           "width": 1.3
          }
         },
         "name": "B",
         "nbinsx": 10,
         "opacity": 0.8,
         "orientation": "v",
         "type": "histogram",
         "x": [
          0.44735427314727433,
          -0.7508676450145815,
          0.18480434357317638,
          1.036858322212885,
          -1.043241632500722,
          -0.8413278507817418,
          0.6558618794274739,
          0.5547624862355806,
          0.6951192553620779,
          1.2726390156513538,
          -1.0680701829108734,
          1.2342808921384112,
          -1.1770818873863,
          -0.05976217213720838,
          0.9628980396633287,
          -0.8901404178495665,
          -1.1149508423060148,
          -2.019268938013942,
          0.4045080210400765,
          0.9774315118014983,
          0.8823158393243271,
          -0.043892028650077755,
          -2.316995693382531,
          0.4824470912200743,
          0.6564093759271757,
          -0.3101323506764711,
          0.629675064442062,
          -0.01929264505742492,
          -0.5956332881663199,
          -0.37341864927398605,
          -0.3955603284516065,
          -0.43505004152181065,
          0.5351401117646758,
          -0.1026937541843101,
          1.4395671391316562,
          -0.8599186484811995,
          0.6694451179627202,
          1.1286626566501965,
          2.063900225407397,
          -0.9295699324300545,
          0.17986704216835986,
          -0.5912237439296492,
          0.10630993675686522,
          -0.812945654755612,
          -0.34896555934775925,
          -0.553821590107099,
          0.6948002006257248,
          0.24073423241409353,
          0.3534901314589533,
          0.4686033082769145,
          -0.31373165877423215,
          -0.7114395884089332,
          -0.6409387157834656,
          0.4500016803540507,
          0.21711326404288983,
          -0.018069262949005942,
          0.6533802428552622,
          2.7828377337588623,
          1.5427776839709029,
          -0.1368525036344999,
          1.157314574619203,
          0.08968142121865062,
          1.0250856504271342,
          -1.9498605017780728,
          0.14600612105419417,
          1.3459243558586542,
          2.06593462275695,
          0.42818100775719403,
          1.3838953490438173,
          0.4734834155141974,
          -1.011243590326672,
          0.11941076540907923,
          0.4210363473429892,
          -1.480006232120809,
          1.8917742903441508,
          0.6887241945908786,
          1.5305407582805401,
          1.8528719094913844,
          2.0161692177771444,
          -0.49914963074557095,
          0.006967052436891432,
          -0.6449582167389107,
          -0.012249603523494667,
          0.5460881067575699,
          -0.10795163655635079,
          -2.37755617157348,
          -0.684219199300508,
          -1.242862178273611,
          2.153969226489427,
          -0.24502072610151426,
          0.8046263790364315,
          0.5406306107809049,
          -0.033216951156400706,
          -0.43847955592322213,
          -0.7124046913765233,
          -2.0170961431160714,
          0.6618154709573927,
          1.2054316613067024,
          -1.7938465004014814,
          -0.23658857048597437
         ],
         "xaxis": "x6",
         "yaxis": "y6"
        },
        {
         "line": {
          "color": "rgba(128, 128, 128, 1.0)",
          "dash": "solid",
          "shape": "linear",
          "width": 1.3
         },
         "marker": {
          "size": 2,
          "symbol": "circle"
         },
         "mode": "markers",
         "name": "B",
         "text": "",
         "type": "scatter",
         "x": [
          -1.3738134386537695,
          -0.33154760866755245,
          0.5338145248192406,
          0.4608987226336679,
          -0.21379000029761472,
          0.9448939277523196,
          0.4707011571665421,
          0.04628699959826728,
          -0.7163093779094806,
          0.4931210474463861,
          1.3362590091556465,
          -0.07860391616473675,
          0.5597020938143775,
          -0.48180653488188785,
          -0.1313413311789289,
          -0.43681966271399725,
          -0.7163545344053858,
          -1.0161897607735326,
          -0.36162337846116493,
          2.1192219161583767,
          -1.6059299241357936,
          -0.1381797103031496,
          -0.49744272418647034,
          -0.7984874437044165,
          -0.947126401096751,
          1.0125591611126339,
          0.4358837709106574,
          -0.8508993990932405,
          1.7601510638739442,
          1.5750351009734351,
          -1.3256104510414441,
          0.36507549523854027,
          -0.7231408229663161,
          0.22093610131137742,
          0.2777049752403186,
          1.6241433617832146,
          0.9919500748761527,
          -0.3436788175157517,
          -1.720185888425874,
          -0.3921982028156328,
          0.6503583066579238,
          -0.9522043501268864,
          -1.8894452797345227,
          1.875277101018438,
          0.5265831171179596,
          -0.7463697207022431,
          1.039800466247709,
          0.19685289998248875,
          1.2021709373969434,
          -0.8893629192696274,
          0.870141257912497,
          -0.9728221610318893,
          0.7306351420566899,
          1.1459599080744383,
          -0.4226578328354158,
          1.3734464473889625,
          -0.7624814463266807,
          0.04640772065513277,
          0.23090422686206544,
          0.7968718817474381,
          -0.3662810497855493,
          0.21266163663539278,
          -1.8416163883777148,
          -0.12319179592369105,
          0.774480973468789,
          0.8976609477531223,
          0.6949526224472554,
          1.7691805296285532,
          0.9196866646631141,
          -0.3023417351943868,
          0.29056767981216897,
          0.6012753066978929,
          0.4038649027424802,
          -0.8293653861413336,
          -0.019476033600365285,
          -0.727816231370272,
          -0.6742090976475391,
          0.18123835775841923,
          -0.79688415077298,
          1.1080406440536665,
          0.2989728996556223,
          1.3845570961714635,
          0.37729845513466287,
          1.1514234360584108,
          0.25109306633948025,
          -0.614434993250707,
          -0.5337002394709033,
          -0.15753474171281567,
          0.5611646743278362,
          -1.0343647157520817,
          -0.05712065783687775,
          1.23259078830519,
          -1.2667562285738472,
          2.361820754515749,
          0.49084852254653355,
          -1.8198029703126448,
          -0.4680149660077137,
          -0.2329414521079991,
          -0.7030555174837161,
          0.20610328583979282
         ],
         "xaxis": "x7",
         "y": [
          0.44735427314727433,
          -0.7508676450145815,
          0.18480434357317638,
          1.036858322212885,
          -1.043241632500722,
          -0.8413278507817418,
          0.6558618794274739,
          0.5547624862355806,
          0.6951192553620779,
          1.2726390156513538,
          -1.0680701829108734,
          1.2342808921384112,
          -1.1770818873863,
          -0.05976217213720838,
          0.9628980396633287,
          -0.8901404178495665,
          -1.1149508423060148,
          -2.019268938013942,
          0.4045080210400765,
          0.9774315118014983,
          0.8823158393243271,
          -0.043892028650077755,
          -2.316995693382531,
          0.4824470912200743,
          0.6564093759271757,
          -0.3101323506764711,
          0.629675064442062,
          -0.01929264505742492,
          -0.5956332881663199,
          -0.37341864927398605,
          -0.3955603284516065,
          -0.43505004152181065,
          0.5351401117646758,
          -0.1026937541843101,
          1.4395671391316562,
          -0.8599186484811995,
          0.6694451179627202,
          1.1286626566501965,
          2.063900225407397,
          -0.9295699324300545,
          0.17986704216835986,
          -0.5912237439296492,
          0.10630993675686522,
          -0.812945654755612,
          -0.34896555934775925,
          -0.553821590107099,
          0.6948002006257248,
          0.24073423241409353,
          0.3534901314589533,
          0.4686033082769145,
          -0.31373165877423215,
          -0.7114395884089332,
          -0.6409387157834656,
          0.4500016803540507,
          0.21711326404288983,
          -0.018069262949005942,
          0.6533802428552622,
          2.7828377337588623,
          1.5427776839709029,
          -0.1368525036344999,
          1.157314574619203,
          0.08968142121865062,
          1.0250856504271342,
          -1.9498605017780728,
          0.14600612105419417,
          1.3459243558586542,
          2.06593462275695,
          0.42818100775719403,
          1.3838953490438173,
          0.4734834155141974,
          -1.011243590326672,
          0.11941076540907923,
          0.4210363473429892,
          -1.480006232120809,
          1.8917742903441508,
          0.6887241945908786,
          1.5305407582805401,
          1.8528719094913844,
          2.0161692177771444,
          -0.49914963074557095,
          0.006967052436891432,
          -0.6449582167389107,
          -0.012249603523494667,
          0.5460881067575699,
          -0.10795163655635079,
          -2.37755617157348,
          -0.684219199300508,
          -1.242862178273611,
          2.153969226489427,
          -0.24502072610151426,
          0.8046263790364315,
          0.5406306107809049,
          -0.033216951156400706,
          -0.43847955592322213,
          -0.7124046913765233,
          -2.0170961431160714,
          0.6618154709573927,
          1.2054316613067024,
          -1.7938465004014814,
          -0.23658857048597437
         ],
         "yaxis": "y7"
        },
        {
         "line": {
          "color": "rgba(128, 128, 128, 1.0)",
          "dash": "solid",
          "shape": "linear",
          "width": 1.3
         },
         "marker": {
          "size": 2,
          "symbol": "circle"
         },
         "mode": "markers",
         "name": "B",
         "text": "",
         "type": "scatter",
         "x": [
          -1.0274725670201772,
          0.023637141630294022,
          -0.6824539224652907,
          0.7837338968082365,
          -0.07515011823509951,
          -0.42474109547851946,
          0.36004344442679403,
          1.446332455349724,
          0.6984597804936339,
          -2.0397312351302626,
          -0.5852530197811215,
          -1.0824311933745308,
          -0.8892300716428412,
          -1.0347485391478328,
          0.08543080419684033,
          0.8233700926431783,
          -1.0562961518267304,
          0.8847165716521627,
          -1.4637554896680398,
          0.9837764941941648,
          -0.32506446058696786,
          -0.02042130674687286,
          0.19343827263995,
          0.6461387633945138,
          -1.388152425492673,
          -0.08302922794426768,
          -0.45260774938521403,
          -0.8643671748461371,
          0.11424733358234256,
          -0.9455713376127116,
          -0.4352320549495443,
          0.7402206090676967,
          -0.48327956282045426,
          -0.5052575721088608,
          -0.20299667963793916,
          -0.13868543659460902,
          0.947326634845561,
          -0.7647926431579081,
          0.5341058963908148,
          -1.0966526684306195,
          -1.3155046341681338,
          -1.6347877142513192,
          -0.6937473975894909,
          0.5308353491396521,
          0.22264325742784116,
          0.10762454278672558,
          -0.688089943495127,
          -0.6065239634776818,
          -1.52824722128094,
          1.2139420909104432,
          0.9665746839926376,
          -1.0876825710988056,
          1.1413802684777257,
          -0.8703918231086764,
          -1.7349297900937353,
          0.3712947088189332,
          -1.2758418349147609,
          -0.4931837358389391,
          -1.4100411439951597,
          -0.6848003520436998,
          -0.3059002269384813,
          0.4800427341027472,
          1.1731034925493258,
          -0.7782996342054381,
          0.38739853337616287,
          2.0024104123558946,
          0.42452404447982145,
          -0.23580793721112825,
          -1.4189983096220247,
          1.503825532336096,
          0.08606308255635453,
          0.13433282682706227,
          0.949110531919716,
          0.08909210895203123,
          -1.2154525066932849,
          -1.4522185560314114,
          -1.0018860152920797,
          2.0842344317741905,
          -0.849378054914496,
          0.0864244289884118,
          0.8822279908934498,
          0.4798270429641617,
          -0.839707415562348,
          1.5247859482529769,
          -1.6874032013441629,
          1.2449608163932362,
          -1.5782129308410158,
          0.8243621385608745,
          0.6180744947085115,
          -2.2229879540096045,
          -0.20277325856162157,
          -0.6892018729673994,
          -0.2353742304574779,
          1.014157729834675,
          0.6174554421452568,
          1.0540182742349078,
          -0.03767696275890132,
          0.25736092215867534,
          0.768449742273149,
          -0.48516684072979976
         ],
         "xaxis": "x8",
         "y": [
          0.44735427314727433,
          -0.7508676450145815,
          0.18480434357317638,
          1.036858322212885,
          -1.043241632500722,
          -0.8413278507817418,
          0.6558618794274739,
          0.5547624862355806,
          0.6951192553620779,
          1.2726390156513538,
          -1.0680701829108734,
          1.2342808921384112,
          -1.1770818873863,
          -0.05976217213720838,
          0.9628980396633287,
          -0.8901404178495665,
          -1.1149508423060148,
          -2.019268938013942,
          0.4045080210400765,
          0.9774315118014983,
          0.8823158393243271,
          -0.043892028650077755,
          -2.316995693382531,
          0.4824470912200743,
          0.6564093759271757,
          -0.3101323506764711,
          0.629675064442062,
          -0.01929264505742492,
          -0.5956332881663199,
          -0.37341864927398605,
          -0.3955603284516065,
          -0.43505004152181065,
          0.5351401117646758,
          -0.1026937541843101,
          1.4395671391316562,
          -0.8599186484811995,
          0.6694451179627202,
          1.1286626566501965,
          2.063900225407397,
          -0.9295699324300545,
          0.17986704216835986,
          -0.5912237439296492,
          0.10630993675686522,
          -0.812945654755612,
          -0.34896555934775925,
          -0.553821590107099,
          0.6948002006257248,
          0.24073423241409353,
          0.3534901314589533,
          0.4686033082769145,
          -0.31373165877423215,
          -0.7114395884089332,
          -0.6409387157834656,
          0.4500016803540507,
          0.21711326404288983,
          -0.018069262949005942,
          0.6533802428552622,
          2.7828377337588623,
          1.5427776839709029,
          -0.1368525036344999,
          1.157314574619203,
          0.08968142121865062,
          1.0250856504271342,
          -1.9498605017780728,
          0.14600612105419417,
          1.3459243558586542,
          2.06593462275695,
          0.42818100775719403,
          1.3838953490438173,
          0.4734834155141974,
          -1.011243590326672,
          0.11941076540907923,
          0.4210363473429892,
          -1.480006232120809,
          1.8917742903441508,
          0.6887241945908786,
          1.5305407582805401,
          1.8528719094913844,
          2.0161692177771444,
          -0.49914963074557095,
          0.006967052436891432,
          -0.6449582167389107,
          -0.012249603523494667,
          0.5460881067575699,
          -0.10795163655635079,
          -2.37755617157348,
          -0.684219199300508,
          -1.242862178273611,
          2.153969226489427,
          -0.24502072610151426,
          0.8046263790364315,
          0.5406306107809049,
          -0.033216951156400706,
          -0.43847955592322213,
          -0.7124046913765233,
          -2.0170961431160714,
          0.6618154709573927,
          1.2054316613067024,
          -1.7938465004014814,
          -0.23658857048597437
         ],
         "yaxis": "y8"
        },
        {
         "line": {
          "color": "rgba(128, 128, 128, 1.0)",
          "dash": "solid",
          "shape": "linear",
          "width": 1.3
         },
         "marker": {
          "size": 2,
          "symbol": "circle"
         },
         "mode": "markers",
         "name": "C",
         "text": "",
         "type": "scatter",
         "x": [
          -1.5355354192230586,
          -1.0527533192824858,
          1.0651922435485306,
          -0.3569392648813912,
          -1.2980144850988753,
          0.4979310577149322,
          0.5901952780313333,
          2.2774192822713237,
          -0.21876345827157676,
          -1.3349125647531113,
          -0.22055827664732808,
          0.7293643918751058,
          1.3259697709398004,
          -1.3720675861464693,
          1.7686765997019345,
          -0.21278705743547888,
          0.5621565488693779,
          -0.3792433474006059,
          -0.6750765094602391,
          -1.1845114394252805,
          -0.04649534177230828,
          1.1495256182501377,
          -0.41816004179319194,
          -1.0239481102629837,
          0.9946927964952956,
          0.6052416074897078,
          -1.9151632304247237,
          -0.3403894901650628,
          -0.4537997371869349,
          -0.7397293859495888,
          -0.9253789977904611,
          1.601930601973586,
          -1.4650826388661842,
          0.5270957520989601,
          -1.180253879455318,
          0.6850387941860184,
          -0.3678223463530502,
          -0.30500706501587305,
          -0.5542070516960862,
          -1.4312224043373811,
          -0.1848981571335127,
          0.6206299218949423,
          -1.0367501124402183,
          -1.0595095262876875,
          1.2105069014091077,
          0.5051738136010172,
          0.47177060342443633,
          -0.8144767662360516,
          0.11560223236678412,
          -1.8004185138809787,
          1.1576067690845295,
          0.5870612302887921,
          -1.2727449517938831,
          -0.3406361971233455,
          1.0983528236620699,
          0.49739189471308093,
          0.7647466281588152,
          2.1408660174962026,
          0.5061816115949632,
          0.120177007037446,
          -0.2712416900133294,
          -0.40368260942789297,
          -0.21235062677455707,
          0.9566608507041349,
          -0.592846919794081,
          0.9416099029137102,
          -0.13030336454300231,
          -0.4912598770441894,
          -0.0556549547985368,
          0.9901139892278719,
          -0.14111330498012714,
          -0.5733355116267539,
          -0.9446232149514938,
          1.4042766106007183,
          -0.7046212552212995,
          -0.3206051538056349,
          -0.4756918981281842,
          -1.2681053547018966,
          -0.47397096250784604,
          0.34213108483355736,
          -1.1842372349810686,
          -1.1458192389317712,
          -1.2557624556630214,
          1.5501458563898547,
          -0.08616993227352977,
          -0.06300453186192329,
          0.003078698431574541,
          0.35152717580520365,
          0.4241210560491202,
          -2.9474968859825985,
          -0.019618922077270073,
          1.7521003147708671,
          1.4658803481569689,
          0.7900509900134237,
          0.2829821582586573,
          -0.05612046663179397,
          0.10448201357335772,
          0.10872292715876054,
          -1.9192126781078032,
          -1.7708965409979374
         ],
         "xaxis": "x9",
         "y": [
          -1.3738134386537695,
          -0.33154760866755245,
          0.5338145248192406,
          0.4608987226336679,
          -0.21379000029761472,
          0.9448939277523196,
          0.4707011571665421,
          0.04628699959826728,
          -0.7163093779094806,
          0.4931210474463861,
          1.3362590091556465,
          -0.07860391616473675,
          0.5597020938143775,
          -0.48180653488188785,
          -0.1313413311789289,
          -0.43681966271399725,
          -0.7163545344053858,
          -1.0161897607735326,
          -0.36162337846116493,
          2.1192219161583767,
          -1.6059299241357936,
          -0.1381797103031496,
          -0.49744272418647034,
          -0.7984874437044165,
          -0.947126401096751,
          1.0125591611126339,
          0.4358837709106574,
          -0.8508993990932405,
          1.7601510638739442,
          1.5750351009734351,
          -1.3256104510414441,
          0.36507549523854027,
          -0.7231408229663161,
          0.22093610131137742,
          0.2777049752403186,
          1.6241433617832146,
          0.9919500748761527,
          -0.3436788175157517,
          -1.720185888425874,
          -0.3921982028156328,
          0.6503583066579238,
          -0.9522043501268864,
          -1.8894452797345227,
          1.875277101018438,
          0.5265831171179596,
          -0.7463697207022431,
          1.039800466247709,
          0.19685289998248875,
          1.2021709373969434,
          -0.8893629192696274,
          0.870141257912497,
          -0.9728221610318893,
          0.7306351420566899,
          1.1459599080744383,
          -0.4226578328354158,
          1.3734464473889625,
          -0.7624814463266807,
          0.04640772065513277,
          0.23090422686206544,
          0.7968718817474381,
          -0.3662810497855493,
          0.21266163663539278,
          -1.8416163883777148,
          -0.12319179592369105,
          0.774480973468789,
          0.8976609477531223,
          0.6949526224472554,
          1.7691805296285532,
          0.9196866646631141,
          -0.3023417351943868,
          0.29056767981216897,
          0.6012753066978929,
          0.4038649027424802,
          -0.8293653861413336,
          -0.019476033600365285,
          -0.727816231370272,
          -0.6742090976475391,
          0.18123835775841923,
          -0.79688415077298,
          1.1080406440536665,
          0.2989728996556223,
          1.3845570961714635,
          0.37729845513466287,
          1.1514234360584108,
          0.25109306633948025,
          -0.614434993250707,
          -0.5337002394709033,
          -0.15753474171281567,
          0.5611646743278362,
          -1.0343647157520817,
          -0.05712065783687775,
          1.23259078830519,
          -1.2667562285738472,
          2.361820754515749,
          0.49084852254653355,
          -1.8198029703126448,
          -0.4680149660077137,
          -0.2329414521079991,
          -0.7030555174837161,
          0.20610328583979282
         ],
         "yaxis": "y9"
        },
        {
         "line": {
          "color": "rgba(128, 128, 128, 1.0)",
          "dash": "solid",
          "shape": "linear",
          "width": 1.3
         },
         "marker": {
          "size": 2,
          "symbol": "circle"
         },
         "mode": "markers",
         "name": "C",
         "text": "",
         "type": "scatter",
         "x": [
          0.44735427314727433,
          -0.7508676450145815,
          0.18480434357317638,
          1.036858322212885,
          -1.043241632500722,
          -0.8413278507817418,
          0.6558618794274739,
          0.5547624862355806,
          0.6951192553620779,
          1.2726390156513538,
          -1.0680701829108734,
          1.2342808921384112,
          -1.1770818873863,
          -0.05976217213720838,
          0.9628980396633287,
          -0.8901404178495665,
          -1.1149508423060148,
          -2.019268938013942,
          0.4045080210400765,
          0.9774315118014983,
          0.8823158393243271,
          -0.043892028650077755,
          -2.316995693382531,
          0.4824470912200743,
          0.6564093759271757,
          -0.3101323506764711,
          0.629675064442062,
          -0.01929264505742492,
          -0.5956332881663199,
          -0.37341864927398605,
          -0.3955603284516065,
          -0.43505004152181065,
          0.5351401117646758,
          -0.1026937541843101,
          1.4395671391316562,
          -0.8599186484811995,
          0.6694451179627202,
          1.1286626566501965,
          2.063900225407397,
          -0.9295699324300545,
          0.17986704216835986,
          -0.5912237439296492,
          0.10630993675686522,
          -0.812945654755612,
          -0.34896555934775925,
          -0.553821590107099,
          0.6948002006257248,
          0.24073423241409353,
          0.3534901314589533,
          0.4686033082769145,
          -0.31373165877423215,
          -0.7114395884089332,
          -0.6409387157834656,
          0.4500016803540507,
          0.21711326404288983,
          -0.018069262949005942,
          0.6533802428552622,
          2.7828377337588623,
          1.5427776839709029,
          -0.1368525036344999,
          1.157314574619203,
          0.08968142121865062,
          1.0250856504271342,
          -1.9498605017780728,
          0.14600612105419417,
          1.3459243558586542,
          2.06593462275695,
          0.42818100775719403,
          1.3838953490438173,
          0.4734834155141974,
          -1.011243590326672,
          0.11941076540907923,
          0.4210363473429892,
          -1.480006232120809,
          1.8917742903441508,
          0.6887241945908786,
          1.5305407582805401,
          1.8528719094913844,
          2.0161692177771444,
          -0.49914963074557095,
          0.006967052436891432,
          -0.6449582167389107,
          -0.012249603523494667,
          0.5460881067575699,
          -0.10795163655635079,
          -2.37755617157348,
          -0.684219199300508,
          -1.242862178273611,
          2.153969226489427,
          -0.24502072610151426,
          0.8046263790364315,
          0.5406306107809049,
          -0.033216951156400706,
          -0.43847955592322213,
          -0.7124046913765233,
          -2.0170961431160714,
          0.6618154709573927,
          1.2054316613067024,
          -1.7938465004014814,
          -0.23658857048597437
         ],
         "xaxis": "x10",
         "y": [
          -1.3738134386537695,
          -0.33154760866755245,
          0.5338145248192406,
          0.4608987226336679,
          -0.21379000029761472,
          0.9448939277523196,
          0.4707011571665421,
          0.04628699959826728,
          -0.7163093779094806,
          0.4931210474463861,
          1.3362590091556465,
          -0.07860391616473675,
          0.5597020938143775,
          -0.48180653488188785,
          -0.1313413311789289,
          -0.43681966271399725,
          -0.7163545344053858,
          -1.0161897607735326,
          -0.36162337846116493,
          2.1192219161583767,
          -1.6059299241357936,
          -0.1381797103031496,
          -0.49744272418647034,
          -0.7984874437044165,
          -0.947126401096751,
          1.0125591611126339,
          0.4358837709106574,
          -0.8508993990932405,
          1.7601510638739442,
          1.5750351009734351,
          -1.3256104510414441,
          0.36507549523854027,
          -0.7231408229663161,
          0.22093610131137742,
          0.2777049752403186,
          1.6241433617832146,
          0.9919500748761527,
          -0.3436788175157517,
          -1.720185888425874,
          -0.3921982028156328,
          0.6503583066579238,
          -0.9522043501268864,
          -1.8894452797345227,
          1.875277101018438,
          0.5265831171179596,
          -0.7463697207022431,
          1.039800466247709,
          0.19685289998248875,
          1.2021709373969434,
          -0.8893629192696274,
          0.870141257912497,
          -0.9728221610318893,
          0.7306351420566899,
          1.1459599080744383,
          -0.4226578328354158,
          1.3734464473889625,
          -0.7624814463266807,
          0.04640772065513277,
          0.23090422686206544,
          0.7968718817474381,
          -0.3662810497855493,
          0.21266163663539278,
          -1.8416163883777148,
          -0.12319179592369105,
          0.774480973468789,
          0.8976609477531223,
          0.6949526224472554,
          1.7691805296285532,
          0.9196866646631141,
          -0.3023417351943868,
          0.29056767981216897,
          0.6012753066978929,
          0.4038649027424802,
          -0.8293653861413336,
          -0.019476033600365285,
          -0.727816231370272,
          -0.6742090976475391,
          0.18123835775841923,
          -0.79688415077298,
          1.1080406440536665,
          0.2989728996556223,
          1.3845570961714635,
          0.37729845513466287,
          1.1514234360584108,
          0.25109306633948025,
          -0.614434993250707,
          -0.5337002394709033,
          -0.15753474171281567,
          0.5611646743278362,
          -1.0343647157520817,
          -0.05712065783687775,
          1.23259078830519,
          -1.2667562285738472,
          2.361820754515749,
          0.49084852254653355,
          -1.8198029703126448,
          -0.4680149660077137,
          -0.2329414521079991,
          -0.7030555174837161,
          0.20610328583979282
         ],
         "yaxis": "y10"
        },
        {
         "histfunc": "count",
         "histnorm": "",
         "marker": {
          "color": "rgba(50, 171, 96, 1.0)",
          "line": {
           "color": "#4D5663",
           "width": 1.3
          }
         },
         "name": "C",
         "nbinsx": 10,
         "opacity": 0.8,
         "orientation": "v",
         "type": "histogram",
         "x": [
          -1.3738134386537695,
          -0.33154760866755245,
          0.5338145248192406,
          0.4608987226336679,
          -0.21379000029761472,
          0.9448939277523196,
          0.4707011571665421,
          0.04628699959826728,
          -0.7163093779094806,
          0.4931210474463861,
          1.3362590091556465,
          -0.07860391616473675,
          0.5597020938143775,
          -0.48180653488188785,
          -0.1313413311789289,
          -0.43681966271399725,
          -0.7163545344053858,
          -1.0161897607735326,
          -0.36162337846116493,
          2.1192219161583767,
          -1.6059299241357936,
          -0.1381797103031496,
          -0.49744272418647034,
          -0.7984874437044165,
          -0.947126401096751,
          1.0125591611126339,
          0.4358837709106574,
          -0.8508993990932405,
          1.7601510638739442,
          1.5750351009734351,
          -1.3256104510414441,
          0.36507549523854027,
          -0.7231408229663161,
          0.22093610131137742,
          0.2777049752403186,
          1.6241433617832146,
          0.9919500748761527,
          -0.3436788175157517,
          -1.720185888425874,
          -0.3921982028156328,
          0.6503583066579238,
          -0.9522043501268864,
          -1.8894452797345227,
          1.875277101018438,
          0.5265831171179596,
          -0.7463697207022431,
          1.039800466247709,
          0.19685289998248875,
          1.2021709373969434,
          -0.8893629192696274,
          0.870141257912497,
          -0.9728221610318893,
          0.7306351420566899,
          1.1459599080744383,
          -0.4226578328354158,
          1.3734464473889625,
          -0.7624814463266807,
          0.04640772065513277,
          0.23090422686206544,
          0.7968718817474381,
          -0.3662810497855493,
          0.21266163663539278,
          -1.8416163883777148,
          -0.12319179592369105,
          0.774480973468789,
          0.8976609477531223,
          0.6949526224472554,
          1.7691805296285532,
          0.9196866646631141,
          -0.3023417351943868,
          0.29056767981216897,
          0.6012753066978929,
          0.4038649027424802,
          -0.8293653861413336,
          -0.019476033600365285,
          -0.727816231370272,
          -0.6742090976475391,
          0.18123835775841923,
          -0.79688415077298,
          1.1080406440536665,
          0.2989728996556223,
          1.3845570961714635,
          0.37729845513466287,
          1.1514234360584108,
          0.25109306633948025,
          -0.614434993250707,
          -0.5337002394709033,
          -0.15753474171281567,
          0.5611646743278362,
          -1.0343647157520817,
          -0.05712065783687775,
          1.23259078830519,
          -1.2667562285738472,
          2.361820754515749,
          0.49084852254653355,
          -1.8198029703126448,
          -0.4680149660077137,
          -0.2329414521079991,
          -0.7030555174837161,
          0.20610328583979282
         ],
         "xaxis": "x11",
         "yaxis": "y11"
        },
        {
         "line": {
          "color": "rgba(128, 128, 128, 1.0)",
          "dash": "solid",
          "shape": "linear",
          "width": 1.3
         },
         "marker": {
          "size": 2,
          "symbol": "circle"
         },
         "mode": "markers",
         "name": "C",
         "text": "",
         "type": "scatter",
         "x": [
          -1.0274725670201772,
          0.023637141630294022,
          -0.6824539224652907,
          0.7837338968082365,
          -0.07515011823509951,
          -0.42474109547851946,
          0.36004344442679403,
          1.446332455349724,
          0.6984597804936339,
          -2.0397312351302626,
          -0.5852530197811215,
          -1.0824311933745308,
          -0.8892300716428412,
          -1.0347485391478328,
          0.08543080419684033,
          0.8233700926431783,
          -1.0562961518267304,
          0.8847165716521627,
          -1.4637554896680398,
          0.9837764941941648,
          -0.32506446058696786,
          -0.02042130674687286,
          0.19343827263995,
          0.6461387633945138,
          -1.388152425492673,
          -0.08302922794426768,
          -0.45260774938521403,
          -0.8643671748461371,
          0.11424733358234256,
          -0.9455713376127116,
          -0.4352320549495443,
          0.7402206090676967,
          -0.48327956282045426,
          -0.5052575721088608,
          -0.20299667963793916,
          -0.13868543659460902,
          0.947326634845561,
          -0.7647926431579081,
          0.5341058963908148,
          -1.0966526684306195,
          -1.3155046341681338,
          -1.6347877142513192,
          -0.6937473975894909,
          0.5308353491396521,
          0.22264325742784116,
          0.10762454278672558,
          -0.688089943495127,
          -0.6065239634776818,
          -1.52824722128094,
          1.2139420909104432,
          0.9665746839926376,
          -1.0876825710988056,
          1.1413802684777257,
          -0.8703918231086764,
          -1.7349297900937353,
          0.3712947088189332,
          -1.2758418349147609,
          -0.4931837358389391,
          -1.4100411439951597,
          -0.6848003520436998,
          -0.3059002269384813,
          0.4800427341027472,
          1.1731034925493258,
          -0.7782996342054381,
          0.38739853337616287,
          2.0024104123558946,
          0.42452404447982145,
          -0.23580793721112825,
          -1.4189983096220247,
          1.503825532336096,
          0.08606308255635453,
          0.13433282682706227,
          0.949110531919716,
          0.08909210895203123,
          -1.2154525066932849,
          -1.4522185560314114,
          -1.0018860152920797,
          2.0842344317741905,
          -0.849378054914496,
          0.0864244289884118,
          0.8822279908934498,
          0.4798270429641617,
          -0.839707415562348,
          1.5247859482529769,
          -1.6874032013441629,
          1.2449608163932362,
          -1.5782129308410158,
          0.8243621385608745,
          0.6180744947085115,
          -2.2229879540096045,
          -0.20277325856162157,
          -0.6892018729673994,
          -0.2353742304574779,
          1.014157729834675,
          0.6174554421452568,
          1.0540182742349078,
          -0.03767696275890132,
          0.25736092215867534,
          0.768449742273149,
          -0.48516684072979976
         ],
         "xaxis": "x12",
         "y": [
          -1.3738134386537695,
          -0.33154760866755245,
          0.5338145248192406,
          0.4608987226336679,
          -0.21379000029761472,
          0.9448939277523196,
          0.4707011571665421,
          0.04628699959826728,
          -0.7163093779094806,
          0.4931210474463861,
          1.3362590091556465,
          -0.07860391616473675,
          0.5597020938143775,
          -0.48180653488188785,
          -0.1313413311789289,
          -0.43681966271399725,
          -0.7163545344053858,
          -1.0161897607735326,
          -0.36162337846116493,
          2.1192219161583767,
          -1.6059299241357936,
          -0.1381797103031496,
          -0.49744272418647034,
          -0.7984874437044165,
          -0.947126401096751,
          1.0125591611126339,
          0.4358837709106574,
          -0.8508993990932405,
          1.7601510638739442,
          1.5750351009734351,
          -1.3256104510414441,
          0.36507549523854027,
          -0.7231408229663161,
          0.22093610131137742,
          0.2777049752403186,
          1.6241433617832146,
          0.9919500748761527,
          -0.3436788175157517,
          -1.720185888425874,
          -0.3921982028156328,
          0.6503583066579238,
          -0.9522043501268864,
          -1.8894452797345227,
          1.875277101018438,
          0.5265831171179596,
          -0.7463697207022431,
          1.039800466247709,
          0.19685289998248875,
          1.2021709373969434,
          -0.8893629192696274,
          0.870141257912497,
          -0.9728221610318893,
          0.7306351420566899,
          1.1459599080744383,
          -0.4226578328354158,
          1.3734464473889625,
          -0.7624814463266807,
          0.04640772065513277,
          0.23090422686206544,
          0.7968718817474381,
          -0.3662810497855493,
          0.21266163663539278,
          -1.8416163883777148,
          -0.12319179592369105,
          0.774480973468789,
          0.8976609477531223,
          0.6949526224472554,
          1.7691805296285532,
          0.9196866646631141,
          -0.3023417351943868,
          0.29056767981216897,
          0.6012753066978929,
          0.4038649027424802,
          -0.8293653861413336,
          -0.019476033600365285,
          -0.727816231370272,
          -0.6742090976475391,
          0.18123835775841923,
          -0.79688415077298,
          1.1080406440536665,
          0.2989728996556223,
          1.3845570961714635,
          0.37729845513466287,
          1.1514234360584108,
          0.25109306633948025,
          -0.614434993250707,
          -0.5337002394709033,
          -0.15753474171281567,
          0.5611646743278362,
          -1.0343647157520817,
          -0.05712065783687775,
          1.23259078830519,
          -1.2667562285738472,
          2.361820754515749,
          0.49084852254653355,
          -1.8198029703126448,
          -0.4680149660077137,
          -0.2329414521079991,
          -0.7030555174837161,
          0.20610328583979282
         ],
         "yaxis": "y12"
        },
        {
         "line": {
          "color": "rgba(128, 128, 128, 1.0)",
          "dash": "solid",
          "shape": "linear",
          "width": 1.3
         },
         "marker": {
          "size": 2,
          "symbol": "circle"
         },
         "mode": "markers",
         "name": "D",
         "text": "",
         "type": "scatter",
         "x": [
          -1.5355354192230586,
          -1.0527533192824858,
          1.0651922435485306,
          -0.3569392648813912,
          -1.2980144850988753,
          0.4979310577149322,
          0.5901952780313333,
          2.2774192822713237,
          -0.21876345827157676,
          -1.3349125647531113,
          -0.22055827664732808,
          0.7293643918751058,
          1.3259697709398004,
          -1.3720675861464693,
          1.7686765997019345,
          -0.21278705743547888,
          0.5621565488693779,
          -0.3792433474006059,
          -0.6750765094602391,
          -1.1845114394252805,
          -0.04649534177230828,
          1.1495256182501377,
          -0.41816004179319194,
          -1.0239481102629837,
          0.9946927964952956,
          0.6052416074897078,
          -1.9151632304247237,
          -0.3403894901650628,
          -0.4537997371869349,
          -0.7397293859495888,
          -0.9253789977904611,
          1.601930601973586,
          -1.4650826388661842,
          0.5270957520989601,
          -1.180253879455318,
          0.6850387941860184,
          -0.3678223463530502,
          -0.30500706501587305,
          -0.5542070516960862,
          -1.4312224043373811,
          -0.1848981571335127,
          0.6206299218949423,
          -1.0367501124402183,
          -1.0595095262876875,
          1.2105069014091077,
          0.5051738136010172,
          0.47177060342443633,
          -0.8144767662360516,
          0.11560223236678412,
          -1.8004185138809787,
          1.1576067690845295,
          0.5870612302887921,
          -1.2727449517938831,
          -0.3406361971233455,
          1.0983528236620699,
          0.49739189471308093,
          0.7647466281588152,
          2.1408660174962026,
          0.5061816115949632,
          0.120177007037446,
          -0.2712416900133294,
          -0.40368260942789297,
          -0.21235062677455707,
          0.9566608507041349,
          -0.592846919794081,
          0.9416099029137102,
          -0.13030336454300231,
          -0.4912598770441894,
          -0.0556549547985368,
          0.9901139892278719,
          -0.14111330498012714,
          -0.5733355116267539,
          -0.9446232149514938,
          1.4042766106007183,
          -0.7046212552212995,
          -0.3206051538056349,
          -0.4756918981281842,
          -1.2681053547018966,
          -0.47397096250784604,
          0.34213108483355736,
          -1.1842372349810686,
          -1.1458192389317712,
          -1.2557624556630214,
          1.5501458563898547,
          -0.08616993227352977,
          -0.06300453186192329,
          0.003078698431574541,
          0.35152717580520365,
          0.4241210560491202,
          -2.9474968859825985,
          -0.019618922077270073,
          1.7521003147708671,
          1.4658803481569689,
          0.7900509900134237,
          0.2829821582586573,
          -0.05612046663179397,
          0.10448201357335772,
          0.10872292715876054,
          -1.9192126781078032,
          -1.7708965409979374
         ],
         "xaxis": "x13",
         "y": [
          -1.0274725670201772,
          0.023637141630294022,
          -0.6824539224652907,
          0.7837338968082365,
          -0.07515011823509951,
          -0.42474109547851946,
          0.36004344442679403,
          1.446332455349724,
          0.6984597804936339,
          -2.0397312351302626,
          -0.5852530197811215,
          -1.0824311933745308,
          -0.8892300716428412,
          -1.0347485391478328,
          0.08543080419684033,
          0.8233700926431783,
          -1.0562961518267304,
          0.8847165716521627,
          -1.4637554896680398,
          0.9837764941941648,
          -0.32506446058696786,
          -0.02042130674687286,
          0.19343827263995,
          0.6461387633945138,
          -1.388152425492673,
          -0.08302922794426768,
          -0.45260774938521403,
          -0.8643671748461371,
          0.11424733358234256,
          -0.9455713376127116,
          -0.4352320549495443,
          0.7402206090676967,
          -0.48327956282045426,
          -0.5052575721088608,
          -0.20299667963793916,
          -0.13868543659460902,
          0.947326634845561,
          -0.7647926431579081,
          0.5341058963908148,
          -1.0966526684306195,
          -1.3155046341681338,
          -1.6347877142513192,
          -0.6937473975894909,
          0.5308353491396521,
          0.22264325742784116,
          0.10762454278672558,
          -0.688089943495127,
          -0.6065239634776818,
          -1.52824722128094,
          1.2139420909104432,
          0.9665746839926376,
          -1.0876825710988056,
          1.1413802684777257,
          -0.8703918231086764,
          -1.7349297900937353,
          0.3712947088189332,
          -1.2758418349147609,
          -0.4931837358389391,
          -1.4100411439951597,
          -0.6848003520436998,
          -0.3059002269384813,
          0.4800427341027472,
          1.1731034925493258,
          -0.7782996342054381,
          0.38739853337616287,
          2.0024104123558946,
          0.42452404447982145,
          -0.23580793721112825,
          -1.4189983096220247,
          1.503825532336096,
          0.08606308255635453,
          0.13433282682706227,
          0.949110531919716,
          0.08909210895203123,
          -1.2154525066932849,
          -1.4522185560314114,
          -1.0018860152920797,
          2.0842344317741905,
          -0.849378054914496,
          0.0864244289884118,
          0.8822279908934498,
          0.4798270429641617,
          -0.839707415562348,
          1.5247859482529769,
          -1.6874032013441629,
          1.2449608163932362,
          -1.5782129308410158,
          0.8243621385608745,
          0.6180744947085115,
          -2.2229879540096045,
          -0.20277325856162157,
          -0.6892018729673994,
          -0.2353742304574779,
          1.014157729834675,
          0.6174554421452568,
          1.0540182742349078,
          -0.03767696275890132,
          0.25736092215867534,
          0.768449742273149,
          -0.48516684072979976
         ],
         "yaxis": "y13"
        },
        {
         "line": {
          "color": "rgba(128, 128, 128, 1.0)",
          "dash": "solid",
          "shape": "linear",
          "width": 1.3
         },
         "marker": {
          "size": 2,
          "symbol": "circle"
         },
         "mode": "markers",
         "name": "D",
         "text": "",
         "type": "scatter",
         "x": [
          0.44735427314727433,
          -0.7508676450145815,
          0.18480434357317638,
          1.036858322212885,
          -1.043241632500722,
          -0.8413278507817418,
          0.6558618794274739,
          0.5547624862355806,
          0.6951192553620779,
          1.2726390156513538,
          -1.0680701829108734,
          1.2342808921384112,
          -1.1770818873863,
          -0.05976217213720838,
          0.9628980396633287,
          -0.8901404178495665,
          -1.1149508423060148,
          -2.019268938013942,
          0.4045080210400765,
          0.9774315118014983,
          0.8823158393243271,
          -0.043892028650077755,
          -2.316995693382531,
          0.4824470912200743,
          0.6564093759271757,
          -0.3101323506764711,
          0.629675064442062,
          -0.01929264505742492,
          -0.5956332881663199,
          -0.37341864927398605,
          -0.3955603284516065,
          -0.43505004152181065,
          0.5351401117646758,
          -0.1026937541843101,
          1.4395671391316562,
          -0.8599186484811995,
          0.6694451179627202,
          1.1286626566501965,
          2.063900225407397,
          -0.9295699324300545,
          0.17986704216835986,
          -0.5912237439296492,
          0.10630993675686522,
          -0.812945654755612,
          -0.34896555934775925,
          -0.553821590107099,
          0.6948002006257248,
          0.24073423241409353,
          0.3534901314589533,
          0.4686033082769145,
          -0.31373165877423215,
          -0.7114395884089332,
          -0.6409387157834656,
          0.4500016803540507,
          0.21711326404288983,
          -0.018069262949005942,
          0.6533802428552622,
          2.7828377337588623,
          1.5427776839709029,
          -0.1368525036344999,
          1.157314574619203,
          0.08968142121865062,
          1.0250856504271342,
          -1.9498605017780728,
          0.14600612105419417,
          1.3459243558586542,
          2.06593462275695,
          0.42818100775719403,
          1.3838953490438173,
          0.4734834155141974,
          -1.011243590326672,
          0.11941076540907923,
          0.4210363473429892,
          -1.480006232120809,
          1.8917742903441508,
          0.6887241945908786,
          1.5305407582805401,
          1.8528719094913844,
          2.0161692177771444,
          -0.49914963074557095,
          0.006967052436891432,
          -0.6449582167389107,
          -0.012249603523494667,
          0.5460881067575699,
          -0.10795163655635079,
          -2.37755617157348,
          -0.684219199300508,
          -1.242862178273611,
          2.153969226489427,
          -0.24502072610151426,
          0.8046263790364315,
          0.5406306107809049,
          -0.033216951156400706,
          -0.43847955592322213,
          -0.7124046913765233,
          -2.0170961431160714,
          0.6618154709573927,
          1.2054316613067024,
          -1.7938465004014814,
          -0.23658857048597437
         ],
         "xaxis": "x14",
         "y": [
          -1.0274725670201772,
          0.023637141630294022,
          -0.6824539224652907,
          0.7837338968082365,
          -0.07515011823509951,
          -0.42474109547851946,
          0.36004344442679403,
          1.446332455349724,
          0.6984597804936339,
          -2.0397312351302626,
          -0.5852530197811215,
          -1.0824311933745308,
          -0.8892300716428412,
          -1.0347485391478328,
          0.08543080419684033,
          0.8233700926431783,
          -1.0562961518267304,
          0.8847165716521627,
          -1.4637554896680398,
          0.9837764941941648,
          -0.32506446058696786,
          -0.02042130674687286,
          0.19343827263995,
          0.6461387633945138,
          -1.388152425492673,
          -0.08302922794426768,
          -0.45260774938521403,
          -0.8643671748461371,
          0.11424733358234256,
          -0.9455713376127116,
          -0.4352320549495443,
          0.7402206090676967,
          -0.48327956282045426,
          -0.5052575721088608,
          -0.20299667963793916,
          -0.13868543659460902,
          0.947326634845561,
          -0.7647926431579081,
          0.5341058963908148,
          -1.0966526684306195,
          -1.3155046341681338,
          -1.6347877142513192,
          -0.6937473975894909,
          0.5308353491396521,
          0.22264325742784116,
          0.10762454278672558,
          -0.688089943495127,
          -0.6065239634776818,
          -1.52824722128094,
          1.2139420909104432,
          0.9665746839926376,
          -1.0876825710988056,
          1.1413802684777257,
          -0.8703918231086764,
          -1.7349297900937353,
          0.3712947088189332,
          -1.2758418349147609,
          -0.4931837358389391,
          -1.4100411439951597,
          -0.6848003520436998,
          -0.3059002269384813,
          0.4800427341027472,
          1.1731034925493258,
          -0.7782996342054381,
          0.38739853337616287,
          2.0024104123558946,
          0.42452404447982145,
          -0.23580793721112825,
          -1.4189983096220247,
          1.503825532336096,
          0.08606308255635453,
          0.13433282682706227,
          0.949110531919716,
          0.08909210895203123,
          -1.2154525066932849,
          -1.4522185560314114,
          -1.0018860152920797,
          2.0842344317741905,
          -0.849378054914496,
          0.0864244289884118,
          0.8822279908934498,
          0.4798270429641617,
          -0.839707415562348,
          1.5247859482529769,
          -1.6874032013441629,
          1.2449608163932362,
          -1.5782129308410158,
          0.8243621385608745,
          0.6180744947085115,
          -2.2229879540096045,
          -0.20277325856162157,
          -0.6892018729673994,
          -0.2353742304574779,
          1.014157729834675,
          0.6174554421452568,
          1.0540182742349078,
          -0.03767696275890132,
          0.25736092215867534,
          0.768449742273149,
          -0.48516684072979976
         ],
         "yaxis": "y14"
        },
        {
         "line": {
          "color": "rgba(128, 128, 128, 1.0)",
          "dash": "solid",
          "shape": "linear",
          "width": 1.3
         },
         "marker": {
          "size": 2,
          "symbol": "circle"
         },
         "mode": "markers",
         "name": "D",
         "text": "",
         "type": "scatter",
         "x": [
          -1.3738134386537695,
          -0.33154760866755245,
          0.5338145248192406,
          0.4608987226336679,
          -0.21379000029761472,
          0.9448939277523196,
          0.4707011571665421,
          0.04628699959826728,
          -0.7163093779094806,
          0.4931210474463861,
          1.3362590091556465,
          -0.07860391616473675,
          0.5597020938143775,
          -0.48180653488188785,
          -0.1313413311789289,
          -0.43681966271399725,
          -0.7163545344053858,
          -1.0161897607735326,
          -0.36162337846116493,
          2.1192219161583767,
          -1.6059299241357936,
          -0.1381797103031496,
          -0.49744272418647034,
          -0.7984874437044165,
          -0.947126401096751,
          1.0125591611126339,
          0.4358837709106574,
          -0.8508993990932405,
          1.7601510638739442,
          1.5750351009734351,
          -1.3256104510414441,
          0.36507549523854027,
          -0.7231408229663161,
          0.22093610131137742,
          0.2777049752403186,
          1.6241433617832146,
          0.9919500748761527,
          -0.3436788175157517,
          -1.720185888425874,
          -0.3921982028156328,
          0.6503583066579238,
          -0.9522043501268864,
          -1.8894452797345227,
          1.875277101018438,
          0.5265831171179596,
          -0.7463697207022431,
          1.039800466247709,
          0.19685289998248875,
          1.2021709373969434,
          -0.8893629192696274,
          0.870141257912497,
          -0.9728221610318893,
          0.7306351420566899,
          1.1459599080744383,
          -0.4226578328354158,
          1.3734464473889625,
          -0.7624814463266807,
          0.04640772065513277,
          0.23090422686206544,
          0.7968718817474381,
          -0.3662810497855493,
          0.21266163663539278,
          -1.8416163883777148,
          -0.12319179592369105,
          0.774480973468789,
          0.8976609477531223,
          0.6949526224472554,
          1.7691805296285532,
          0.9196866646631141,
          -0.3023417351943868,
          0.29056767981216897,
          0.6012753066978929,
          0.4038649027424802,
          -0.8293653861413336,
          -0.019476033600365285,
          -0.727816231370272,
          -0.6742090976475391,
          0.18123835775841923,
          -0.79688415077298,
          1.1080406440536665,
          0.2989728996556223,
          1.3845570961714635,
          0.37729845513466287,
          1.1514234360584108,
          0.25109306633948025,
          -0.614434993250707,
          -0.5337002394709033,
          -0.15753474171281567,
          0.5611646743278362,
          -1.0343647157520817,
          -0.05712065783687775,
          1.23259078830519,
          -1.2667562285738472,
          2.361820754515749,
          0.49084852254653355,
          -1.8198029703126448,
          -0.4680149660077137,
          -0.2329414521079991,
          -0.7030555174837161,
          0.20610328583979282
         ],
         "xaxis": "x15",
         "y": [
          -1.0274725670201772,
          0.023637141630294022,
          -0.6824539224652907,
          0.7837338968082365,
          -0.07515011823509951,
          -0.42474109547851946,
          0.36004344442679403,
          1.446332455349724,
          0.6984597804936339,
          -2.0397312351302626,
          -0.5852530197811215,
          -1.0824311933745308,
          -0.8892300716428412,
          -1.0347485391478328,
          0.08543080419684033,
          0.8233700926431783,
          -1.0562961518267304,
          0.8847165716521627,
          -1.4637554896680398,
          0.9837764941941648,
          -0.32506446058696786,
          -0.02042130674687286,
          0.19343827263995,
          0.6461387633945138,
          -1.388152425492673,
          -0.08302922794426768,
          -0.45260774938521403,
          -0.8643671748461371,
          0.11424733358234256,
          -0.9455713376127116,
          -0.4352320549495443,
          0.7402206090676967,
          -0.48327956282045426,
          -0.5052575721088608,
          -0.20299667963793916,
          -0.13868543659460902,
          0.947326634845561,
          -0.7647926431579081,
          0.5341058963908148,
          -1.0966526684306195,
          -1.3155046341681338,
          -1.6347877142513192,
          -0.6937473975894909,
          0.5308353491396521,
          0.22264325742784116,
          0.10762454278672558,
          -0.688089943495127,
          -0.6065239634776818,
          -1.52824722128094,
          1.2139420909104432,
          0.9665746839926376,
          -1.0876825710988056,
          1.1413802684777257,
          -0.8703918231086764,
          -1.7349297900937353,
          0.3712947088189332,
          -1.2758418349147609,
          -0.4931837358389391,
          -1.4100411439951597,
          -0.6848003520436998,
          -0.3059002269384813,
          0.4800427341027472,
          1.1731034925493258,
          -0.7782996342054381,
          0.38739853337616287,
          2.0024104123558946,
          0.42452404447982145,
          -0.23580793721112825,
          -1.4189983096220247,
          1.503825532336096,
          0.08606308255635453,
          0.13433282682706227,
          0.949110531919716,
          0.08909210895203123,
          -1.2154525066932849,
          -1.4522185560314114,
          -1.0018860152920797,
          2.0842344317741905,
          -0.849378054914496,
          0.0864244289884118,
          0.8822279908934498,
          0.4798270429641617,
          -0.839707415562348,
          1.5247859482529769,
          -1.6874032013441629,
          1.2449608163932362,
          -1.5782129308410158,
          0.8243621385608745,
          0.6180744947085115,
          -2.2229879540096045,
          -0.20277325856162157,
          -0.6892018729673994,
          -0.2353742304574779,
          1.014157729834675,
          0.6174554421452568,
          1.0540182742349078,
          -0.03767696275890132,
          0.25736092215867534,
          0.768449742273149,
          -0.48516684072979976
         ],
         "yaxis": "y15"
        },
        {
         "histfunc": "count",
         "histnorm": "",
         "marker": {
          "color": "rgba(128, 0, 128, 1.0)",
          "line": {
           "color": "#4D5663",
           "width": 1.3
          }
         },
         "name": "D",
         "nbinsx": 10,
         "opacity": 0.8,
         "orientation": "v",
         "type": "histogram",
         "x": [
          -1.0274725670201772,
          0.023637141630294022,
          -0.6824539224652907,
          0.7837338968082365,
          -0.07515011823509951,
          -0.42474109547851946,
          0.36004344442679403,
          1.446332455349724,
          0.6984597804936339,
          -2.0397312351302626,
          -0.5852530197811215,
          -1.0824311933745308,
          -0.8892300716428412,
          -1.0347485391478328,
          0.08543080419684033,
          0.8233700926431783,
          -1.0562961518267304,
          0.8847165716521627,
          -1.4637554896680398,
          0.9837764941941648,
          -0.32506446058696786,
          -0.02042130674687286,
          0.19343827263995,
          0.6461387633945138,
          -1.388152425492673,
          -0.08302922794426768,
          -0.45260774938521403,
          -0.8643671748461371,
          0.11424733358234256,
          -0.9455713376127116,
          -0.4352320549495443,
          0.7402206090676967,
          -0.48327956282045426,
          -0.5052575721088608,
          -0.20299667963793916,
          -0.13868543659460902,
          0.947326634845561,
          -0.7647926431579081,
          0.5341058963908148,
          -1.0966526684306195,
          -1.3155046341681338,
          -1.6347877142513192,
          -0.6937473975894909,
          0.5308353491396521,
          0.22264325742784116,
          0.10762454278672558,
          -0.688089943495127,
          -0.6065239634776818,
          -1.52824722128094,
          1.2139420909104432,
          0.9665746839926376,
          -1.0876825710988056,
          1.1413802684777257,
          -0.8703918231086764,
          -1.7349297900937353,
          0.3712947088189332,
          -1.2758418349147609,
          -0.4931837358389391,
          -1.4100411439951597,
          -0.6848003520436998,
          -0.3059002269384813,
          0.4800427341027472,
          1.1731034925493258,
          -0.7782996342054381,
          0.38739853337616287,
          2.0024104123558946,
          0.42452404447982145,
          -0.23580793721112825,
          -1.4189983096220247,
          1.503825532336096,
          0.08606308255635453,
          0.13433282682706227,
          0.949110531919716,
          0.08909210895203123,
          -1.2154525066932849,
          -1.4522185560314114,
          -1.0018860152920797,
          2.0842344317741905,
          -0.849378054914496,
          0.0864244289884118,
          0.8822279908934498,
          0.4798270429641617,
          -0.839707415562348,
          1.5247859482529769,
          -1.6874032013441629,
          1.2449608163932362,
          -1.5782129308410158,
          0.8243621385608745,
          0.6180744947085115,
          -2.2229879540096045,
          -0.20277325856162157,
          -0.6892018729673994,
          -0.2353742304574779,
          1.014157729834675,
          0.6174554421452568,
          1.0540182742349078,
          -0.03767696275890132,
          0.25736092215867534,
          0.768449742273149,
          -0.48516684072979976
         ],
         "xaxis": "x16",
         "yaxis": "y16"
        }
       ],
       "layout": {
        "bargap": 0.02,
        "legend": {
         "bgcolor": "#F5F6F9",
         "font": {
          "color": "#4D5663"
         }
        },
        "paper_bgcolor": "#F5F6F9",
        "plot_bgcolor": "#F5F6F9",
        "showlegend": false,
        "template": {
         "data": {
          "bar": [
           {
            "error_x": {
             "color": "#2a3f5f"
            },
            "error_y": {
             "color": "#2a3f5f"
            },
            "marker": {
             "line": {
              "color": "#E5ECF6",
              "width": 0.5
             }
            },
            "type": "bar"
           }
          ],
          "barpolar": [
           {
            "marker": {
             "line": {
              "color": "#E5ECF6",
              "width": 0.5
             }
            },
            "type": "barpolar"
           }
          ],
          "carpet": [
           {
            "aaxis": {
             "endlinecolor": "#2a3f5f",
             "gridcolor": "white",
             "linecolor": "white",
             "minorgridcolor": "white",
             "startlinecolor": "#2a3f5f"
            },
            "baxis": {
             "endlinecolor": "#2a3f5f",
             "gridcolor": "white",
             "linecolor": "white",
             "minorgridcolor": "white",
             "startlinecolor": "#2a3f5f"
            },
            "type": "carpet"
           }
          ],
          "choropleth": [
           {
            "colorbar": {
             "outlinewidth": 0,
             "ticks": ""
            },
            "type": "choropleth"
           }
          ],
          "contour": [
           {
            "colorbar": {
             "outlinewidth": 0,
             "ticks": ""
            },
            "colorscale": [
             [
              0,
              "#0d0887"
             ],
             [
              0.1111111111111111,
              "#46039f"
             ],
             [
              0.2222222222222222,
              "#7201a8"
             ],
             [
              0.3333333333333333,
              "#9c179e"
             ],
             [
              0.4444444444444444,
              "#bd3786"
             ],
             [
              0.5555555555555556,
              "#d8576b"
             ],
             [
              0.6666666666666666,
              "#ed7953"
             ],
             [
              0.7777777777777778,
              "#fb9f3a"
             ],
             [
              0.8888888888888888,
              "#fdca26"
             ],
             [
              1,
              "#f0f921"
             ]
            ],
            "type": "contour"
           }
          ],
          "contourcarpet": [
           {
            "colorbar": {
             "outlinewidth": 0,
             "ticks": ""
            },
            "type": "contourcarpet"
           }
          ],
          "heatmap": [
           {
            "colorbar": {
             "outlinewidth": 0,
             "ticks": ""
            },
            "colorscale": [
             [
              0,
              "#0d0887"
             ],
             [
              0.1111111111111111,
              "#46039f"
             ],
             [
              0.2222222222222222,
              "#7201a8"
             ],
             [
              0.3333333333333333,
              "#9c179e"
             ],
             [
              0.4444444444444444,
              "#bd3786"
             ],
             [
              0.5555555555555556,
              "#d8576b"
             ],
             [
              0.6666666666666666,
              "#ed7953"
             ],
             [
              0.7777777777777778,
              "#fb9f3a"
             ],
             [
              0.8888888888888888,
              "#fdca26"
             ],
             [
              1,
              "#f0f921"
             ]
            ],
            "type": "heatmap"
           }
          ],
          "heatmapgl": [
           {
            "colorbar": {
             "outlinewidth": 0,
             "ticks": ""
            },
            "colorscale": [
             [
              0,
              "#0d0887"
             ],
             [
              0.1111111111111111,
              "#46039f"
             ],
             [
              0.2222222222222222,
              "#7201a8"
             ],
             [
              0.3333333333333333,
              "#9c179e"
             ],
             [
              0.4444444444444444,
              "#bd3786"
             ],
             [
              0.5555555555555556,
              "#d8576b"
             ],
             [
              0.6666666666666666,
              "#ed7953"
             ],
             [
              0.7777777777777778,
              "#fb9f3a"
             ],
             [
              0.8888888888888888,
              "#fdca26"
             ],
             [
              1,
              "#f0f921"
             ]
            ],
            "type": "heatmapgl"
           }
          ],
          "histogram": [
           {
            "marker": {
             "colorbar": {
              "outlinewidth": 0,
              "ticks": ""
             }
            },
            "type": "histogram"
           }
          ],
          "histogram2d": [
           {
            "colorbar": {
             "outlinewidth": 0,
             "ticks": ""
            },
            "colorscale": [
             [
              0,
              "#0d0887"
             ],
             [
              0.1111111111111111,
              "#46039f"
             ],
             [
              0.2222222222222222,
              "#7201a8"
             ],
             [
              0.3333333333333333,
              "#9c179e"
             ],
             [
              0.4444444444444444,
              "#bd3786"
             ],
             [
              0.5555555555555556,
              "#d8576b"
             ],
             [
              0.6666666666666666,
              "#ed7953"
             ],
             [
              0.7777777777777778,
              "#fb9f3a"
             ],
             [
              0.8888888888888888,
              "#fdca26"
             ],
             [
              1,
              "#f0f921"
             ]
            ],
            "type": "histogram2d"
           }
          ],
          "histogram2dcontour": [
           {
            "colorbar": {
             "outlinewidth": 0,
             "ticks": ""
            },
            "colorscale": [
             [
              0,
              "#0d0887"
             ],
             [
              0.1111111111111111,
              "#46039f"
             ],
             [
              0.2222222222222222,
              "#7201a8"
             ],
             [
              0.3333333333333333,
              "#9c179e"
             ],
             [
              0.4444444444444444,
              "#bd3786"
             ],
             [
              0.5555555555555556,
              "#d8576b"
             ],
             [
              0.6666666666666666,
              "#ed7953"
             ],
             [
              0.7777777777777778,
              "#fb9f3a"
             ],
             [
              0.8888888888888888,
              "#fdca26"
             ],
             [
              1,
              "#f0f921"
             ]
            ],
            "type": "histogram2dcontour"
           }
          ],
          "mesh3d": [
           {
            "colorbar": {
             "outlinewidth": 0,
             "ticks": ""
            },
            "type": "mesh3d"
           }
          ],
          "parcoords": [
           {
            "line": {
             "colorbar": {
              "outlinewidth": 0,
              "ticks": ""
             }
            },
            "type": "parcoords"
           }
          ],
          "pie": [
           {
            "automargin": true,
            "type": "pie"
           }
          ],
          "scatter": [
           {
            "marker": {
             "colorbar": {
              "outlinewidth": 0,
              "ticks": ""
             }
            },
            "type": "scatter"
           }
          ],
          "scatter3d": [
           {
            "line": {
             "colorbar": {
              "outlinewidth": 0,
              "ticks": ""
             }
            },
            "marker": {
             "colorbar": {
              "outlinewidth": 0,
              "ticks": ""
             }
            },
            "type": "scatter3d"
           }
          ],
          "scattercarpet": [
           {
            "marker": {
             "colorbar": {
              "outlinewidth": 0,
              "ticks": ""
             }
            },
            "type": "scattercarpet"
           }
          ],
          "scattergeo": [
           {
            "marker": {
             "colorbar": {
              "outlinewidth": 0,
              "ticks": ""
             }
            },
            "type": "scattergeo"
           }
          ],
          "scattergl": [
           {
            "marker": {
             "colorbar": {
              "outlinewidth": 0,
              "ticks": ""
             }
            },
            "type": "scattergl"
           }
          ],
          "scattermapbox": [
           {
            "marker": {
             "colorbar": {
              "outlinewidth": 0,
              "ticks": ""
             }
            },
            "type": "scattermapbox"
           }
          ],
          "scatterpolar": [
           {
            "marker": {
             "colorbar": {
              "outlinewidth": 0,
              "ticks": ""
             }
            },
            "type": "scatterpolar"
           }
          ],
          "scatterpolargl": [
           {
            "marker": {
             "colorbar": {
              "outlinewidth": 0,
              "ticks": ""
             }
            },
            "type": "scatterpolargl"
           }
          ],
          "scatterternary": [
           {
            "marker": {
             "colorbar": {
              "outlinewidth": 0,
              "ticks": ""
             }
            },
            "type": "scatterternary"
           }
          ],
          "surface": [
           {
            "colorbar": {
             "outlinewidth": 0,
             "ticks": ""
            },
            "colorscale": [
             [
              0,
              "#0d0887"
             ],
             [
              0.1111111111111111,
              "#46039f"
             ],
             [
              0.2222222222222222,
              "#7201a8"
             ],
             [
              0.3333333333333333,
              "#9c179e"
             ],
             [
              0.4444444444444444,
              "#bd3786"
             ],
             [
              0.5555555555555556,
              "#d8576b"
             ],
             [
              0.6666666666666666,
              "#ed7953"
             ],
             [
              0.7777777777777778,
              "#fb9f3a"
             ],
             [
              0.8888888888888888,
              "#fdca26"
             ],
             [
              1,
              "#f0f921"
             ]
            ],
            "type": "surface"
           }
          ],
          "table": [
           {
            "cells": {
             "fill": {
              "color": "#EBF0F8"
             },
             "line": {
              "color": "white"
             }
            },
            "header": {
             "fill": {
              "color": "#C8D4E3"
             },
             "line": {
              "color": "white"
             }
            },
            "type": "table"
           }
          ]
         },
         "layout": {
          "annotationdefaults": {
           "arrowcolor": "#2a3f5f",
           "arrowhead": 0,
           "arrowwidth": 1
          },
          "coloraxis": {
           "colorbar": {
            "outlinewidth": 0,
            "ticks": ""
           }
          },
          "colorscale": {
           "diverging": [
            [
             0,
             "#8e0152"
            ],
            [
             0.1,
             "#c51b7d"
            ],
            [
             0.2,
             "#de77ae"
            ],
            [
             0.3,
             "#f1b6da"
            ],
            [
             0.4,
             "#fde0ef"
            ],
            [
             0.5,
             "#f7f7f7"
            ],
            [
             0.6,
             "#e6f5d0"
            ],
            [
             0.7,
             "#b8e186"
            ],
            [
             0.8,
             "#7fbc41"
            ],
            [
             0.9,
             "#4d9221"
            ],
            [
             1,
             "#276419"
            ]
           ],
           "sequential": [
            [
             0,
             "#0d0887"
            ],
            [
             0.1111111111111111,
             "#46039f"
            ],
            [
             0.2222222222222222,
             "#7201a8"
            ],
            [
             0.3333333333333333,
             "#9c179e"
            ],
            [
             0.4444444444444444,
             "#bd3786"
            ],
            [
             0.5555555555555556,
             "#d8576b"
            ],
            [
             0.6666666666666666,
             "#ed7953"
            ],
            [
             0.7777777777777778,
             "#fb9f3a"
            ],
            [
             0.8888888888888888,
             "#fdca26"
            ],
            [
             1,
             "#f0f921"
            ]
           ],
           "sequentialminus": [
            [
             0,
             "#0d0887"
            ],
            [
             0.1111111111111111,
             "#46039f"
            ],
            [
             0.2222222222222222,
             "#7201a8"
            ],
            [
             0.3333333333333333,
             "#9c179e"
            ],
            [
             0.4444444444444444,
             "#bd3786"
            ],
            [
             0.5555555555555556,
             "#d8576b"
            ],
            [
             0.6666666666666666,
             "#ed7953"
            ],
            [
             0.7777777777777778,
             "#fb9f3a"
            ],
            [
             0.8888888888888888,
             "#fdca26"
            ],
            [
             1,
             "#f0f921"
            ]
           ]
          },
          "colorway": [
           "#636efa",
           "#EF553B",
           "#00cc96",
           "#ab63fa",
           "#FFA15A",
           "#19d3f3",
           "#FF6692",
           "#B6E880",
           "#FF97FF",
           "#FECB52"
          ],
          "font": {
           "color": "#2a3f5f"
          },
          "geo": {
           "bgcolor": "white",
           "lakecolor": "white",
           "landcolor": "#E5ECF6",
           "showlakes": true,
           "showland": true,
           "subunitcolor": "white"
          },
          "hoverlabel": {
           "align": "left"
          },
          "hovermode": "closest",
          "mapbox": {
           "style": "light"
          },
          "paper_bgcolor": "white",
          "plot_bgcolor": "#E5ECF6",
          "polar": {
           "angularaxis": {
            "gridcolor": "white",
            "linecolor": "white",
            "ticks": ""
           },
           "bgcolor": "#E5ECF6",
           "radialaxis": {
            "gridcolor": "white",
            "linecolor": "white",
            "ticks": ""
           }
          },
          "scene": {
           "xaxis": {
            "backgroundcolor": "#E5ECF6",
            "gridcolor": "white",
            "gridwidth": 2,
            "linecolor": "white",
            "showbackground": true,
            "ticks": "",
            "zerolinecolor": "white"
           },
           "yaxis": {
            "backgroundcolor": "#E5ECF6",
            "gridcolor": "white",
            "gridwidth": 2,
            "linecolor": "white",
            "showbackground": true,
            "ticks": "",
            "zerolinecolor": "white"
           },
           "zaxis": {
            "backgroundcolor": "#E5ECF6",
            "gridcolor": "white",
            "gridwidth": 2,
            "linecolor": "white",
            "showbackground": true,
            "ticks": "",
            "zerolinecolor": "white"
           }
          },
          "shapedefaults": {
           "line": {
            "color": "#2a3f5f"
           }
          },
          "ternary": {
           "aaxis": {
            "gridcolor": "white",
            "linecolor": "white",
            "ticks": ""
           },
           "baxis": {
            "gridcolor": "white",
            "linecolor": "white",
            "ticks": ""
           },
           "bgcolor": "#E5ECF6",
           "caxis": {
            "gridcolor": "white",
            "linecolor": "white",
            "ticks": ""
           }
          },
          "title": {
           "x": 0.05
          },
          "xaxis": {
           "automargin": true,
           "gridcolor": "white",
           "linecolor": "white",
           "ticks": "",
           "title": {
            "standoff": 15
           },
           "zerolinecolor": "white",
           "zerolinewidth": 2
          },
          "yaxis": {
           "automargin": true,
           "gridcolor": "white",
           "linecolor": "white",
           "ticks": "",
           "title": {
            "standoff": 15
           },
           "zerolinecolor": "white",
           "zerolinewidth": 2
          }
         }
        },
        "title": {
         "font": {
          "color": "#4D5663"
         }
        },
        "xaxis": {
         "anchor": "y",
         "domain": [
          0,
          0.2125
         ],
         "gridcolor": "#E1E5ED",
         "showgrid": false,
         "tickfont": {
          "color": "#4D5663"
         },
         "title": {
          "font": {
           "color": "#4D5663"
          },
          "text": ""
         },
         "zerolinecolor": "#E1E5ED"
        },
        "xaxis10": {
         "anchor": "y10",
         "domain": [
          0.2625,
          0.475
         ],
         "gridcolor": "#E1E5ED",
         "showgrid": false,
         "tickfont": {
          "color": "#4D5663"
         },
         "title": {
          "font": {
           "color": "#4D5663"
          },
          "text": ""
         },
         "zerolinecolor": "#E1E5ED"
        },
        "xaxis11": {
         "anchor": "y11",
         "domain": [
          0.525,
          0.7375
         ],
         "gridcolor": "#E1E5ED",
         "showgrid": false,
         "tickfont": {
          "color": "#4D5663"
         },
         "title": {
          "font": {
           "color": "#4D5663"
          },
          "text": ""
         },
         "zerolinecolor": "#E1E5ED"
        },
        "xaxis12": {
         "anchor": "y12",
         "domain": [
          0.7875,
          1
         ],
         "gridcolor": "#E1E5ED",
         "showgrid": false,
         "tickfont": {
          "color": "#4D5663"
         },
         "title": {
          "font": {
           "color": "#4D5663"
          },
          "text": ""
         },
         "zerolinecolor": "#E1E5ED"
        },
        "xaxis13": {
         "anchor": "y13",
         "domain": [
          0,
          0.2125
         ],
         "gridcolor": "#E1E5ED",
         "showgrid": false,
         "tickfont": {
          "color": "#4D5663"
         },
         "title": {
          "font": {
           "color": "#4D5663"
          },
          "text": ""
         },
         "zerolinecolor": "#E1E5ED"
        },
        "xaxis14": {
         "anchor": "y14",
         "domain": [
          0.2625,
          0.475
         ],
         "gridcolor": "#E1E5ED",
         "showgrid": false,
         "tickfont": {
          "color": "#4D5663"
         },
         "title": {
          "font": {
           "color": "#4D5663"
          },
          "text": ""
         },
         "zerolinecolor": "#E1E5ED"
        },
        "xaxis15": {
         "anchor": "y15",
         "domain": [
          0.525,
          0.7375
         ],
         "gridcolor": "#E1E5ED",
         "showgrid": false,
         "tickfont": {
          "color": "#4D5663"
         },
         "title": {
          "font": {
           "color": "#4D5663"
          },
          "text": ""
         },
         "zerolinecolor": "#E1E5ED"
        },
        "xaxis16": {
         "anchor": "y16",
         "domain": [
          0.7875,
          1
         ],
         "gridcolor": "#E1E5ED",
         "showgrid": false,
         "tickfont": {
          "color": "#4D5663"
         },
         "title": {
          "font": {
           "color": "#4D5663"
          },
          "text": ""
         },
         "zerolinecolor": "#E1E5ED"
        },
        "xaxis2": {
         "anchor": "y2",
         "domain": [
          0.2625,
          0.475
         ],
         "gridcolor": "#E1E5ED",
         "showgrid": false,
         "tickfont": {
          "color": "#4D5663"
         },
         "title": {
          "font": {
           "color": "#4D5663"
          },
          "text": ""
         },
         "zerolinecolor": "#E1E5ED"
        },
        "xaxis3": {
         "anchor": "y3",
         "domain": [
          0.525,
          0.7375
         ],
         "gridcolor": "#E1E5ED",
         "showgrid": false,
         "tickfont": {
          "color": "#4D5663"
         },
         "title": {
          "font": {
           "color": "#4D5663"
          },
          "text": ""
         },
         "zerolinecolor": "#E1E5ED"
        },
        "xaxis4": {
         "anchor": "y4",
         "domain": [
          0.7875,
          1
         ],
         "gridcolor": "#E1E5ED",
         "showgrid": false,
         "tickfont": {
          "color": "#4D5663"
         },
         "title": {
          "font": {
           "color": "#4D5663"
          },
          "text": ""
         },
         "zerolinecolor": "#E1E5ED"
        },
        "xaxis5": {
         "anchor": "y5",
         "domain": [
          0,
          0.2125
         ],
         "gridcolor": "#E1E5ED",
         "showgrid": false,
         "tickfont": {
          "color": "#4D5663"
         },
         "title": {
          "font": {
           "color": "#4D5663"
          },
          "text": ""
         },
         "zerolinecolor": "#E1E5ED"
        },
        "xaxis6": {
         "anchor": "y6",
         "domain": [
          0.2625,
          0.475
         ],
         "gridcolor": "#E1E5ED",
         "showgrid": false,
         "tickfont": {
          "color": "#4D5663"
         },
         "title": {
          "font": {
           "color": "#4D5663"
          },
          "text": ""
         },
         "zerolinecolor": "#E1E5ED"
        },
        "xaxis7": {
         "anchor": "y7",
         "domain": [
          0.525,
          0.7375
         ],
         "gridcolor": "#E1E5ED",
         "showgrid": false,
         "tickfont": {
          "color": "#4D5663"
         },
         "title": {
          "font": {
           "color": "#4D5663"
          },
          "text": ""
         },
         "zerolinecolor": "#E1E5ED"
        },
        "xaxis8": {
         "anchor": "y8",
         "domain": [
          0.7875,
          1
         ],
         "gridcolor": "#E1E5ED",
         "showgrid": false,
         "tickfont": {
          "color": "#4D5663"
         },
         "title": {
          "font": {
           "color": "#4D5663"
          },
          "text": ""
         },
         "zerolinecolor": "#E1E5ED"
        },
        "xaxis9": {
         "anchor": "y9",
         "domain": [
          0,
          0.2125
         ],
         "gridcolor": "#E1E5ED",
         "showgrid": false,
         "tickfont": {
          "color": "#4D5663"
         },
         "title": {
          "font": {
           "color": "#4D5663"
          },
          "text": ""
         },
         "zerolinecolor": "#E1E5ED"
        },
        "yaxis": {
         "anchor": "x",
         "domain": [
          0.8025,
          1
         ],
         "gridcolor": "#E1E5ED",
         "showgrid": false,
         "tickfont": {
          "color": "#4D5663"
         },
         "title": {
          "font": {
           "color": "#4D5663"
          },
          "text": ""
         },
         "zerolinecolor": "#E1E5ED"
        },
        "yaxis10": {
         "anchor": "x10",
         "domain": [
          0.2675,
          0.465
         ],
         "gridcolor": "#E1E5ED",
         "showgrid": false,
         "tickfont": {
          "color": "#4D5663"
         },
         "title": {
          "font": {
           "color": "#4D5663"
          },
          "text": ""
         },
         "zerolinecolor": "#E1E5ED"
        },
        "yaxis11": {
         "anchor": "x11",
         "domain": [
          0.2675,
          0.465
         ],
         "gridcolor": "#E1E5ED",
         "showgrid": false,
         "tickfont": {
          "color": "#4D5663"
         },
         "title": {
          "font": {
           "color": "#4D5663"
          },
          "text": ""
         },
         "zerolinecolor": "#E1E5ED"
        },
        "yaxis12": {
         "anchor": "x12",
         "domain": [
          0.2675,
          0.465
         ],
         "gridcolor": "#E1E5ED",
         "showgrid": false,
         "tickfont": {
          "color": "#4D5663"
         },
         "title": {
          "font": {
           "color": "#4D5663"
          },
          "text": ""
         },
         "zerolinecolor": "#E1E5ED"
        },
        "yaxis13": {
         "anchor": "x13",
         "domain": [
          0,
          0.1975
         ],
         "gridcolor": "#E1E5ED",
         "showgrid": false,
         "tickfont": {
          "color": "#4D5663"
         },
         "title": {
          "font": {
           "color": "#4D5663"
          },
          "text": ""
         },
         "zerolinecolor": "#E1E5ED"
        },
        "yaxis14": {
         "anchor": "x14",
         "domain": [
          0,
          0.1975
         ],
         "gridcolor": "#E1E5ED",
         "showgrid": false,
         "tickfont": {
          "color": "#4D5663"
         },
         "title": {
          "font": {
           "color": "#4D5663"
          },
          "text": ""
         },
         "zerolinecolor": "#E1E5ED"
        },
        "yaxis15": {
         "anchor": "x15",
         "domain": [
          0,
          0.1975
         ],
         "gridcolor": "#E1E5ED",
         "showgrid": false,
         "tickfont": {
          "color": "#4D5663"
         },
         "title": {
          "font": {
           "color": "#4D5663"
          },
          "text": ""
         },
         "zerolinecolor": "#E1E5ED"
        },
        "yaxis16": {
         "anchor": "x16",
         "domain": [
          0,
          0.1975
         ],
         "gridcolor": "#E1E5ED",
         "showgrid": false,
         "tickfont": {
          "color": "#4D5663"
         },
         "title": {
          "font": {
           "color": "#4D5663"
          },
          "text": ""
         },
         "zerolinecolor": "#E1E5ED"
        },
        "yaxis2": {
         "anchor": "x2",
         "domain": [
          0.8025,
          1
         ],
         "gridcolor": "#E1E5ED",
         "showgrid": false,
         "tickfont": {
          "color": "#4D5663"
         },
         "title": {
          "font": {
           "color": "#4D5663"
          },
          "text": ""
         },
         "zerolinecolor": "#E1E5ED"
        },
        "yaxis3": {
         "anchor": "x3",
         "domain": [
          0.8025,
          1
         ],
         "gridcolor": "#E1E5ED",
         "showgrid": false,
         "tickfont": {
          "color": "#4D5663"
         },
         "title": {
          "font": {
           "color": "#4D5663"
          },
          "text": ""
         },
         "zerolinecolor": "#E1E5ED"
        },
        "yaxis4": {
         "anchor": "x4",
         "domain": [
          0.8025,
          1
         ],
         "gridcolor": "#E1E5ED",
         "showgrid": false,
         "tickfont": {
          "color": "#4D5663"
         },
         "title": {
          "font": {
           "color": "#4D5663"
          },
          "text": ""
         },
         "zerolinecolor": "#E1E5ED"
        },
        "yaxis5": {
         "anchor": "x5",
         "domain": [
          0.535,
          0.7325
         ],
         "gridcolor": "#E1E5ED",
         "showgrid": false,
         "tickfont": {
          "color": "#4D5663"
         },
         "title": {
          "font": {
           "color": "#4D5663"
          },
          "text": ""
         },
         "zerolinecolor": "#E1E5ED"
        },
        "yaxis6": {
         "anchor": "x6",
         "domain": [
          0.535,
          0.7325
         ],
         "gridcolor": "#E1E5ED",
         "showgrid": false,
         "tickfont": {
          "color": "#4D5663"
         },
         "title": {
          "font": {
           "color": "#4D5663"
          },
          "text": ""
         },
         "zerolinecolor": "#E1E5ED"
        },
        "yaxis7": {
         "anchor": "x7",
         "domain": [
          0.535,
          0.7325
         ],
         "gridcolor": "#E1E5ED",
         "showgrid": false,
         "tickfont": {
          "color": "#4D5663"
         },
         "title": {
          "font": {
           "color": "#4D5663"
          },
          "text": ""
         },
         "zerolinecolor": "#E1E5ED"
        },
        "yaxis8": {
         "anchor": "x8",
         "domain": [
          0.535,
          0.7325
         ],
         "gridcolor": "#E1E5ED",
         "showgrid": false,
         "tickfont": {
          "color": "#4D5663"
         },
         "title": {
          "font": {
           "color": "#4D5663"
          },
          "text": ""
         },
         "zerolinecolor": "#E1E5ED"
        },
        "yaxis9": {
         "anchor": "x9",
         "domain": [
          0.2675,
          0.465
         ],
         "gridcolor": "#E1E5ED",
         "showgrid": false,
         "tickfont": {
          "color": "#4D5663"
         },
         "title": {
          "font": {
           "color": "#4D5663"
          },
          "text": ""
         },
         "zerolinecolor": "#E1E5ED"
        }
       }
      },
      "text/html": [
       "<div>                            <div id=\"44dae046-19b6-4f6e-8c85-6b58282b02b1\" class=\"plotly-graph-div\" style=\"height:525px; width:100%;\"></div>            <script type=\"text/javascript\">                require([\"plotly\"], function(Plotly) {                    window.PLOTLYENV=window.PLOTLYENV || {};\n",
       "                    window.PLOTLYENV.BASE_URL='https://plot.ly';                                    if (document.getElementById(\"44dae046-19b6-4f6e-8c85-6b58282b02b1\")) {                    Plotly.newPlot(                        \"44dae046-19b6-4f6e-8c85-6b58282b02b1\",                        [{\"histfunc\": \"count\", \"histnorm\": \"\", \"marker\": {\"color\": \"rgba(255, 153, 51, 1.0)\", \"line\": {\"color\": \"#4D5663\", \"width\": 1.3}}, \"name\": \"A\", \"nbinsx\": 10, \"opacity\": 0.8, \"orientation\": \"v\", \"type\": \"histogram\", \"x\": [-1.5355354192230586, -1.0527533192824858, 1.0651922435485306, -0.3569392648813912, -1.2980144850988753, 0.4979310577149322, 0.5901952780313333, 2.2774192822713237, -0.21876345827157676, -1.3349125647531113, -0.22055827664732808, 0.7293643918751058, 1.3259697709398004, -1.3720675861464693, 1.7686765997019345, -0.21278705743547888, 0.5621565488693779, -0.3792433474006059, -0.6750765094602391, -1.1845114394252805, -0.04649534177230828, 1.1495256182501377, -0.41816004179319194, -1.0239481102629837, 0.9946927964952956, 0.6052416074897078, -1.9151632304247237, -0.3403894901650628, -0.4537997371869349, -0.7397293859495888, -0.9253789977904611, 1.601930601973586, -1.4650826388661842, 0.5270957520989601, -1.180253879455318, 0.6850387941860184, -0.3678223463530502, -0.30500706501587305, -0.5542070516960862, -1.4312224043373811, -0.1848981571335127, 0.6206299218949423, -1.0367501124402183, -1.0595095262876875, 1.2105069014091077, 0.5051738136010172, 0.47177060342443633, -0.8144767662360516, 0.11560223236678412, -1.8004185138809787, 1.1576067690845295, 0.5870612302887921, -1.2727449517938831, -0.3406361971233455, 1.0983528236620699, 0.49739189471308093, 0.7647466281588152, 2.1408660174962026, 0.5061816115949632, 0.120177007037446, -0.2712416900133294, -0.40368260942789297, -0.21235062677455707, 0.9566608507041349, -0.592846919794081, 0.9416099029137102, -0.13030336454300231, -0.4912598770441894, -0.0556549547985368, 0.9901139892278719, -0.14111330498012714, -0.5733355116267539, -0.9446232149514938, 1.4042766106007183, -0.7046212552212995, -0.3206051538056349, -0.4756918981281842, -1.2681053547018966, -0.47397096250784604, 0.34213108483355736, -1.1842372349810686, -1.1458192389317712, -1.2557624556630214, 1.5501458563898547, -0.08616993227352977, -0.06300453186192329, 0.003078698431574541, 0.35152717580520365, 0.4241210560491202, -2.9474968859825985, -0.019618922077270073, 1.7521003147708671, 1.4658803481569689, 0.7900509900134237, 0.2829821582586573, -0.05612046663179397, 0.10448201357335772, 0.10872292715876054, -1.9192126781078032, -1.7708965409979374], \"xaxis\": \"x\", \"yaxis\": \"y\"}, {\"line\": {\"color\": \"rgba(128, 128, 128, 1.0)\", \"dash\": \"solid\", \"shape\": \"linear\", \"width\": 1.3}, \"marker\": {\"size\": 2, \"symbol\": \"circle\"}, \"mode\": \"markers\", \"name\": \"A\", \"text\": \"\", \"type\": \"scatter\", \"x\": [0.44735427314727433, -0.7508676450145815, 0.18480434357317638, 1.036858322212885, -1.043241632500722, -0.8413278507817418, 0.6558618794274739, 0.5547624862355806, 0.6951192553620779, 1.2726390156513538, -1.0680701829108734, 1.2342808921384112, -1.1770818873863, -0.05976217213720838, 0.9628980396633287, -0.8901404178495665, -1.1149508423060148, -2.019268938013942, 0.4045080210400765, 0.9774315118014983, 0.8823158393243271, -0.043892028650077755, -2.316995693382531, 0.4824470912200743, 0.6564093759271757, -0.3101323506764711, 0.629675064442062, -0.01929264505742492, -0.5956332881663199, -0.37341864927398605, -0.3955603284516065, -0.43505004152181065, 0.5351401117646758, -0.1026937541843101, 1.4395671391316562, -0.8599186484811995, 0.6694451179627202, 1.1286626566501965, 2.063900225407397, -0.9295699324300545, 0.17986704216835986, -0.5912237439296492, 0.10630993675686522, -0.812945654755612, -0.34896555934775925, -0.553821590107099, 0.6948002006257248, 0.24073423241409353, 0.3534901314589533, 0.4686033082769145, -0.31373165877423215, -0.7114395884089332, -0.6409387157834656, 0.4500016803540507, 0.21711326404288983, -0.018069262949005942, 0.6533802428552622, 2.7828377337588623, 1.5427776839709029, -0.1368525036344999, 1.157314574619203, 0.08968142121865062, 1.0250856504271342, -1.9498605017780728, 0.14600612105419417, 1.3459243558586542, 2.06593462275695, 0.42818100775719403, 1.3838953490438173, 0.4734834155141974, -1.011243590326672, 0.11941076540907923, 0.4210363473429892, -1.480006232120809, 1.8917742903441508, 0.6887241945908786, 1.5305407582805401, 1.8528719094913844, 2.0161692177771444, -0.49914963074557095, 0.006967052436891432, -0.6449582167389107, -0.012249603523494667, 0.5460881067575699, -0.10795163655635079, -2.37755617157348, -0.684219199300508, -1.242862178273611, 2.153969226489427, -0.24502072610151426, 0.8046263790364315, 0.5406306107809049, -0.033216951156400706, -0.43847955592322213, -0.7124046913765233, -2.0170961431160714, 0.6618154709573927, 1.2054316613067024, -1.7938465004014814, -0.23658857048597437], \"xaxis\": \"x2\", \"y\": [-1.5355354192230586, -1.0527533192824858, 1.0651922435485306, -0.3569392648813912, -1.2980144850988753, 0.4979310577149322, 0.5901952780313333, 2.2774192822713237, -0.21876345827157676, -1.3349125647531113, -0.22055827664732808, 0.7293643918751058, 1.3259697709398004, -1.3720675861464693, 1.7686765997019345, -0.21278705743547888, 0.5621565488693779, -0.3792433474006059, -0.6750765094602391, -1.1845114394252805, -0.04649534177230828, 1.1495256182501377, -0.41816004179319194, -1.0239481102629837, 0.9946927964952956, 0.6052416074897078, -1.9151632304247237, -0.3403894901650628, -0.4537997371869349, -0.7397293859495888, -0.9253789977904611, 1.601930601973586, -1.4650826388661842, 0.5270957520989601, -1.180253879455318, 0.6850387941860184, -0.3678223463530502, -0.30500706501587305, -0.5542070516960862, -1.4312224043373811, -0.1848981571335127, 0.6206299218949423, -1.0367501124402183, -1.0595095262876875, 1.2105069014091077, 0.5051738136010172, 0.47177060342443633, -0.8144767662360516, 0.11560223236678412, -1.8004185138809787, 1.1576067690845295, 0.5870612302887921, -1.2727449517938831, -0.3406361971233455, 1.0983528236620699, 0.49739189471308093, 0.7647466281588152, 2.1408660174962026, 0.5061816115949632, 0.120177007037446, -0.2712416900133294, -0.40368260942789297, -0.21235062677455707, 0.9566608507041349, -0.592846919794081, 0.9416099029137102, -0.13030336454300231, -0.4912598770441894, -0.0556549547985368, 0.9901139892278719, -0.14111330498012714, -0.5733355116267539, -0.9446232149514938, 1.4042766106007183, -0.7046212552212995, -0.3206051538056349, -0.4756918981281842, -1.2681053547018966, -0.47397096250784604, 0.34213108483355736, -1.1842372349810686, -1.1458192389317712, -1.2557624556630214, 1.5501458563898547, -0.08616993227352977, -0.06300453186192329, 0.003078698431574541, 0.35152717580520365, 0.4241210560491202, -2.9474968859825985, -0.019618922077270073, 1.7521003147708671, 1.4658803481569689, 0.7900509900134237, 0.2829821582586573, -0.05612046663179397, 0.10448201357335772, 0.10872292715876054, -1.9192126781078032, -1.7708965409979374], \"yaxis\": \"y2\"}, {\"line\": {\"color\": \"rgba(128, 128, 128, 1.0)\", \"dash\": \"solid\", \"shape\": \"linear\", \"width\": 1.3}, \"marker\": {\"size\": 2, \"symbol\": \"circle\"}, \"mode\": \"markers\", \"name\": \"A\", \"text\": \"\", \"type\": \"scatter\", \"x\": [-1.3738134386537695, -0.33154760866755245, 0.5338145248192406, 0.4608987226336679, -0.21379000029761472, 0.9448939277523196, 0.4707011571665421, 0.04628699959826728, -0.7163093779094806, 0.4931210474463861, 1.3362590091556465, -0.07860391616473675, 0.5597020938143775, -0.48180653488188785, -0.1313413311789289, -0.43681966271399725, -0.7163545344053858, -1.0161897607735326, -0.36162337846116493, 2.1192219161583767, -1.6059299241357936, -0.1381797103031496, -0.49744272418647034, -0.7984874437044165, -0.947126401096751, 1.0125591611126339, 0.4358837709106574, -0.8508993990932405, 1.7601510638739442, 1.5750351009734351, -1.3256104510414441, 0.36507549523854027, -0.7231408229663161, 0.22093610131137742, 0.2777049752403186, 1.6241433617832146, 0.9919500748761527, -0.3436788175157517, -1.720185888425874, -0.3921982028156328, 0.6503583066579238, -0.9522043501268864, -1.8894452797345227, 1.875277101018438, 0.5265831171179596, -0.7463697207022431, 1.039800466247709, 0.19685289998248875, 1.2021709373969434, -0.8893629192696274, 0.870141257912497, -0.9728221610318893, 0.7306351420566899, 1.1459599080744383, -0.4226578328354158, 1.3734464473889625, -0.7624814463266807, 0.04640772065513277, 0.23090422686206544, 0.7968718817474381, -0.3662810497855493, 0.21266163663539278, -1.8416163883777148, -0.12319179592369105, 0.774480973468789, 0.8976609477531223, 0.6949526224472554, 1.7691805296285532, 0.9196866646631141, -0.3023417351943868, 0.29056767981216897, 0.6012753066978929, 0.4038649027424802, -0.8293653861413336, -0.019476033600365285, -0.727816231370272, -0.6742090976475391, 0.18123835775841923, -0.79688415077298, 1.1080406440536665, 0.2989728996556223, 1.3845570961714635, 0.37729845513466287, 1.1514234360584108, 0.25109306633948025, -0.614434993250707, -0.5337002394709033, -0.15753474171281567, 0.5611646743278362, -1.0343647157520817, -0.05712065783687775, 1.23259078830519, -1.2667562285738472, 2.361820754515749, 0.49084852254653355, -1.8198029703126448, -0.4680149660077137, -0.2329414521079991, -0.7030555174837161, 0.20610328583979282], \"xaxis\": \"x3\", \"y\": [-1.5355354192230586, -1.0527533192824858, 1.0651922435485306, -0.3569392648813912, -1.2980144850988753, 0.4979310577149322, 0.5901952780313333, 2.2774192822713237, -0.21876345827157676, -1.3349125647531113, -0.22055827664732808, 0.7293643918751058, 1.3259697709398004, -1.3720675861464693, 1.7686765997019345, -0.21278705743547888, 0.5621565488693779, -0.3792433474006059, -0.6750765094602391, -1.1845114394252805, -0.04649534177230828, 1.1495256182501377, -0.41816004179319194, -1.0239481102629837, 0.9946927964952956, 0.6052416074897078, -1.9151632304247237, -0.3403894901650628, -0.4537997371869349, -0.7397293859495888, -0.9253789977904611, 1.601930601973586, -1.4650826388661842, 0.5270957520989601, -1.180253879455318, 0.6850387941860184, -0.3678223463530502, -0.30500706501587305, -0.5542070516960862, -1.4312224043373811, -0.1848981571335127, 0.6206299218949423, -1.0367501124402183, -1.0595095262876875, 1.2105069014091077, 0.5051738136010172, 0.47177060342443633, -0.8144767662360516, 0.11560223236678412, -1.8004185138809787, 1.1576067690845295, 0.5870612302887921, -1.2727449517938831, -0.3406361971233455, 1.0983528236620699, 0.49739189471308093, 0.7647466281588152, 2.1408660174962026, 0.5061816115949632, 0.120177007037446, -0.2712416900133294, -0.40368260942789297, -0.21235062677455707, 0.9566608507041349, -0.592846919794081, 0.9416099029137102, -0.13030336454300231, -0.4912598770441894, -0.0556549547985368, 0.9901139892278719, -0.14111330498012714, -0.5733355116267539, -0.9446232149514938, 1.4042766106007183, -0.7046212552212995, -0.3206051538056349, -0.4756918981281842, -1.2681053547018966, -0.47397096250784604, 0.34213108483355736, -1.1842372349810686, -1.1458192389317712, -1.2557624556630214, 1.5501458563898547, -0.08616993227352977, -0.06300453186192329, 0.003078698431574541, 0.35152717580520365, 0.4241210560491202, -2.9474968859825985, -0.019618922077270073, 1.7521003147708671, 1.4658803481569689, 0.7900509900134237, 0.2829821582586573, -0.05612046663179397, 0.10448201357335772, 0.10872292715876054, -1.9192126781078032, -1.7708965409979374], \"yaxis\": \"y3\"}, {\"line\": {\"color\": \"rgba(128, 128, 128, 1.0)\", \"dash\": \"solid\", \"shape\": \"linear\", \"width\": 1.3}, \"marker\": {\"size\": 2, \"symbol\": \"circle\"}, \"mode\": \"markers\", \"name\": \"A\", \"text\": \"\", \"type\": \"scatter\", \"x\": [-1.0274725670201772, 0.023637141630294022, -0.6824539224652907, 0.7837338968082365, -0.07515011823509951, -0.42474109547851946, 0.36004344442679403, 1.446332455349724, 0.6984597804936339, -2.0397312351302626, -0.5852530197811215, -1.0824311933745308, -0.8892300716428412, -1.0347485391478328, 0.08543080419684033, 0.8233700926431783, -1.0562961518267304, 0.8847165716521627, -1.4637554896680398, 0.9837764941941648, -0.32506446058696786, -0.02042130674687286, 0.19343827263995, 0.6461387633945138, -1.388152425492673, -0.08302922794426768, -0.45260774938521403, -0.8643671748461371, 0.11424733358234256, -0.9455713376127116, -0.4352320549495443, 0.7402206090676967, -0.48327956282045426, -0.5052575721088608, -0.20299667963793916, -0.13868543659460902, 0.947326634845561, -0.7647926431579081, 0.5341058963908148, -1.0966526684306195, -1.3155046341681338, -1.6347877142513192, -0.6937473975894909, 0.5308353491396521, 0.22264325742784116, 0.10762454278672558, -0.688089943495127, -0.6065239634776818, -1.52824722128094, 1.2139420909104432, 0.9665746839926376, -1.0876825710988056, 1.1413802684777257, -0.8703918231086764, -1.7349297900937353, 0.3712947088189332, -1.2758418349147609, -0.4931837358389391, -1.4100411439951597, -0.6848003520436998, -0.3059002269384813, 0.4800427341027472, 1.1731034925493258, -0.7782996342054381, 0.38739853337616287, 2.0024104123558946, 0.42452404447982145, -0.23580793721112825, -1.4189983096220247, 1.503825532336096, 0.08606308255635453, 0.13433282682706227, 0.949110531919716, 0.08909210895203123, -1.2154525066932849, -1.4522185560314114, -1.0018860152920797, 2.0842344317741905, -0.849378054914496, 0.0864244289884118, 0.8822279908934498, 0.4798270429641617, -0.839707415562348, 1.5247859482529769, -1.6874032013441629, 1.2449608163932362, -1.5782129308410158, 0.8243621385608745, 0.6180744947085115, -2.2229879540096045, -0.20277325856162157, -0.6892018729673994, -0.2353742304574779, 1.014157729834675, 0.6174554421452568, 1.0540182742349078, -0.03767696275890132, 0.25736092215867534, 0.768449742273149, -0.48516684072979976], \"xaxis\": \"x4\", \"y\": [-1.5355354192230586, -1.0527533192824858, 1.0651922435485306, -0.3569392648813912, -1.2980144850988753, 0.4979310577149322, 0.5901952780313333, 2.2774192822713237, -0.21876345827157676, -1.3349125647531113, -0.22055827664732808, 0.7293643918751058, 1.3259697709398004, -1.3720675861464693, 1.7686765997019345, -0.21278705743547888, 0.5621565488693779, -0.3792433474006059, -0.6750765094602391, -1.1845114394252805, -0.04649534177230828, 1.1495256182501377, -0.41816004179319194, -1.0239481102629837, 0.9946927964952956, 0.6052416074897078, -1.9151632304247237, -0.3403894901650628, -0.4537997371869349, -0.7397293859495888, -0.9253789977904611, 1.601930601973586, -1.4650826388661842, 0.5270957520989601, -1.180253879455318, 0.6850387941860184, -0.3678223463530502, -0.30500706501587305, -0.5542070516960862, -1.4312224043373811, -0.1848981571335127, 0.6206299218949423, -1.0367501124402183, -1.0595095262876875, 1.2105069014091077, 0.5051738136010172, 0.47177060342443633, -0.8144767662360516, 0.11560223236678412, -1.8004185138809787, 1.1576067690845295, 0.5870612302887921, -1.2727449517938831, -0.3406361971233455, 1.0983528236620699, 0.49739189471308093, 0.7647466281588152, 2.1408660174962026, 0.5061816115949632, 0.120177007037446, -0.2712416900133294, -0.40368260942789297, -0.21235062677455707, 0.9566608507041349, -0.592846919794081, 0.9416099029137102, -0.13030336454300231, -0.4912598770441894, -0.0556549547985368, 0.9901139892278719, -0.14111330498012714, -0.5733355116267539, -0.9446232149514938, 1.4042766106007183, -0.7046212552212995, -0.3206051538056349, -0.4756918981281842, -1.2681053547018966, -0.47397096250784604, 0.34213108483355736, -1.1842372349810686, -1.1458192389317712, -1.2557624556630214, 1.5501458563898547, -0.08616993227352977, -0.06300453186192329, 0.003078698431574541, 0.35152717580520365, 0.4241210560491202, -2.9474968859825985, -0.019618922077270073, 1.7521003147708671, 1.4658803481569689, 0.7900509900134237, 0.2829821582586573, -0.05612046663179397, 0.10448201357335772, 0.10872292715876054, -1.9192126781078032, -1.7708965409979374], \"yaxis\": \"y4\"}, {\"line\": {\"color\": \"rgba(128, 128, 128, 1.0)\", \"dash\": \"solid\", \"shape\": \"linear\", \"width\": 1.3}, \"marker\": {\"size\": 2, \"symbol\": \"circle\"}, \"mode\": \"markers\", \"name\": \"B\", \"text\": \"\", \"type\": \"scatter\", \"x\": [-1.5355354192230586, -1.0527533192824858, 1.0651922435485306, -0.3569392648813912, -1.2980144850988753, 0.4979310577149322, 0.5901952780313333, 2.2774192822713237, -0.21876345827157676, -1.3349125647531113, -0.22055827664732808, 0.7293643918751058, 1.3259697709398004, -1.3720675861464693, 1.7686765997019345, -0.21278705743547888, 0.5621565488693779, -0.3792433474006059, -0.6750765094602391, -1.1845114394252805, -0.04649534177230828, 1.1495256182501377, -0.41816004179319194, -1.0239481102629837, 0.9946927964952956, 0.6052416074897078, -1.9151632304247237, -0.3403894901650628, -0.4537997371869349, -0.7397293859495888, -0.9253789977904611, 1.601930601973586, -1.4650826388661842, 0.5270957520989601, -1.180253879455318, 0.6850387941860184, -0.3678223463530502, -0.30500706501587305, -0.5542070516960862, -1.4312224043373811, -0.1848981571335127, 0.6206299218949423, -1.0367501124402183, -1.0595095262876875, 1.2105069014091077, 0.5051738136010172, 0.47177060342443633, -0.8144767662360516, 0.11560223236678412, -1.8004185138809787, 1.1576067690845295, 0.5870612302887921, -1.2727449517938831, -0.3406361971233455, 1.0983528236620699, 0.49739189471308093, 0.7647466281588152, 2.1408660174962026, 0.5061816115949632, 0.120177007037446, -0.2712416900133294, -0.40368260942789297, -0.21235062677455707, 0.9566608507041349, -0.592846919794081, 0.9416099029137102, -0.13030336454300231, -0.4912598770441894, -0.0556549547985368, 0.9901139892278719, -0.14111330498012714, -0.5733355116267539, -0.9446232149514938, 1.4042766106007183, -0.7046212552212995, -0.3206051538056349, -0.4756918981281842, -1.2681053547018966, -0.47397096250784604, 0.34213108483355736, -1.1842372349810686, -1.1458192389317712, -1.2557624556630214, 1.5501458563898547, -0.08616993227352977, -0.06300453186192329, 0.003078698431574541, 0.35152717580520365, 0.4241210560491202, -2.9474968859825985, -0.019618922077270073, 1.7521003147708671, 1.4658803481569689, 0.7900509900134237, 0.2829821582586573, -0.05612046663179397, 0.10448201357335772, 0.10872292715876054, -1.9192126781078032, -1.7708965409979374], \"xaxis\": \"x5\", \"y\": [0.44735427314727433, -0.7508676450145815, 0.18480434357317638, 1.036858322212885, -1.043241632500722, -0.8413278507817418, 0.6558618794274739, 0.5547624862355806, 0.6951192553620779, 1.2726390156513538, -1.0680701829108734, 1.2342808921384112, -1.1770818873863, -0.05976217213720838, 0.9628980396633287, -0.8901404178495665, -1.1149508423060148, -2.019268938013942, 0.4045080210400765, 0.9774315118014983, 0.8823158393243271, -0.043892028650077755, -2.316995693382531, 0.4824470912200743, 0.6564093759271757, -0.3101323506764711, 0.629675064442062, -0.01929264505742492, -0.5956332881663199, -0.37341864927398605, -0.3955603284516065, -0.43505004152181065, 0.5351401117646758, -0.1026937541843101, 1.4395671391316562, -0.8599186484811995, 0.6694451179627202, 1.1286626566501965, 2.063900225407397, -0.9295699324300545, 0.17986704216835986, -0.5912237439296492, 0.10630993675686522, -0.812945654755612, -0.34896555934775925, -0.553821590107099, 0.6948002006257248, 0.24073423241409353, 0.3534901314589533, 0.4686033082769145, -0.31373165877423215, -0.7114395884089332, -0.6409387157834656, 0.4500016803540507, 0.21711326404288983, -0.018069262949005942, 0.6533802428552622, 2.7828377337588623, 1.5427776839709029, -0.1368525036344999, 1.157314574619203, 0.08968142121865062, 1.0250856504271342, -1.9498605017780728, 0.14600612105419417, 1.3459243558586542, 2.06593462275695, 0.42818100775719403, 1.3838953490438173, 0.4734834155141974, -1.011243590326672, 0.11941076540907923, 0.4210363473429892, -1.480006232120809, 1.8917742903441508, 0.6887241945908786, 1.5305407582805401, 1.8528719094913844, 2.0161692177771444, -0.49914963074557095, 0.006967052436891432, -0.6449582167389107, -0.012249603523494667, 0.5460881067575699, -0.10795163655635079, -2.37755617157348, -0.684219199300508, -1.242862178273611, 2.153969226489427, -0.24502072610151426, 0.8046263790364315, 0.5406306107809049, -0.033216951156400706, -0.43847955592322213, -0.7124046913765233, -2.0170961431160714, 0.6618154709573927, 1.2054316613067024, -1.7938465004014814, -0.23658857048597437], \"yaxis\": \"y5\"}, {\"histfunc\": \"count\", \"histnorm\": \"\", \"marker\": {\"color\": \"rgba(55, 128, 191, 1.0)\", \"line\": {\"color\": \"#4D5663\", \"width\": 1.3}}, \"name\": \"B\", \"nbinsx\": 10, \"opacity\": 0.8, \"orientation\": \"v\", \"type\": \"histogram\", \"x\": [0.44735427314727433, -0.7508676450145815, 0.18480434357317638, 1.036858322212885, -1.043241632500722, -0.8413278507817418, 0.6558618794274739, 0.5547624862355806, 0.6951192553620779, 1.2726390156513538, -1.0680701829108734, 1.2342808921384112, -1.1770818873863, -0.05976217213720838, 0.9628980396633287, -0.8901404178495665, -1.1149508423060148, -2.019268938013942, 0.4045080210400765, 0.9774315118014983, 0.8823158393243271, -0.043892028650077755, -2.316995693382531, 0.4824470912200743, 0.6564093759271757, -0.3101323506764711, 0.629675064442062, -0.01929264505742492, -0.5956332881663199, -0.37341864927398605, -0.3955603284516065, -0.43505004152181065, 0.5351401117646758, -0.1026937541843101, 1.4395671391316562, -0.8599186484811995, 0.6694451179627202, 1.1286626566501965, 2.063900225407397, -0.9295699324300545, 0.17986704216835986, -0.5912237439296492, 0.10630993675686522, -0.812945654755612, -0.34896555934775925, -0.553821590107099, 0.6948002006257248, 0.24073423241409353, 0.3534901314589533, 0.4686033082769145, -0.31373165877423215, -0.7114395884089332, -0.6409387157834656, 0.4500016803540507, 0.21711326404288983, -0.018069262949005942, 0.6533802428552622, 2.7828377337588623, 1.5427776839709029, -0.1368525036344999, 1.157314574619203, 0.08968142121865062, 1.0250856504271342, -1.9498605017780728, 0.14600612105419417, 1.3459243558586542, 2.06593462275695, 0.42818100775719403, 1.3838953490438173, 0.4734834155141974, -1.011243590326672, 0.11941076540907923, 0.4210363473429892, -1.480006232120809, 1.8917742903441508, 0.6887241945908786, 1.5305407582805401, 1.8528719094913844, 2.0161692177771444, -0.49914963074557095, 0.006967052436891432, -0.6449582167389107, -0.012249603523494667, 0.5460881067575699, -0.10795163655635079, -2.37755617157348, -0.684219199300508, -1.242862178273611, 2.153969226489427, -0.24502072610151426, 0.8046263790364315, 0.5406306107809049, -0.033216951156400706, -0.43847955592322213, -0.7124046913765233, -2.0170961431160714, 0.6618154709573927, 1.2054316613067024, -1.7938465004014814, -0.23658857048597437], \"xaxis\": \"x6\", \"yaxis\": \"y6\"}, {\"line\": {\"color\": \"rgba(128, 128, 128, 1.0)\", \"dash\": \"solid\", \"shape\": \"linear\", \"width\": 1.3}, \"marker\": {\"size\": 2, \"symbol\": \"circle\"}, \"mode\": \"markers\", \"name\": \"B\", \"text\": \"\", \"type\": \"scatter\", \"x\": [-1.3738134386537695, -0.33154760866755245, 0.5338145248192406, 0.4608987226336679, -0.21379000029761472, 0.9448939277523196, 0.4707011571665421, 0.04628699959826728, -0.7163093779094806, 0.4931210474463861, 1.3362590091556465, -0.07860391616473675, 0.5597020938143775, -0.48180653488188785, -0.1313413311789289, -0.43681966271399725, -0.7163545344053858, -1.0161897607735326, -0.36162337846116493, 2.1192219161583767, -1.6059299241357936, -0.1381797103031496, -0.49744272418647034, -0.7984874437044165, -0.947126401096751, 1.0125591611126339, 0.4358837709106574, -0.8508993990932405, 1.7601510638739442, 1.5750351009734351, -1.3256104510414441, 0.36507549523854027, -0.7231408229663161, 0.22093610131137742, 0.2777049752403186, 1.6241433617832146, 0.9919500748761527, -0.3436788175157517, -1.720185888425874, -0.3921982028156328, 0.6503583066579238, -0.9522043501268864, -1.8894452797345227, 1.875277101018438, 0.5265831171179596, -0.7463697207022431, 1.039800466247709, 0.19685289998248875, 1.2021709373969434, -0.8893629192696274, 0.870141257912497, -0.9728221610318893, 0.7306351420566899, 1.1459599080744383, -0.4226578328354158, 1.3734464473889625, -0.7624814463266807, 0.04640772065513277, 0.23090422686206544, 0.7968718817474381, -0.3662810497855493, 0.21266163663539278, -1.8416163883777148, -0.12319179592369105, 0.774480973468789, 0.8976609477531223, 0.6949526224472554, 1.7691805296285532, 0.9196866646631141, -0.3023417351943868, 0.29056767981216897, 0.6012753066978929, 0.4038649027424802, -0.8293653861413336, -0.019476033600365285, -0.727816231370272, -0.6742090976475391, 0.18123835775841923, -0.79688415077298, 1.1080406440536665, 0.2989728996556223, 1.3845570961714635, 0.37729845513466287, 1.1514234360584108, 0.25109306633948025, -0.614434993250707, -0.5337002394709033, -0.15753474171281567, 0.5611646743278362, -1.0343647157520817, -0.05712065783687775, 1.23259078830519, -1.2667562285738472, 2.361820754515749, 0.49084852254653355, -1.8198029703126448, -0.4680149660077137, -0.2329414521079991, -0.7030555174837161, 0.20610328583979282], \"xaxis\": \"x7\", \"y\": [0.44735427314727433, -0.7508676450145815, 0.18480434357317638, 1.036858322212885, -1.043241632500722, -0.8413278507817418, 0.6558618794274739, 0.5547624862355806, 0.6951192553620779, 1.2726390156513538, -1.0680701829108734, 1.2342808921384112, -1.1770818873863, -0.05976217213720838, 0.9628980396633287, -0.8901404178495665, -1.1149508423060148, -2.019268938013942, 0.4045080210400765, 0.9774315118014983, 0.8823158393243271, -0.043892028650077755, -2.316995693382531, 0.4824470912200743, 0.6564093759271757, -0.3101323506764711, 0.629675064442062, -0.01929264505742492, -0.5956332881663199, -0.37341864927398605, -0.3955603284516065, -0.43505004152181065, 0.5351401117646758, -0.1026937541843101, 1.4395671391316562, -0.8599186484811995, 0.6694451179627202, 1.1286626566501965, 2.063900225407397, -0.9295699324300545, 0.17986704216835986, -0.5912237439296492, 0.10630993675686522, -0.812945654755612, -0.34896555934775925, -0.553821590107099, 0.6948002006257248, 0.24073423241409353, 0.3534901314589533, 0.4686033082769145, -0.31373165877423215, -0.7114395884089332, -0.6409387157834656, 0.4500016803540507, 0.21711326404288983, -0.018069262949005942, 0.6533802428552622, 2.7828377337588623, 1.5427776839709029, -0.1368525036344999, 1.157314574619203, 0.08968142121865062, 1.0250856504271342, -1.9498605017780728, 0.14600612105419417, 1.3459243558586542, 2.06593462275695, 0.42818100775719403, 1.3838953490438173, 0.4734834155141974, -1.011243590326672, 0.11941076540907923, 0.4210363473429892, -1.480006232120809, 1.8917742903441508, 0.6887241945908786, 1.5305407582805401, 1.8528719094913844, 2.0161692177771444, -0.49914963074557095, 0.006967052436891432, -0.6449582167389107, -0.012249603523494667, 0.5460881067575699, -0.10795163655635079, -2.37755617157348, -0.684219199300508, -1.242862178273611, 2.153969226489427, -0.24502072610151426, 0.8046263790364315, 0.5406306107809049, -0.033216951156400706, -0.43847955592322213, -0.7124046913765233, -2.0170961431160714, 0.6618154709573927, 1.2054316613067024, -1.7938465004014814, -0.23658857048597437], \"yaxis\": \"y7\"}, {\"line\": {\"color\": \"rgba(128, 128, 128, 1.0)\", \"dash\": \"solid\", \"shape\": \"linear\", \"width\": 1.3}, \"marker\": {\"size\": 2, \"symbol\": \"circle\"}, \"mode\": \"markers\", \"name\": \"B\", \"text\": \"\", \"type\": \"scatter\", \"x\": [-1.0274725670201772, 0.023637141630294022, -0.6824539224652907, 0.7837338968082365, -0.07515011823509951, -0.42474109547851946, 0.36004344442679403, 1.446332455349724, 0.6984597804936339, -2.0397312351302626, -0.5852530197811215, -1.0824311933745308, -0.8892300716428412, -1.0347485391478328, 0.08543080419684033, 0.8233700926431783, -1.0562961518267304, 0.8847165716521627, -1.4637554896680398, 0.9837764941941648, -0.32506446058696786, -0.02042130674687286, 0.19343827263995, 0.6461387633945138, -1.388152425492673, -0.08302922794426768, -0.45260774938521403, -0.8643671748461371, 0.11424733358234256, -0.9455713376127116, -0.4352320549495443, 0.7402206090676967, -0.48327956282045426, -0.5052575721088608, -0.20299667963793916, -0.13868543659460902, 0.947326634845561, -0.7647926431579081, 0.5341058963908148, -1.0966526684306195, -1.3155046341681338, -1.6347877142513192, -0.6937473975894909, 0.5308353491396521, 0.22264325742784116, 0.10762454278672558, -0.688089943495127, -0.6065239634776818, -1.52824722128094, 1.2139420909104432, 0.9665746839926376, -1.0876825710988056, 1.1413802684777257, -0.8703918231086764, -1.7349297900937353, 0.3712947088189332, -1.2758418349147609, -0.4931837358389391, -1.4100411439951597, -0.6848003520436998, -0.3059002269384813, 0.4800427341027472, 1.1731034925493258, -0.7782996342054381, 0.38739853337616287, 2.0024104123558946, 0.42452404447982145, -0.23580793721112825, -1.4189983096220247, 1.503825532336096, 0.08606308255635453, 0.13433282682706227, 0.949110531919716, 0.08909210895203123, -1.2154525066932849, -1.4522185560314114, -1.0018860152920797, 2.0842344317741905, -0.849378054914496, 0.0864244289884118, 0.8822279908934498, 0.4798270429641617, -0.839707415562348, 1.5247859482529769, -1.6874032013441629, 1.2449608163932362, -1.5782129308410158, 0.8243621385608745, 0.6180744947085115, -2.2229879540096045, -0.20277325856162157, -0.6892018729673994, -0.2353742304574779, 1.014157729834675, 0.6174554421452568, 1.0540182742349078, -0.03767696275890132, 0.25736092215867534, 0.768449742273149, -0.48516684072979976], \"xaxis\": \"x8\", \"y\": [0.44735427314727433, -0.7508676450145815, 0.18480434357317638, 1.036858322212885, -1.043241632500722, -0.8413278507817418, 0.6558618794274739, 0.5547624862355806, 0.6951192553620779, 1.2726390156513538, -1.0680701829108734, 1.2342808921384112, -1.1770818873863, -0.05976217213720838, 0.9628980396633287, -0.8901404178495665, -1.1149508423060148, -2.019268938013942, 0.4045080210400765, 0.9774315118014983, 0.8823158393243271, -0.043892028650077755, -2.316995693382531, 0.4824470912200743, 0.6564093759271757, -0.3101323506764711, 0.629675064442062, -0.01929264505742492, -0.5956332881663199, -0.37341864927398605, -0.3955603284516065, -0.43505004152181065, 0.5351401117646758, -0.1026937541843101, 1.4395671391316562, -0.8599186484811995, 0.6694451179627202, 1.1286626566501965, 2.063900225407397, -0.9295699324300545, 0.17986704216835986, -0.5912237439296492, 0.10630993675686522, -0.812945654755612, -0.34896555934775925, -0.553821590107099, 0.6948002006257248, 0.24073423241409353, 0.3534901314589533, 0.4686033082769145, -0.31373165877423215, -0.7114395884089332, -0.6409387157834656, 0.4500016803540507, 0.21711326404288983, -0.018069262949005942, 0.6533802428552622, 2.7828377337588623, 1.5427776839709029, -0.1368525036344999, 1.157314574619203, 0.08968142121865062, 1.0250856504271342, -1.9498605017780728, 0.14600612105419417, 1.3459243558586542, 2.06593462275695, 0.42818100775719403, 1.3838953490438173, 0.4734834155141974, -1.011243590326672, 0.11941076540907923, 0.4210363473429892, -1.480006232120809, 1.8917742903441508, 0.6887241945908786, 1.5305407582805401, 1.8528719094913844, 2.0161692177771444, -0.49914963074557095, 0.006967052436891432, -0.6449582167389107, -0.012249603523494667, 0.5460881067575699, -0.10795163655635079, -2.37755617157348, -0.684219199300508, -1.242862178273611, 2.153969226489427, -0.24502072610151426, 0.8046263790364315, 0.5406306107809049, -0.033216951156400706, -0.43847955592322213, -0.7124046913765233, -2.0170961431160714, 0.6618154709573927, 1.2054316613067024, -1.7938465004014814, -0.23658857048597437], \"yaxis\": \"y8\"}, {\"line\": {\"color\": \"rgba(128, 128, 128, 1.0)\", \"dash\": \"solid\", \"shape\": \"linear\", \"width\": 1.3}, \"marker\": {\"size\": 2, \"symbol\": \"circle\"}, \"mode\": \"markers\", \"name\": \"C\", \"text\": \"\", \"type\": \"scatter\", \"x\": [-1.5355354192230586, -1.0527533192824858, 1.0651922435485306, -0.3569392648813912, -1.2980144850988753, 0.4979310577149322, 0.5901952780313333, 2.2774192822713237, -0.21876345827157676, -1.3349125647531113, -0.22055827664732808, 0.7293643918751058, 1.3259697709398004, -1.3720675861464693, 1.7686765997019345, -0.21278705743547888, 0.5621565488693779, -0.3792433474006059, -0.6750765094602391, -1.1845114394252805, -0.04649534177230828, 1.1495256182501377, -0.41816004179319194, -1.0239481102629837, 0.9946927964952956, 0.6052416074897078, -1.9151632304247237, -0.3403894901650628, -0.4537997371869349, -0.7397293859495888, -0.9253789977904611, 1.601930601973586, -1.4650826388661842, 0.5270957520989601, -1.180253879455318, 0.6850387941860184, -0.3678223463530502, -0.30500706501587305, -0.5542070516960862, -1.4312224043373811, -0.1848981571335127, 0.6206299218949423, -1.0367501124402183, -1.0595095262876875, 1.2105069014091077, 0.5051738136010172, 0.47177060342443633, -0.8144767662360516, 0.11560223236678412, -1.8004185138809787, 1.1576067690845295, 0.5870612302887921, -1.2727449517938831, -0.3406361971233455, 1.0983528236620699, 0.49739189471308093, 0.7647466281588152, 2.1408660174962026, 0.5061816115949632, 0.120177007037446, -0.2712416900133294, -0.40368260942789297, -0.21235062677455707, 0.9566608507041349, -0.592846919794081, 0.9416099029137102, -0.13030336454300231, -0.4912598770441894, -0.0556549547985368, 0.9901139892278719, -0.14111330498012714, -0.5733355116267539, -0.9446232149514938, 1.4042766106007183, -0.7046212552212995, -0.3206051538056349, -0.4756918981281842, -1.2681053547018966, -0.47397096250784604, 0.34213108483355736, -1.1842372349810686, -1.1458192389317712, -1.2557624556630214, 1.5501458563898547, -0.08616993227352977, -0.06300453186192329, 0.003078698431574541, 0.35152717580520365, 0.4241210560491202, -2.9474968859825985, -0.019618922077270073, 1.7521003147708671, 1.4658803481569689, 0.7900509900134237, 0.2829821582586573, -0.05612046663179397, 0.10448201357335772, 0.10872292715876054, -1.9192126781078032, -1.7708965409979374], \"xaxis\": \"x9\", \"y\": [-1.3738134386537695, -0.33154760866755245, 0.5338145248192406, 0.4608987226336679, -0.21379000029761472, 0.9448939277523196, 0.4707011571665421, 0.04628699959826728, -0.7163093779094806, 0.4931210474463861, 1.3362590091556465, -0.07860391616473675, 0.5597020938143775, -0.48180653488188785, -0.1313413311789289, -0.43681966271399725, -0.7163545344053858, -1.0161897607735326, -0.36162337846116493, 2.1192219161583767, -1.6059299241357936, -0.1381797103031496, -0.49744272418647034, -0.7984874437044165, -0.947126401096751, 1.0125591611126339, 0.4358837709106574, -0.8508993990932405, 1.7601510638739442, 1.5750351009734351, -1.3256104510414441, 0.36507549523854027, -0.7231408229663161, 0.22093610131137742, 0.2777049752403186, 1.6241433617832146, 0.9919500748761527, -0.3436788175157517, -1.720185888425874, -0.3921982028156328, 0.6503583066579238, -0.9522043501268864, -1.8894452797345227, 1.875277101018438, 0.5265831171179596, -0.7463697207022431, 1.039800466247709, 0.19685289998248875, 1.2021709373969434, -0.8893629192696274, 0.870141257912497, -0.9728221610318893, 0.7306351420566899, 1.1459599080744383, -0.4226578328354158, 1.3734464473889625, -0.7624814463266807, 0.04640772065513277, 0.23090422686206544, 0.7968718817474381, -0.3662810497855493, 0.21266163663539278, -1.8416163883777148, -0.12319179592369105, 0.774480973468789, 0.8976609477531223, 0.6949526224472554, 1.7691805296285532, 0.9196866646631141, -0.3023417351943868, 0.29056767981216897, 0.6012753066978929, 0.4038649027424802, -0.8293653861413336, -0.019476033600365285, -0.727816231370272, -0.6742090976475391, 0.18123835775841923, -0.79688415077298, 1.1080406440536665, 0.2989728996556223, 1.3845570961714635, 0.37729845513466287, 1.1514234360584108, 0.25109306633948025, -0.614434993250707, -0.5337002394709033, -0.15753474171281567, 0.5611646743278362, -1.0343647157520817, -0.05712065783687775, 1.23259078830519, -1.2667562285738472, 2.361820754515749, 0.49084852254653355, -1.8198029703126448, -0.4680149660077137, -0.2329414521079991, -0.7030555174837161, 0.20610328583979282], \"yaxis\": \"y9\"}, {\"line\": {\"color\": \"rgba(128, 128, 128, 1.0)\", \"dash\": \"solid\", \"shape\": \"linear\", \"width\": 1.3}, \"marker\": {\"size\": 2, \"symbol\": \"circle\"}, \"mode\": \"markers\", \"name\": \"C\", \"text\": \"\", \"type\": \"scatter\", \"x\": [0.44735427314727433, -0.7508676450145815, 0.18480434357317638, 1.036858322212885, -1.043241632500722, -0.8413278507817418, 0.6558618794274739, 0.5547624862355806, 0.6951192553620779, 1.2726390156513538, -1.0680701829108734, 1.2342808921384112, -1.1770818873863, -0.05976217213720838, 0.9628980396633287, -0.8901404178495665, -1.1149508423060148, -2.019268938013942, 0.4045080210400765, 0.9774315118014983, 0.8823158393243271, -0.043892028650077755, -2.316995693382531, 0.4824470912200743, 0.6564093759271757, -0.3101323506764711, 0.629675064442062, -0.01929264505742492, -0.5956332881663199, -0.37341864927398605, -0.3955603284516065, -0.43505004152181065, 0.5351401117646758, -0.1026937541843101, 1.4395671391316562, -0.8599186484811995, 0.6694451179627202, 1.1286626566501965, 2.063900225407397, -0.9295699324300545, 0.17986704216835986, -0.5912237439296492, 0.10630993675686522, -0.812945654755612, -0.34896555934775925, -0.553821590107099, 0.6948002006257248, 0.24073423241409353, 0.3534901314589533, 0.4686033082769145, -0.31373165877423215, -0.7114395884089332, -0.6409387157834656, 0.4500016803540507, 0.21711326404288983, -0.018069262949005942, 0.6533802428552622, 2.7828377337588623, 1.5427776839709029, -0.1368525036344999, 1.157314574619203, 0.08968142121865062, 1.0250856504271342, -1.9498605017780728, 0.14600612105419417, 1.3459243558586542, 2.06593462275695, 0.42818100775719403, 1.3838953490438173, 0.4734834155141974, -1.011243590326672, 0.11941076540907923, 0.4210363473429892, -1.480006232120809, 1.8917742903441508, 0.6887241945908786, 1.5305407582805401, 1.8528719094913844, 2.0161692177771444, -0.49914963074557095, 0.006967052436891432, -0.6449582167389107, -0.012249603523494667, 0.5460881067575699, -0.10795163655635079, -2.37755617157348, -0.684219199300508, -1.242862178273611, 2.153969226489427, -0.24502072610151426, 0.8046263790364315, 0.5406306107809049, -0.033216951156400706, -0.43847955592322213, -0.7124046913765233, -2.0170961431160714, 0.6618154709573927, 1.2054316613067024, -1.7938465004014814, -0.23658857048597437], \"xaxis\": \"x10\", \"y\": [-1.3738134386537695, -0.33154760866755245, 0.5338145248192406, 0.4608987226336679, -0.21379000029761472, 0.9448939277523196, 0.4707011571665421, 0.04628699959826728, -0.7163093779094806, 0.4931210474463861, 1.3362590091556465, -0.07860391616473675, 0.5597020938143775, -0.48180653488188785, -0.1313413311789289, -0.43681966271399725, -0.7163545344053858, -1.0161897607735326, -0.36162337846116493, 2.1192219161583767, -1.6059299241357936, -0.1381797103031496, -0.49744272418647034, -0.7984874437044165, -0.947126401096751, 1.0125591611126339, 0.4358837709106574, -0.8508993990932405, 1.7601510638739442, 1.5750351009734351, -1.3256104510414441, 0.36507549523854027, -0.7231408229663161, 0.22093610131137742, 0.2777049752403186, 1.6241433617832146, 0.9919500748761527, -0.3436788175157517, -1.720185888425874, -0.3921982028156328, 0.6503583066579238, -0.9522043501268864, -1.8894452797345227, 1.875277101018438, 0.5265831171179596, -0.7463697207022431, 1.039800466247709, 0.19685289998248875, 1.2021709373969434, -0.8893629192696274, 0.870141257912497, -0.9728221610318893, 0.7306351420566899, 1.1459599080744383, -0.4226578328354158, 1.3734464473889625, -0.7624814463266807, 0.04640772065513277, 0.23090422686206544, 0.7968718817474381, -0.3662810497855493, 0.21266163663539278, -1.8416163883777148, -0.12319179592369105, 0.774480973468789, 0.8976609477531223, 0.6949526224472554, 1.7691805296285532, 0.9196866646631141, -0.3023417351943868, 0.29056767981216897, 0.6012753066978929, 0.4038649027424802, -0.8293653861413336, -0.019476033600365285, -0.727816231370272, -0.6742090976475391, 0.18123835775841923, -0.79688415077298, 1.1080406440536665, 0.2989728996556223, 1.3845570961714635, 0.37729845513466287, 1.1514234360584108, 0.25109306633948025, -0.614434993250707, -0.5337002394709033, -0.15753474171281567, 0.5611646743278362, -1.0343647157520817, -0.05712065783687775, 1.23259078830519, -1.2667562285738472, 2.361820754515749, 0.49084852254653355, -1.8198029703126448, -0.4680149660077137, -0.2329414521079991, -0.7030555174837161, 0.20610328583979282], \"yaxis\": \"y10\"}, {\"histfunc\": \"count\", \"histnorm\": \"\", \"marker\": {\"color\": \"rgba(50, 171, 96, 1.0)\", \"line\": {\"color\": \"#4D5663\", \"width\": 1.3}}, \"name\": \"C\", \"nbinsx\": 10, \"opacity\": 0.8, \"orientation\": \"v\", \"type\": \"histogram\", \"x\": [-1.3738134386537695, -0.33154760866755245, 0.5338145248192406, 0.4608987226336679, -0.21379000029761472, 0.9448939277523196, 0.4707011571665421, 0.04628699959826728, -0.7163093779094806, 0.4931210474463861, 1.3362590091556465, -0.07860391616473675, 0.5597020938143775, -0.48180653488188785, -0.1313413311789289, -0.43681966271399725, -0.7163545344053858, -1.0161897607735326, -0.36162337846116493, 2.1192219161583767, -1.6059299241357936, -0.1381797103031496, -0.49744272418647034, -0.7984874437044165, -0.947126401096751, 1.0125591611126339, 0.4358837709106574, -0.8508993990932405, 1.7601510638739442, 1.5750351009734351, -1.3256104510414441, 0.36507549523854027, -0.7231408229663161, 0.22093610131137742, 0.2777049752403186, 1.6241433617832146, 0.9919500748761527, -0.3436788175157517, -1.720185888425874, -0.3921982028156328, 0.6503583066579238, -0.9522043501268864, -1.8894452797345227, 1.875277101018438, 0.5265831171179596, -0.7463697207022431, 1.039800466247709, 0.19685289998248875, 1.2021709373969434, -0.8893629192696274, 0.870141257912497, -0.9728221610318893, 0.7306351420566899, 1.1459599080744383, -0.4226578328354158, 1.3734464473889625, -0.7624814463266807, 0.04640772065513277, 0.23090422686206544, 0.7968718817474381, -0.3662810497855493, 0.21266163663539278, -1.8416163883777148, -0.12319179592369105, 0.774480973468789, 0.8976609477531223, 0.6949526224472554, 1.7691805296285532, 0.9196866646631141, -0.3023417351943868, 0.29056767981216897, 0.6012753066978929, 0.4038649027424802, -0.8293653861413336, -0.019476033600365285, -0.727816231370272, -0.6742090976475391, 0.18123835775841923, -0.79688415077298, 1.1080406440536665, 0.2989728996556223, 1.3845570961714635, 0.37729845513466287, 1.1514234360584108, 0.25109306633948025, -0.614434993250707, -0.5337002394709033, -0.15753474171281567, 0.5611646743278362, -1.0343647157520817, -0.05712065783687775, 1.23259078830519, -1.2667562285738472, 2.361820754515749, 0.49084852254653355, -1.8198029703126448, -0.4680149660077137, -0.2329414521079991, -0.7030555174837161, 0.20610328583979282], \"xaxis\": \"x11\", \"yaxis\": \"y11\"}, {\"line\": {\"color\": \"rgba(128, 128, 128, 1.0)\", \"dash\": \"solid\", \"shape\": \"linear\", \"width\": 1.3}, \"marker\": {\"size\": 2, \"symbol\": \"circle\"}, \"mode\": \"markers\", \"name\": \"C\", \"text\": \"\", \"type\": \"scatter\", \"x\": [-1.0274725670201772, 0.023637141630294022, -0.6824539224652907, 0.7837338968082365, -0.07515011823509951, -0.42474109547851946, 0.36004344442679403, 1.446332455349724, 0.6984597804936339, -2.0397312351302626, -0.5852530197811215, -1.0824311933745308, -0.8892300716428412, -1.0347485391478328, 0.08543080419684033, 0.8233700926431783, -1.0562961518267304, 0.8847165716521627, -1.4637554896680398, 0.9837764941941648, -0.32506446058696786, -0.02042130674687286, 0.19343827263995, 0.6461387633945138, -1.388152425492673, -0.08302922794426768, -0.45260774938521403, -0.8643671748461371, 0.11424733358234256, -0.9455713376127116, -0.4352320549495443, 0.7402206090676967, -0.48327956282045426, -0.5052575721088608, -0.20299667963793916, -0.13868543659460902, 0.947326634845561, -0.7647926431579081, 0.5341058963908148, -1.0966526684306195, -1.3155046341681338, -1.6347877142513192, -0.6937473975894909, 0.5308353491396521, 0.22264325742784116, 0.10762454278672558, -0.688089943495127, -0.6065239634776818, -1.52824722128094, 1.2139420909104432, 0.9665746839926376, -1.0876825710988056, 1.1413802684777257, -0.8703918231086764, -1.7349297900937353, 0.3712947088189332, -1.2758418349147609, -0.4931837358389391, -1.4100411439951597, -0.6848003520436998, -0.3059002269384813, 0.4800427341027472, 1.1731034925493258, -0.7782996342054381, 0.38739853337616287, 2.0024104123558946, 0.42452404447982145, -0.23580793721112825, -1.4189983096220247, 1.503825532336096, 0.08606308255635453, 0.13433282682706227, 0.949110531919716, 0.08909210895203123, -1.2154525066932849, -1.4522185560314114, -1.0018860152920797, 2.0842344317741905, -0.849378054914496, 0.0864244289884118, 0.8822279908934498, 0.4798270429641617, -0.839707415562348, 1.5247859482529769, -1.6874032013441629, 1.2449608163932362, -1.5782129308410158, 0.8243621385608745, 0.6180744947085115, -2.2229879540096045, -0.20277325856162157, -0.6892018729673994, -0.2353742304574779, 1.014157729834675, 0.6174554421452568, 1.0540182742349078, -0.03767696275890132, 0.25736092215867534, 0.768449742273149, -0.48516684072979976], \"xaxis\": \"x12\", \"y\": [-1.3738134386537695, -0.33154760866755245, 0.5338145248192406, 0.4608987226336679, -0.21379000029761472, 0.9448939277523196, 0.4707011571665421, 0.04628699959826728, -0.7163093779094806, 0.4931210474463861, 1.3362590091556465, -0.07860391616473675, 0.5597020938143775, -0.48180653488188785, -0.1313413311789289, -0.43681966271399725, -0.7163545344053858, -1.0161897607735326, -0.36162337846116493, 2.1192219161583767, -1.6059299241357936, -0.1381797103031496, -0.49744272418647034, -0.7984874437044165, -0.947126401096751, 1.0125591611126339, 0.4358837709106574, -0.8508993990932405, 1.7601510638739442, 1.5750351009734351, -1.3256104510414441, 0.36507549523854027, -0.7231408229663161, 0.22093610131137742, 0.2777049752403186, 1.6241433617832146, 0.9919500748761527, -0.3436788175157517, -1.720185888425874, -0.3921982028156328, 0.6503583066579238, -0.9522043501268864, -1.8894452797345227, 1.875277101018438, 0.5265831171179596, -0.7463697207022431, 1.039800466247709, 0.19685289998248875, 1.2021709373969434, -0.8893629192696274, 0.870141257912497, -0.9728221610318893, 0.7306351420566899, 1.1459599080744383, -0.4226578328354158, 1.3734464473889625, -0.7624814463266807, 0.04640772065513277, 0.23090422686206544, 0.7968718817474381, -0.3662810497855493, 0.21266163663539278, -1.8416163883777148, -0.12319179592369105, 0.774480973468789, 0.8976609477531223, 0.6949526224472554, 1.7691805296285532, 0.9196866646631141, -0.3023417351943868, 0.29056767981216897, 0.6012753066978929, 0.4038649027424802, -0.8293653861413336, -0.019476033600365285, -0.727816231370272, -0.6742090976475391, 0.18123835775841923, -0.79688415077298, 1.1080406440536665, 0.2989728996556223, 1.3845570961714635, 0.37729845513466287, 1.1514234360584108, 0.25109306633948025, -0.614434993250707, -0.5337002394709033, -0.15753474171281567, 0.5611646743278362, -1.0343647157520817, -0.05712065783687775, 1.23259078830519, -1.2667562285738472, 2.361820754515749, 0.49084852254653355, -1.8198029703126448, -0.4680149660077137, -0.2329414521079991, -0.7030555174837161, 0.20610328583979282], \"yaxis\": \"y12\"}, {\"line\": {\"color\": \"rgba(128, 128, 128, 1.0)\", \"dash\": \"solid\", \"shape\": \"linear\", \"width\": 1.3}, \"marker\": {\"size\": 2, \"symbol\": \"circle\"}, \"mode\": \"markers\", \"name\": \"D\", \"text\": \"\", \"type\": \"scatter\", \"x\": [-1.5355354192230586, -1.0527533192824858, 1.0651922435485306, -0.3569392648813912, -1.2980144850988753, 0.4979310577149322, 0.5901952780313333, 2.2774192822713237, -0.21876345827157676, -1.3349125647531113, -0.22055827664732808, 0.7293643918751058, 1.3259697709398004, -1.3720675861464693, 1.7686765997019345, -0.21278705743547888, 0.5621565488693779, -0.3792433474006059, -0.6750765094602391, -1.1845114394252805, -0.04649534177230828, 1.1495256182501377, -0.41816004179319194, -1.0239481102629837, 0.9946927964952956, 0.6052416074897078, -1.9151632304247237, -0.3403894901650628, -0.4537997371869349, -0.7397293859495888, -0.9253789977904611, 1.601930601973586, -1.4650826388661842, 0.5270957520989601, -1.180253879455318, 0.6850387941860184, -0.3678223463530502, -0.30500706501587305, -0.5542070516960862, -1.4312224043373811, -0.1848981571335127, 0.6206299218949423, -1.0367501124402183, -1.0595095262876875, 1.2105069014091077, 0.5051738136010172, 0.47177060342443633, -0.8144767662360516, 0.11560223236678412, -1.8004185138809787, 1.1576067690845295, 0.5870612302887921, -1.2727449517938831, -0.3406361971233455, 1.0983528236620699, 0.49739189471308093, 0.7647466281588152, 2.1408660174962026, 0.5061816115949632, 0.120177007037446, -0.2712416900133294, -0.40368260942789297, -0.21235062677455707, 0.9566608507041349, -0.592846919794081, 0.9416099029137102, -0.13030336454300231, -0.4912598770441894, -0.0556549547985368, 0.9901139892278719, -0.14111330498012714, -0.5733355116267539, -0.9446232149514938, 1.4042766106007183, -0.7046212552212995, -0.3206051538056349, -0.4756918981281842, -1.2681053547018966, -0.47397096250784604, 0.34213108483355736, -1.1842372349810686, -1.1458192389317712, -1.2557624556630214, 1.5501458563898547, -0.08616993227352977, -0.06300453186192329, 0.003078698431574541, 0.35152717580520365, 0.4241210560491202, -2.9474968859825985, -0.019618922077270073, 1.7521003147708671, 1.4658803481569689, 0.7900509900134237, 0.2829821582586573, -0.05612046663179397, 0.10448201357335772, 0.10872292715876054, -1.9192126781078032, -1.7708965409979374], \"xaxis\": \"x13\", \"y\": [-1.0274725670201772, 0.023637141630294022, -0.6824539224652907, 0.7837338968082365, -0.07515011823509951, -0.42474109547851946, 0.36004344442679403, 1.446332455349724, 0.6984597804936339, -2.0397312351302626, -0.5852530197811215, -1.0824311933745308, -0.8892300716428412, -1.0347485391478328, 0.08543080419684033, 0.8233700926431783, -1.0562961518267304, 0.8847165716521627, -1.4637554896680398, 0.9837764941941648, -0.32506446058696786, -0.02042130674687286, 0.19343827263995, 0.6461387633945138, -1.388152425492673, -0.08302922794426768, -0.45260774938521403, -0.8643671748461371, 0.11424733358234256, -0.9455713376127116, -0.4352320549495443, 0.7402206090676967, -0.48327956282045426, -0.5052575721088608, -0.20299667963793916, -0.13868543659460902, 0.947326634845561, -0.7647926431579081, 0.5341058963908148, -1.0966526684306195, -1.3155046341681338, -1.6347877142513192, -0.6937473975894909, 0.5308353491396521, 0.22264325742784116, 0.10762454278672558, -0.688089943495127, -0.6065239634776818, -1.52824722128094, 1.2139420909104432, 0.9665746839926376, -1.0876825710988056, 1.1413802684777257, -0.8703918231086764, -1.7349297900937353, 0.3712947088189332, -1.2758418349147609, -0.4931837358389391, -1.4100411439951597, -0.6848003520436998, -0.3059002269384813, 0.4800427341027472, 1.1731034925493258, -0.7782996342054381, 0.38739853337616287, 2.0024104123558946, 0.42452404447982145, -0.23580793721112825, -1.4189983096220247, 1.503825532336096, 0.08606308255635453, 0.13433282682706227, 0.949110531919716, 0.08909210895203123, -1.2154525066932849, -1.4522185560314114, -1.0018860152920797, 2.0842344317741905, -0.849378054914496, 0.0864244289884118, 0.8822279908934498, 0.4798270429641617, -0.839707415562348, 1.5247859482529769, -1.6874032013441629, 1.2449608163932362, -1.5782129308410158, 0.8243621385608745, 0.6180744947085115, -2.2229879540096045, -0.20277325856162157, -0.6892018729673994, -0.2353742304574779, 1.014157729834675, 0.6174554421452568, 1.0540182742349078, -0.03767696275890132, 0.25736092215867534, 0.768449742273149, -0.48516684072979976], \"yaxis\": \"y13\"}, {\"line\": {\"color\": \"rgba(128, 128, 128, 1.0)\", \"dash\": \"solid\", \"shape\": \"linear\", \"width\": 1.3}, \"marker\": {\"size\": 2, \"symbol\": \"circle\"}, \"mode\": \"markers\", \"name\": \"D\", \"text\": \"\", \"type\": \"scatter\", \"x\": [0.44735427314727433, -0.7508676450145815, 0.18480434357317638, 1.036858322212885, -1.043241632500722, -0.8413278507817418, 0.6558618794274739, 0.5547624862355806, 0.6951192553620779, 1.2726390156513538, -1.0680701829108734, 1.2342808921384112, -1.1770818873863, -0.05976217213720838, 0.9628980396633287, -0.8901404178495665, -1.1149508423060148, -2.019268938013942, 0.4045080210400765, 0.9774315118014983, 0.8823158393243271, -0.043892028650077755, -2.316995693382531, 0.4824470912200743, 0.6564093759271757, -0.3101323506764711, 0.629675064442062, -0.01929264505742492, -0.5956332881663199, -0.37341864927398605, -0.3955603284516065, -0.43505004152181065, 0.5351401117646758, -0.1026937541843101, 1.4395671391316562, -0.8599186484811995, 0.6694451179627202, 1.1286626566501965, 2.063900225407397, -0.9295699324300545, 0.17986704216835986, -0.5912237439296492, 0.10630993675686522, -0.812945654755612, -0.34896555934775925, -0.553821590107099, 0.6948002006257248, 0.24073423241409353, 0.3534901314589533, 0.4686033082769145, -0.31373165877423215, -0.7114395884089332, -0.6409387157834656, 0.4500016803540507, 0.21711326404288983, -0.018069262949005942, 0.6533802428552622, 2.7828377337588623, 1.5427776839709029, -0.1368525036344999, 1.157314574619203, 0.08968142121865062, 1.0250856504271342, -1.9498605017780728, 0.14600612105419417, 1.3459243558586542, 2.06593462275695, 0.42818100775719403, 1.3838953490438173, 0.4734834155141974, -1.011243590326672, 0.11941076540907923, 0.4210363473429892, -1.480006232120809, 1.8917742903441508, 0.6887241945908786, 1.5305407582805401, 1.8528719094913844, 2.0161692177771444, -0.49914963074557095, 0.006967052436891432, -0.6449582167389107, -0.012249603523494667, 0.5460881067575699, -0.10795163655635079, -2.37755617157348, -0.684219199300508, -1.242862178273611, 2.153969226489427, -0.24502072610151426, 0.8046263790364315, 0.5406306107809049, -0.033216951156400706, -0.43847955592322213, -0.7124046913765233, -2.0170961431160714, 0.6618154709573927, 1.2054316613067024, -1.7938465004014814, -0.23658857048597437], \"xaxis\": \"x14\", \"y\": [-1.0274725670201772, 0.023637141630294022, -0.6824539224652907, 0.7837338968082365, -0.07515011823509951, -0.42474109547851946, 0.36004344442679403, 1.446332455349724, 0.6984597804936339, -2.0397312351302626, -0.5852530197811215, -1.0824311933745308, -0.8892300716428412, -1.0347485391478328, 0.08543080419684033, 0.8233700926431783, -1.0562961518267304, 0.8847165716521627, -1.4637554896680398, 0.9837764941941648, -0.32506446058696786, -0.02042130674687286, 0.19343827263995, 0.6461387633945138, -1.388152425492673, -0.08302922794426768, -0.45260774938521403, -0.8643671748461371, 0.11424733358234256, -0.9455713376127116, -0.4352320549495443, 0.7402206090676967, -0.48327956282045426, -0.5052575721088608, -0.20299667963793916, -0.13868543659460902, 0.947326634845561, -0.7647926431579081, 0.5341058963908148, -1.0966526684306195, -1.3155046341681338, -1.6347877142513192, -0.6937473975894909, 0.5308353491396521, 0.22264325742784116, 0.10762454278672558, -0.688089943495127, -0.6065239634776818, -1.52824722128094, 1.2139420909104432, 0.9665746839926376, -1.0876825710988056, 1.1413802684777257, -0.8703918231086764, -1.7349297900937353, 0.3712947088189332, -1.2758418349147609, -0.4931837358389391, -1.4100411439951597, -0.6848003520436998, -0.3059002269384813, 0.4800427341027472, 1.1731034925493258, -0.7782996342054381, 0.38739853337616287, 2.0024104123558946, 0.42452404447982145, -0.23580793721112825, -1.4189983096220247, 1.503825532336096, 0.08606308255635453, 0.13433282682706227, 0.949110531919716, 0.08909210895203123, -1.2154525066932849, -1.4522185560314114, -1.0018860152920797, 2.0842344317741905, -0.849378054914496, 0.0864244289884118, 0.8822279908934498, 0.4798270429641617, -0.839707415562348, 1.5247859482529769, -1.6874032013441629, 1.2449608163932362, -1.5782129308410158, 0.8243621385608745, 0.6180744947085115, -2.2229879540096045, -0.20277325856162157, -0.6892018729673994, -0.2353742304574779, 1.014157729834675, 0.6174554421452568, 1.0540182742349078, -0.03767696275890132, 0.25736092215867534, 0.768449742273149, -0.48516684072979976], \"yaxis\": \"y14\"}, {\"line\": {\"color\": \"rgba(128, 128, 128, 1.0)\", \"dash\": \"solid\", \"shape\": \"linear\", \"width\": 1.3}, \"marker\": {\"size\": 2, \"symbol\": \"circle\"}, \"mode\": \"markers\", \"name\": \"D\", \"text\": \"\", \"type\": \"scatter\", \"x\": [-1.3738134386537695, -0.33154760866755245, 0.5338145248192406, 0.4608987226336679, -0.21379000029761472, 0.9448939277523196, 0.4707011571665421, 0.04628699959826728, -0.7163093779094806, 0.4931210474463861, 1.3362590091556465, -0.07860391616473675, 0.5597020938143775, -0.48180653488188785, -0.1313413311789289, -0.43681966271399725, -0.7163545344053858, -1.0161897607735326, -0.36162337846116493, 2.1192219161583767, -1.6059299241357936, -0.1381797103031496, -0.49744272418647034, -0.7984874437044165, -0.947126401096751, 1.0125591611126339, 0.4358837709106574, -0.8508993990932405, 1.7601510638739442, 1.5750351009734351, -1.3256104510414441, 0.36507549523854027, -0.7231408229663161, 0.22093610131137742, 0.2777049752403186, 1.6241433617832146, 0.9919500748761527, -0.3436788175157517, -1.720185888425874, -0.3921982028156328, 0.6503583066579238, -0.9522043501268864, -1.8894452797345227, 1.875277101018438, 0.5265831171179596, -0.7463697207022431, 1.039800466247709, 0.19685289998248875, 1.2021709373969434, -0.8893629192696274, 0.870141257912497, -0.9728221610318893, 0.7306351420566899, 1.1459599080744383, -0.4226578328354158, 1.3734464473889625, -0.7624814463266807, 0.04640772065513277, 0.23090422686206544, 0.7968718817474381, -0.3662810497855493, 0.21266163663539278, -1.8416163883777148, -0.12319179592369105, 0.774480973468789, 0.8976609477531223, 0.6949526224472554, 1.7691805296285532, 0.9196866646631141, -0.3023417351943868, 0.29056767981216897, 0.6012753066978929, 0.4038649027424802, -0.8293653861413336, -0.019476033600365285, -0.727816231370272, -0.6742090976475391, 0.18123835775841923, -0.79688415077298, 1.1080406440536665, 0.2989728996556223, 1.3845570961714635, 0.37729845513466287, 1.1514234360584108, 0.25109306633948025, -0.614434993250707, -0.5337002394709033, -0.15753474171281567, 0.5611646743278362, -1.0343647157520817, -0.05712065783687775, 1.23259078830519, -1.2667562285738472, 2.361820754515749, 0.49084852254653355, -1.8198029703126448, -0.4680149660077137, -0.2329414521079991, -0.7030555174837161, 0.20610328583979282], \"xaxis\": \"x15\", \"y\": [-1.0274725670201772, 0.023637141630294022, -0.6824539224652907, 0.7837338968082365, -0.07515011823509951, -0.42474109547851946, 0.36004344442679403, 1.446332455349724, 0.6984597804936339, -2.0397312351302626, -0.5852530197811215, -1.0824311933745308, -0.8892300716428412, -1.0347485391478328, 0.08543080419684033, 0.8233700926431783, -1.0562961518267304, 0.8847165716521627, -1.4637554896680398, 0.9837764941941648, -0.32506446058696786, -0.02042130674687286, 0.19343827263995, 0.6461387633945138, -1.388152425492673, -0.08302922794426768, -0.45260774938521403, -0.8643671748461371, 0.11424733358234256, -0.9455713376127116, -0.4352320549495443, 0.7402206090676967, -0.48327956282045426, -0.5052575721088608, -0.20299667963793916, -0.13868543659460902, 0.947326634845561, -0.7647926431579081, 0.5341058963908148, -1.0966526684306195, -1.3155046341681338, -1.6347877142513192, -0.6937473975894909, 0.5308353491396521, 0.22264325742784116, 0.10762454278672558, -0.688089943495127, -0.6065239634776818, -1.52824722128094, 1.2139420909104432, 0.9665746839926376, -1.0876825710988056, 1.1413802684777257, -0.8703918231086764, -1.7349297900937353, 0.3712947088189332, -1.2758418349147609, -0.4931837358389391, -1.4100411439951597, -0.6848003520436998, -0.3059002269384813, 0.4800427341027472, 1.1731034925493258, -0.7782996342054381, 0.38739853337616287, 2.0024104123558946, 0.42452404447982145, -0.23580793721112825, -1.4189983096220247, 1.503825532336096, 0.08606308255635453, 0.13433282682706227, 0.949110531919716, 0.08909210895203123, -1.2154525066932849, -1.4522185560314114, -1.0018860152920797, 2.0842344317741905, -0.849378054914496, 0.0864244289884118, 0.8822279908934498, 0.4798270429641617, -0.839707415562348, 1.5247859482529769, -1.6874032013441629, 1.2449608163932362, -1.5782129308410158, 0.8243621385608745, 0.6180744947085115, -2.2229879540096045, -0.20277325856162157, -0.6892018729673994, -0.2353742304574779, 1.014157729834675, 0.6174554421452568, 1.0540182742349078, -0.03767696275890132, 0.25736092215867534, 0.768449742273149, -0.48516684072979976], \"yaxis\": \"y15\"}, {\"histfunc\": \"count\", \"histnorm\": \"\", \"marker\": {\"color\": \"rgba(128, 0, 128, 1.0)\", \"line\": {\"color\": \"#4D5663\", \"width\": 1.3}}, \"name\": \"D\", \"nbinsx\": 10, \"opacity\": 0.8, \"orientation\": \"v\", \"type\": \"histogram\", \"x\": [-1.0274725670201772, 0.023637141630294022, -0.6824539224652907, 0.7837338968082365, -0.07515011823509951, -0.42474109547851946, 0.36004344442679403, 1.446332455349724, 0.6984597804936339, -2.0397312351302626, -0.5852530197811215, -1.0824311933745308, -0.8892300716428412, -1.0347485391478328, 0.08543080419684033, 0.8233700926431783, -1.0562961518267304, 0.8847165716521627, -1.4637554896680398, 0.9837764941941648, -0.32506446058696786, -0.02042130674687286, 0.19343827263995, 0.6461387633945138, -1.388152425492673, -0.08302922794426768, -0.45260774938521403, -0.8643671748461371, 0.11424733358234256, -0.9455713376127116, -0.4352320549495443, 0.7402206090676967, -0.48327956282045426, -0.5052575721088608, -0.20299667963793916, -0.13868543659460902, 0.947326634845561, -0.7647926431579081, 0.5341058963908148, -1.0966526684306195, -1.3155046341681338, -1.6347877142513192, -0.6937473975894909, 0.5308353491396521, 0.22264325742784116, 0.10762454278672558, -0.688089943495127, -0.6065239634776818, -1.52824722128094, 1.2139420909104432, 0.9665746839926376, -1.0876825710988056, 1.1413802684777257, -0.8703918231086764, -1.7349297900937353, 0.3712947088189332, -1.2758418349147609, -0.4931837358389391, -1.4100411439951597, -0.6848003520436998, -0.3059002269384813, 0.4800427341027472, 1.1731034925493258, -0.7782996342054381, 0.38739853337616287, 2.0024104123558946, 0.42452404447982145, -0.23580793721112825, -1.4189983096220247, 1.503825532336096, 0.08606308255635453, 0.13433282682706227, 0.949110531919716, 0.08909210895203123, -1.2154525066932849, -1.4522185560314114, -1.0018860152920797, 2.0842344317741905, -0.849378054914496, 0.0864244289884118, 0.8822279908934498, 0.4798270429641617, -0.839707415562348, 1.5247859482529769, -1.6874032013441629, 1.2449608163932362, -1.5782129308410158, 0.8243621385608745, 0.6180744947085115, -2.2229879540096045, -0.20277325856162157, -0.6892018729673994, -0.2353742304574779, 1.014157729834675, 0.6174554421452568, 1.0540182742349078, -0.03767696275890132, 0.25736092215867534, 0.768449742273149, -0.48516684072979976], \"xaxis\": \"x16\", \"yaxis\": \"y16\"}],                        {\"bargap\": 0.02, \"legend\": {\"bgcolor\": \"#F5F6F9\", \"font\": {\"color\": \"#4D5663\"}}, \"paper_bgcolor\": \"#F5F6F9\", \"plot_bgcolor\": \"#F5F6F9\", \"showlegend\": false, \"template\": {\"data\": {\"bar\": [{\"error_x\": {\"color\": \"#2a3f5f\"}, \"error_y\": {\"color\": \"#2a3f5f\"}, \"marker\": {\"line\": {\"color\": \"#E5ECF6\", \"width\": 0.5}}, \"type\": \"bar\"}], \"barpolar\": [{\"marker\": {\"line\": {\"color\": \"#E5ECF6\", \"width\": 0.5}}, \"type\": \"barpolar\"}], \"carpet\": [{\"aaxis\": {\"endlinecolor\": \"#2a3f5f\", \"gridcolor\": \"white\", \"linecolor\": \"white\", \"minorgridcolor\": \"white\", \"startlinecolor\": \"#2a3f5f\"}, \"baxis\": {\"endlinecolor\": \"#2a3f5f\", \"gridcolor\": \"white\", \"linecolor\": \"white\", \"minorgridcolor\": \"white\", \"startlinecolor\": \"#2a3f5f\"}, \"type\": \"carpet\"}], \"choropleth\": [{\"colorbar\": {\"outlinewidth\": 0, \"ticks\": \"\"}, \"type\": \"choropleth\"}], \"contour\": [{\"colorbar\": {\"outlinewidth\": 0, \"ticks\": \"\"}, \"colorscale\": [[0.0, \"#0d0887\"], [0.1111111111111111, \"#46039f\"], [0.2222222222222222, \"#7201a8\"], [0.3333333333333333, \"#9c179e\"], [0.4444444444444444, \"#bd3786\"], [0.5555555555555556, \"#d8576b\"], [0.6666666666666666, \"#ed7953\"], [0.7777777777777778, \"#fb9f3a\"], [0.8888888888888888, \"#fdca26\"], [1.0, \"#f0f921\"]], \"type\": \"contour\"}], \"contourcarpet\": [{\"colorbar\": {\"outlinewidth\": 0, \"ticks\": \"\"}, \"type\": \"contourcarpet\"}], \"heatmap\": [{\"colorbar\": {\"outlinewidth\": 0, \"ticks\": \"\"}, \"colorscale\": [[0.0, \"#0d0887\"], [0.1111111111111111, \"#46039f\"], [0.2222222222222222, \"#7201a8\"], [0.3333333333333333, \"#9c179e\"], [0.4444444444444444, \"#bd3786\"], [0.5555555555555556, \"#d8576b\"], [0.6666666666666666, \"#ed7953\"], [0.7777777777777778, \"#fb9f3a\"], [0.8888888888888888, \"#fdca26\"], [1.0, \"#f0f921\"]], \"type\": \"heatmap\"}], \"heatmapgl\": [{\"colorbar\": {\"outlinewidth\": 0, \"ticks\": \"\"}, \"colorscale\": [[0.0, \"#0d0887\"], [0.1111111111111111, \"#46039f\"], [0.2222222222222222, \"#7201a8\"], [0.3333333333333333, \"#9c179e\"], [0.4444444444444444, \"#bd3786\"], [0.5555555555555556, \"#d8576b\"], [0.6666666666666666, \"#ed7953\"], [0.7777777777777778, \"#fb9f3a\"], [0.8888888888888888, \"#fdca26\"], [1.0, \"#f0f921\"]], \"type\": \"heatmapgl\"}], \"histogram\": [{\"marker\": {\"colorbar\": {\"outlinewidth\": 0, \"ticks\": \"\"}}, \"type\": \"histogram\"}], \"histogram2d\": [{\"colorbar\": {\"outlinewidth\": 0, \"ticks\": \"\"}, \"colorscale\": [[0.0, \"#0d0887\"], [0.1111111111111111, \"#46039f\"], [0.2222222222222222, \"#7201a8\"], [0.3333333333333333, \"#9c179e\"], [0.4444444444444444, \"#bd3786\"], [0.5555555555555556, \"#d8576b\"], [0.6666666666666666, \"#ed7953\"], [0.7777777777777778, \"#fb9f3a\"], [0.8888888888888888, \"#fdca26\"], [1.0, \"#f0f921\"]], \"type\": \"histogram2d\"}], \"histogram2dcontour\": [{\"colorbar\": {\"outlinewidth\": 0, \"ticks\": \"\"}, \"colorscale\": [[0.0, \"#0d0887\"], [0.1111111111111111, \"#46039f\"], [0.2222222222222222, \"#7201a8\"], [0.3333333333333333, \"#9c179e\"], [0.4444444444444444, \"#bd3786\"], [0.5555555555555556, \"#d8576b\"], [0.6666666666666666, \"#ed7953\"], [0.7777777777777778, \"#fb9f3a\"], [0.8888888888888888, \"#fdca26\"], [1.0, \"#f0f921\"]], \"type\": \"histogram2dcontour\"}], \"mesh3d\": [{\"colorbar\": {\"outlinewidth\": 0, \"ticks\": \"\"}, \"type\": \"mesh3d\"}], \"parcoords\": [{\"line\": {\"colorbar\": {\"outlinewidth\": 0, \"ticks\": \"\"}}, \"type\": \"parcoords\"}], \"pie\": [{\"automargin\": true, \"type\": \"pie\"}], \"scatter\": [{\"marker\": {\"colorbar\": {\"outlinewidth\": 0, \"ticks\": \"\"}}, \"type\": \"scatter\"}], \"scatter3d\": [{\"line\": {\"colorbar\": {\"outlinewidth\": 0, \"ticks\": \"\"}}, \"marker\": {\"colorbar\": {\"outlinewidth\": 0, \"ticks\": \"\"}}, \"type\": \"scatter3d\"}], \"scattercarpet\": [{\"marker\": {\"colorbar\": {\"outlinewidth\": 0, \"ticks\": \"\"}}, \"type\": \"scattercarpet\"}], \"scattergeo\": [{\"marker\": {\"colorbar\": {\"outlinewidth\": 0, \"ticks\": \"\"}}, \"type\": \"scattergeo\"}], \"scattergl\": [{\"marker\": {\"colorbar\": {\"outlinewidth\": 0, \"ticks\": \"\"}}, \"type\": \"scattergl\"}], \"scattermapbox\": [{\"marker\": {\"colorbar\": {\"outlinewidth\": 0, \"ticks\": \"\"}}, \"type\": \"scattermapbox\"}], \"scatterpolar\": [{\"marker\": {\"colorbar\": {\"outlinewidth\": 0, \"ticks\": \"\"}}, \"type\": \"scatterpolar\"}], \"scatterpolargl\": [{\"marker\": {\"colorbar\": {\"outlinewidth\": 0, \"ticks\": \"\"}}, \"type\": \"scatterpolargl\"}], \"scatterternary\": [{\"marker\": {\"colorbar\": {\"outlinewidth\": 0, \"ticks\": \"\"}}, \"type\": \"scatterternary\"}], \"surface\": [{\"colorbar\": {\"outlinewidth\": 0, \"ticks\": \"\"}, \"colorscale\": [[0.0, \"#0d0887\"], [0.1111111111111111, \"#46039f\"], [0.2222222222222222, \"#7201a8\"], [0.3333333333333333, \"#9c179e\"], [0.4444444444444444, \"#bd3786\"], [0.5555555555555556, \"#d8576b\"], [0.6666666666666666, \"#ed7953\"], [0.7777777777777778, \"#fb9f3a\"], [0.8888888888888888, \"#fdca26\"], [1.0, \"#f0f921\"]], \"type\": \"surface\"}], \"table\": [{\"cells\": {\"fill\": {\"color\": \"#EBF0F8\"}, \"line\": {\"color\": \"white\"}}, \"header\": {\"fill\": {\"color\": \"#C8D4E3\"}, \"line\": {\"color\": \"white\"}}, \"type\": \"table\"}]}, \"layout\": {\"annotationdefaults\": {\"arrowcolor\": \"#2a3f5f\", \"arrowhead\": 0, \"arrowwidth\": 1}, \"coloraxis\": {\"colorbar\": {\"outlinewidth\": 0, \"ticks\": \"\"}}, \"colorscale\": {\"diverging\": [[0, \"#8e0152\"], [0.1, \"#c51b7d\"], [0.2, \"#de77ae\"], [0.3, \"#f1b6da\"], [0.4, \"#fde0ef\"], [0.5, \"#f7f7f7\"], [0.6, \"#e6f5d0\"], [0.7, \"#b8e186\"], [0.8, \"#7fbc41\"], [0.9, \"#4d9221\"], [1, \"#276419\"]], \"sequential\": [[0.0, \"#0d0887\"], [0.1111111111111111, \"#46039f\"], [0.2222222222222222, \"#7201a8\"], [0.3333333333333333, \"#9c179e\"], [0.4444444444444444, \"#bd3786\"], [0.5555555555555556, \"#d8576b\"], [0.6666666666666666, \"#ed7953\"], [0.7777777777777778, \"#fb9f3a\"], [0.8888888888888888, \"#fdca26\"], [1.0, \"#f0f921\"]], \"sequentialminus\": [[0.0, \"#0d0887\"], [0.1111111111111111, \"#46039f\"], [0.2222222222222222, \"#7201a8\"], [0.3333333333333333, \"#9c179e\"], [0.4444444444444444, \"#bd3786\"], [0.5555555555555556, \"#d8576b\"], [0.6666666666666666, \"#ed7953\"], [0.7777777777777778, \"#fb9f3a\"], [0.8888888888888888, \"#fdca26\"], [1.0, \"#f0f921\"]]}, \"colorway\": [\"#636efa\", \"#EF553B\", \"#00cc96\", \"#ab63fa\", \"#FFA15A\", \"#19d3f3\", \"#FF6692\", \"#B6E880\", \"#FF97FF\", \"#FECB52\"], \"font\": {\"color\": \"#2a3f5f\"}, \"geo\": {\"bgcolor\": \"white\", \"lakecolor\": \"white\", \"landcolor\": \"#E5ECF6\", \"showlakes\": true, \"showland\": true, \"subunitcolor\": \"white\"}, \"hoverlabel\": {\"align\": \"left\"}, \"hovermode\": \"closest\", \"mapbox\": {\"style\": \"light\"}, \"paper_bgcolor\": \"white\", \"plot_bgcolor\": \"#E5ECF6\", \"polar\": {\"angularaxis\": {\"gridcolor\": \"white\", \"linecolor\": \"white\", \"ticks\": \"\"}, \"bgcolor\": \"#E5ECF6\", \"radialaxis\": {\"gridcolor\": \"white\", \"linecolor\": \"white\", \"ticks\": \"\"}}, \"scene\": {\"xaxis\": {\"backgroundcolor\": \"#E5ECF6\", \"gridcolor\": \"white\", \"gridwidth\": 2, \"linecolor\": \"white\", \"showbackground\": true, \"ticks\": \"\", \"zerolinecolor\": \"white\"}, \"yaxis\": {\"backgroundcolor\": \"#E5ECF6\", \"gridcolor\": \"white\", \"gridwidth\": 2, \"linecolor\": \"white\", \"showbackground\": true, \"ticks\": \"\", \"zerolinecolor\": \"white\"}, \"zaxis\": {\"backgroundcolor\": \"#E5ECF6\", \"gridcolor\": \"white\", \"gridwidth\": 2, \"linecolor\": \"white\", \"showbackground\": true, \"ticks\": \"\", \"zerolinecolor\": \"white\"}}, \"shapedefaults\": {\"line\": {\"color\": \"#2a3f5f\"}}, \"ternary\": {\"aaxis\": {\"gridcolor\": \"white\", \"linecolor\": \"white\", \"ticks\": \"\"}, \"baxis\": {\"gridcolor\": \"white\", \"linecolor\": \"white\", \"ticks\": \"\"}, \"bgcolor\": \"#E5ECF6\", \"caxis\": {\"gridcolor\": \"white\", \"linecolor\": \"white\", \"ticks\": \"\"}}, \"title\": {\"x\": 0.05}, \"xaxis\": {\"automargin\": true, \"gridcolor\": \"white\", \"linecolor\": \"white\", \"ticks\": \"\", \"title\": {\"standoff\": 15}, \"zerolinecolor\": \"white\", \"zerolinewidth\": 2}, \"yaxis\": {\"automargin\": true, \"gridcolor\": \"white\", \"linecolor\": \"white\", \"ticks\": \"\", \"title\": {\"standoff\": 15}, \"zerolinecolor\": \"white\", \"zerolinewidth\": 2}}}, \"title\": {\"font\": {\"color\": \"#4D5663\"}}, \"xaxis\": {\"anchor\": \"y\", \"domain\": [0.0, 0.2125], \"gridcolor\": \"#E1E5ED\", \"showgrid\": false, \"tickfont\": {\"color\": \"#4D5663\"}, \"title\": {\"font\": {\"color\": \"#4D5663\"}, \"text\": \"\"}, \"zerolinecolor\": \"#E1E5ED\"}, \"xaxis10\": {\"anchor\": \"y10\", \"domain\": [0.2625, 0.475], \"gridcolor\": \"#E1E5ED\", \"showgrid\": false, \"tickfont\": {\"color\": \"#4D5663\"}, \"title\": {\"font\": {\"color\": \"#4D5663\"}, \"text\": \"\"}, \"zerolinecolor\": \"#E1E5ED\"}, \"xaxis11\": {\"anchor\": \"y11\", \"domain\": [0.525, 0.7375], \"gridcolor\": \"#E1E5ED\", \"showgrid\": false, \"tickfont\": {\"color\": \"#4D5663\"}, \"title\": {\"font\": {\"color\": \"#4D5663\"}, \"text\": \"\"}, \"zerolinecolor\": \"#E1E5ED\"}, \"xaxis12\": {\"anchor\": \"y12\", \"domain\": [0.7875, 1.0], \"gridcolor\": \"#E1E5ED\", \"showgrid\": false, \"tickfont\": {\"color\": \"#4D5663\"}, \"title\": {\"font\": {\"color\": \"#4D5663\"}, \"text\": \"\"}, \"zerolinecolor\": \"#E1E5ED\"}, \"xaxis13\": {\"anchor\": \"y13\", \"domain\": [0.0, 0.2125], \"gridcolor\": \"#E1E5ED\", \"showgrid\": false, \"tickfont\": {\"color\": \"#4D5663\"}, \"title\": {\"font\": {\"color\": \"#4D5663\"}, \"text\": \"\"}, \"zerolinecolor\": \"#E1E5ED\"}, \"xaxis14\": {\"anchor\": \"y14\", \"domain\": [0.2625, 0.475], \"gridcolor\": \"#E1E5ED\", \"showgrid\": false, \"tickfont\": {\"color\": \"#4D5663\"}, \"title\": {\"font\": {\"color\": \"#4D5663\"}, \"text\": \"\"}, \"zerolinecolor\": \"#E1E5ED\"}, \"xaxis15\": {\"anchor\": \"y15\", \"domain\": [0.525, 0.7375], \"gridcolor\": \"#E1E5ED\", \"showgrid\": false, \"tickfont\": {\"color\": \"#4D5663\"}, \"title\": {\"font\": {\"color\": \"#4D5663\"}, \"text\": \"\"}, \"zerolinecolor\": \"#E1E5ED\"}, \"xaxis16\": {\"anchor\": \"y16\", \"domain\": [0.7875, 1.0], \"gridcolor\": \"#E1E5ED\", \"showgrid\": false, \"tickfont\": {\"color\": \"#4D5663\"}, \"title\": {\"font\": {\"color\": \"#4D5663\"}, \"text\": \"\"}, \"zerolinecolor\": \"#E1E5ED\"}, \"xaxis2\": {\"anchor\": \"y2\", \"domain\": [0.2625, 0.475], \"gridcolor\": \"#E1E5ED\", \"showgrid\": false, \"tickfont\": {\"color\": \"#4D5663\"}, \"title\": {\"font\": {\"color\": \"#4D5663\"}, \"text\": \"\"}, \"zerolinecolor\": \"#E1E5ED\"}, \"xaxis3\": {\"anchor\": \"y3\", \"domain\": [0.525, 0.7375], \"gridcolor\": \"#E1E5ED\", \"showgrid\": false, \"tickfont\": {\"color\": \"#4D5663\"}, \"title\": {\"font\": {\"color\": \"#4D5663\"}, \"text\": \"\"}, \"zerolinecolor\": \"#E1E5ED\"}, \"xaxis4\": {\"anchor\": \"y4\", \"domain\": [0.7875, 1.0], \"gridcolor\": \"#E1E5ED\", \"showgrid\": false, \"tickfont\": {\"color\": \"#4D5663\"}, \"title\": {\"font\": {\"color\": \"#4D5663\"}, \"text\": \"\"}, \"zerolinecolor\": \"#E1E5ED\"}, \"xaxis5\": {\"anchor\": \"y5\", \"domain\": [0.0, 0.2125], \"gridcolor\": \"#E1E5ED\", \"showgrid\": false, \"tickfont\": {\"color\": \"#4D5663\"}, \"title\": {\"font\": {\"color\": \"#4D5663\"}, \"text\": \"\"}, \"zerolinecolor\": \"#E1E5ED\"}, \"xaxis6\": {\"anchor\": \"y6\", \"domain\": [0.2625, 0.475], \"gridcolor\": \"#E1E5ED\", \"showgrid\": false, \"tickfont\": {\"color\": \"#4D5663\"}, \"title\": {\"font\": {\"color\": \"#4D5663\"}, \"text\": \"\"}, \"zerolinecolor\": \"#E1E5ED\"}, \"xaxis7\": {\"anchor\": \"y7\", \"domain\": [0.525, 0.7375], \"gridcolor\": \"#E1E5ED\", \"showgrid\": false, \"tickfont\": {\"color\": \"#4D5663\"}, \"title\": {\"font\": {\"color\": \"#4D5663\"}, \"text\": \"\"}, \"zerolinecolor\": \"#E1E5ED\"}, \"xaxis8\": {\"anchor\": \"y8\", \"domain\": [0.7875, 1.0], \"gridcolor\": \"#E1E5ED\", \"showgrid\": false, \"tickfont\": {\"color\": \"#4D5663\"}, \"title\": {\"font\": {\"color\": \"#4D5663\"}, \"text\": \"\"}, \"zerolinecolor\": \"#E1E5ED\"}, \"xaxis9\": {\"anchor\": \"y9\", \"domain\": [0.0, 0.2125], \"gridcolor\": \"#E1E5ED\", \"showgrid\": false, \"tickfont\": {\"color\": \"#4D5663\"}, \"title\": {\"font\": {\"color\": \"#4D5663\"}, \"text\": \"\"}, \"zerolinecolor\": \"#E1E5ED\"}, \"yaxis\": {\"anchor\": \"x\", \"domain\": [0.8025, 1.0], \"gridcolor\": \"#E1E5ED\", \"showgrid\": false, \"tickfont\": {\"color\": \"#4D5663\"}, \"title\": {\"font\": {\"color\": \"#4D5663\"}, \"text\": \"\"}, \"zerolinecolor\": \"#E1E5ED\"}, \"yaxis10\": {\"anchor\": \"x10\", \"domain\": [0.2675, 0.465], \"gridcolor\": \"#E1E5ED\", \"showgrid\": false, \"tickfont\": {\"color\": \"#4D5663\"}, \"title\": {\"font\": {\"color\": \"#4D5663\"}, \"text\": \"\"}, \"zerolinecolor\": \"#E1E5ED\"}, \"yaxis11\": {\"anchor\": \"x11\", \"domain\": [0.2675, 0.465], \"gridcolor\": \"#E1E5ED\", \"showgrid\": false, \"tickfont\": {\"color\": \"#4D5663\"}, \"title\": {\"font\": {\"color\": \"#4D5663\"}, \"text\": \"\"}, \"zerolinecolor\": \"#E1E5ED\"}, \"yaxis12\": {\"anchor\": \"x12\", \"domain\": [0.2675, 0.465], \"gridcolor\": \"#E1E5ED\", \"showgrid\": false, \"tickfont\": {\"color\": \"#4D5663\"}, \"title\": {\"font\": {\"color\": \"#4D5663\"}, \"text\": \"\"}, \"zerolinecolor\": \"#E1E5ED\"}, \"yaxis13\": {\"anchor\": \"x13\", \"domain\": [0.0, 0.1975], \"gridcolor\": \"#E1E5ED\", \"showgrid\": false, \"tickfont\": {\"color\": \"#4D5663\"}, \"title\": {\"font\": {\"color\": \"#4D5663\"}, \"text\": \"\"}, \"zerolinecolor\": \"#E1E5ED\"}, \"yaxis14\": {\"anchor\": \"x14\", \"domain\": [0.0, 0.1975], \"gridcolor\": \"#E1E5ED\", \"showgrid\": false, \"tickfont\": {\"color\": \"#4D5663\"}, \"title\": {\"font\": {\"color\": \"#4D5663\"}, \"text\": \"\"}, \"zerolinecolor\": \"#E1E5ED\"}, \"yaxis15\": {\"anchor\": \"x15\", \"domain\": [0.0, 0.1975], \"gridcolor\": \"#E1E5ED\", \"showgrid\": false, \"tickfont\": {\"color\": \"#4D5663\"}, \"title\": {\"font\": {\"color\": \"#4D5663\"}, \"text\": \"\"}, \"zerolinecolor\": \"#E1E5ED\"}, \"yaxis16\": {\"anchor\": \"x16\", \"domain\": [0.0, 0.1975], \"gridcolor\": \"#E1E5ED\", \"showgrid\": false, \"tickfont\": {\"color\": \"#4D5663\"}, \"title\": {\"font\": {\"color\": \"#4D5663\"}, \"text\": \"\"}, \"zerolinecolor\": \"#E1E5ED\"}, \"yaxis2\": {\"anchor\": \"x2\", \"domain\": [0.8025, 1.0], \"gridcolor\": \"#E1E5ED\", \"showgrid\": false, \"tickfont\": {\"color\": \"#4D5663\"}, \"title\": {\"font\": {\"color\": \"#4D5663\"}, \"text\": \"\"}, \"zerolinecolor\": \"#E1E5ED\"}, \"yaxis3\": {\"anchor\": \"x3\", \"domain\": [0.8025, 1.0], \"gridcolor\": \"#E1E5ED\", \"showgrid\": false, \"tickfont\": {\"color\": \"#4D5663\"}, \"title\": {\"font\": {\"color\": \"#4D5663\"}, \"text\": \"\"}, \"zerolinecolor\": \"#E1E5ED\"}, \"yaxis4\": {\"anchor\": \"x4\", \"domain\": [0.8025, 1.0], \"gridcolor\": \"#E1E5ED\", \"showgrid\": false, \"tickfont\": {\"color\": \"#4D5663\"}, \"title\": {\"font\": {\"color\": \"#4D5663\"}, \"text\": \"\"}, \"zerolinecolor\": \"#E1E5ED\"}, \"yaxis5\": {\"anchor\": \"x5\", \"domain\": [0.535, 0.7325], \"gridcolor\": \"#E1E5ED\", \"showgrid\": false, \"tickfont\": {\"color\": \"#4D5663\"}, \"title\": {\"font\": {\"color\": \"#4D5663\"}, \"text\": \"\"}, \"zerolinecolor\": \"#E1E5ED\"}, \"yaxis6\": {\"anchor\": \"x6\", \"domain\": [0.535, 0.7325], \"gridcolor\": \"#E1E5ED\", \"showgrid\": false, \"tickfont\": {\"color\": \"#4D5663\"}, \"title\": {\"font\": {\"color\": \"#4D5663\"}, \"text\": \"\"}, \"zerolinecolor\": \"#E1E5ED\"}, \"yaxis7\": {\"anchor\": \"x7\", \"domain\": [0.535, 0.7325], \"gridcolor\": \"#E1E5ED\", \"showgrid\": false, \"tickfont\": {\"color\": \"#4D5663\"}, \"title\": {\"font\": {\"color\": \"#4D5663\"}, \"text\": \"\"}, \"zerolinecolor\": \"#E1E5ED\"}, \"yaxis8\": {\"anchor\": \"x8\", \"domain\": [0.535, 0.7325], \"gridcolor\": \"#E1E5ED\", \"showgrid\": false, \"tickfont\": {\"color\": \"#4D5663\"}, \"title\": {\"font\": {\"color\": \"#4D5663\"}, \"text\": \"\"}, \"zerolinecolor\": \"#E1E5ED\"}, \"yaxis9\": {\"anchor\": \"x9\", \"domain\": [0.2675, 0.465], \"gridcolor\": \"#E1E5ED\", \"showgrid\": false, \"tickfont\": {\"color\": \"#4D5663\"}, \"title\": {\"font\": {\"color\": \"#4D5663\"}, \"text\": \"\"}, \"zerolinecolor\": \"#E1E5ED\"}},                        {\"showLink\": true, \"linkText\": \"Export to plot.ly\", \"plotlyServerURL\": \"https://plot.ly\", \"responsive\": true}                    ).then(function(){\n",
       "                            \n",
       "var gd = document.getElementById('44dae046-19b6-4f6e-8c85-6b58282b02b1');\n",
       "var x = new MutationObserver(function (mutations, observer) {{\n",
       "        var display = window.getComputedStyle(gd).display;\n",
       "        if (!display || display === 'none') {{\n",
       "            console.log([gd, 'removed!']);\n",
       "            Plotly.purge(gd);\n",
       "            observer.disconnect();\n",
       "        }}\n",
       "}});\n",
       "\n",
       "// Listen for the removal of the full notebook cells\n",
       "var notebookContainer = gd.closest('#notebook-container');\n",
       "if (notebookContainer) {{\n",
       "    x.observe(notebookContainer, {childList: true});\n",
       "}}\n",
       "\n",
       "// Listen for the clearing of the current output cell\n",
       "var outputEl = gd.closest('.output');\n",
       "if (outputEl) {{\n",
       "    x.observe(outputEl, {childList: true});\n",
       "}}\n",
       "\n",
       "                        })                };                });            </script>        </div>"
      ]
     },
     "metadata": {},
     "output_type": "display_data"
    }
   ],
   "source": [
    "df.scatter_matrix()"
   ]
  },
  {
   "cell_type": "markdown",
   "metadata": {
    "collapsed": true
   },
   "source": [
    "# Great Job!"
   ]
  }
 ],
 "metadata": {
  "kernelspec": {
   "display_name": "Python 3",
   "language": "python",
   "name": "python3"
  },
  "language_info": {
   "codemirror_mode": {
    "name": "ipython",
    "version": 3
   },
   "file_extension": ".py",
   "mimetype": "text/x-python",
   "name": "python",
   "nbconvert_exporter": "python",
   "pygments_lexer": "ipython3",
   "version": "3.8.3"
  }
 },
 "nbformat": 4,
 "nbformat_minor": 1
}
